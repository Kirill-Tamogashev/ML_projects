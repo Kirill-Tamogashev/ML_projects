{
 "metadata": {
  "language_info": {
   "codemirror_mode": {
    "name": "ipython",
    "version": 3
   },
   "file_extension": ".py",
   "mimetype": "text/x-python",
   "name": "python",
   "nbconvert_exporter": "python",
   "pygments_lexer": "ipython3",
   "version": "3.9.4"
  },
  "orig_nbformat": 4,
  "kernelspec": {
   "name": "python3",
   "display_name": "Python 3.9.4 64-bit ('project': conda)"
  },
  "interpreter": {
   "hash": "0fe626b6bc988433b58b88b36cfdeccd2c7dd3b039882c1ff80657a60a056579"
  }
 },
 "nbformat": 4,
 "nbformat_minor": 2,
 "cells": [
  {
   "cell_type": "code",
   "execution_count": 1,
   "metadata": {},
   "outputs": [
    {
     "output_type": "stream",
     "name": "stdout",
     "text": [
      "Requirement already satisfied: pyfpgrowth in /opt/anaconda3/envs/project/lib/python3.9/site-packages (1.0)\n"
     ]
    }
   ],
   "source": [
    "!pip install pyfpgrowth"
   ]
  },
  {
   "cell_type": "code",
   "execution_count": 4,
   "metadata": {},
   "outputs": [],
   "source": [
    "import pyfpgrowth\n",
    "import numpy as np\n",
    "import pandas as pd\n",
    "import re\n",
    "import itertools"
   ]
  },
  {
   "cell_type": "code",
   "execution_count": null,
   "metadata": {},
   "outputs": [],
   "source": [
    "retail_data = pd.read_excel(\"retail.xlsx\")\n",
    "retail_data.head()"
   ]
  },
  {
   "cell_type": "code",
   "execution_count": 292,
   "metadata": {},
   "outputs": [
    {
     "output_type": "execute_result",
     "data": {
      "text/plain": [
       "                                                 Description\n",
       "InvoiceNo                                                   \n",
       "536365     [WHITE HANGING HEART T-LIGHT HOLDER, WHITE MET...\n",
       "536366     [HAND WARMER UNION JACK, HAND WARMER RED POLKA...\n",
       "536367     [ASSORTED COLOUR BIRD ORNAMENT, POPPY'S PLAYHO...\n",
       "536368     [JAM MAKING SET WITH JARS, RED COAT RACK PARIS...\n",
       "536369                          [BATH BUILDING BLOCK WORD, ]"
      ],
      "text/html": "<div>\n<style scoped>\n    .dataframe tbody tr th:only-of-type {\n        vertical-align: middle;\n    }\n\n    .dataframe tbody tr th {\n        vertical-align: top;\n    }\n\n    .dataframe thead th {\n        text-align: right;\n    }\n</style>\n<table border=\"1\" class=\"dataframe\">\n  <thead>\n    <tr style=\"text-align: right;\">\n      <th></th>\n      <th>Description</th>\n    </tr>\n    <tr>\n      <th>InvoiceNo</th>\n      <th></th>\n    </tr>\n  </thead>\n  <tbody>\n    <tr>\n      <th>536365</th>\n      <td>[WHITE HANGING HEART T-LIGHT HOLDER, WHITE MET...</td>\n    </tr>\n    <tr>\n      <th>536366</th>\n      <td>[HAND WARMER UNION JACK, HAND WARMER RED POLKA...</td>\n    </tr>\n    <tr>\n      <th>536367</th>\n      <td>[ASSORTED COLOUR BIRD ORNAMENT, POPPY'S PLAYHO...</td>\n    </tr>\n    <tr>\n      <th>536368</th>\n      <td>[JAM MAKING SET WITH JARS, RED COAT RACK PARIS...</td>\n    </tr>\n    <tr>\n      <th>536369</th>\n      <td>[BATH BUILDING BLOCK WORD, ]</td>\n    </tr>\n  </tbody>\n</table>\n</div>"
     },
     "metadata": {},
     "execution_count": 292
    }
   ],
   "source": [
    "items = retail_data[['InvoiceNo', 'Description']].copy()\n",
    "items.Description = items.Description.apply(lambda x: str(x) + ',')\n",
    "checks = items.groupby(by='InvoiceNo').sum()\n",
    "checks.Description = checks.Description.apply(lambda x: x.split(','))\n",
    "checks.head()"
   ]
  },
  {
   "cell_type": "code",
   "execution_count": 221,
   "metadata": {},
   "outputs": [],
   "source": [
    "unique_items = list(set(retail_data.Description.values))\n",
    "name2idx = {}\n",
    "idx2name = {}\n",
    "\n",
    "for idx, name in enumerate(unique_items):\n",
    "    name2idx[name] = idx\n",
    "    idx2name[idx] = name"
   ]
  },
  {
   "cell_type": "code",
   "execution_count": 227,
   "metadata": {},
   "outputs": [],
   "source": [
    "transactions = []\n",
    "for i in range(len(checks)):\n",
    "    line = checks.Description.iloc[i][:-1]\n",
    "\n",
    "    ldx_array = []\n",
    "    for name in line:\n",
    "        if name in name2idx:\n",
    "            ldx_array += [name2idx[name]]\n",
    "    transactions.append(ldx_array)"
   ]
  },
  {
   "cell_type": "code",
   "execution_count": 240,
   "metadata": {},
   "outputs": [],
   "source": [
    "patterns = pyfpgrowth.find_frequent_patterns(transactions[:500], 15)\n",
    "rules = pyfpgrowth.generate_association_rules(patterns, 0.7)"
   ]
  },
  {
   "cell_type": "code",
   "execution_count": 291,
   "metadata": {},
   "outputs": [
    {
     "output_type": "stream",
     "name": "stdout",
     "text": [
      "paper chain kit 50's christmas ; hand warmer scotty dog design  >>>>>>>  paper chain kit vintage christmas, |  p=0.71\n\npaper chain kit 50's christmas ; heart filigree dove  small  >>>>>>>  hand warmer scotty dog design, |  p=1.667\n\nhand warmer scotty dog design; heart filigree dove  small  >>>>>>>  paper chain kit 50's christmas , |  p=1.667\n\nset of 6 t-lights snowmen  >>>>>>>  hand warmer scotty dog design, |  p=1.0\n\nhand warmer red polka dot  >>>>>>>  hand warmer union jack, |  p=0.944\n\nlarge popcorn holder   >>>>>>>  small popcorn holder, |  p=0.889\n\npoppy's playhouse livingroom ; poppy's playhouse bedroom   >>>>>>>  poppy's playhouse kitchen, |  p=1.143\n\npoppy's playhouse livingroom ; poppy's playhouse kitchen  >>>>>>>  poppy's playhouse bedroom , |  p=1.263\n\npoppy's playhouse bedroom ; poppy's playhouse kitchen  >>>>>>>  poppy's playhouse livingroom , |  p=0.889\n\nalarm clock bakelike red   >>>>>>>  alarm clock bakelike ivory, |  p=0.704\n\nalarm clock bakelike green  >>>>>>>  alarm clock bakelike red ; alarm clock bakelike ivory, |  p=0.963\n\n"
     ]
    }
   ],
   "source": [
    "count = 0\n",
    "for key, value in zip(rules.keys(), rules.values()):\n",
    "    if_ = [*map(lambda x: idx2name[x], key)]\n",
    "    then_ = [*map(lambda x: idx2name[x], value[0])]\n",
    "\n",
    "    if_ = '; '.join(if_)\n",
    "    then_ = '; '.join(then_)\n",
    "\n",
    "    print(f\"{if_.lower()}  >>>>>>>  {then_.lower()}, |  p={round(value[1], 3)}\")\n",
    "    print()\n",
    "    if count == 10: break\n",
    "    count += 1"
   ]
  },
  {
   "cell_type": "code",
   "execution_count": 11,
   "metadata": {},
   "outputs": [
    {
     "output_type": "execute_result",
     "data": {
      "text/plain": [
       "15"
      ]
     },
     "metadata": {},
     "execution_count": 11
    }
   ],
   "source": [
    "items_arr = np.random.binomial(1, 0.6364, size=(500, 15))\n",
    "items = ['bread',\n",
    "         'milk',\n",
    "         'coce',\n",
    "         'cheese',\n",
    "         'biscuits',\n",
    "         'sausage',\n",
    "         'spagetti',\n",
    "         'bear',\n",
    "         'water',\n",
    "         'wine',\n",
    "         'chocolate',\n",
    "         'apples',\n",
    "         'grapes',\n",
    "         'beef',\n",
    "         'pork']\n",
    "len(items)"
   ]
  },
  {
   "cell_type": "code",
   "execution_count": 13,
   "metadata": {},
   "outputs": [],
   "source": [
    "it2id = {}\n",
    "id2it = {}\n",
    "\n",
    "for id, it in enumerate(items):\n",
    "    it2id[it] = id\n",
    "    id2it[id] = it"
   ]
  },
  {
   "cell_type": "code",
   "execution_count": null,
   "metadata": {},
   "outputs": [],
   "source": []
  }
 ]
}