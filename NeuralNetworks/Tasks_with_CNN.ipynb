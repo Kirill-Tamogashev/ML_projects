{
  "nbformat": 4,
  "nbformat_minor": 0,
  "metadata": {
    "kernelspec": {
      "display_name": "Python 3",
      "language": "python",
      "name": "python3"
    },
    "language_info": {
      "codemirror_mode": {
        "name": "ipython",
        "version": 3
      },
      "file_extension": ".py",
      "mimetype": "text/x-python",
      "name": "python",
      "nbconvert_exporter": "python",
      "pygments_lexer": "ipython3",
      "version": "3.7.6-final"
    },
    "colab": {
      "name": "IAD_Tamogashev_KV_HW2.ipynb",
      "provenance": [],
      "collapsed_sections": []
    },
    "accelerator": "GPU"
  },
  "cells": [
    {
      "cell_type": "markdown",
      "metadata": {
        "id": "cCXYGbQ-J9lk"
      },
      "source": [
        "# Домашнее задание 2. Классификация, детекция."
      ]
    },
    {
      "cell_type": "markdown",
      "metadata": {
        "id": "rIMmr9zOJ9ll"
      },
      "source": [
        "Оценка за часть 1 и часть 2 в этом дз -- по 5 баллов."
      ]
    },
    {
      "cell_type": "markdown",
      "metadata": {
        "id": "x-yPGZjfJ9ll"
      },
      "source": [
        "## Часть 1. Классификация\n",
        "\n",
        "В этом задании потребуется обучить классификатор изображений. Будем работать с датасетом, название которого раскрывать не будем. Можете посмотреть самостоятельно на картинки, которые в датасете есть. В нём 200 классов и около 5 тысяч картинок на каждый класс. Классы пронумерованы, как нетрудно догадаться, от 0 до 199. Скачать датасет можно вот [тут](https://yadi.sk/d/BNR41Vu3y0c7qA).\n",
        "\n",
        "Структура датасета простая -- есть директории train и val, в которых лежат обучающие и валидационные данные. В train/ и val/ лежат директориии, соответствующие классам изображений, в которых лежат собственно сами изображения.\n",
        " \n",
        "__Задание__. Добейтесь accuracy **не менее 0.44**. Напишите краткий отчёт о проделанных экспериментах. Что сработало и что не сработало? Почему вы решили, сделать так, а не иначе? Обязательно указывайте ссылки на чужой код, если вы \n",
        "его используете. Обязательно ссылайтесь на статьи/блогпосты/вопросы на stackoverflow/видосы от (индийских) ютуберов/курсы/подсказки от Дяди Васи и прочие дополнительные материалы, если вы их используете. \n",
        "\n",
        "В коде ниже необходимо, чтобы код проходил все `assert`'ы.\n",
        "\n",
        "Необходимо написать функцию `predict` по шаблону ниже. Эта функция принимает на вход модель, даталоадер с валидационнами данными, criterion для подсчёта лосса и device, на котором будут производиться вычисления (определён ниже) и возвращает список лоссов по всем объектам, список из предсказанных классов для каждого объекта из из даталоалера и список из настоящих классов для каждого объекта в даталоадере (и именно в таком порядке).\n",
        "\n",
        "__Использовать внешние данные для обучения строго запрещено__. Можно использовать предобученные модели из `torchvision`.\n",
        "\n",
        "__Критерии оценки__: Оценка вычисляется по простой формуле: min(5, 5 * Ваша accuracy / 0.44). Оценка округляется до десятых по арифметическим правилам.\n",
        "\n",
        "__Советы и указания__:\n",
        " - Наверняка вам потребуется много гуглить о классификации и о том, как заставить её работать. Это нормально, все гуглят. Но не забывайте, что нужно быть готовым за скатанный код отвечать на защите :)\n",
        " - Используйте аугментации. Для этого пользуйтесь модулем torchvision.transforms или библиотекой [albumentations](https://github.com/albumentations-team/albumentations)\n",
        " - (ещё раз) Можно файнтюнить предобученные модели из `torchvision`.\n",
        " - Рекомендуем написать вам сначала класс-датасет (или воспользоваться классом ImageFolder), который возвращает картинки и соответствующие им классы, а затем функции для трейна по шаблонам ниже. Однако делать это мы не заставляем. Если вам так неудобно, то можете писать код в удобном стиле. Однако учтите, что чрезмерное изменение нижеперечисленных шаблонов увеличит количество вопросов к вашему коду и повысит вероятность вызова на защиту :)\n",
        " - Валидируйте. Трекайте ошибки как можно раньше, чтобы не тратить время впустую.\n",
        " - Чтобы отладить код, пробуйте обучаться на маленькой части датасета. Когда вы поняли, что смогли всё отдебажить, переходите обучению по всему датасету\n",
        " - На каждый запуск делайте ровно одно изменение в модели/аугментации/оптимайзере, чтобы понять, что и как влияет на результат.\n",
        " - Фиксируйте random seed.\n",
        " - Начинайте с простых моделей и постепенно переходите к сложным. Обучение лёгких моделей экономит много времени.\n",
        " - Ставьте расписание на learning rate. Уменьшайте его, когда лосс на валидации перестаёт убывать.\n",
        " - Советуем использовать гпу. Если у вас его нет, используйте google colab. Если вам неудобно его использовать на постоянной основе, напишите и отладьте весь код локально на CPU, а затем запустите уже написанный ноутбук в колабе. Авторское решение задания достигает требуемой точности в колабе за 15 минут обучения.\n",
        " \n",
        "Good luck & have fun! :)"
      ]
    },
    {
      "cell_type": "code",
      "metadata": {
        "id": "62W6AGYIJ9ll"
      },
      "source": [
        "import torch\n",
        "import torchvision\n",
        "from torch import nn\n",
        "from torch.nn import functional as F\n",
        "import numpy as np\n",
        "import torchvision.transforms as transforms\n",
        "from tqdm import tqdm\n",
        "from sklearn.metrics import accuracy_score\n",
        "import matplotlib.pyplot as plt\n",
        "import albumentations as A\n",
        "from albumentations.pytorch import ToTensor"
      ],
      "execution_count": 1,
      "outputs": []
    },
    {
      "cell_type": "code",
      "metadata": {
        "colab": {
          "base_uri": "https://localhost:8080/"
        },
        "id": "TwZYKTSD_c_L",
        "outputId": "d2a0d09c-0829-48ce-fbca-ed596b2fac61"
      },
      "source": [
        "device = torch.device(\"cuda:0\") if torch.cuda.is_available() else torch.device(\"cpu\")\n",
        "device"
      ],
      "execution_count": 2,
      "outputs": [
        {
          "output_type": "execute_result",
          "data": {
            "text/plain": [
              "device(type='cuda', index=0)"
            ]
          },
          "metadata": {
            "tags": []
          },
          "execution_count": 2
        }
      ]
    },
    {
      "cell_type": "code",
      "metadata": {
        "id": "Wc26pPzydhWF",
        "colab": {
          "base_uri": "https://localhost:8080/"
        },
        "outputId": "1d4f00d4-acde-4764-edd1-615323ce7ff1"
      },
      "source": [
        "from google.colab import drive\n",
        "drive.mount('/content/drive', force_remount=True)"
      ],
      "execution_count": 3,
      "outputs": [
        {
          "output_type": "stream",
          "text": [
            "Mounted at /content/drive\n"
          ],
          "name": "stdout"
        }
      ]
    },
    {
      "cell_type": "code",
      "metadata": {
        "id": "MIDoOtkIClQo"
      },
      "source": [
        "train_transform = A.Compose([\n",
        "    #A.VerticalFlip(p=0.5),\n",
        "    #A.HorizontalFlip(p=0.5),\n",
        "    A.RandomBrightnessContrast(p=0.2),\n",
        "    A.Normalize(mean=(0.485, 0.456, 0.406), std=(0.229, 0.224, 0.225)),\n",
        "    ToTensor(),\n",
        "])\n",
        "for_training = lambda image: val_transform(image=np.array(image)) "
      ],
      "execution_count": 4,
      "outputs": []
    },
    {
      "cell_type": "code",
      "metadata": {
        "id": "bHyKqul9CKYJ"
      },
      "source": [
        "val_transform = A.Compose([\n",
        "    A.RandomBrightnessContrast(p=0.2),\n",
        "    A.Normalize(mean=(0.485, 0.456, 0.406), std=(0.229, 0.224, 0.225)),\n",
        "    ToTensor()\n",
        "])\n",
        "for_validation = lambda image: train_transform(image=np.array(image)) "
      ],
      "execution_count": 5,
      "outputs": []
    },
    {
      "cell_type": "code",
      "metadata": {
        "id": "6mVinY3kd86Q"
      },
      "source": [
        "! unzip -qq /content/drive/MyDrive/dataset.zip"
      ],
      "execution_count": 7,
      "outputs": []
    },
    {
      "cell_type": "code",
      "metadata": {
        "id": "vF5HfRriJ9ll"
      },
      "source": [
        "train_dataset = torchvision.datasets.ImageFolder(\"./dataset/train\",\n",
        "                                                     transform=for_training\n",
        "                                                     )\n",
        "\n",
        "val_dataset = torchvision.datasets.ImageFolder(\"./dataset/val\",\n",
        "                                                   transform=for_validation\n",
        "                                                   )"
      ],
      "execution_count": 8,
      "outputs": []
    },
    {
      "cell_type": "markdown",
      "metadata": {
        "id": "S2fquKgMs6wV"
      },
      "source": [
        ""
      ]
    },
    {
      "cell_type": "code",
      "metadata": {
        "id": "vQrdEj-AJ9lm"
      },
      "source": [
        "train_dataloader = torch.utils.data.DataLoader(train_dataset, batch_size=64,\n",
        "                                          shuffle=True, num_workers=2)\n",
        "\n",
        "val_dataloader = torch.utils.data.DataLoader(val_dataset, batch_size=64,\n",
        "                                         shuffle=False, num_workers=2)"
      ],
      "execution_count": 9,
      "outputs": []
    },
    {
      "cell_type": "markdown",
      "metadata": {
        "id": "3ckdNm2Qs2mW"
      },
      "source": [
        "optional, do not run "
      ]
    },
    {
      "cell_type": "markdown",
      "metadata": {
        "id": "g9u85PNMs_mN"
      },
      "source": [
        ""
      ]
    },
    {
      "cell_type": "code",
      "metadata": {
        "id": "rqF-rvlhJ9ll",
        "colab": {
          "base_uri": "https://localhost:8080/"
        },
        "outputId": "9dd9d147-5c38-43c5-8ad0-65fb6b7cd398"
      },
      "source": [
        "# Just very simple checks\n",
        "assert isinstance(train_dataset[0], tuple)\n",
        "assert len(train_dataset[0]) == 2\n",
        "assert isinstance(train_dataset[1][1], int)\n",
        "print(\"tests passed\")"
      ],
      "execution_count": 10,
      "outputs": [
        {
          "output_type": "stream",
          "text": [
            "tests passed\n"
          ],
          "name": "stdout"
        }
      ]
    },
    {
      "cell_type": "code",
      "metadata": {
        "id": "1IQmzx2n9v2t"
      },
      "source": [
        "import torchvision.models as models\n",
        "resnet50 = models.resnet50(pretrained=True)\n",
        "resnet50.to(device)\n",
        "None"
      ],
      "execution_count": 12,
      "outputs": []
    },
    {
      "cell_type": "code",
      "metadata": {
        "id": "OgAKftLVBqhs"
      },
      "source": [
        "import torchvision.models as models\n",
        "resnext101 = models.resnext101_32x8d(pretrained=True)\n",
        "resnext101.to(device)\n",
        "None"
      ],
      "execution_count": 10,
      "outputs": []
    },
    {
      "cell_type": "code",
      "metadata": {
        "id": "N6O7OdMhJ9ln"
      },
      "source": [
        "def train_one_epoch(model, train_dataloader, criterion, optimizer, scheduler=None, device=\"cuda:0\"):\n",
        "    model.train()\n",
        "    train_loss = 0\n",
        "\n",
        "    predicted_labels = np.array([])\n",
        "    true_labels = np.array([])\n",
        "\n",
        "    for X_batch, y_batch in tqdm(train_dataloader):\n",
        "\n",
        "        X_batch = X_batch['image'].to(device)\n",
        "        y_batch = y_batch.to(device)\n",
        "        optimizer.zero_grad()\n",
        "        y_pred = model(X_batch)\n",
        "        loss = criterion(y_pred, y_batch)\n",
        "        train_loss += loss.item()\n",
        "        loss.backward()\n",
        "        optimizer.step()\n",
        "        #scheduler.step()\n",
        "\n",
        "\n",
        "        predicted_labels = np.append(predicted_labels, y_pred.argmax(1).cpu().detach().numpy())\n",
        "        true_labels = np.append(true_labels, y_batch.cpu().detach().numpy())\n",
        "    \n",
        "    accuracy = accuracy_score(predicted_labels, true_labels)\n",
        "    return train_loss, accuracy\n",
        "\n",
        "\n",
        "def predict(model, val_dataloder, criterion, device=\"cuda:0\"):\n",
        "    model.eval()\n",
        "    val_loss = 0\n",
        "    val_acc = 0\n",
        "    predicted_labels = np.array([])\n",
        "    true_labels = np.array([])\n",
        "\n",
        "\n",
        "    with torch.no_grad():\n",
        "        for X_batch, y_batch in tqdm(val_dataloader):\n",
        "\n",
        "                X_batch = X_batch['image'].to(device)\n",
        "                y_batch = y_batch.to(device)\n",
        "\n",
        "                pred = model(X_batch)\n",
        "                loss = criterion(pred, y_batch)\n",
        "                val_loss += loss.item()\n",
        "\n",
        "                _, pred_classes = torch.max(pred, 1)\n",
        "                val_acc += (pred_classes == y_batch).sum().item()\n",
        "                predicted_labels = np.append(predicted_labels, pred.argmax(1).cpu().detach().numpy())\n",
        "                true_labels = np.append(true_labels, y_batch.cpu().detach().numpy())\n",
        "\n",
        "    return val_loss, predicted_labels, true_labels \n",
        "\n",
        "\n",
        "def train(model, train_dataloader, val_dataloader, criterion, optimizer, scheduler, device=\"cuda:0\", n_epochs=10):\n",
        "    train_losses = []\n",
        "    val_losses = []\n",
        "    train_accuracy = []\n",
        "    val_accuracy = []\n",
        "\n",
        "    for epoch in range(n_epochs):\n",
        "        print(f'\\n epoch number {epoch + 1}')\n",
        "        # one epoch train loop\n",
        "        t_loss, t_acc = train_one_epoch(model, train_dataloader, criterion, optimizer, scheduler, device=\"cuda:0\")\n",
        "        train_losses.append(t_loss)\n",
        "        train_accuracy.append(t_acc)\n",
        "\n",
        "        # one epoch validation loop\n",
        "        v_loss, pred, true = predict(model, val_dataloader, criterion, device=\"cuda:0\")\n",
        "        val_losses.append(v_loss)\n",
        "        v_acc = accuracy_score(pred, true)\n",
        "        val_accuracy.append(v_acc)\n",
        "\n",
        "        scheduler.step()\n",
        " \n",
        "       \n",
        "        print(f'\\n epoch train loss: {t_loss}')\n",
        "        print(f' epoch train accuracy: {t_acc}')\n",
        "        print(f' epoch val loss: {v_loss}')\n",
        "        print(f' epoch val accuracy: {v_acc}')\n",
        "\n",
        "    return train_losses, train_accuracy, val_losses, val_accuracy"
      ],
      "execution_count": 13,
      "outputs": []
    },
    {
      "cell_type": "code",
      "metadata": {
        "scrolled": true,
        "id": "LbR2QCEMJ9ln"
      },
      "source": [
        "optimizer = torch.optim.Adam(resnet50.parameters(), lr=0.0003, betas=(0.9, 0.999), eps=1e-08, weight_decay=0, amsgrad=False)\n",
        "criterion = nn.CrossEntropyLoss()\n",
        "\n",
        "scheduler = torch.optim.lr_scheduler.StepLR(optimizer, step_size=5, gamma=0.1)\n",
        "\n",
        "n_epochs = 40"
      ],
      "execution_count": 17,
      "outputs": []
    },
    {
      "cell_type": "markdown",
      "metadata": {
        "id": "GVPSCxFEJ9ln"
      },
      "source": [
        "Простой тест на проверку правильности написанного кода"
      ]
    },
    {
      "cell_type": "code",
      "metadata": {
        "id": "3ndInon4J9ln",
        "colab": {
          "base_uri": "https://localhost:8080/"
        },
        "outputId": "34f927f1-405f-4bf9-c26b-43056fe2fad7"
      },
      "source": [
        "all_losses, predicted_labels, true_labels = predict(resnet50, val_dataloader, criterion, device)\n",
        "assert len(predicted_labels) == len(val_dataset)\n",
        "accuracy = accuracy_score(predicted_labels, true_labels)\n",
        "print(\"tests passed\")"
      ],
      "execution_count": 16,
      "outputs": [
        {
          "output_type": "stream",
          "text": [
            "100%|██████████| 157/157 [00:06<00:00, 26.12it/s]\n"
          ],
          "name": "stderr"
        },
        {
          "output_type": "stream",
          "text": [
            "tests passed\n"
          ],
          "name": "stdout"
        }
      ]
    },
    {
      "cell_type": "code",
      "metadata": {
        "id": "EJBSuZQf0kGL"
      },
      "source": [
        "from tqdm import tqdm"
      ],
      "execution_count": 14,
      "outputs": []
    },
    {
      "cell_type": "markdown",
      "metadata": {
        "id": "BrTxSasKJ9ln"
      },
      "source": [
        "Запустить обучение можно в ячейке ниже."
      ]
    },
    {
      "cell_type": "code",
      "metadata": {
        "tags": [],
        "id": "4BZzeewUJ9ln",
        "colab": {
          "base_uri": "https://localhost:8080/"
        },
        "outputId": "b086ab29-0ebd-4201-8dd1-39c384e64281"
      },
      "source": [
        "train_losses, train_accuracy, val_losses, val_accuracy = train(resnet50 , train_dataloader, val_dataloader, criterion, optimizer, scheduler, device, n_epochs=20)"
      ],
      "execution_count": 18,
      "outputs": [
        {
          "output_type": "stream",
          "text": [
            "\r  0%|          | 0/1563 [00:00<?, ?it/s]"
          ],
          "name": "stderr"
        },
        {
          "output_type": "stream",
          "text": [
            "\n",
            " epoch number 1\n"
          ],
          "name": "stdout"
        },
        {
          "output_type": "stream",
          "text": [
            "100%|██████████| 1563/1563 [02:46<00:00,  9.41it/s]\n",
            "100%|██████████| 157/157 [00:05<00:00, 28.02it/s]\n",
            "  0%|          | 0/1563 [00:00<?, ?it/s]"
          ],
          "name": "stderr"
        },
        {
          "output_type": "stream",
          "text": [
            "\n",
            " epoch train loss: 4708.901418566704\n",
            " epoch train accuracy: 0.3309\n",
            " epoch val loss: 369.2150720357895\n",
            " epoch val accuracy: 0.447\n",
            "\n",
            " epoch number 2\n"
          ],
          "name": "stdout"
        },
        {
          "output_type": "stream",
          "text": [
            "100%|██████████| 1563/1563 [02:46<00:00,  9.39it/s]\n",
            "100%|██████████| 157/157 [00:05<00:00, 27.48it/s]\n",
            "  0%|          | 0/1563 [00:00<?, ?it/s]"
          ],
          "name": "stderr"
        },
        {
          "output_type": "stream",
          "text": [
            "\n",
            " epoch train loss: 2936.875543475151\n",
            " epoch train accuracy: 0.53034\n",
            " epoch val loss: 320.8170138001442\n",
            " epoch val accuracy: 0.5047\n",
            "\n",
            " epoch number 3\n"
          ],
          "name": "stdout"
        },
        {
          "output_type": "stream",
          "text": [
            "100%|██████████| 1563/1563 [02:48<00:00,  9.30it/s]\n",
            "100%|██████████| 157/157 [00:05<00:00, 27.52it/s]\n",
            "  0%|          | 0/1563 [00:00<?, ?it/s]"
          ],
          "name": "stderr"
        },
        {
          "output_type": "stream",
          "text": [
            "\n",
            " epoch train loss: 2248.7295584082603\n",
            " epoch train accuracy: 0.62493\n",
            " epoch val loss: 308.758072078228\n",
            " epoch val accuracy: 0.5247\n",
            "\n",
            " epoch number 4\n"
          ],
          "name": "stdout"
        },
        {
          "output_type": "stream",
          "text": [
            "100%|██████████| 1563/1563 [02:47<00:00,  9.32it/s]\n",
            "100%|██████████| 157/157 [00:05<00:00, 26.62it/s]\n",
            "  0%|          | 0/1563 [00:00<?, ?it/s]"
          ],
          "name": "stderr"
        },
        {
          "output_type": "stream",
          "text": [
            "\n",
            " epoch train loss: 1682.272145241499\n",
            " epoch train accuracy: 0.70925\n",
            " epoch val loss: 326.8794842362404\n",
            " epoch val accuracy: 0.5186\n",
            "\n",
            " epoch number 5\n"
          ],
          "name": "stdout"
        },
        {
          "output_type": "stream",
          "text": [
            "100%|██████████| 1563/1563 [02:47<00:00,  9.33it/s]\n",
            "100%|██████████| 157/157 [00:05<00:00, 27.75it/s]\n",
            "  0%|          | 0/1563 [00:00<?, ?it/s]"
          ],
          "name": "stderr"
        },
        {
          "output_type": "stream",
          "text": [
            "\n",
            " epoch train loss: 1223.6831847727299\n",
            " epoch train accuracy: 0.78003\n",
            " epoch val loss: 332.2711852192879\n",
            " epoch val accuracy: 0.527\n",
            "\n",
            " epoch number 6\n"
          ],
          "name": "stdout"
        },
        {
          "output_type": "stream",
          "text": [
            "100%|██████████| 1563/1563 [02:47<00:00,  9.35it/s]\n",
            "100%|██████████| 157/157 [00:05<00:00, 27.17it/s]\n",
            "  0%|          | 0/1563 [00:00<?, ?it/s]"
          ],
          "name": "stderr"
        },
        {
          "output_type": "stream",
          "text": [
            "\n",
            " epoch train loss: 387.3187955506146\n",
            " epoch train accuracy: 0.93082\n",
            " epoch val loss: 335.25030636787415\n",
            " epoch val accuracy: 0.5675\n",
            "\n",
            " epoch number 7\n"
          ],
          "name": "stdout"
        },
        {
          "output_type": "stream",
          "text": [
            "100%|██████████| 1563/1563 [02:47<00:00,  9.36it/s]\n",
            "100%|██████████| 157/157 [00:05<00:00, 28.07it/s]\n",
            "  0%|          | 0/1563 [00:00<?, ?it/s]"
          ],
          "name": "stderr"
        },
        {
          "output_type": "stream",
          "text": [
            "\n",
            " epoch train loss: 134.67258558236063\n",
            " epoch train accuracy: 0.97851\n",
            " epoch val loss: 377.37862771749496\n",
            " epoch val accuracy: 0.5619\n",
            "\n",
            " epoch number 8\n"
          ],
          "name": "stdout"
        },
        {
          "output_type": "stream",
          "text": [
            "100%|██████████| 1563/1563 [02:46<00:00,  9.39it/s]\n",
            "100%|██████████| 157/157 [00:05<00:00, 27.92it/s]\n",
            "  0%|          | 0/1563 [00:00<?, ?it/s]"
          ],
          "name": "stderr"
        },
        {
          "output_type": "stream",
          "text": [
            "\n",
            " epoch train loss: 57.19723035348579\n",
            " epoch train accuracy: 0.99131\n",
            " epoch val loss: 451.0982008576393\n",
            " epoch val accuracy: 0.559\n",
            "\n",
            " epoch number 9\n"
          ],
          "name": "stdout"
        },
        {
          "output_type": "stream",
          "text": [
            "100%|██████████| 1563/1563 [02:47<00:00,  9.36it/s]\n",
            "100%|██████████| 157/157 [00:05<00:00, 28.00it/s]\n",
            "  0%|          | 0/1563 [00:00<?, ?it/s]"
          ],
          "name": "stderr"
        },
        {
          "output_type": "stream",
          "text": [
            "\n",
            " epoch train loss: 36.91054289811291\n",
            " epoch train accuracy: 0.9942\n",
            " epoch val loss: 483.00566869974136\n",
            " epoch val accuracy: 0.5559\n",
            "\n",
            " epoch number 10\n"
          ],
          "name": "stdout"
        },
        {
          "output_type": "stream",
          "text": [
            "100%|██████████| 1563/1563 [02:45<00:00,  9.42it/s]\n",
            "100%|██████████| 157/157 [00:05<00:00, 28.23it/s]\n",
            "  0%|          | 0/1563 [00:00<?, ?it/s]"
          ],
          "name": "stderr"
        },
        {
          "output_type": "stream",
          "text": [
            "\n",
            " epoch train loss: 28.370682748849504\n",
            " epoch train accuracy: 0.9956\n",
            " epoch val loss: 500.8272711634636\n",
            " epoch val accuracy: 0.556\n",
            "\n",
            " epoch number 11\n"
          ],
          "name": "stdout"
        },
        {
          "output_type": "stream",
          "text": [
            "100%|██████████| 1563/1563 [02:46<00:00,  9.40it/s]\n",
            "100%|██████████| 157/157 [00:05<00:00, 28.06it/s]\n",
            "  0%|          | 0/1563 [00:00<?, ?it/s]"
          ],
          "name": "stderr"
        },
        {
          "output_type": "stream",
          "text": [
            "\n",
            " epoch train loss: 20.00874055630993\n",
            " epoch train accuracy: 0.9973\n",
            " epoch val loss: 492.97920167446136\n",
            " epoch val accuracy: 0.5584\n",
            "\n",
            " epoch number 12\n"
          ],
          "name": "stdout"
        },
        {
          "output_type": "stream",
          "text": [
            "100%|██████████| 1563/1563 [02:46<00:00,  9.39it/s]\n",
            "100%|██████████| 157/157 [00:05<00:00, 28.10it/s]\n",
            "  0%|          | 0/1563 [00:00<?, ?it/s]"
          ],
          "name": "stderr"
        },
        {
          "output_type": "stream",
          "text": [
            "\n",
            " epoch train loss: 14.322758941387292\n",
            " epoch train accuracy: 0.99832\n",
            " epoch val loss: 494.31308114528656\n",
            " epoch val accuracy: 0.5622\n",
            "\n",
            " epoch number 13\n"
          ],
          "name": "stdout"
        },
        {
          "output_type": "stream",
          "text": [
            "100%|██████████| 1563/1563 [02:46<00:00,  9.41it/s]\n",
            "100%|██████████| 157/157 [00:05<00:00, 28.86it/s]\n",
            "  0%|          | 0/1563 [00:00<?, ?it/s]"
          ],
          "name": "stderr"
        },
        {
          "output_type": "stream",
          "text": [
            "\n",
            " epoch train loss: 11.93070609375718\n",
            " epoch train accuracy: 0.9986\n",
            " epoch val loss: 494.3126748204231\n",
            " epoch val accuracy: 0.5632\n",
            "\n",
            " epoch number 14\n"
          ],
          "name": "stdout"
        },
        {
          "output_type": "stream",
          "text": [
            "100%|██████████| 1563/1563 [02:45<00:00,  9.43it/s]\n",
            "100%|██████████| 157/157 [00:05<00:00, 28.80it/s]\n",
            "  0%|          | 0/1563 [00:00<?, ?it/s]"
          ],
          "name": "stderr"
        },
        {
          "output_type": "stream",
          "text": [
            "\n",
            " epoch train loss: 10.172745804156875\n",
            " epoch train accuracy: 0.99875\n",
            " epoch val loss: 499.61368304491043\n",
            " epoch val accuracy: 0.5621\n",
            "\n",
            " epoch number 15\n"
          ],
          "name": "stdout"
        },
        {
          "output_type": "stream",
          "text": [
            "100%|██████████| 1563/1563 [02:46<00:00,  9.40it/s]\n",
            "100%|██████████| 157/157 [00:05<00:00, 28.57it/s]\n",
            "  0%|          | 0/1563 [00:00<?, ?it/s]"
          ],
          "name": "stderr"
        },
        {
          "output_type": "stream",
          "text": [
            "\n",
            " epoch train loss: 9.313618723652326\n",
            " epoch train accuracy: 0.9988\n",
            " epoch val loss: 504.3045821785927\n",
            " epoch val accuracy: 0.5625\n",
            "\n",
            " epoch number 16\n"
          ],
          "name": "stdout"
        },
        {
          "output_type": "stream",
          "text": [
            "100%|██████████| 1563/1563 [02:46<00:00,  9.39it/s]\n",
            "100%|██████████| 157/157 [00:05<00:00, 28.39it/s]\n",
            "  0%|          | 0/1563 [00:00<?, ?it/s]"
          ],
          "name": "stderr"
        },
        {
          "output_type": "stream",
          "text": [
            "\n",
            " epoch train loss: 7.91341004151036\n",
            " epoch train accuracy: 0.99906\n",
            " epoch val loss: 504.0962253212929\n",
            " epoch val accuracy: 0.5596\n",
            "\n",
            " epoch number 17\n"
          ],
          "name": "stdout"
        },
        {
          "output_type": "stream",
          "text": [
            "100%|██████████| 1563/1563 [02:45<00:00,  9.42it/s]\n",
            "100%|██████████| 157/157 [00:05<00:00, 28.64it/s]\n",
            "  0%|          | 0/1563 [00:00<?, ?it/s]"
          ],
          "name": "stderr"
        },
        {
          "output_type": "stream",
          "text": [
            "\n",
            " epoch train loss: 8.617664913530461\n",
            " epoch train accuracy: 0.99895\n",
            " epoch val loss: 503.6128258705139\n",
            " epoch val accuracy: 0.561\n",
            "\n",
            " epoch number 18\n"
          ],
          "name": "stdout"
        },
        {
          "output_type": "stream",
          "text": [
            "100%|██████████| 1563/1563 [02:45<00:00,  9.43it/s]\n",
            "100%|██████████| 157/157 [00:05<00:00, 28.78it/s]\n",
            "  0%|          | 0/1563 [00:00<?, ?it/s]"
          ],
          "name": "stderr"
        },
        {
          "output_type": "stream",
          "text": [
            "\n",
            " epoch train loss: 7.841753859742312\n",
            " epoch train accuracy: 0.99921\n",
            " epoch val loss: 502.5693006515503\n",
            " epoch val accuracy: 0.564\n",
            "\n",
            " epoch number 19\n"
          ],
          "name": "stdout"
        },
        {
          "output_type": "stream",
          "text": [
            "100%|██████████| 1563/1563 [02:45<00:00,  9.45it/s]\n",
            "100%|██████████| 157/157 [00:05<00:00, 28.40it/s]\n",
            "  0%|          | 0/1563 [00:00<?, ?it/s]"
          ],
          "name": "stderr"
        },
        {
          "output_type": "stream",
          "text": [
            "\n",
            " epoch train loss: 7.682379116595257\n",
            " epoch train accuracy: 0.99915\n",
            " epoch val loss: 504.31407964229584\n",
            " epoch val accuracy: 0.5649\n",
            "\n",
            " epoch number 20\n"
          ],
          "name": "stdout"
        },
        {
          "output_type": "stream",
          "text": [
            "100%|██████████| 1563/1563 [02:45<00:00,  9.45it/s]\n",
            "100%|██████████| 157/157 [00:05<00:00, 29.04it/s]"
          ],
          "name": "stderr"
        },
        {
          "output_type": "stream",
          "text": [
            "\n",
            " epoch train loss: 8.623818331077928\n",
            " epoch train accuracy: 0.99896\n",
            " epoch val loss: 503.93788009881973\n",
            " epoch val accuracy: 0.5653\n"
          ],
          "name": "stdout"
        },
        {
          "output_type": "stream",
          "text": [
            "\n"
          ],
          "name": "stderr"
        }
      ]
    },
    {
      "cell_type": "code",
      "metadata": {
        "id": "fWjqohkCJ9ln",
        "colab": {
          "base_uri": "https://localhost:8080/",
          "height": 540
        },
        "outputId": "f5de0335-1b3e-4a8d-bb95-f807587f7697"
      },
      "source": [
        "plt.style.use('ggplot')\n",
        "fig, axes = plt.subplots(2, 2, sharex=False, figsize=(12, 8))\n",
        "fig.suptitle('Best model results')\n",
        "axes[0, 0].plot(train_losses, label='train_losses')\n",
        "axes[0, 0].set_title(' train_losses')\n",
        "\n",
        "axes[0, 1].plot(train_accuracy, label='train_accuracy')\n",
        "axes[0, 1].set_title('train_accuracy')\n",
        "\n",
        "axes[1, 0].plot(val_losses, label='val_losses')\n",
        "axes[1, 0].set_title('val_losses')\n",
        "\n",
        "axes[1, 1].plot(val_accuracy, label='val_accuracy')\n",
        "axes[1, 1].set_title('val_accuracy')\n",
        "plt.show()"
      ],
      "execution_count": 19,
      "outputs": [
        {
          "output_type": "display_data",
          "data": {
            "image/png": "[encoded data removed]",
            "text/plain": [
              "<Figure size 864x576 with 4 Axes>"
            ]
          },
          "metadata": {
            "tags": []
          }
        }
      ]
    },
    {
      "cell_type": "markdown",
      "metadata": {
        "id": "uI60DcZxJ9lo"
      },
      "source": [
        "После всех экспериментов которые вы проделали, выберите лучшую из своих моделей, запустите функцию evaluate. Эта функция должна брать на вход модель и даталоадер с валидационными данными и возврашать accuracy, посчитанную на этом датасете."
      ]
    },
    {
      "cell_type": "code",
      "metadata": {
        "id": "fVohslvDJ9lo",
        "colab": {
          "base_uri": "https://localhost:8080/"
        },
        "outputId": "8b7fad8e-edde-4fc9-fafa-e9724f20a100"
      },
      "source": [
        "all_losses, predicted_labels, true_labels = predict(resnet50, val_dataloader, criterion, device)\n",
        "assert len(predicted_labels) == len(val_dataset)\n",
        "accuracy = accuracy_score(true_labels, predicted_labels)\n",
        "print(\"Оценка за это задание составит {} баллов\".format(min(5, 5 * accuracy / 0.44)))\n",
        "print(f'accuracy score is {accuracy}')"
      ],
      "execution_count": 21,
      "outputs": [
        {
          "output_type": "stream",
          "text": [
            "100%|██████████| 157/157 [00:05<00:00, 28.37it/s]"
          ],
          "name": "stderr"
        },
        {
          "output_type": "stream",
          "text": [
            "Оценка за это задание составит 5 баллов\n",
            "accuracy score is 0.5652\n"
          ],
          "name": "stdout"
        },
        {
          "output_type": "stream",
          "text": [
            "\n"
          ],
          "name": "stderr"
        }
      ]
    },
    {
      "cell_type": "markdown",
      "metadata": {
        "id": "fmc8hZU1J9lo"
      },
      "source": [
        "__Ваш отчёт о проделанных экспериментах__: текст писать тут"
      ]
    },
    {
      "cell_type": "markdown",
      "metadata": {
        "id": "x7tH155XJ9lo"
      },
      "source": [
        "## Часть 2. Object detection.\n",
        "\n",
        "В этом задании потребуется обучить детектор фруктов на изображении. Датасет можно скачать [отсюда](https://yadi.sk/d/UPwQB7OZrB48qQ)."
      ]
    },
    {
      "cell_type": "code",
      "metadata": {
        "id": "o7IsF9prJ9lo"
      },
      "source": [
        "import pandas as pd\n",
        "import numpy as np\n",
        "import torch\n",
        "from torch import nn\n",
        "from torch.nn import functional as F\n",
        "from torch.utils.data import Dataset, DataLoader"
      ],
      "execution_count": 22,
      "outputs": []
    },
    {
      "cell_type": "code",
      "metadata": {
        "colab": {
          "base_uri": "https://localhost:8080/"
        },
        "id": "nbFgckhhKjjZ",
        "outputId": "f9474cc8-b3ba-431b-e381-d85b3b55fe20"
      },
      "source": [
        "from google.colab import drive\n",
        "drive.mount('/content/drive')"
      ],
      "execution_count": 17,
      "outputs": [
        {
          "output_type": "stream",
          "text": [
            "Drive already mounted at /content/drive; to attempt to forcibly remount, call drive.mount(\"/content/drive\", force_remount=True).\n"
          ],
          "name": "stdout"
        }
      ]
    },
    {
      "cell_type": "code",
      "metadata": {
        "colab": {
          "base_uri": "https://localhost:8080/"
        },
        "id": "loKH81gaqFOx",
        "outputId": "431c83c3-1138-4c90-f529-bf1a165b5b39"
      },
      "source": [
        "! pip install xmltodict"
      ],
      "execution_count": 24,
      "outputs": [
        {
          "output_type": "stream",
          "text": [
            "Collecting xmltodict\n",
            "  Downloading https://files.pythonhosted.org/packages/28/fd/30d5c1d3ac29ce229f6bdc40bbc20b28f716e8b363140c26eff19122d8a5/xmltodict-0.12.0-py2.py3-none-any.whl\n",
            "Installing collected packages: xmltodict\n",
            "Successfully installed xmltodict-0.12.0\n"
          ],
          "name": "stdout"
        }
      ]
    },
    {
      "cell_type": "markdown",
      "metadata": {
        "id": "fTMysLfLJ9lo"
      },
      "source": [
        "Датасет мы за вас написали."
      ]
    },
    {
      "cell_type": "code",
      "metadata": {
        "colab": {
          "base_uri": "https://localhost:8080/",
          "height": 701
        },
        "id": "TVz3o70yJ9lo",
        "outputId": "74cbbae9-f467-4be9-a128-93fb13f784d8"
      },
      "source": [
        "pip install -U albumentations"
      ],
      "execution_count": 31,
      "outputs": [
        {
          "output_type": "stream",
          "text": [
            "Collecting albumentations\n",
            "\u001b[?25l  Downloading https://files.pythonhosted.org/packages/03/58/63fb1d742dc42d9ba2800ea741de1f2bc6bb05548d8724aa84794042eaf2/albumentations-0.5.2-py3-none-any.whl (72kB)\n",
            "\r\u001b[K     |████▌                           | 10kB 26.4MB/s eta 0:00:01\r\u001b[K     |█████████                       | 20kB 30.2MB/s eta 0:00:01\r\u001b[K     |█████████████▋                  | 30kB 16.8MB/s eta 0:00:01\r\u001b[K     |██████████████████▏             | 40kB 11.9MB/s eta 0:00:01\r\u001b[K     |██████████████████████▊         | 51kB 8.1MB/s eta 0:00:01\r\u001b[K     |███████████████████████████▏    | 61kB 7.3MB/s eta 0:00:01\r\u001b[K     |███████████████████████████████▊| 71kB 8.2MB/s eta 0:00:01\r\u001b[K     |████████████████████████████████| 81kB 5.3MB/s \n",
            "\u001b[?25hRequirement already satisfied, skipping upgrade: scikit-image>=0.16.1 in /usr/local/lib/python3.6/dist-packages (from albumentations) (0.16.2)\n",
            "Collecting imgaug>=0.4.0\n",
            "\u001b[?25l  Downloading https://files.pythonhosted.org/packages/66/b1/af3142c4a85cba6da9f4ebb5ff4e21e2616309552caca5e8acefe9840622/imgaug-0.4.0-py2.py3-none-any.whl (948kB)\n",
            "\u001b[K     |████████████████████████████████| 952kB 12.2MB/s \n",
            "\u001b[?25hRequirement already satisfied, skipping upgrade: scipy in /usr/local/lib/python3.6/dist-packages (from albumentations) (1.4.1)\n",
            "Requirement already satisfied, skipping upgrade: PyYAML in /usr/local/lib/python3.6/dist-packages (from albumentations) (3.13)\n",
            "Collecting opencv-python-headless>=4.1.1\n",
            "\u001b[?25l  Downloading https://files.pythonhosted.org/packages/08/e9/57d869561389884136be65a2d1bc038fe50171e2ba348fda269a4aab8032/opencv_python_headless-4.4.0.46-cp36-cp36m-manylinux2014_x86_64.whl (36.7MB)\n",
            "\u001b[K     |████████████████████████████████| 36.7MB 88kB/s \n",
            "\u001b[?25hRequirement already satisfied, skipping upgrade: numpy>=1.11.1 in /usr/local/lib/python3.6/dist-packages (from albumentations) (1.18.5)\n",
            "Requirement already satisfied, skipping upgrade: pillow>=4.3.0 in /usr/local/lib/python3.6/dist-packages (from scikit-image>=0.16.1->albumentations) (7.0.0)\n",
            "Requirement already satisfied, skipping upgrade: networkx>=2.0 in /usr/local/lib/python3.6/dist-packages (from scikit-image>=0.16.1->albumentations) (2.5)\n",
            "Requirement already satisfied, skipping upgrade: imageio>=2.3.0 in /usr/local/lib/python3.6/dist-packages (from scikit-image>=0.16.1->albumentations) (2.4.1)\n",
            "Requirement already satisfied, skipping upgrade: matplotlib!=3.0.0,>=2.0.0 in /usr/local/lib/python3.6/dist-packages (from scikit-image>=0.16.1->albumentations) (3.2.2)\n",
            "Requirement already satisfied, skipping upgrade: PyWavelets>=0.4.0 in /usr/local/lib/python3.6/dist-packages (from scikit-image>=0.16.1->albumentations) (1.1.1)\n",
            "Requirement already satisfied, skipping upgrade: opencv-python in /usr/local/lib/python3.6/dist-packages (from imgaug>=0.4.0->albumentations) (4.1.2.30)\n",
            "Requirement already satisfied, skipping upgrade: six in /usr/local/lib/python3.6/dist-packages (from imgaug>=0.4.0->albumentations) (1.15.0)\n",
            "Requirement already satisfied, skipping upgrade: Shapely in /usr/local/lib/python3.6/dist-packages (from imgaug>=0.4.0->albumentations) (1.7.1)\n",
            "Requirement already satisfied, skipping upgrade: decorator>=4.3.0 in /usr/local/lib/python3.6/dist-packages (from networkx>=2.0->scikit-image>=0.16.1->albumentations) (4.4.2)\n",
            "Requirement already satisfied, skipping upgrade: cycler>=0.10 in /usr/local/lib/python3.6/dist-packages (from matplotlib!=3.0.0,>=2.0.0->scikit-image>=0.16.1->albumentations) (0.10.0)\n",
            "Requirement already satisfied, skipping upgrade: kiwisolver>=1.0.1 in /usr/local/lib/python3.6/dist-packages (from matplotlib!=3.0.0,>=2.0.0->scikit-image>=0.16.1->albumentations) (1.3.1)\n",
            "Requirement already satisfied, skipping upgrade: pyparsing!=2.0.4,!=2.1.2,!=2.1.6,>=2.0.1 in /usr/local/lib/python3.6/dist-packages (from matplotlib!=3.0.0,>=2.0.0->scikit-image>=0.16.1->albumentations) (2.4.7)\n",
            "Requirement already satisfied, skipping upgrade: python-dateutil>=2.1 in /usr/local/lib/python3.6/dist-packages (from matplotlib!=3.0.0,>=2.0.0->scikit-image>=0.16.1->albumentations) (2.8.1)\n",
            "Installing collected packages: imgaug, opencv-python-headless, albumentations\n",
            "  Found existing installation: imgaug 0.2.9\n",
            "    Uninstalling imgaug-0.2.9:\n",
            "      Successfully uninstalled imgaug-0.2.9\n",
            "  Found existing installation: albumentations 0.1.12\n",
            "    Uninstalling albumentations-0.1.12:\n",
            "      Successfully uninstalled albumentations-0.1.12\n",
            "Successfully installed albumentations-0.5.2 imgaug-0.4.0 opencv-python-headless-4.4.0.46\n"
          ],
          "name": "stdout"
        },
        {
          "output_type": "display_data",
          "data": {
            "application/vnd.colab-display-data+json": {
              "pip_warning": {
                "packages": [
                  "albumentations",
                  "cv2",
                  "imgaug"
                ]
              }
            }
          },
          "metadata": {
            "tags": []
          }
        }
      ]
    },
    {
      "cell_type": "code",
      "metadata": {
        "id": "J2hFJD3kJ9lo"
      },
      "source": [
        "import pandas as pd\n",
        "import numpy as np\n",
        "\n",
        "import torch\n",
        "from torch import nn\n",
        "from torch.nn import functional as F\n",
        "from torch.utils.data import Dataset, DataLoader\n",
        "\n",
        "import xmltodict\n",
        "import json\n",
        "import glob\n",
        "import time\n",
        "import cv2\n",
        "import os\n",
        "\n",
        "import torchvision\n",
        "import matplotlib.pyplot as plt\n",
        "from sklearn.metrics import auc\n",
        "\n",
        "\n",
        "import albumentations as A\n",
        "from albumentations.pytorch import ToTensor\n",
        "from torchvision.models.detection import fasterrcnn_resnet50_fpn\n",
        "from torchvision.models.detection.faster_rcnn import FastRCNNPredictor"
      ],
      "execution_count": 1,
      "outputs": []
    },
    {
      "cell_type": "code",
      "metadata": {
        "colab": {
          "base_uri": "https://localhost:8080/"
        },
        "id": "mmZ3G8hqgpgi",
        "outputId": "8fbc9eb1-a0b7-4066-cfd0-27262d642f82"
      },
      "source": [
        "device = torch.device(\"cuda:0\") if torch.cuda.is_available() else torch.device(\"cpu\")\n",
        "device"
      ],
      "execution_count": 2,
      "outputs": [
        {
          "output_type": "execute_result",
          "data": {
            "text/plain": [
              "device(type='cuda', index=0)"
            ]
          },
          "metadata": {
            "tags": []
          },
          "execution_count": 2
        }
      ]
    },
    {
      "cell_type": "code",
      "metadata": {
        "id": "MbsbSU1IJ9lo"
      },
      "source": [
        "class2tag = {\"apple\": 1, \"orange\": 2, \"banana\": 3}\n",
        "\n",
        "\n",
        "class FruitDataset(Dataset):\n",
        "    def __init__(self, data_dir, transform=None):\n",
        "        self.images = []\n",
        "        self.annotations = []\n",
        "        self.transform = transform\n",
        "        for annotation in glob.glob(data_dir + \"/*xml\"):\n",
        "            image_fname = os.path.splitext(annotation)[0] + \".jpg\"\n",
        "            self.images.append(cv2.cvtColor(cv2.imread(image_fname), cv2.COLOR_BGR2RGB))\n",
        "            with open(annotation) as f:\n",
        "                annotation_dict = xmltodict.parse(f.read())\n",
        "            bboxes = []\n",
        "            labels = []\n",
        "            objects = annotation_dict[\"annotation\"][\"object\"]\n",
        "            if not isinstance(objects, list):\n",
        "                objects = [objects]\n",
        "            for obj in objects:\n",
        "                bndbox = obj[\"bndbox\"]\n",
        "                bbox = [bndbox[\"xmin\"], bndbox[\"ymin\"], bndbox[\"xmax\"], bndbox[\"ymax\"]]\n",
        "                bbox = list(map(int, bbox))\n",
        "                bboxes.append(torch.tensor(bbox))\n",
        "                labels.append(class2tag[obj[\"name\"]])\n",
        "            self.annotations.append(\n",
        "                {\"boxes\": torch.stack(bboxes).float(), \"labels\": torch.tensor(labels)}\n",
        "            )\n",
        "\n",
        "    def __getitem__(self, i):\n",
        "        if self.transform:\n",
        "            # the following code is correct if you use albumentations\n",
        "            # if you use torchvision transforms you have to modify it =)\n",
        "            res = self.transform(\n",
        "                image=self.images[i],\n",
        "                bboxes=self.annotations[i][\"boxes\"],\n",
        "                labels=self.annotations[i][\"labels\"],\n",
        "            )\n",
        "            return res[\"image\"], {\n",
        "                \"boxes\": torch.tensor(res[\"bboxes\"]),\n",
        "                \"labels\": torch.tensor(res[\"labels\"]),\n",
        "            }\n",
        "        else:\n",
        "            return self.images[i], self.annotations[i]\n",
        "\n",
        "    def __len__(self):\n",
        "        return len(self.images)"
      ],
      "execution_count": 3,
      "outputs": []
    },
    {
      "cell_type": "code",
      "metadata": {
        "id": "osMJIoS_J9lo"
      },
      "source": [
        "train_transform = A.Compose([\n",
        "    #A.RandomCrop(width=224, height=224, p=1),\n",
        "    #A.HorizontalFlip(p=0.1),\n",
        "    #A.RandomBrightnessContrast(p=0.1),\n",
        "    ToTensor(), \n",
        "], bbox_params=A.BboxParams(format='pascal_voc', min_area=1024, min_visibility=0.1, label_fields=['labels']))"
      ],
      "execution_count": 6,
      "outputs": []
    },
    {
      "cell_type": "code",
      "metadata": {
        "id": "4wGHVvTTJ9lp"
      },
      "source": [
        "val_transform = A.Compose([\n",
        "    #A.RandomCrop(width=224, height=224),\n",
        "    ToTensor(), \n",
        "], bbox_params=A.BboxParams(format='pascal_voc', min_area=1024, min_visibility=0.1, label_fields=['labels']))"
      ],
      "execution_count": 7,
      "outputs": []
    },
    {
      "cell_type": "code",
      "metadata": {
        "id": "yGq19qW0J9lp"
      },
      "source": [
        "def collate_fn(batch):\n",
        "    return tuple(zip(*batch))"
      ],
      "execution_count": null,
      "outputs": []
    },
    {
      "cell_type": "code",
      "metadata": {
        "id": "Z3TpKweuJ9lp"
      },
      "source": [
        "train_dataset = FruitDataset(\"/content/drive/My Drive/train_zip/train\", transform=train_transform)\n",
        "val_dataset = FruitDataset(\"/content/drive/My Drive/test_zip/test\", transform=val_transform)\n",
        "\n",
        "train_dataloader = torch.utils.data.DataLoader(train_dataset, batch_size=2, shuffle=True, collate_fn=collate_fn)\n",
        "val_dataloader = torch.utils.data.DataLoader(train_dataset, batch_size=1, collate_fn=collate_fn)"
      ],
      "execution_count": null,
      "outputs": []
    },
    {
      "cell_type": "markdown",
      "metadata": {
        "id": "evdzC0MLhwE0"
      },
      "source": [
        "Some useful train functions "
      ]
    },
    {
      "cell_type": "code",
      "metadata": {
        "id": "4oB-3lleJ9lp"
      },
      "source": [
        "def intersection_over_union(dt_bbox, gt_bbox):\n",
        "    \"\"\"\n",
        "    Intersection over Union between two bboxes\n",
        "    :param dt_bbox: list or numpy array of size (4,) [x0, y0, x1, y1]\n",
        "    :param gt_bbox: list or numpy array of size (4,) [x0, y0, x1, y1]\n",
        "    :return : intersection over union\n",
        "    \"\"\"\n",
        "\n",
        "\n",
        "    intersection_bbox = np.array(\n",
        "        [\n",
        "            max(dt_bbox[0], gt_bbox[0]),\n",
        "            max(dt_bbox[1], gt_bbox[1]),\n",
        "            min(dt_bbox[2], gt_bbox[2]),\n",
        "            min(dt_bbox[3], gt_bbox[3]),\n",
        "        ]\n",
        "    )\n",
        "\n",
        "    intersection_area = max(intersection_bbox[2] - intersection_bbox[0], 0) * max(\n",
        "        intersection_bbox[3] - intersection_bbox[1], 0\n",
        "    )\n",
        "    area_dt = (dt_bbox[2] - dt_bbox[0]) * (dt_bbox[3] - dt_bbox[1])\n",
        "    area_gt = (gt_bbox[2] - gt_bbox[0]) * (gt_bbox[3] - gt_bbox[1])\n",
        "\n",
        "    union_area = area_dt + area_gt - intersection_area\n",
        "\n",
        "    iou = intersection_area / union_area\n",
        "    return iou\n",
        "\n",
        "def evaluate_sample(target_pred, target_true, iou_threshold=0.5):\n",
        "    gt_bboxes = target_true[\"boxes\"].numpy()\n",
        "    gt_labels = target_true[\"labels\"].numpy()\n",
        "\n",
        "    dt_bboxes = target_pred[\"boxes\"].numpy()\n",
        "    dt_labels = target_pred[\"labels\"].numpy()\n",
        "    dt_scores = target_pred[\"scores\"].numpy()\n",
        "\n",
        "    results = []\n",
        "    for detection_id in range(len(dt_labels)):\n",
        "        dt_bbox = dt_bboxes[detection_id, :]\n",
        "        dt_label = dt_labels[detection_id]\n",
        "        dt_score = dt_scores[detection_id]\n",
        "\n",
        "        detection_result_dict = {\"score\": dt_score}\n",
        "\n",
        "        max_IoU = 0\n",
        "        max_gt_id = -1\n",
        "        for gt_id in range(len(gt_labels)):\n",
        "            gt_bbox = gt_bboxes[gt_id, :]\n",
        "            gt_label = gt_labels[gt_id]\n",
        "\n",
        "            if gt_label != dt_label:\n",
        "                continue\n",
        "\n",
        "            if intersection_over_union(dt_bbox, gt_bbox) > max_IoU:\n",
        "                max_IoU = intersection_over_union(dt_bbox, gt_bbox)\n",
        "                max_gt_id = gt_id\n",
        "\n",
        "        if max_gt_id >= 0 and max_IoU >= iou_threshold:\n",
        "            detection_result_dict[\"TP\"] = 1\n",
        "            gt_labels = np.delete(gt_labels, max_gt_id, axis=0)\n",
        "            gt_bboxes = np.delete(gt_bboxes, max_gt_id, axis=0)\n",
        "\n",
        "        else:\n",
        "            detection_result_dict[\"TP\"] = 0\n",
        "\n",
        "        results.append(detection_result_dict)\n",
        "\n",
        "    return results\n",
        "\n",
        "\n",
        "def evaluate(model, test_loader, device):\n",
        "    results = []\n",
        "    model.eval()\n",
        "    nbr_boxes = 0\n",
        "    with torch.no_grad():\n",
        "        for batch, (images, targets_true) in enumerate(test_loader):\n",
        "            images = list(image.to(device).float() for image in images)\n",
        "            targets_pred = model(images)\n",
        "\n",
        "            targets_true = [{k: v.cpu().float() for k, v in t.items()} for t in targets_true]\n",
        "            targets_pred = [{k: v.cpu().float() for k, v in t.items()} for t in targets_pred]\n",
        "\n",
        "\n",
        "            for i in range(len(targets_true)):\n",
        "                target_true = targets_true[i]\n",
        "                target_pred = targets_pred[i]\n",
        "                nbr_boxes += target_true[\"labels\"].shape[0]\n",
        "\n",
        "                results.extend(evaluate_sample(target_pred, target_true))\n",
        "\n",
        "    results = sorted(results, key=lambda k: k[\"score\"], reverse=True)\n",
        "\n",
        "    acc_TP = np.zeros(len(results))\n",
        "    acc_FP = np.zeros(len(results))\n",
        "    recall = np.zeros(len(results))\n",
        "    precision = np.zeros(len(results))\n",
        "\n",
        "\n",
        "    if results[0][\"TP\"] == 1:\n",
        "        acc_TP[0] = 1\n",
        "    else:\n",
        "        acc_FP[0] = 1\n",
        "\n",
        "    for i in range(1, len(results)):\n",
        "        acc_TP[i] = results[i][\"TP\"] + acc_TP[i - 1]\n",
        "        acc_FP[i] = (1 - results[i][\"TP\"]) + acc_FP[i - 1]\n",
        "\n",
        "        precision[i] = acc_TP[i] / (acc_TP[i] + acc_FP[i])\n",
        "        recall[i] = acc_TP[i] / nbr_boxes\n",
        "\n",
        "    return auc(recall, precision)"
      ],
      "execution_count": null,
      "outputs": []
    },
    {
      "cell_type": "markdown",
      "metadata": {
        "id": "e89rzueUJ9lp"
      },
      "source": [
        "Вам мы оставляем творческую часть =)\n",
        "\n",
        "__Задание__. Обучите модель для object detection на __обучающем__ датасете и добейтесь PR-AUC не менее __0.91__ на  __тестовом__.\n",
        "\n",
        " - Создайте модель и оптимайзер\n",
        " - Напишите функцию обучения модели\n",
        " - Используйте аугментации\n",
        " \n",
        "Использовать аугментации для обучения __обязательно__. Они дадут 1 балл из 5. Пользуйтесь модулем torchvision.transforms или библиотекой albumentations (о которой говорилось ранее). Последняя библиотека особенно удобна, поскольку умеет сама вычислять новые координаты bounding box'ов после трансформаций картинки. Советуем обратить внимание на следующий [гайд](https://albumentations.ai/docs/getting_started/bounding_boxes_augmentation/). Обратите внимание, что код, написанный в датасете выше, верен только если вы используете albumentations. Если вы выбрали путь torchvision.transforms, вам потребуется метод `__getitem__` изменить (что-то типа `return self.transform(self.images[i])`; однако в таком случае вычислять новые координаты bounding box'ов после трансформаций вам придётся вручную =))\n",
        "\n",
        "Оставшиеся 4 балла вычисляются по простой формуле: __min(4, 4 * Ваш auc / 0.91)__."
      ]
    },
    {
      "cell_type": "code",
      "metadata": {
        "id": "Ft9o8AL4J9lp"
      },
      "source": [
        "def train_one_epoch(model, train_dataloader, optimizer, device):\n",
        "    model.train()\n",
        "    n = 0\n",
        "    global_loss = 0\n",
        "    for images, targets in train_dataloader:\n",
        "        images = list(image.to(device).float() for image in images)\n",
        "        targets = [{k: v.to(device) for k, v in t.items()} for t in targets]\n",
        "\n",
        "        dict_loss = model(images, targets)\n",
        "        losses = sum(loss for loss in dict_loss.values())\n",
        "\n",
        "        optimizer.zero_grad()\n",
        "        losses.backward()\n",
        "        optimizer.step()\n",
        "\n",
        "        n += 1\n",
        "        global_loss += float(losses.cpu().detach().numpy())\n",
        "\n",
        "        if n % 10 == 0:\n",
        "            print(\"Loss value after {} batches is {}\".format(n, round(global_loss / n, 2)))\n",
        "    return global_loss\n",
        "\n",
        "\n",
        "def train(model, train_dataloader, val_dataloader, optimizer, device, n_epochs=10):\n",
        "    for epoch in range(n_epochs):\n",
        "        print(\"epoch {}/{}..\".format(epoch + 1, n_epochs))\n",
        "        start = time.time()\n",
        "        train_one_epoch(model, train_dataloader, optimizer, device)\n",
        "        mAP = evaluate(model, val_dataloader, device=device)\n",
        "        end = time.time()\n",
        "\n",
        "        print(\"epoch {} done in {}s\".format(epoch + 1, round(end - start, 2)))\n",
        "        print(\"mAP after epoch {} is {}:\".format(epoch + 1, round(mAP, 3)))"
      ],
      "execution_count": null,
      "outputs": []
    },
    {
      "cell_type": "code",
      "metadata": {
        "id": "kThHzfNMJ9lp"
      },
      "source": [
        "def get_detection_model(num_classes=4):\n",
        "    model = fasterrcnn_resnet50_fpn(pretrained=True)\n",
        "    in_features = model.roi_heads.box_predictor.cls_score.in_features\n",
        "    model.roi_heads.box_predictor = FastRCNNPredictor(in_features, num_classes)\n",
        "    return model\n",
        "\n",
        "  \n",
        "model = get_detection_model(num_classes=4)\n",
        "model.to(device)\n",
        "None"
      ],
      "execution_count": null,
      "outputs": []
    },
    {
      "cell_type": "code",
      "metadata": {
        "id": "QVe1DBfJJ9lp",
        "colab": {
          "base_uri": "https://localhost:8080/"
        },
        "outputId": "bb1655c4-90e5-4415-8415-e787bbad8f4b"
      },
      "source": [
        "params = [p for p in model.parameters() if p.requires_grad]\n",
        "optimizer = torch.optim.SGD(params, lr=0.005, momentum=0.9, weight_decay=0.0005)\n",
        "\n",
        "n_epochs = 5\n",
        "\n",
        "train(model, train_dataloader, val_dataloader, optimizer, device, n_epochs)"
      ],
      "execution_count": null,
      "outputs": [
        {
          "output_type": "stream",
          "text": [
            "epoch 1/5..\n"
          ],
          "name": "stdout"
        },
        {
          "output_type": "stream",
          "text": [
            "/usr/local/lib/python3.6/dist-packages/ipykernel_launcher.py:41: UserWarning: To copy construct from a tensor, it is recommended to use sourceTensor.clone().detach() or sourceTensor.clone().detach().requires_grad_(True), rather than torch.tensor(sourceTensor).\n",
            "/usr/local/lib/python3.6/dist-packages/ipykernel_launcher.py:42: UserWarning: To copy construct from a tensor, it is recommended to use sourceTensor.clone().detach() or sourceTensor.clone().detach().requires_grad_(True), rather than torch.tensor(sourceTensor).\n"
          ],
          "name": "stderr"
        },
        {
          "output_type": "stream",
          "text": [
            "Loss value after 10 batches is 0.63\n",
            "Loss value after 20 batches is 0.54\n",
            "Loss value after 30 batches is 0.49\n",
            "Loss value after 40 batches is 0.46\n",
            "Loss value after 50 batches is 0.42\n",
            "Loss value after 60 batches is 0.39\n",
            "Loss value after 70 batches is 0.36\n",
            "Loss value after 80 batches is 0.35\n",
            "Loss value after 90 batches is 0.33\n",
            "Loss value after 100 batches is 0.33\n",
            "Loss value after 110 batches is 0.33\n",
            "Loss value after 120 batches is 0.32\n",
            "epoch 0 done in 102.32s\n",
            "mAP after epoch 0 is 0.863:\n",
            "epoch 2/5..\n",
            "Loss value after 10 batches is 0.29\n",
            "Loss value after 20 batches is 0.25\n",
            "Loss value after 30 batches is 0.26\n",
            "Loss value after 40 batches is 0.25\n",
            "Loss value after 50 batches is 0.25\n",
            "Loss value after 60 batches is 0.24\n",
            "Loss value after 70 batches is 0.23\n",
            "Loss value after 80 batches is 0.22\n",
            "Loss value after 90 batches is 0.22\n",
            "Loss value after 100 batches is 0.21\n",
            "Loss value after 110 batches is 0.21\n",
            "Loss value after 120 batches is 0.21\n",
            "epoch 1 done in 102.46s\n",
            "mAP after epoch 1 is 0.947:\n",
            "epoch 3/5..\n",
            "Loss value after 10 batches is 0.19\n",
            "Loss value after 20 batches is 0.19\n",
            "Loss value after 30 batches is 0.18\n",
            "Loss value after 40 batches is 0.17\n",
            "Loss value after 50 batches is 0.17\n",
            "Loss value after 60 batches is 0.17\n",
            "Loss value after 70 batches is 0.17\n",
            "Loss value after 80 batches is 0.16\n",
            "Loss value after 90 batches is 0.16\n",
            "Loss value after 100 batches is 0.16\n",
            "Loss value after 110 batches is 0.16\n",
            "Loss value after 120 batches is 0.16\n",
            "epoch 2 done in 103.24s\n",
            "mAP after epoch 2 is 0.973:\n",
            "epoch 4/5..\n",
            "Loss value after 10 batches is 0.12\n",
            "Loss value after 20 batches is 0.12\n",
            "Loss value after 30 batches is 0.14\n",
            "Loss value after 40 batches is 0.14\n",
            "Loss value after 50 batches is 0.13\n",
            "Loss value after 60 batches is 0.14\n",
            "Loss value after 70 batches is 0.14\n",
            "Loss value after 80 batches is 0.14\n",
            "Loss value after 90 batches is 0.14\n",
            "Loss value after 100 batches is 0.14\n",
            "Loss value after 110 batches is 0.14\n",
            "Loss value after 120 batches is 0.14\n",
            "epoch 3 done in 101.35s\n",
            "mAP after epoch 3 is 0.974:\n",
            "epoch 5/5..\n",
            "Loss value after 10 batches is 0.11\n",
            "Loss value after 20 batches is 0.13\n",
            "Loss value after 30 batches is 0.11\n",
            "Loss value after 40 batches is 0.1\n",
            "Loss value after 50 batches is 0.11\n",
            "Loss value after 60 batches is 0.12\n",
            "Loss value after 70 batches is 0.11\n",
            "Loss value after 80 batches is 0.11\n",
            "Loss value after 90 batches is 0.12\n",
            "Loss value after 100 batches is 0.11\n",
            "Loss value after 110 batches is 0.12\n",
            "Loss value after 120 batches is 0.12\n",
            "epoch 4 done in 101.53s\n",
            "mAP after epoch 4 is 0.985:\n"
          ],
          "name": "stdout"
        }
      ]
    },
    {
      "cell_type": "markdown",
      "metadata": {
        "id": "JqM9IErRJ9lp"
      },
      "source": [
        "__Выведите итоговое качество модели__."
      ]
    },
    {
      "cell_type": "code",
      "metadata": {
        "id": "s0Zc-bBIJ9lq",
        "colab": {
          "base_uri": "https://localhost:8080/"
        },
        "outputId": "5b7670d2-9ceb-42b9-c1cd-09045ff0091c"
      },
      "source": [
        "metric = evaluate(model, val_dataloader, device)\n",
        "print(\"Оценка за это задание составит {} баллов\".format(min(4, 4 * metric / 0.91)))\n",
        "metric"
      ],
      "execution_count": null,
      "outputs": [
        {
          "output_type": "stream",
          "text": [
            "/usr/local/lib/python3.6/dist-packages/ipykernel_launcher.py:41: UserWarning: To copy construct from a tensor, it is recommended to use sourceTensor.clone().detach() or sourceTensor.clone().detach().requires_grad_(True), rather than torch.tensor(sourceTensor).\n",
            "/usr/local/lib/python3.6/dist-packages/ipykernel_launcher.py:42: UserWarning: To copy construct from a tensor, it is recommended to use sourceTensor.clone().detach() or sourceTensor.clone().detach().requires_grad_(True), rather than torch.tensor(sourceTensor).\n"
          ],
          "name": "stderr"
        },
        {
          "output_type": "stream",
          "text": [
            "Оценка за это задание составит 4 баллов\n"
          ],
          "name": "stdout"
        },
        {
          "output_type": "execute_result",
          "data": {
            "text/plain": [
              "0.9850595449290869"
            ]
          },
          "metadata": {
            "tags": []
          },
          "execution_count": 26
        }
      ]
    },
    {
      "cell_type": "markdown",
      "metadata": {
        "id": "3ouYGNgHJ9lq"
      },
      "source": [
        "Нарисуйте предсказанные bounding box'ы для любых двух картинок из __тестового__ датасета."
      ]
    },
    {
      "cell_type": "code",
      "metadata": {
        "id": "oSDQx32cJ9lq",
        "colab": {
          "base_uri": "https://localhost:8080/"
        },
        "outputId": "3eebdcf0-60b8-464f-8f7d-6ed3ab9aa419"
      },
      "source": [
        "image, labels = next(iter(train_dataset))\n",
        "pred = model(image.unsqueeze(0).to(device))[0]"
      ],
      "execution_count": null,
      "outputs": [
        {
          "output_type": "stream",
          "text": [
            "/usr/local/lib/python3.6/dist-packages/ipykernel_launcher.py:41: UserWarning: To copy construct from a tensor, it is recommended to use sourceTensor.clone().detach() or sourceTensor.clone().detach().requires_grad_(True), rather than torch.tensor(sourceTensor).\n",
            "/usr/local/lib/python3.6/dist-packages/ipykernel_launcher.py:42: UserWarning: To copy construct from a tensor, it is recommended to use sourceTensor.clone().detach() or sourceTensor.clone().detach().requires_grad_(True), rather than torch.tensor(sourceTensor).\n"
          ],
          "name": "stderr"
        }
      ]
    },
    {
      "cell_type": "code",
      "metadata": {
        "id": "9L82MwsEJ9lq",
        "colab": {
          "base_uri": "https://localhost:8080/",
          "height": 188
        },
        "outputId": "250ed2df-2fcc-464e-b7ff-06e7ec823e00"
      },
      "source": [
        "from PIL import ImageDraw\n",
        "\n",
        "image = torchvision.transforms.ToPILImage()(image)\n",
        "draw = ImageDraw.Draw(image)\n",
        "for box in labels['boxes']:\n",
        "    draw.rectangle([(box[0], box[1]), (box[2], box[3])], utline='green')\n",
        "    \n",
        "for box in pred['boxes']:\n",
        "    draw.rectangle([(box[0], box[1]), (box[2], box[3])], outline='red')\n",
        "image"
      ],
      "execution_count": null,
      "outputs": [
        {
          "output_type": "execute_result",
          "data": {
            "image/png": "[encoded data removed]",
            "text/plain": [
              "<PIL.Image.Image image mode=RGB size=166x171 at 0x7F0571E766D8>"
            ]
          },
          "metadata": {
            "tags": []
          },
          "execution_count": 29
        }
      ]
    },
    {
      "cell_type": "markdown",
      "metadata": {
        "id": "nP4y-zyOJ9lq"
      },
      "source": [
        "## Бонус (10 баллов).\n",
        "\n",
        "__Задание__. В части с классификацией добейтесь accuracy не менее 0.52. Напишите отчёт о проделанных экспериментах.\n",
        "\n",
        "__Критерии оценки__. Оценка за бонусную часть равна 10, если вы преодолели качество 0.52 и 0 в противном случае.\n",
        "\n",
        "__Иных оценок кроме 0 и 10 не предусмотрено__."
      ]
    },
    {
      "cell_type": "code",
      "metadata": {
        "id": "Gl5b8C1NJ9lq"
      },
      "source": [
        "# YOUR CODE"
      ],
      "execution_count": null,
      "outputs": []
    },
    {
      "cell_type": "markdown",
      "metadata": {
        "id": "-Eu0UjF5J9lq"
      },
      "source": [
        "## Бонус (0 баллов).\n",
        "\n",
        "__Задание 1__. Скиньте ниже смешную картинку, желательно про машинное обучение. На картинке не должно быть никаких упоминаний лектора, семинаристов и ассистентов этого курса.\n",
        "\n",
        "__Задание 2__. Расскажите, как вам задание? Что понравилось, что не понравилось, что можно улучшить? Мы примем во внимание любой фидбек."
      ]
    },
    {
      "cell_type": "markdown",
      "metadata": {
        "id": "L7wnPEKYupvA"
      },
      "source": [
        "Фидбэк\n",
        "1. Местами втречаюся явные ошибки в коде: неправильно написанные функции, ошибочные указания. Это в достаточной степени осложняет работу, так как приходится фокусироваться не на задании, а на испралении существующих данных формул"
      ]
    },
    {
      "cell_type": "code",
      "execution_count": 2,
      "metadata": {},
      "outputs": [],
      "source": [
        "import numpy as np "
      ]
    },
    {
      "cell_type": "code",
      "execution_count": 4,
      "metadata": {},
      "outputs": [
        {
          "output_type": "execute_result",
          "data": {
            "text/plain": [
              "[206,\n",
              " 205,\n",
              " 792,\n",
              " 622,\n",
              " 419,\n",
              " 919,\n",
              " 679,\n",
              " 742,\n",
              " 971,\n",
              " 760,\n",
              " 588,\n",
              " 73,\n",
              " 223,\n",
              " 888,\n",
              " 210,\n",
              " 995,\n",
              " 191,\n",
              " 884,\n",
              " 17,\n",
              " 285]"
            ]
          },
          "metadata": {},
          "execution_count": 4
        }
      ],
      "source": [
        "list(map(int, np.random.uniform(0,1000, 20)))"
      ]
    },
    {
      "cell_type": "code",
      "execution_count": null,
      "metadata": {},
      "outputs": [],
      "source": [
        "xx = np.array([[0.36, -0.03], [-0.03, 0.09]])\n",
        "s_2 = 25"
      ]
    },
    {
      "cell_type": "code",
      "execution_count": null,
      "metadata": {},
      "outputs": [],
      "source": [
        "2 + 2 * np.sqrt()"
      ]
    }
  ]
}