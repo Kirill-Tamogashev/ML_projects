{
 "cells": [
  {
   "cell_type": "markdown",
   "execution_count": null,
   "metadata": {},
   "outputs": [],
   "source": [
    "## Введение в анализ данных, ИАД-4\n",
    "\n",
    "## НИУ ВШЭ, 2019-20 учебный год"
   ]
  },
  {
   "cell_type": "markdown",
   "execution_count": null,
   "metadata": {},
   "outputs": [],
   "source": [
    "### Домашнее задание №1"
   ]
  },
  {
   "cell_type": "code",
   "execution_count": null,
   "metadata": {},
   "outputs": [],
   "source": [
    "Задание выполнил(а): _Тамогашев Кирилл_"
   ]
  },
  {
   "cell_type": "markdown",
   "execution_count": null,
   "metadata": {},
   "outputs": [],
   "source": [
    "Задание выполнил(а): _(впишите свои фамилию и имя)_"
   ]
  },
  {
   "cell_type": "markdown",
   "execution_count": null,
   "metadata": {},
   "outputs": [],
   "source": [
    "### Общая информация"
   ]
  },
  {
   "cell_type": "markdown",
   "execution_count": null,
   "metadata": {},
   "outputs": [],
   "source": [
    "__Дата выдачи:__ 08.02.2020\n",
    "\n",
    "__Дедлайн:__ 18.02.2020 23:59"
   ]
  },
  {
   "cell_type": "markdown",
   "execution_count": null,
   "metadata": {},
   "outputs": [],
   "source": [
    "### О задании"
   ]
  },
  {
   "cell_type": "markdown",
   "execution_count": null,
   "metadata": {},
   "outputs": [],
   "source": [
    "В этом домашнем задании вы попрактикуетесь в работе с библиотеками numpy, pandas и matplotlib."
   ]
  },
  {
   "cell_type": "markdown",
   "execution_count": null,
   "metadata": {},
   "outputs": [],
   "source": [
    "### Оценивание и штрафы\n",
    "\n",
    "Каждая задача оценивается в 1 балл, за бонусную часть можно получить 1 балл.\n",
    "\n",
    "Оценка за ДЗ вычисляется по следующей формуле:\n",
    "\n",
    "$$\n",
    "\\left(\\min(9, s_{\\text{numpy}}) + \\min(12, s_{\\text{pandas}}) + \\min(2, s_{\\text{matplotlib}})\\right) \\times 10 / 23,\n",
    "$$\n",
    "\n",
    "где $s_{\\text{numpy}}$ и $s_{\\text{pandas}}$ — количество баллов, которое вы набрали за соответствующую часть. Задач больше, чем необходимо сделать для получения полного балла за ДЗ — вы можете сделать те, которые вам больше нравятся, или сделать все, чтобы дополнительно потренироваться. За каждую задачу сверх обязательных (9 в первой части, 12 во второй и 2 в третьей) дается 0.5 бонусных балла. Таким образом, за это домашнее задание можно получить 2 бонусных балла.\n",
    "\n",
    "За сдачу задания позже срока на итоговую оценку за задание накладывается штраф в размере 1 балл в день, но получить отрицательную оценку нельзя."
   ]
  },
  {
   "cell_type": "markdown",
   "execution_count": null,
   "metadata": {},
   "outputs": [],
   "source": [
    "__Внимание!__ Домашнее задание выполняется самостоятельно. «Похожие» решения считаются плагиатом и все задействованные студенты (в том числе те, у кого списали) не могут получить за него больше 0 баллов."
   ]
  },
  {
   "cell_type": "markdown",
   "execution_count": null,
   "metadata": {},
   "outputs": [],
   "source": [
    "### Формат сдачи"
   ]
  },
  {
   "cell_type": "markdown",
   "execution_count": null,
   "metadata": {},
   "outputs": [],
   "source": [
    "Загрузка файлов с решениями происходит в системе [Anytask](https://anytask.org/)."
   ]
  },
  {
   "cell_type": "markdown",
   "execution_count": null,
   "metadata": {},
   "outputs": [],
   "source": [
    "## Часть 1. Numpy"
   ]
  },
  {
   "cell_type": "code",
   "execution_count": null,
   "metadata": {},
   "outputs": [],
   "source": [
    "import numpy as np"
   ]
  },
  {
   "cell_type": "markdown",
   "execution_count": null,
   "metadata": {},
   "outputs": [],
   "source": [
    "Во всех задачах необходимо написать код решения внутри функции и проверить его работу, вызвав функцию для данных из условия.\n",
    "\n",
    "При решении задач запрещается использовать циклы (`for`, `while`) и оператор `if`.\n",
    "\n",
    "Везде, где встречаются массивы или матрицы, подразумевается, что это `numpy.array`. "
   ]
  },
  {
   "cell_type": "markdown",
   "execution_count": null,
   "metadata": {},
   "outputs": [],
   "source": [
    "### 1"
   ]
  },
  {
   "cell_type": "markdown",
   "execution_count": null,
   "metadata": {},
   "outputs": [],
   "source": [
    "Напишите функцию, возвращающую округленную взвешенную сумму оценок по данным оценкам и весам. Можете посчитать свою оценку за курс :) В нашем случае вес экзамена равен 0.3, вес домашек - 0.4, вес контрольной - 0.2, вес самостоятельных - 0.1. Например, если за экзамен у вас 7, за домашки 10, за контрольную 8, а за самостоятельные 6, то вы получите отличную оценку 8!"
   ]
  },
  {
   "cell_type": "code",
   "execution_count": null,
   "metadata": {},
   "outputs": [],
   "source": [
    "def result_mark(weights: np.array, marks: np.array) -> int:\n",
    "    return int(weights @ marks + 0.5)# your code here"
   ]
  },
  {
   "cell_type": "code",
   "execution_count": null,
   "metadata": {},
   "outputs": [],
   "source": [
    "weights = np.array([0.3, 0.4, 0.2, 0.1])\n",
    "marks = np.array([7, 10, 8, 6])\n",
    "\n",
    "assert result_mark(weights, marks) == 8"
   ]
  },
  {
   "cell_type": "code",
   "execution_count": null,
   "metadata": {},
   "outputs": [],
   "source": [
    "weights = np.array([0.3, 0.4, 0.2, 0.1])\n",
    "marks = np.array([7, 0, 8, 6])\n",
    "\n",
    "assert result_mark(weights, marks) == 4"
   ]
  },
  {
   "cell_type": "markdown",
   "execution_count": null,
   "metadata": {},
   "outputs": [],
   "source": [
    "### 2"
   ]
  },
  {
   "cell_type": "markdown",
   "execution_count": null,
   "metadata": {},
   "outputs": [],
   "source": [
    "Напишите функцию, меняющую каждое третье (начиная с 0) значение массива целых чисел на заданное число. Например, если на вход поступает массив `array([3, 5, 1, 0, -3, 22, 213436])` и число `-111`, то на выходе должен получиться массив `array([-111, 5, 1, -111, -3, 22, -111])`."
   ]
  },
  {
   "cell_type": "code",
   "execution_count": null,
   "metadata": {},
   "outputs": [],
   "source": [
    "def change_array(array: np.array, number: int) -> np.array:\n",
    "    array[::3] = number\n",
    "    return array # your code here"
   ]
  },
  {
   "cell_type": "code",
   "execution_count": null,
   "metadata": {},
   "outputs": [],
   "source": [
    "array = np.array([3, 5, 1, 0, -3, 22, 213436])\n",
    "number = -111\n",
    "\n",
    "assert np.allclose(change_array(array, number), np.array([-111, 5, 1, -111, -3, 22, -111]))"
   ]
  },
  {
   "cell_type": "code",
   "execution_count": null,
   "metadata": {},
   "outputs": [],
   "source": [
    "array = np.array([3, 14, 15, 92, 6])\n",
    "number = 8\n",
    "\n",
    "assert np.allclose(change_array(array, number), np.array([8, 14, 15, 8, 6]))"
   ]
  },
  {
   "cell_type": "markdown",
   "execution_count": null,
   "metadata": {},
   "outputs": [],
   "source": [
    "### 3"
   ]
  },
  {
   "cell_type": "markdown",
   "execution_count": null,
   "metadata": {},
   "outputs": [],
   "source": [
    "Напишите функцию, выдающую индексы «близких» элементов заданных массивов, а именно тех пар элементов, чей модуль разницы не превосходит заданного значения. Например, если на вход поступают массив `array([1.5, 0.5, 2, -4.1, -3, 6, -1])`, массив `array([1.2, 0.5, 1, -4, 3, 0, -1.2])` и число `0.5`, то на выходе должен получиться массив `array([0, 1, 3, 6])` (**важно: не `tuple`, а одномерный массив типа `numpy.ndarray` (то есть `.ndim` от него равно 1)!**)."
   ]
  },
  {
   "cell_type": "code",
   "execution_count": null,
   "metadata": {},
   "outputs": [],
   "source": [
    "def find_close(array1: np.array, array2: np.array,\n",
    "               precision: float) -> np.array:\n",
    "    return np.where(precision >= abs(array1 - array2))[0]# your code here"
   ]
  },
  {
   "cell_type": "code",
   "execution_count": null,
   "metadata": {},
   "outputs": [],
   "source": [
    "array1 = np.array([1.5, 0.5, 2, -4.1, -3, 6, -1])\n",
    "array2 = np.array([1.2, 0.5, 1, -4.0,  3, 0, -1.2])\n",
    "precision = 0.5\n",
    "res = find_close(array1, array2, precision)\n",
    "\n",
    "assert res.ndim == 1\n",
    "assert np.allclose(res, np.array([0, 1, 3, 6]))"
   ]
  },
  {
   "cell_type": "code",
   "execution_count": null,
   "metadata": {},
   "outputs": [],
   "source": [
    "array1 = np.array([3.1415, 2.7182, 1.6180, 6.6261])\n",
    "array2 = np.array([6.6730, 1.3807, -1,     6.0222])\n",
    "precision = 1.7\n",
    "res = find_close(array1, array2, precision)\n",
    "\n",
    "assert res.ndim == 1\n",
    "assert np.allclose(res, np.array([1, 3]))"
   ]
  },
  {
   "cell_type": "markdown",
   "execution_count": null,
   "metadata": {},
   "outputs": [],
   "source": [
    "### 4"
   ]
  },
  {
   "cell_type": "markdown",
   "execution_count": null,
   "metadata": {},
   "outputs": [],
   "source": [
    "Напишите функцию, которая составляет блочную матрицу из четырех блоков, где каждый блок - это заданная матрица. Например, если на вход поступает матрица\n",
    "$$\n",
    "\\begin{pmatrix}\n",
    "0 & 1 & 2\\\\\n",
    "3 & 4 & 5\\\\\n",
    "\\end{pmatrix},\n",
    "$$\n",
    "то ответом будет матрица\n",
    "$$\n",
    "\\begin{pmatrix}\n",
    "0 & 1 & 2 & 0 & 1 & 2\\\\\n",
    "3 & 4 & 5 & 3 & 4 & 5\\\\\n",
    "0 & 1 & 2 & 0 & 1 & 2\\\\\n",
    "3 & 4 & 5 & 3 & 4 & 5\\\\\n",
    "\\end{pmatrix}\n",
    "$$"
   ]
  },
  {
   "cell_type": "code",
   "execution_count": null,
   "metadata": {},
   "outputs": [],
   "source": [
    "def block_matrix(block: np.array) -> np.array:\n",
    "    return np.vstack((np.hstack((block, block)), np.hstack((block, block))))# your code here"
   ]
  },
  {
   "cell_type": "code",
   "execution_count": null,
   "metadata": {},
   "outputs": [],
   "source": [
    "block = np.array([[1, 3, 3], [7, 0, 0]])\n",
    "\n",
    "assert np.allclose(\n",
    "    block_matrix(block),\n",
    "    np.array([[1, 3, 3, 1, 3, 3],\n",
    "              [7, 0, 0, 7, 0, 0],\n",
    "              [1, 3, 3, 1, 3, 3],\n",
    "              [7, 0, 0, 7, 0, 0]])\n",
    ")"
   ]
  },
  {
   "cell_type": "markdown",
   "execution_count": null,
   "metadata": {},
   "outputs": [],
   "source": [
    "### 5"
   ]
  },
  {
   "cell_type": "markdown",
   "execution_count": null,
   "metadata": {},
   "outputs": [],
   "source": [
    "Напишите функцию, вычисляющую произведение всех ненулевых диагональных элементов на диагонали данной квадратной матрицы. Например, если на вход поступает матрица\n",
    "$$\n",
    "\\begin{pmatrix}\n",
    "0 & 1 & 2\\\\\n",
    "3 & 4 & 5\\\\\n",
    "6 & 7 & 8\\\\\n",
    "\\end{pmatrix},\n",
    "$$\n",
    "то ответом будет 32.\n",
    "\n",
    "Элементы матрицы считать целочисленными."
   ]
  },
  {
   "cell_type": "code",
   "execution_count": null,
   "metadata": {},
   "outputs": [],
   "source": [
    "def diag_prod(matrix: np.array) -> int:\n",
    "    return matrix.diagonal()[matrix.diagonal() != 0].prod()# your code here"
   ]
  },
  {
   "cell_type": "code",
   "execution_count": null,
   "metadata": {},
   "outputs": [],
   "source": [
    "matrix = np.array([[0, 1, 2, 3],\n",
    "                   [4, 5, 6, 7],\n",
    "                   [8, 9, 10, 11],\n",
    "                   [12, 13, 14, 15]])\n",
    "\n",
    "assert diag_prod(matrix) == 750"
   ]
  },
  {
   "cell_type": "markdown",
   "execution_count": null,
   "metadata": {},
   "outputs": [],
   "source": [
    "### 6"
   ]
  },
  {
   "cell_type": "markdown",
   "execution_count": null,
   "metadata": {},
   "outputs": [],
   "source": [
    "Для улучшения качества работы некоторых алгоритмов машинного обучения может быть полезно использовать [нормализацию данных](https://vk.cc/8xmfQk), чтобы привести признаки в выборке к одному масштабу — а именно, из каждого столбца вычесть среднее его значений и поделить на их стандартное отклонение. Напишите функцию, нормализующую входящую матрицу (по столбцам). Например, если на вход подается матрица \n",
    "$$\n",
    "\\begin{pmatrix}\n",
    "1 & 4 & 4200\\\\\n",
    "0 & 10 & 5000\\\\\n",
    "1 & 2 & 1000\\\\\n",
    "\\end{pmatrix},\n",
    "$$\n",
    "то результатом с точностью до сотых будет матрица\n",
    "$$\n",
    "\\begin{pmatrix}\n",
    "0.71 & -0.39 & 0.46\\\\\n",
    "-1.41 & 1.37 & 0.93\\\\\n",
    "0.71 & -0.98 & -1.39\\\\\n",
    "\\end{pmatrix}\n",
    "$$\n",
    "\n",
    "Учтите, что в вашем матрице не должно получаться никаких nan. Подумайте, в каком случае они могут возникнуть и как обойти эту проблему.\n",
    "\n",
    "_Подсказка. Казалось бы, при чем тут деление на ноль._"
   ]
  },
  {
   "cell_type": "code",
   "execution_count": null,
   "metadata": {},
   "outputs": [],
   "source": [
    "def normalize(matrix: np.array) -> np.array:\n",
    "    return (matrix - matrix.mean(axis=0)) / np.std(matrix, axis=0)# your code here"
   ]
  },
  {
   "cell_type": "code",
   "execution_count": null,
   "metadata": {},
   "outputs": [],
   "source": [
    "matrix = np.array([[1, 4, 4200], [0, 10, 5000], [1, 2, 1000]])\n",
    "\n",
    "assert np.allclose(\n",
    "    normalize(matrix),\n",
    "    np.array([[ 0.7071, -0.39223,  0.46291],\n",
    "              [-1.4142,  1.37281,  0.92582],\n",
    "              [ 0.7071, -0.98058, -1.38873]])\n",
    ")"
   ]
  },
  {
   "cell_type": "code",
   "execution_count": null,
   "metadata": {},
   "outputs": [],
   "source": [
    "matrix = np.array([[-7, 2, 42], [2, 10, 50], [5, 4, 10]])\n",
    "\n",
    "assert np.allclose(\n",
    "    normalize(matrix),\n",
    "    np.array([[-1.37281, -0.98058,  0.46291],\n",
    "              [ 0.39223,  1.37281,  0.92582],\n",
    "              [ 0.98058, -0.39223, -1.38873]])\n",
    ")"
   ]
  },
  {
   "cell_type": "markdown",
   "execution_count": null,
   "metadata": {},
   "outputs": [],
   "source": [
    "### 7"
   ]
  },
  {
   "cell_type": "markdown",
   "execution_count": null,
   "metadata": {},
   "outputs": [],
   "source": [
    "Напишите функцию, вычисляющую какую-нибудь первообразную данного полинома (в качестве константы возьмите $0$). Например, если на вход поступает массив коэффициентов `array([4, 6, 0, 1])`, что соответствует полиному $4x^3 + 6x^2 + 1$, на выходе получается массив коэффициентов `array([1, 2, 0, 1, -2])`, соответствующий полиному $x^4 + 2x^3 + x - 2$."
   ]
  },
  {
   "cell_type": "code",
   "execution_count": null,
   "metadata": {},
   "outputs": [],
   "source": [
    "def antiderivative(coefs: np.array) -> np.array:\n",
    "    antidic_coefs = np.arange(coefs.shape[0], 0, -1)\n",
    "    return np.append(coefs / antidic_coefs, 0)# your code here"
   ]
  },
  {
   "cell_type": "code",
   "execution_count": null,
   "metadata": {},
   "outputs": [],
   "source": [
    "coefs = np.array([4, 6, 0, 1])\n",
    "\n",
    "assert np.allclose(\n",
    "    antiderivative(coefs),\n",
    "    np.array([1., 2., 0., 1., 0.])\n",
    ")"
   ]
  },
  {
   "cell_type": "code",
   "execution_count": null,
   "metadata": {},
   "outputs": [],
   "source": [
    "coefs = np.array([1, 7, -12, 21, -6])\n",
    "\n",
    "assert np.allclose(\n",
    "    antiderivative(coefs),\n",
    "    np.array([ 0.2, 1.75, -4., 10.5, -6., 0.])\n",
    ")"
   ]
  },
  {
   "cell_type": "markdown",
   "execution_count": null,
   "metadata": {},
   "outputs": [],
   "source": [
    "### 8"
   ]
  },
  {
   "cell_type": "markdown",
   "execution_count": null,
   "metadata": {},
   "outputs": [],
   "source": [
    "Напишите функцию, делающую данную [треугольную матрицу](https://ru.wikipedia.org/wiki/%D0%A2%D1%80%D0%B5%D1%83%D0%B3%D0%BE%D0%BB%D1%8C%D0%BD%D0%B0%D1%8F_%D0%BC%D0%B0%D1%82%D1%80%D0%B8%D1%86%D0%B0) симметричной. Например, если на вход поступает матрица\n",
    "$$\n",
    "\\begin{pmatrix}\n",
    "1 & 2 & 3 & 4\\\\\n",
    "0 & 5 & 6 & 7\\\\\n",
    "0 & 0 & 8 & 9\\\\\n",
    "0 & 0 & 0 & 10\\\\\n",
    "\\end{pmatrix},\n",
    "$$\n",
    "то на выходе должна быть матрица\n",
    "$$\n",
    "\\begin{pmatrix}\n",
    "1 & 2 & 3 & 4\\\\\n",
    "2 & 5 & 6 & 7\\\\\n",
    "3 & 6 & 8 & 9\\\\\n",
    "4 & 7 & 9 & 10\\\\\n",
    "\\end{pmatrix}.\n",
    "$$"
   ]
  },
  {
   "cell_type": "code",
   "execution_count": null,
   "metadata": {},
   "outputs": [],
   "source": [
    "def make_symmetric(matrix: np.array) -> np.array:\n",
    "    return matrix + matrix.T - np.diag(matrix.diagonal())# your code here"
   ]
  },
  {
   "cell_type": "code",
   "execution_count": null,
   "metadata": {},
   "outputs": [],
   "source": [
    "matrix = np.array([[1, 2, 3, 4], [0, 5, 6, 7], [0, 0, 8, 9], [0, 0, 0, 10]])\n",
    "\n",
    "assert np.allclose(\n",
    "    make_symmetric(matrix),\n",
    "    np.array([[ 1,  2,  3,  4],\n",
    "              [ 2,  5,  6,  7],\n",
    "              [ 3,  6,  8,  9],\n",
    "              [ 4,  7,  9, 10]])\n",
    ")"
   ]
  },
  {
   "cell_type": "code",
   "execution_count": null,
   "metadata": {},
   "outputs": [],
   "source": [
    "matrix = np.array([[10, 21, 32, 49], [0, 53, 62, 78], [0, 0, 82, 92], [0, 0, 0, 10]])\n",
    "\n",
    "assert np.allclose(\n",
    "    make_symmetric(matrix),\n",
    "    np.array([[10, 21, 32, 49],\n",
    "              [21, 53, 62, 78],\n",
    "              [32, 62, 82, 92],\n",
    "              [49, 78, 92, 10]])\n",
    ")"
   ]
  },
  {
   "cell_type": "markdown",
   "execution_count": null,
   "metadata": {},
   "outputs": [],
   "source": [
    "### 9"
   ]
  },
  {
   "cell_type": "markdown",
   "execution_count": null,
   "metadata": {},
   "outputs": [],
   "source": [
    "Напишите функцию, создающую прямоугольную матрицу из m одинаковых строк, заполненных последовательными натуральными числами от a до b включительно в возрастающем порядке. Например, если m = 5, a = 3, b = 10, то на выходе будет матрица\n",
    "$$\n",
    "\\begin{pmatrix}\n",
    "3 & 4 & 5 & 6 & 7 & 8 & 9 & 10\\\\\n",
    "3 & 4 & 5 & 6 & 7 & 8 & 9 & 10\\\\\n",
    "3 & 4 & 5 & 6 & 7 & 8 & 9 & 10\\\\\n",
    "3 & 4 & 5 & 6 & 7 & 8 & 9 & 10\\\\\n",
    "3 & 4 & 5 & 6 & 7 & 8 & 9 & 10\\\\\n",
    "\\end{pmatrix}\n",
    "$$"
   ]
  },
  {
   "cell_type": "code",
   "execution_count": null,
   "metadata": {},
   "outputs": [],
   "source": [
    "def construct_matrix(m: int, a: int, b: int) -> np.array:\n",
    "    return np.array([range(a, b + 1)] * m)# your code here"
   ]
  },
  {
   "cell_type": "code",
   "execution_count": null,
   "metadata": {},
   "outputs": [],
   "source": [
    "m = 5\n",
    "a = 3\n",
    "b = 10\n",
    "\n",
    "assert np.allclose(\n",
    "    construct_matrix(m, a, b),\n",
    "    np.array([[ 3,  4,  5,  6,  7,  8,  9, 10],\n",
    "              [ 3,  4,  5,  6,  7,  8,  9, 10],\n",
    "              [ 3,  4,  5,  6,  7,  8,  9, 10],\n",
    "              [ 3,  4,  5,  6,  7,  8,  9, 10],\n",
    "              [ 3,  4,  5,  6,  7,  8,  9, 10]])\n",
    ")"
   ]
  },
  {
   "cell_type": "code",
   "execution_count": null,
   "metadata": {},
   "outputs": [],
   "source": [
    "m = 3\n",
    "a = 2\n",
    "b = 6\n",
    "\n",
    "assert np.allclose(\n",
    "    construct_matrix(m, a, b),\n",
    "    np.array([[2, 3, 4, 5, 6],\n",
    "              [2, 3, 4, 5, 6],\n",
    "              [2, 3, 4, 5, 6]])\n",
    ")"
   ]
  },
  {
   "cell_type": "markdown",
   "execution_count": null,
   "metadata": {},
   "outputs": [],
   "source": [
    "### 10"
   ]
  },
  {
   "cell_type": "markdown",
   "execution_count": null,
   "metadata": {},
   "outputs": [],
   "source": [
    "Напишите функцию, вычисляющую [косинусную близость](https://en.wikipedia.org/wiki/Cosine_similarity) двух векторов. Например, если на вход поступают вектора `array([-2, 1, 0, -5, 4, 3, -3])` и `array([0, 2, -2, 10, 6, 0, 0])`, ответом будет -0.25."
   ]
  },
  {
   "cell_type": "code",
   "execution_count": null,
   "metadata": {},
   "outputs": [],
   "source": [
    "def cosine_similarity(vec1: np.array, vec2: np.array) -> float:\n",
    "    return sum(vec1 * vec2) / (np.linalg.norm(vec2) * np.linalg.norm(vec1))# your code here"
   ]
  },
  {
   "cell_type": "code",
   "execution_count": null,
   "metadata": {},
   "outputs": [],
   "source": [
    "vec1 = np.array([-2, 1,  0, -5, 4, 3, -3])\n",
    "vec2 = np.array([ 0, 2, -2, 10, 6, 0,  0])\n",
    "\n",
    "assert np.allclose(cosine_similarity(vec1, vec2), -0.25)"
   ]
  },
  {
   "cell_type": "code",
   "execution_count": null,
   "metadata": {},
   "outputs": [],
   "source": [
    "vec1 = np.array([-4, 2,  9, -8, 9, 0, -2])\n",
    "vec2 = np.array([ 3, 2, -4, -1, 3, 2,  2])\n",
    "\n",
    "assert np.allclose(cosine_similarity(vec1, vec2), -0.119929)"
   ]
  },
  {
   "cell_type": "markdown",
   "execution_count": null,
   "metadata": {},
   "outputs": [],
   "source": [
    "## Часть 2. Pandas и Matplotlib"
   ]
  },
  {
   "cell_type": "code",
   "execution_count": 3,
   "metadata": {},
   "outputs": [],
   "source": [
    "import matplotlib.pyplot as plt\n",
    "import pandas as pd\n",
    "\n",
    "%matplotlib inline"
   ]
  },
  {
   "cell_type": "markdown",
   "execution_count": null,
   "metadata": {},
   "outputs": [],
   "source": [
    "В этой части домашнего задания вы поработаете с данными о пассажирах с затонувшего «Титаника». Описание данных:\n",
    "\n",
    "https://www.kaggle.com/c/titanic/data\n",
    "\n",
    "Каждый построенный график необходимо красиво оформить - для этого требуется как минимум указать его название, а также отметить, что изображено по каждой из осей.\n",
    "\n",
    "*Функции, которые могут пригодиться при оформлении графиков: `.show()`, `.title()`, `.xlabel()`, `.ylabel()`*"
   ]
  },
  {
   "cell_type": "markdown",
   "execution_count": null,
   "metadata": {},
   "outputs": [],
   "source": [
    "### 11"
   ]
  },
  {
   "cell_type": "markdown",
   "execution_count": null,
   "metadata": {},
   "outputs": [],
   "source": [
    "Откройте в ноутбуке файл с данными (\"train.csv\"). Какой размер имеет таблица? Выведите первые 5 и последние 5 строк."
   ]
  },
  {
   "cell_type": "code",
   "execution_count": 4,
   "metadata": {},
   "outputs": [],
   "source": [
    "pass_data = pd.read_csv('train.csv')# your code here"
   ]
  },
  {
   "cell_type": "markdown",
   "execution_count": null,
   "metadata": {},
   "outputs": [],
   "source": [
    "### 12"
   ]
  },
  {
   "cell_type": "markdown",
   "execution_count": null,
   "metadata": {},
   "outputs": [],
   "source": [
    "Для каждого из признаков укажите его тип (вещественный, категориальный, порядковый, другое). Придумайте три задачи, которые можно было бы решать для данного датасета — задачу регрессии, задачу классификации и задачу кластеризации."
   ]
  },
  {
   "cell_type": "markdown",
   "execution_count": null,
   "metadata": {},
   "outputs": [],
   "source": [
    "(PassengerId    891 non-null int64 целое число \n",
    "Survived       891 non-null int64 целое число\n",
    "Pclass         891 non-null int64 целое число\n",
    "Name           891 non-null object категор\n",
    "Sex            891 non-null object  категор\n",
    "Age            714 non-null float64 веществ\n",
    "SibSp          891 non-null int64 целое число\n",
    "Parch          891 non-null int64 целое число\n",
    "Ticket         891 non-null object категор\n",
    "Fare           891 non-null float64 веществ\n",
    "Cabin          204 non-null object категор\n",
    "Embarked       889 non-null object)категор\n",
    "\n",
    "1) регрессия: зависимость дороговизны каюты от возраста\n",
    "2) классификация: классифицировать пассажиров по уровню достатка \n",
    "3) кластеризация: сгруппировать на кластеры по возрастам (0 -  20, 20 - 40, - 60, 60   - 80). Рассчитать все возможные параметры "
   ]
  },
  {
   "cell_type": "markdown",
   "execution_count": null,
   "metadata": {},
   "outputs": [],
   "source": [
    "### 13"
   ]
  },
  {
   "cell_type": "markdown",
   "execution_count": null,
   "metadata": {},
   "outputs": [],
   "source": [
    "Какова доля выживших после крушения пассажиров? Какова доля мужчин и женщин среди выживших?"
   ]
  },
  {
   "cell_type": "code",
   "execution_count": null,
   "metadata": {},
   "outputs": [],
   "source": [
    "alive = pass_data[(pass_data.Survived == 1)].shape[0] / pass_data.shape[0] # 0.38\n",
    "women_alive = pass_data[(pass_data.Survived == 1) & \n",
    "                       (pass_data.Sex == 'female')].shape[0] / pass_data[(pass_data.Survived == 1)].shape[0] # 0.68\n",
    "men_alive = pass_data[(pass_data.Survived == 1) & \n",
    "                       (pass_data.Sex == 'male')].shape[0] / pass_data[(pass_data.Survived == 1)].shape[0] # 0.32"
   ]
  },
  {
   "cell_type": "markdown",
   "execution_count": null,
   "metadata": {},
   "outputs": [],
   "source": [
    "### 14"
   ]
  },
  {
   "cell_type": "markdown",
   "execution_count": null,
   "metadata": {},
   "outputs": [],
   "source": [
    "Сколько пассажиров ехало в каждом классе? Кого было больше в самом многолюдном классе — мужчин или женщин?"
   ]
  },
  {
   "cell_type": "code",
   "execution_count": null,
   "metadata": {},
   "outputs": [],
   "source": [
    "pClass_1 = pass_data[(pass_data.Pclass == 1)].shape[0] # 216\n",
    "pClass_2 = pass_data[(pass_data.Pclass == 2)].shape[0] # 184\n",
    "pClass_3 = pass_data[(pass_data.Pclass == 3)].shape[0] # 491\n",
    "\n",
    "men_3 = pass_data[(pass_data.Pclass == 3) & (pass_data.Sex == 'male')].shape[0] # 347\n",
    "women_3 = pass_data[(pass_data.Pclass == 3) & (pass_data.Sex == 'female')].shape[0] # 144\n",
    "# мужчин больше"
   ]
  },
  {
   "cell_type": "markdown",
   "execution_count": null,
   "metadata": {},
   "outputs": [],
   "source": [
    "### 15"
   ]
  },
  {
   "cell_type": "markdown",
   "execution_count": null,
   "metadata": {},
   "outputs": [],
   "source": [
    "Выведите минимальную, среднюю и максимальную сумму, которую заплатили пассажиры за проезд. Проделайте то же самое только для тех пассажиров, которые сели на корабль в Саутгемптоне. Выведите гистограммы, показывающие распределения стоимостей билетов в зависимости от места посадки."
   ]
  },
  {
   "cell_type": "code",
   "execution_count": 19,
   "metadata": {},
   "outputs": [
    {
     "data": {
      "image/png": "[encoded data removed]",
      "image/svg+xml": "<?xml version=\"1.0\" encoding=\"utf-8\" standalone=\"no\"?>\n<!DOCTYPE svg PUBLIC \"-//W3C//DTD SVG 1.1//EN\"\n  \"http://www.w3.org/Graphics/SVG/1.1/DTD/svg11.dtd\">\n<!-- Created with matplotlib (https://matplotlib.org/) -->\n<svg height=\"351.274375pt\" version=\"1.1\" viewBox=\"0 0 1072.928125 351.274375\" width=\"1072.928125pt\" xmlns=\"http://www.w3.org/2000/svg\" xmlns:xlink=\"http://www.w3.org/1999/xlink\">\n <defs>\n  <style type=\"text/css\">\n*{stroke-linecap:butt;stroke-linejoin:round;}\n  </style>\n </defs>\n <g id=\"figure_1\">\n  <g id=\"patch_1\">\n   <path d=\"M 0 351.274375 \nL 1072.928125 351.274375 \nL 1072.928125 0 \nL 0 0 \nz\n\" style=\"fill:none;\"/>\n  </g>\n  <g id=\"axes_1\">\n   <g id=\"patch_2\">\n    <path d=\"M 42.828125 313.718125 \nL 352.928125 313.718125 \nL 352.928125 22.318125 \nL 42.828125 22.318125 \nz\n\" style=\"fill:#ffffff;\"/>\n   </g>\n   <g id=\"patch_3\">\n    <path clip-path=\"url(#paeb63dd743)\" d=\"M 56.92358 313.718125 \nL 85.114489 313.718125 \nL 85.114489 36.194315 \nL 56.92358 36.194315 \nz\n\" style=\"fill:#1f77b4;\"/>\n   </g>\n   <g id=\"patch_4\">\n    <path clip-path=\"url(#paeb63dd743)\" d=\"M 85.114489 313.718125 \nL 113.305398 313.718125 \nL 113.305398 252.313725 \nL 85.114489 252.313725 \nz\n\" style=\"fill:#1f77b4;\"/>\n   </g>\n   <g id=\"patch_5\">\n    <path clip-path=\"url(#paeb63dd743)\" d=\"M 113.305398 313.718125 \nL 141.496307 313.718125 \nL 141.496307 287.229952 \nL 113.305398 287.229952 \nz\n\" style=\"fill:#1f77b4;\"/>\n   </g>\n   <g id=\"patch_6\">\n    <path clip-path=\"url(#paeb63dd743)\" d=\"M 141.496307 313.718125 \nL 169.687216 313.718125 \nL 169.687216 304.688066 \nL 141.496307 304.688066 \nz\n\" style=\"fill:#1f77b4;\"/>\n   </g>\n   <g id=\"patch_7\">\n    <path clip-path=\"url(#paeb63dd743)\" d=\"M 169.687216 313.718125 \nL 197.878125 313.718125 \nL 197.878125 311.310109 \nL 169.687216 311.310109 \nz\n\" style=\"fill:#1f77b4;\"/>\n   </g>\n   <g id=\"patch_8\">\n    <path clip-path=\"url(#paeb63dd743)\" d=\"M 197.878125 313.718125 \nL 226.069034 313.718125 \nL 226.069034 307.698086 \nL 197.878125 307.698086 \nz\n\" style=\"fill:#1f77b4;\"/>\n   </g>\n   <g id=\"patch_9\">\n    <path clip-path=\"url(#paeb63dd743)\" d=\"M 226.069034 313.718125 \nL 254.259943 313.718125 \nL 254.259943 312.514117 \nL 226.069034 312.514117 \nz\n\" style=\"fill:#1f77b4;\"/>\n   </g>\n   <g id=\"patch_10\">\n    <path clip-path=\"url(#paeb63dd743)\" d=\"M 254.259943 313.718125 \nL 282.450852 313.718125 \nL 282.450852 313.718125 \nL 254.259943 313.718125 \nz\n\" style=\"fill:#1f77b4;\"/>\n   </g>\n   <g id=\"patch_11\">\n    <path clip-path=\"url(#paeb63dd743)\" d=\"M 282.450852 313.718125 \nL 310.641761 313.718125 \nL 310.641761 311.310109 \nL 282.450852 311.310109 \nz\n\" style=\"fill:#1f77b4;\"/>\n   </g>\n   <g id=\"patch_12\">\n    <path clip-path=\"url(#paeb63dd743)\" d=\"M 310.641761 313.718125 \nL 338.83267 313.718125 \nL 338.83267 311.310109 \nL 310.641761 311.310109 \nz\n\" style=\"fill:#1f77b4;\"/>\n   </g>\n   <g id=\"matplotlib.axis_1\">\n    <g id=\"xtick_1\">\n     <g id=\"line2d_1\">\n      <defs>\n       <path d=\"M 0 0 \nL 0 3.5 \n\" id=\"m09cb7a0b0f\" style=\"stroke:#000000;stroke-width:0.8;\"/>\n      </defs>\n      <g>\n       <use style=\"stroke:#000000;stroke-width:0.8;\" x=\"56.92358\" xlink:href=\"#m09cb7a0b0f\" y=\"313.718125\"/>\n      </g>\n     </g>\n     <g id=\"text_1\">\n      <!-- 0 -->\n      <defs>\n       <path d=\"M 31.78125 66.40625 \nQ 24.171875 66.40625 20.328125 58.90625 \nQ 16.5 51.421875 16.5 36.375 \nQ 16.5 21.390625 20.328125 13.890625 \nQ 24.171875 6.390625 31.78125 6.390625 \nQ 39.453125 6.390625 43.28125 13.890625 \nQ 47.125 21.390625 47.125 36.375 \nQ 47.125 51.421875 43.28125 58.90625 \nQ 39.453125 66.40625 31.78125 66.40625 \nz\nM 31.78125 74.21875 \nQ 44.046875 74.21875 50.515625 64.515625 \nQ 56.984375 54.828125 56.984375 36.375 \nQ 56.984375 17.96875 50.515625 8.265625 \nQ 44.046875 -1.421875 31.78125 -1.421875 \nQ 19.53125 -1.421875 13.0625 8.265625 \nQ 6.59375 17.96875 6.59375 36.375 \nQ 6.59375 54.828125 13.0625 64.515625 \nQ 19.53125 74.21875 31.78125 74.21875 \nz\n\" id=\"DejaVuSans-48\"/>\n      </defs>\n      <g transform=\"translate(53.74233 328.316562)scale(0.1 -0.1)\">\n       <use xlink:href=\"#DejaVuSans-48\"/>\n      </g>\n     </g>\n    </g>\n    <g id=\"xtick_2\">\n     <g id=\"line2d_2\">\n      <g>\n       <use style=\"stroke:#000000;stroke-width:0.8;\" x=\"110.518464\" xlink:href=\"#m09cb7a0b0f\" y=\"313.718125\"/>\n      </g>\n     </g>\n     <g id=\"text_2\">\n      <!-- 50 -->\n      <defs>\n       <path d=\"M 10.796875 72.90625 \nL 49.515625 72.90625 \nL 49.515625 64.59375 \nL 19.828125 64.59375 \nL 19.828125 46.734375 \nQ 21.96875 47.46875 24.109375 47.828125 \nQ 26.265625 48.1875 28.421875 48.1875 \nQ 40.625 48.1875 47.75 41.5 \nQ 54.890625 34.8125 54.890625 23.390625 \nQ 54.890625 11.625 47.5625 5.09375 \nQ 40.234375 -1.421875 26.90625 -1.421875 \nQ 22.3125 -1.421875 17.546875 -0.640625 \nQ 12.796875 0.140625 7.71875 1.703125 \nL 7.71875 11.625 \nQ 12.109375 9.234375 16.796875 8.0625 \nQ 21.484375 6.890625 26.703125 6.890625 \nQ 35.15625 6.890625 40.078125 11.328125 \nQ 45.015625 15.765625 45.015625 23.390625 \nQ 45.015625 31 40.078125 35.4375 \nQ 35.15625 39.890625 26.703125 39.890625 \nQ 22.75 39.890625 18.8125 39.015625 \nQ 14.890625 38.140625 10.796875 36.28125 \nz\n\" id=\"DejaVuSans-53\"/>\n      </defs>\n      <g transform=\"translate(104.155964 328.316562)scale(0.1 -0.1)\">\n       <use xlink:href=\"#DejaVuSans-53\"/>\n       <use x=\"63.623047\" xlink:href=\"#DejaVuSans-48\"/>\n      </g>\n     </g>\n    </g>\n    <g id=\"xtick_3\">\n     <g id=\"line2d_3\">\n      <g>\n       <use style=\"stroke:#000000;stroke-width:0.8;\" x=\"164.113348\" xlink:href=\"#m09cb7a0b0f\" y=\"313.718125\"/>\n      </g>\n     </g>\n     <g id=\"text_3\">\n      <!-- 100 -->\n      <defs>\n       <path d=\"M 12.40625 8.296875 \nL 28.515625 8.296875 \nL 28.515625 63.921875 \nL 10.984375 60.40625 \nL 10.984375 69.390625 \nL 28.421875 72.90625 \nL 38.28125 72.90625 \nL 38.28125 8.296875 \nL 54.390625 8.296875 \nL 54.390625 0 \nL 12.40625 0 \nz\n\" id=\"DejaVuSans-49\"/>\n      </defs>\n      <g transform=\"translate(154.569598 328.316562)scale(0.1 -0.1)\">\n       <use xlink:href=\"#DejaVuSans-49\"/>\n       <use x=\"63.623047\" xlink:href=\"#DejaVuSans-48\"/>\n       <use x=\"127.246094\" xlink:href=\"#DejaVuSans-48\"/>\n      </g>\n     </g>\n    </g>\n    <g id=\"xtick_4\">\n     <g id=\"line2d_4\">\n      <g>\n       <use style=\"stroke:#000000;stroke-width:0.8;\" x=\"217.708232\" xlink:href=\"#m09cb7a0b0f\" y=\"313.718125\"/>\n      </g>\n     </g>\n     <g id=\"text_4\">\n      <!-- 150 -->\n      <g transform=\"translate(208.164482 328.316562)scale(0.1 -0.1)\">\n       <use xlink:href=\"#DejaVuSans-49\"/>\n       <use x=\"63.623047\" xlink:href=\"#DejaVuSans-53\"/>\n       <use x=\"127.246094\" xlink:href=\"#DejaVuSans-48\"/>\n      </g>\n     </g>\n    </g>\n    <g id=\"xtick_5\">\n     <g id=\"line2d_5\">\n      <g>\n       <use style=\"stroke:#000000;stroke-width:0.8;\" x=\"271.303116\" xlink:href=\"#m09cb7a0b0f\" y=\"313.718125\"/>\n      </g>\n     </g>\n     <g id=\"text_5\">\n      <!-- 200 -->\n      <defs>\n       <path d=\"M 19.1875 8.296875 \nL 53.609375 8.296875 \nL 53.609375 0 \nL 7.328125 0 \nL 7.328125 8.296875 \nQ 12.9375 14.109375 22.625 23.890625 \nQ 32.328125 33.6875 34.8125 36.53125 \nQ 39.546875 41.84375 41.421875 45.53125 \nQ 43.3125 49.21875 43.3125 52.78125 \nQ 43.3125 58.59375 39.234375 62.25 \nQ 35.15625 65.921875 28.609375 65.921875 \nQ 23.96875 65.921875 18.8125 64.3125 \nQ 13.671875 62.703125 7.8125 59.421875 \nL 7.8125 69.390625 \nQ 13.765625 71.78125 18.9375 73 \nQ 24.125 74.21875 28.421875 74.21875 \nQ 39.75 74.21875 46.484375 68.546875 \nQ 53.21875 62.890625 53.21875 53.421875 \nQ 53.21875 48.921875 51.53125 44.890625 \nQ 49.859375 40.875 45.40625 35.40625 \nQ 44.1875 33.984375 37.640625 27.21875 \nQ 31.109375 20.453125 19.1875 8.296875 \nz\n\" id=\"DejaVuSans-50\"/>\n      </defs>\n      <g transform=\"translate(261.759366 328.316562)scale(0.1 -0.1)\">\n       <use xlink:href=\"#DejaVuSans-50\"/>\n       <use x=\"63.623047\" xlink:href=\"#DejaVuSans-48\"/>\n       <use x=\"127.246094\" xlink:href=\"#DejaVuSans-48\"/>\n      </g>\n     </g>\n    </g>\n    <g id=\"xtick_6\">\n     <g id=\"line2d_6\">\n      <g>\n       <use style=\"stroke:#000000;stroke-width:0.8;\" x=\"324.898001\" xlink:href=\"#m09cb7a0b0f\" y=\"313.718125\"/>\n      </g>\n     </g>\n     <g id=\"text_6\">\n      <!-- 250 -->\n      <g transform=\"translate(315.354251 328.316562)scale(0.1 -0.1)\">\n       <use xlink:href=\"#DejaVuSans-50\"/>\n       <use x=\"63.623047\" xlink:href=\"#DejaVuSans-53\"/>\n       <use x=\"127.246094\" xlink:href=\"#DejaVuSans-48\"/>\n      </g>\n     </g>\n    </g>\n    <g id=\"text_7\">\n     <!-- Fare -->\n     <defs>\n      <path d=\"M 9.8125 72.90625 \nL 51.703125 72.90625 \nL 51.703125 64.59375 \nL 19.671875 64.59375 \nL 19.671875 43.109375 \nL 48.578125 43.109375 \nL 48.578125 34.8125 \nL 19.671875 34.8125 \nL 19.671875 0 \nL 9.8125 0 \nz\n\" id=\"DejaVuSans-70\"/>\n      <path d=\"M 34.28125 27.484375 \nQ 23.390625 27.484375 19.1875 25 \nQ 14.984375 22.515625 14.984375 16.5 \nQ 14.984375 11.71875 18.140625 8.90625 \nQ 21.296875 6.109375 26.703125 6.109375 \nQ 34.1875 6.109375 38.703125 11.40625 \nQ 43.21875 16.703125 43.21875 25.484375 \nL 43.21875 27.484375 \nz\nM 52.203125 31.203125 \nL 52.203125 0 \nL 43.21875 0 \nL 43.21875 8.296875 \nQ 40.140625 3.328125 35.546875 0.953125 \nQ 30.953125 -1.421875 24.3125 -1.421875 \nQ 15.921875 -1.421875 10.953125 3.296875 \nQ 6 8.015625 6 15.921875 \nQ 6 25.140625 12.171875 29.828125 \nQ 18.359375 34.515625 30.609375 34.515625 \nL 43.21875 34.515625 \nL 43.21875 35.40625 \nQ 43.21875 41.609375 39.140625 45 \nQ 35.0625 48.390625 27.6875 48.390625 \nQ 23 48.390625 18.546875 47.265625 \nQ 14.109375 46.140625 10.015625 43.890625 \nL 10.015625 52.203125 \nQ 14.9375 54.109375 19.578125 55.046875 \nQ 24.21875 56 28.609375 56 \nQ 40.484375 56 46.34375 49.84375 \nQ 52.203125 43.703125 52.203125 31.203125 \nz\n\" id=\"DejaVuSans-97\"/>\n      <path d=\"M 41.109375 46.296875 \nQ 39.59375 47.171875 37.8125 47.578125 \nQ 36.03125 48 33.890625 48 \nQ 26.265625 48 22.1875 43.046875 \nQ 18.109375 38.09375 18.109375 28.8125 \nL 18.109375 0 \nL 9.078125 0 \nL 9.078125 54.6875 \nL 18.109375 54.6875 \nL 18.109375 46.1875 \nQ 20.953125 51.171875 25.484375 53.578125 \nQ 30.03125 56 36.53125 56 \nQ 37.453125 56 38.578125 55.875 \nQ 39.703125 55.765625 41.0625 55.515625 \nz\n\" id=\"DejaVuSans-114\"/>\n      <path d=\"M 56.203125 29.59375 \nL 56.203125 25.203125 \nL 14.890625 25.203125 \nQ 15.484375 15.921875 20.484375 11.0625 \nQ 25.484375 6.203125 34.421875 6.203125 \nQ 39.59375 6.203125 44.453125 7.46875 \nQ 49.3125 8.734375 54.109375 11.28125 \nL 54.109375 2.78125 \nQ 49.265625 0.734375 44.1875 -0.34375 \nQ 39.109375 -1.421875 33.890625 -1.421875 \nQ 20.796875 -1.421875 13.15625 6.1875 \nQ 5.515625 13.8125 5.515625 26.8125 \nQ 5.515625 40.234375 12.765625 48.109375 \nQ 20.015625 56 32.328125 56 \nQ 43.359375 56 49.78125 48.890625 \nQ 56.203125 41.796875 56.203125 29.59375 \nz\nM 47.21875 32.234375 \nQ 47.125 39.59375 43.09375 43.984375 \nQ 39.0625 48.390625 32.421875 48.390625 \nQ 24.90625 48.390625 20.390625 44.140625 \nQ 15.875 39.890625 15.1875 32.171875 \nz\n\" id=\"DejaVuSans-101\"/>\n     </defs>\n     <g transform=\"translate(186.814844 341.994687)scale(0.1 -0.1)\">\n      <use xlink:href=\"#DejaVuSans-70\"/>\n      <use x=\"57.378906\" xlink:href=\"#DejaVuSans-97\"/>\n      <use x=\"118.658203\" xlink:href=\"#DejaVuSans-114\"/>\n      <use x=\"159.740234\" xlink:href=\"#DejaVuSans-101\"/>\n     </g>\n    </g>\n   </g>\n   <g id=\"matplotlib.axis_2\">\n    <g id=\"ytick_1\">\n     <g id=\"line2d_7\">\n      <defs>\n       <path d=\"M 0 0 \nL -3.5 0 \n\" id=\"mdacfe6dc4a\" style=\"stroke:#000000;stroke-width:0.8;\"/>\n      </defs>\n      <g>\n       <use style=\"stroke:#000000;stroke-width:0.8;\" x=\"42.828125\" xlink:href=\"#mdacfe6dc4a\" y=\"313.718125\"/>\n      </g>\n     </g>\n     <g id=\"text_8\">\n      <!-- 0.000 -->\n      <defs>\n       <path d=\"M 10.6875 12.40625 \nL 21 12.40625 \nL 21 0 \nL 10.6875 0 \nz\n\" id=\"DejaVuSans-46\"/>\n      </defs>\n      <g transform=\"translate(7.2 317.517344)scale(0.1 -0.1)\">\n       <use xlink:href=\"#DejaVuSans-48\"/>\n       <use x=\"63.623047\" xlink:href=\"#DejaVuSans-46\"/>\n       <use x=\"95.410156\" xlink:href=\"#DejaVuSans-48\"/>\n       <use x=\"159.033203\" xlink:href=\"#DejaVuSans-48\"/>\n       <use x=\"222.65625\" xlink:href=\"#DejaVuSans-48\"/>\n      </g>\n     </g>\n    </g>\n    <g id=\"ytick_2\">\n     <g id=\"line2d_8\">\n      <g>\n       <use style=\"stroke:#000000;stroke-width:0.8;\" x=\"42.828125\" xlink:href=\"#mdacfe6dc4a\" y=\"262.578494\"/>\n      </g>\n     </g>\n     <g id=\"text_9\">\n      <!-- 0.005 -->\n      <g transform=\"translate(7.2 266.377712)scale(0.1 -0.1)\">\n       <use xlink:href=\"#DejaVuSans-48\"/>\n       <use x=\"63.623047\" xlink:href=\"#DejaVuSans-46\"/>\n       <use x=\"95.410156\" xlink:href=\"#DejaVuSans-48\"/>\n       <use x=\"159.033203\" xlink:href=\"#DejaVuSans-48\"/>\n       <use x=\"222.65625\" xlink:href=\"#DejaVuSans-53\"/>\n      </g>\n     </g>\n    </g>\n    <g id=\"ytick_3\">\n     <g id=\"line2d_9\">\n      <g>\n       <use style=\"stroke:#000000;stroke-width:0.8;\" x=\"42.828125\" xlink:href=\"#mdacfe6dc4a\" y=\"211.438862\"/>\n      </g>\n     </g>\n     <g id=\"text_10\">\n      <!-- 0.010 -->\n      <g transform=\"translate(7.2 215.238081)scale(0.1 -0.1)\">\n       <use xlink:href=\"#DejaVuSans-48\"/>\n       <use x=\"63.623047\" xlink:href=\"#DejaVuSans-46\"/>\n       <use x=\"95.410156\" xlink:href=\"#DejaVuSans-48\"/>\n       <use x=\"159.033203\" xlink:href=\"#DejaVuSans-49\"/>\n       <use x=\"222.65625\" xlink:href=\"#DejaVuSans-48\"/>\n      </g>\n     </g>\n    </g>\n    <g id=\"ytick_4\">\n     <g id=\"line2d_10\">\n      <g>\n       <use style=\"stroke:#000000;stroke-width:0.8;\" x=\"42.828125\" xlink:href=\"#mdacfe6dc4a\" y=\"160.299231\"/>\n      </g>\n     </g>\n     <g id=\"text_11\">\n      <!-- 0.015 -->\n      <g transform=\"translate(7.2 164.098449)scale(0.1 -0.1)\">\n       <use xlink:href=\"#DejaVuSans-48\"/>\n       <use x=\"63.623047\" xlink:href=\"#DejaVuSans-46\"/>\n       <use x=\"95.410156\" xlink:href=\"#DejaVuSans-48\"/>\n       <use x=\"159.033203\" xlink:href=\"#DejaVuSans-49\"/>\n       <use x=\"222.65625\" xlink:href=\"#DejaVuSans-53\"/>\n      </g>\n     </g>\n    </g>\n    <g id=\"ytick_5\">\n     <g id=\"line2d_11\">\n      <g>\n       <use style=\"stroke:#000000;stroke-width:0.8;\" x=\"42.828125\" xlink:href=\"#mdacfe6dc4a\" y=\"109.159599\"/>\n      </g>\n     </g>\n     <g id=\"text_12\">\n      <!-- 0.020 -->\n      <g transform=\"translate(7.2 112.958818)scale(0.1 -0.1)\">\n       <use xlink:href=\"#DejaVuSans-48\"/>\n       <use x=\"63.623047\" xlink:href=\"#DejaVuSans-46\"/>\n       <use x=\"95.410156\" xlink:href=\"#DejaVuSans-48\"/>\n       <use x=\"159.033203\" xlink:href=\"#DejaVuSans-50\"/>\n       <use x=\"222.65625\" xlink:href=\"#DejaVuSans-48\"/>\n      </g>\n     </g>\n    </g>\n    <g id=\"ytick_6\">\n     <g id=\"line2d_12\">\n      <g>\n       <use style=\"stroke:#000000;stroke-width:0.8;\" x=\"42.828125\" xlink:href=\"#mdacfe6dc4a\" y=\"58.019968\"/>\n      </g>\n     </g>\n     <g id=\"text_13\">\n      <!-- 0.025 -->\n      <g transform=\"translate(7.2 61.819187)scale(0.1 -0.1)\">\n       <use xlink:href=\"#DejaVuSans-48\"/>\n       <use x=\"63.623047\" xlink:href=\"#DejaVuSans-46\"/>\n       <use x=\"95.410156\" xlink:href=\"#DejaVuSans-48\"/>\n       <use x=\"159.033203\" xlink:href=\"#DejaVuSans-50\"/>\n       <use x=\"222.65625\" xlink:href=\"#DejaVuSans-53\"/>\n      </g>\n     </g>\n    </g>\n   </g>\n   <g id=\"patch_13\">\n    <path d=\"M 42.828125 313.718125 \nL 42.828125 22.318125 \n\" style=\"fill:none;stroke:#000000;stroke-linecap:square;stroke-linejoin:miter;stroke-width:0.8;\"/>\n   </g>\n   <g id=\"patch_14\">\n    <path d=\"M 352.928125 313.718125 \nL 352.928125 22.318125 \n\" style=\"fill:none;stroke:#000000;stroke-linecap:square;stroke-linejoin:miter;stroke-width:0.8;\"/>\n   </g>\n   <g id=\"patch_15\">\n    <path d=\"M 42.828125 313.718125 \nL 352.928125 313.718125 \n\" style=\"fill:none;stroke:#000000;stroke-linecap:square;stroke-linejoin:miter;stroke-width:0.8;\"/>\n   </g>\n   <g id=\"patch_16\">\n    <path d=\"M 42.828125 22.318125 \nL 352.928125 22.318125 \n\" style=\"fill:none;stroke:#000000;stroke-linecap:square;stroke-linejoin:miter;stroke-width:0.8;\"/>\n   </g>\n   <g id=\"text_14\">\n    <!-- Southhampton -->\n    <defs>\n     <path d=\"M 53.515625 70.515625 \nL 53.515625 60.890625 \nQ 47.90625 63.578125 42.921875 64.890625 \nQ 37.9375 66.21875 33.296875 66.21875 \nQ 25.25 66.21875 20.875 63.09375 \nQ 16.5 59.96875 16.5 54.203125 \nQ 16.5 49.359375 19.40625 46.890625 \nQ 22.3125 44.4375 30.421875 42.921875 \nL 36.375 41.703125 \nQ 47.40625 39.59375 52.65625 34.296875 \nQ 57.90625 29 57.90625 20.125 \nQ 57.90625 9.515625 50.796875 4.046875 \nQ 43.703125 -1.421875 29.984375 -1.421875 \nQ 24.8125 -1.421875 18.96875 -0.25 \nQ 13.140625 0.921875 6.890625 3.21875 \nL 6.890625 13.375 \nQ 12.890625 10.015625 18.65625 8.296875 \nQ 24.421875 6.59375 29.984375 6.59375 \nQ 38.421875 6.59375 43.015625 9.90625 \nQ 47.609375 13.234375 47.609375 19.390625 \nQ 47.609375 24.75 44.3125 27.78125 \nQ 41.015625 30.8125 33.5 32.328125 \nL 27.484375 33.5 \nQ 16.453125 35.6875 11.515625 40.375 \nQ 6.59375 45.0625 6.59375 53.421875 \nQ 6.59375 63.09375 13.40625 68.65625 \nQ 20.21875 74.21875 32.171875 74.21875 \nQ 37.3125 74.21875 42.625 73.28125 \nQ 47.953125 72.359375 53.515625 70.515625 \nz\n\" id=\"DejaVuSans-83\"/>\n     <path d=\"M 30.609375 48.390625 \nQ 23.390625 48.390625 19.1875 42.75 \nQ 14.984375 37.109375 14.984375 27.296875 \nQ 14.984375 17.484375 19.15625 11.84375 \nQ 23.34375 6.203125 30.609375 6.203125 \nQ 37.796875 6.203125 41.984375 11.859375 \nQ 46.1875 17.53125 46.1875 27.296875 \nQ 46.1875 37.015625 41.984375 42.703125 \nQ 37.796875 48.390625 30.609375 48.390625 \nz\nM 30.609375 56 \nQ 42.328125 56 49.015625 48.375 \nQ 55.71875 40.765625 55.71875 27.296875 \nQ 55.71875 13.875 49.015625 6.21875 \nQ 42.328125 -1.421875 30.609375 -1.421875 \nQ 18.84375 -1.421875 12.171875 6.21875 \nQ 5.515625 13.875 5.515625 27.296875 \nQ 5.515625 40.765625 12.171875 48.375 \nQ 18.84375 56 30.609375 56 \nz\n\" id=\"DejaVuSans-111\"/>\n     <path d=\"M 8.5 21.578125 \nL 8.5 54.6875 \nL 17.484375 54.6875 \nL 17.484375 21.921875 \nQ 17.484375 14.15625 20.5 10.265625 \nQ 23.53125 6.390625 29.59375 6.390625 \nQ 36.859375 6.390625 41.078125 11.03125 \nQ 45.3125 15.671875 45.3125 23.6875 \nL 45.3125 54.6875 \nL 54.296875 54.6875 \nL 54.296875 0 \nL 45.3125 0 \nL 45.3125 8.40625 \nQ 42.046875 3.421875 37.71875 1 \nQ 33.40625 -1.421875 27.6875 -1.421875 \nQ 18.265625 -1.421875 13.375 4.4375 \nQ 8.5 10.296875 8.5 21.578125 \nz\nM 31.109375 56 \nz\n\" id=\"DejaVuSans-117\"/>\n     <path d=\"M 18.3125 70.21875 \nL 18.3125 54.6875 \nL 36.8125 54.6875 \nL 36.8125 47.703125 \nL 18.3125 47.703125 \nL 18.3125 18.015625 \nQ 18.3125 11.328125 20.140625 9.421875 \nQ 21.96875 7.515625 27.59375 7.515625 \nL 36.8125 7.515625 \nL 36.8125 0 \nL 27.59375 0 \nQ 17.1875 0 13.234375 3.875 \nQ 9.28125 7.765625 9.28125 18.015625 \nL 9.28125 47.703125 \nL 2.6875 47.703125 \nL 2.6875 54.6875 \nL 9.28125 54.6875 \nL 9.28125 70.21875 \nz\n\" id=\"DejaVuSans-116\"/>\n     <path d=\"M 54.890625 33.015625 \nL 54.890625 0 \nL 45.90625 0 \nL 45.90625 32.71875 \nQ 45.90625 40.484375 42.875 44.328125 \nQ 39.84375 48.1875 33.796875 48.1875 \nQ 26.515625 48.1875 22.3125 43.546875 \nQ 18.109375 38.921875 18.109375 30.90625 \nL 18.109375 0 \nL 9.078125 0 \nL 9.078125 75.984375 \nL 18.109375 75.984375 \nL 18.109375 46.1875 \nQ 21.34375 51.125 25.703125 53.5625 \nQ 30.078125 56 35.796875 56 \nQ 45.21875 56 50.046875 50.171875 \nQ 54.890625 44.34375 54.890625 33.015625 \nz\n\" id=\"DejaVuSans-104\"/>\n     <path d=\"M 52 44.1875 \nQ 55.375 50.25 60.0625 53.125 \nQ 64.75 56 71.09375 56 \nQ 79.640625 56 84.28125 50.015625 \nQ 88.921875 44.046875 88.921875 33.015625 \nL 88.921875 0 \nL 79.890625 0 \nL 79.890625 32.71875 \nQ 79.890625 40.578125 77.09375 44.375 \nQ 74.3125 48.1875 68.609375 48.1875 \nQ 61.625 48.1875 57.5625 43.546875 \nQ 53.515625 38.921875 53.515625 30.90625 \nL 53.515625 0 \nL 44.484375 0 \nL 44.484375 32.71875 \nQ 44.484375 40.625 41.703125 44.40625 \nQ 38.921875 48.1875 33.109375 48.1875 \nQ 26.21875 48.1875 22.15625 43.53125 \nQ 18.109375 38.875 18.109375 30.90625 \nL 18.109375 0 \nL 9.078125 0 \nL 9.078125 54.6875 \nL 18.109375 54.6875 \nL 18.109375 46.1875 \nQ 21.1875 51.21875 25.484375 53.609375 \nQ 29.78125 56 35.6875 56 \nQ 41.65625 56 45.828125 52.96875 \nQ 50 49.953125 52 44.1875 \nz\n\" id=\"DejaVuSans-109\"/>\n     <path d=\"M 18.109375 8.203125 \nL 18.109375 -20.796875 \nL 9.078125 -20.796875 \nL 9.078125 54.6875 \nL 18.109375 54.6875 \nL 18.109375 46.390625 \nQ 20.953125 51.265625 25.265625 53.625 \nQ 29.59375 56 35.59375 56 \nQ 45.5625 56 51.78125 48.09375 \nQ 58.015625 40.1875 58.015625 27.296875 \nQ 58.015625 14.40625 51.78125 6.484375 \nQ 45.5625 -1.421875 35.59375 -1.421875 \nQ 29.59375 -1.421875 25.265625 0.953125 \nQ 20.953125 3.328125 18.109375 8.203125 \nz\nM 48.6875 27.296875 \nQ 48.6875 37.203125 44.609375 42.84375 \nQ 40.53125 48.484375 33.40625 48.484375 \nQ 26.265625 48.484375 22.1875 42.84375 \nQ 18.109375 37.203125 18.109375 27.296875 \nQ 18.109375 17.390625 22.1875 11.75 \nQ 26.265625 6.109375 33.40625 6.109375 \nQ 40.53125 6.109375 44.609375 11.75 \nQ 48.6875 17.390625 48.6875 27.296875 \nz\n\" id=\"DejaVuSans-112\"/>\n     <path d=\"M 54.890625 33.015625 \nL 54.890625 0 \nL 45.90625 0 \nL 45.90625 32.71875 \nQ 45.90625 40.484375 42.875 44.328125 \nQ 39.84375 48.1875 33.796875 48.1875 \nQ 26.515625 48.1875 22.3125 43.546875 \nQ 18.109375 38.921875 18.109375 30.90625 \nL 18.109375 0 \nL 9.078125 0 \nL 9.078125 54.6875 \nL 18.109375 54.6875 \nL 18.109375 46.1875 \nQ 21.34375 51.125 25.703125 53.5625 \nQ 30.078125 56 35.796875 56 \nQ 45.21875 56 50.046875 50.171875 \nQ 54.890625 44.34375 54.890625 33.015625 \nz\n\" id=\"DejaVuSans-110\"/>\n    </defs>\n    <g transform=\"translate(153.481875 16.318125)scale(0.12 -0.12)\">\n     <use xlink:href=\"#DejaVuSans-83\"/>\n     <use x=\"63.476562\" xlink:href=\"#DejaVuSans-111\"/>\n     <use x=\"124.658203\" xlink:href=\"#DejaVuSans-117\"/>\n     <use x=\"188.037109\" xlink:href=\"#DejaVuSans-116\"/>\n     <use x=\"227.246094\" xlink:href=\"#DejaVuSans-104\"/>\n     <use x=\"290.625\" xlink:href=\"#DejaVuSans-104\"/>\n     <use x=\"354.003906\" xlink:href=\"#DejaVuSans-97\"/>\n     <use x=\"415.283203\" xlink:href=\"#DejaVuSans-109\"/>\n     <use x=\"512.695312\" xlink:href=\"#DejaVuSans-112\"/>\n     <use x=\"576.171875\" xlink:href=\"#DejaVuSans-116\"/>\n     <use x=\"615.380859\" xlink:href=\"#DejaVuSans-111\"/>\n     <use x=\"676.5625\" xlink:href=\"#DejaVuSans-110\"/>\n    </g>\n   </g>\n  </g>\n  <g id=\"axes_2\">\n   <g id=\"patch_17\">\n    <path d=\"M 399.228125 313.718125 \nL 709.328125 313.718125 \nL 709.328125 22.318125 \nL 399.228125 22.318125 \nz\n\" style=\"fill:#ffffff;\"/>\n   </g>\n   <g id=\"patch_18\">\n    <path clip-path=\"url(#p9fdd825ef0)\" d=\"M 413.32358 313.718125 \nL 441.514489 313.718125 \nL 441.514489 36.194315 \nL 413.32358 36.194315 \nz\n\" style=\"fill:#1f77b4;\"/>\n   </g>\n   <g id=\"patch_19\">\n    <path clip-path=\"url(#p9fdd825ef0)\" d=\"M 441.514489 313.718125 \nL 469.705398 313.718125 \nL 469.705398 230.72035 \nL 441.514489 230.72035 \nz\n\" style=\"fill:#1f77b4;\"/>\n   </g>\n   <g id=\"patch_20\">\n    <path clip-path=\"url(#p9fdd825ef0)\" d=\"M 469.705398 313.718125 \nL 497.896307 313.718125 \nL 497.896307 269.625557 \nL 469.705398 269.625557 \nz\n\" style=\"fill:#1f77b4;\"/>\n   </g>\n   <g id=\"patch_21\">\n    <path clip-path=\"url(#p9fdd825ef0)\" d=\"M 497.896307 313.718125 \nL 526.087216 313.718125 \nL 526.087216 313.718125 \nL 497.896307 313.718125 \nz\n\" style=\"fill:#1f77b4;\"/>\n   </g>\n   <g id=\"patch_22\">\n    <path clip-path=\"url(#p9fdd825ef0)\" d=\"M 526.087216 313.718125 \nL 554.278125 313.718125 \nL 554.278125 295.562362 \nL 526.087216 295.562362 \nz\n\" style=\"fill:#1f77b4;\"/>\n   </g>\n   <g id=\"patch_23\">\n    <path clip-path=\"url(#p9fdd825ef0)\" d=\"M 554.278125 313.718125 \nL 582.469034 313.718125 \nL 582.469034 308.530764 \nL 554.278125 308.530764 \nz\n\" style=\"fill:#1f77b4;\"/>\n   </g>\n   <g id=\"patch_24\">\n    <path clip-path=\"url(#p9fdd825ef0)\" d=\"M 582.469034 313.718125 \nL 610.659943 313.718125 \nL 610.659943 313.718125 \nL 582.469034 313.718125 \nz\n\" style=\"fill:#1f77b4;\"/>\n   </g>\n   <g id=\"patch_25\">\n    <path clip-path=\"url(#p9fdd825ef0)\" d=\"M 610.659943 313.718125 \nL 638.850852 313.718125 \nL 638.850852 313.718125 \nL 610.659943 313.718125 \nz\n\" style=\"fill:#1f77b4;\"/>\n   </g>\n   <g id=\"patch_26\">\n    <path clip-path=\"url(#p9fdd825ef0)\" d=\"M 638.850852 313.718125 \nL 667.041761 313.718125 \nL 667.041761 313.718125 \nL 638.850852 313.718125 \nz\n\" style=\"fill:#1f77b4;\"/>\n   </g>\n   <g id=\"patch_27\">\n    <path clip-path=\"url(#p9fdd825ef0)\" d=\"M 667.041761 313.718125 \nL 695.23267 313.718125 \nL 695.23267 305.937084 \nL 667.041761 305.937084 \nz\n\" style=\"fill:#1f77b4;\"/>\n   </g>\n   <g id=\"matplotlib.axis_3\">\n    <g id=\"xtick_7\">\n     <g id=\"line2d_13\">\n      <g>\n       <use style=\"stroke:#000000;stroke-width:0.8;\" x=\"411.098273\" xlink:href=\"#m09cb7a0b0f\" y=\"313.718125\"/>\n      </g>\n     </g>\n     <g id=\"text_15\">\n      <!-- 0 -->\n      <g transform=\"translate(407.917023 328.316562)scale(0.1 -0.1)\">\n       <use xlink:href=\"#DejaVuSans-48\"/>\n      </g>\n     </g>\n    </g>\n    <g id=\"xtick_8\">\n     <g id=\"line2d_14\">\n      <g>\n       <use style=\"stroke:#000000;stroke-width:0.8;\" x=\"466.557614\" xlink:href=\"#m09cb7a0b0f\" y=\"313.718125\"/>\n      </g>\n     </g>\n     <g id=\"text_16\">\n      <!-- 100 -->\n      <g transform=\"translate(457.013864 328.316562)scale(0.1 -0.1)\">\n       <use xlink:href=\"#DejaVuSans-49\"/>\n       <use x=\"63.623047\" xlink:href=\"#DejaVuSans-48\"/>\n       <use x=\"127.246094\" xlink:href=\"#DejaVuSans-48\"/>\n      </g>\n     </g>\n    </g>\n    <g id=\"xtick_9\">\n     <g id=\"line2d_15\">\n      <g>\n       <use style=\"stroke:#000000;stroke-width:0.8;\" x=\"522.016955\" xlink:href=\"#m09cb7a0b0f\" y=\"313.718125\"/>\n      </g>\n     </g>\n     <g id=\"text_17\">\n      <!-- 200 -->\n      <g transform=\"translate(512.473205 328.316562)scale(0.1 -0.1)\">\n       <use xlink:href=\"#DejaVuSans-50\"/>\n       <use x=\"63.623047\" xlink:href=\"#DejaVuSans-48\"/>\n       <use x=\"127.246094\" xlink:href=\"#DejaVuSans-48\"/>\n      </g>\n     </g>\n    </g>\n    <g id=\"xtick_10\">\n     <g id=\"line2d_16\">\n      <g>\n       <use style=\"stroke:#000000;stroke-width:0.8;\" x=\"577.476296\" xlink:href=\"#m09cb7a0b0f\" y=\"313.718125\"/>\n      </g>\n     </g>\n     <g id=\"text_18\">\n      <!-- 300 -->\n      <defs>\n       <path d=\"M 40.578125 39.3125 \nQ 47.65625 37.796875 51.625 33 \nQ 55.609375 28.21875 55.609375 21.1875 \nQ 55.609375 10.40625 48.1875 4.484375 \nQ 40.765625 -1.421875 27.09375 -1.421875 \nQ 22.515625 -1.421875 17.65625 -0.515625 \nQ 12.796875 0.390625 7.625 2.203125 \nL 7.625 11.71875 \nQ 11.71875 9.328125 16.59375 8.109375 \nQ 21.484375 6.890625 26.8125 6.890625 \nQ 36.078125 6.890625 40.9375 10.546875 \nQ 45.796875 14.203125 45.796875 21.1875 \nQ 45.796875 27.640625 41.28125 31.265625 \nQ 36.765625 34.90625 28.71875 34.90625 \nL 20.21875 34.90625 \nL 20.21875 43.015625 \nL 29.109375 43.015625 \nQ 36.375 43.015625 40.234375 45.921875 \nQ 44.09375 48.828125 44.09375 54.296875 \nQ 44.09375 59.90625 40.109375 62.90625 \nQ 36.140625 65.921875 28.71875 65.921875 \nQ 24.65625 65.921875 20.015625 65.03125 \nQ 15.375 64.15625 9.8125 62.3125 \nL 9.8125 71.09375 \nQ 15.4375 72.65625 20.34375 73.4375 \nQ 25.25 74.21875 29.59375 74.21875 \nQ 40.828125 74.21875 47.359375 69.109375 \nQ 53.90625 64.015625 53.90625 55.328125 \nQ 53.90625 49.265625 50.4375 45.09375 \nQ 46.96875 40.921875 40.578125 39.3125 \nz\n\" id=\"DejaVuSans-51\"/>\n      </defs>\n      <g transform=\"translate(567.932546 328.316562)scale(0.1 -0.1)\">\n       <use xlink:href=\"#DejaVuSans-51\"/>\n       <use x=\"63.623047\" xlink:href=\"#DejaVuSans-48\"/>\n       <use x=\"127.246094\" xlink:href=\"#DejaVuSans-48\"/>\n      </g>\n     </g>\n    </g>\n    <g id=\"xtick_11\">\n     <g id=\"line2d_17\">\n      <g>\n       <use style=\"stroke:#000000;stroke-width:0.8;\" x=\"632.935637\" xlink:href=\"#m09cb7a0b0f\" y=\"313.718125\"/>\n      </g>\n     </g>\n     <g id=\"text_19\">\n      <!-- 400 -->\n      <defs>\n       <path d=\"M 37.796875 64.3125 \nL 12.890625 25.390625 \nL 37.796875 25.390625 \nz\nM 35.203125 72.90625 \nL 47.609375 72.90625 \nL 47.609375 25.390625 \nL 58.015625 25.390625 \nL 58.015625 17.1875 \nL 47.609375 17.1875 \nL 47.609375 0 \nL 37.796875 0 \nL 37.796875 17.1875 \nL 4.890625 17.1875 \nL 4.890625 26.703125 \nz\n\" id=\"DejaVuSans-52\"/>\n      </defs>\n      <g transform=\"translate(623.391887 328.316562)scale(0.1 -0.1)\">\n       <use xlink:href=\"#DejaVuSans-52\"/>\n       <use x=\"63.623047\" xlink:href=\"#DejaVuSans-48\"/>\n       <use x=\"127.246094\" xlink:href=\"#DejaVuSans-48\"/>\n      </g>\n     </g>\n    </g>\n    <g id=\"xtick_12\">\n     <g id=\"line2d_18\">\n      <g>\n       <use style=\"stroke:#000000;stroke-width:0.8;\" x=\"688.394977\" xlink:href=\"#m09cb7a0b0f\" y=\"313.718125\"/>\n      </g>\n     </g>\n     <g id=\"text_20\">\n      <!-- 500 -->\n      <g transform=\"translate(678.851227 328.316562)scale(0.1 -0.1)\">\n       <use xlink:href=\"#DejaVuSans-53\"/>\n       <use x=\"63.623047\" xlink:href=\"#DejaVuSans-48\"/>\n       <use x=\"127.246094\" xlink:href=\"#DejaVuSans-48\"/>\n      </g>\n     </g>\n    </g>\n    <g id=\"text_21\">\n     <!-- Fare -->\n     <g transform=\"translate(543.214844 341.994687)scale(0.1 -0.1)\">\n      <use xlink:href=\"#DejaVuSans-70\"/>\n      <use x=\"57.378906\" xlink:href=\"#DejaVuSans-97\"/>\n      <use x=\"118.658203\" xlink:href=\"#DejaVuSans-114\"/>\n      <use x=\"159.740234\" xlink:href=\"#DejaVuSans-101\"/>\n     </g>\n    </g>\n   </g>\n   <g id=\"matplotlib.axis_4\">\n    <g id=\"ytick_7\">\n     <g id=\"line2d_19\">\n      <g>\n       <use style=\"stroke:#000000;stroke-width:0.8;\" x=\"399.228125\" xlink:href=\"#mdacfe6dc4a\" y=\"313.718125\"/>\n      </g>\n     </g>\n     <g id=\"text_22\">\n      <!-- 0.000 -->\n      <g transform=\"translate(363.6 317.517344)scale(0.1 -0.1)\">\n       <use xlink:href=\"#DejaVuSans-48\"/>\n       <use x=\"63.623047\" xlink:href=\"#DejaVuSans-46\"/>\n       <use x=\"95.410156\" xlink:href=\"#DejaVuSans-48\"/>\n       <use x=\"159.033203\" xlink:href=\"#DejaVuSans-48\"/>\n       <use x=\"222.65625\" xlink:href=\"#DejaVuSans-48\"/>\n      </g>\n     </g>\n    </g>\n    <g id=\"ytick_8\">\n     <g id=\"line2d_20\">\n      <g>\n       <use style=\"stroke:#000000;stroke-width:0.8;\" x=\"399.228125\" xlink:href=\"#mdacfe6dc4a\" y=\"269.419512\"/>\n      </g>\n     </g>\n     <g id=\"text_23\">\n      <!-- 0.002 -->\n      <g transform=\"translate(363.6 273.218731)scale(0.1 -0.1)\">\n       <use xlink:href=\"#DejaVuSans-48\"/>\n       <use x=\"63.623047\" xlink:href=\"#DejaVuSans-46\"/>\n       <use x=\"95.410156\" xlink:href=\"#DejaVuSans-48\"/>\n       <use x=\"159.033203\" xlink:href=\"#DejaVuSans-48\"/>\n       <use x=\"222.65625\" xlink:href=\"#DejaVuSans-50\"/>\n      </g>\n     </g>\n    </g>\n    <g id=\"ytick_9\">\n     <g id=\"line2d_21\">\n      <g>\n       <use style=\"stroke:#000000;stroke-width:0.8;\" x=\"399.228125\" xlink:href=\"#mdacfe6dc4a\" y=\"225.1209\"/>\n      </g>\n     </g>\n     <g id=\"text_24\">\n      <!-- 0.004 -->\n      <g transform=\"translate(363.6 228.920118)scale(0.1 -0.1)\">\n       <use xlink:href=\"#DejaVuSans-48\"/>\n       <use x=\"63.623047\" xlink:href=\"#DejaVuSans-46\"/>\n       <use x=\"95.410156\" xlink:href=\"#DejaVuSans-48\"/>\n       <use x=\"159.033203\" xlink:href=\"#DejaVuSans-48\"/>\n       <use x=\"222.65625\" xlink:href=\"#DejaVuSans-52\"/>\n      </g>\n     </g>\n    </g>\n    <g id=\"ytick_10\">\n     <g id=\"line2d_22\">\n      <g>\n       <use style=\"stroke:#000000;stroke-width:0.8;\" x=\"399.228125\" xlink:href=\"#mdacfe6dc4a\" y=\"180.822287\"/>\n      </g>\n     </g>\n     <g id=\"text_25\">\n      <!-- 0.006 -->\n      <defs>\n       <path d=\"M 33.015625 40.375 \nQ 26.375 40.375 22.484375 35.828125 \nQ 18.609375 31.296875 18.609375 23.390625 \nQ 18.609375 15.53125 22.484375 10.953125 \nQ 26.375 6.390625 33.015625 6.390625 \nQ 39.65625 6.390625 43.53125 10.953125 \nQ 47.40625 15.53125 47.40625 23.390625 \nQ 47.40625 31.296875 43.53125 35.828125 \nQ 39.65625 40.375 33.015625 40.375 \nz\nM 52.59375 71.296875 \nL 52.59375 62.3125 \nQ 48.875 64.0625 45.09375 64.984375 \nQ 41.3125 65.921875 37.59375 65.921875 \nQ 27.828125 65.921875 22.671875 59.328125 \nQ 17.53125 52.734375 16.796875 39.40625 \nQ 19.671875 43.65625 24.015625 45.921875 \nQ 28.375 48.1875 33.59375 48.1875 \nQ 44.578125 48.1875 50.953125 41.515625 \nQ 57.328125 34.859375 57.328125 23.390625 \nQ 57.328125 12.15625 50.6875 5.359375 \nQ 44.046875 -1.421875 33.015625 -1.421875 \nQ 20.359375 -1.421875 13.671875 8.265625 \nQ 6.984375 17.96875 6.984375 36.375 \nQ 6.984375 53.65625 15.1875 63.9375 \nQ 23.390625 74.21875 37.203125 74.21875 \nQ 40.921875 74.21875 44.703125 73.484375 \nQ 48.484375 72.75 52.59375 71.296875 \nz\n\" id=\"DejaVuSans-54\"/>\n      </defs>\n      <g transform=\"translate(363.6 184.621506)scale(0.1 -0.1)\">\n       <use xlink:href=\"#DejaVuSans-48\"/>\n       <use x=\"63.623047\" xlink:href=\"#DejaVuSans-46\"/>\n       <use x=\"95.410156\" xlink:href=\"#DejaVuSans-48\"/>\n       <use x=\"159.033203\" xlink:href=\"#DejaVuSans-48\"/>\n       <use x=\"222.65625\" xlink:href=\"#DejaVuSans-54\"/>\n      </g>\n     </g>\n    </g>\n    <g id=\"ytick_11\">\n     <g id=\"line2d_23\">\n      <g>\n       <use style=\"stroke:#000000;stroke-width:0.8;\" x=\"399.228125\" xlink:href=\"#mdacfe6dc4a\" y=\"136.523674\"/>\n      </g>\n     </g>\n     <g id=\"text_26\">\n      <!-- 0.008 -->\n      <defs>\n       <path d=\"M 31.78125 34.625 \nQ 24.75 34.625 20.71875 30.859375 \nQ 16.703125 27.09375 16.703125 20.515625 \nQ 16.703125 13.921875 20.71875 10.15625 \nQ 24.75 6.390625 31.78125 6.390625 \nQ 38.8125 6.390625 42.859375 10.171875 \nQ 46.921875 13.96875 46.921875 20.515625 \nQ 46.921875 27.09375 42.890625 30.859375 \nQ 38.875 34.625 31.78125 34.625 \nz\nM 21.921875 38.8125 \nQ 15.578125 40.375 12.03125 44.71875 \nQ 8.5 49.078125 8.5 55.328125 \nQ 8.5 64.0625 14.71875 69.140625 \nQ 20.953125 74.21875 31.78125 74.21875 \nQ 42.671875 74.21875 48.875 69.140625 \nQ 55.078125 64.0625 55.078125 55.328125 \nQ 55.078125 49.078125 51.53125 44.71875 \nQ 48 40.375 41.703125 38.8125 \nQ 48.828125 37.15625 52.796875 32.3125 \nQ 56.78125 27.484375 56.78125 20.515625 \nQ 56.78125 9.90625 50.3125 4.234375 \nQ 43.84375 -1.421875 31.78125 -1.421875 \nQ 19.734375 -1.421875 13.25 4.234375 \nQ 6.78125 9.90625 6.78125 20.515625 \nQ 6.78125 27.484375 10.78125 32.3125 \nQ 14.796875 37.15625 21.921875 38.8125 \nz\nM 18.3125 54.390625 \nQ 18.3125 48.734375 21.84375 45.5625 \nQ 25.390625 42.390625 31.78125 42.390625 \nQ 38.140625 42.390625 41.71875 45.5625 \nQ 45.3125 48.734375 45.3125 54.390625 \nQ 45.3125 60.0625 41.71875 63.234375 \nQ 38.140625 66.40625 31.78125 66.40625 \nQ 25.390625 66.40625 21.84375 63.234375 \nQ 18.3125 60.0625 18.3125 54.390625 \nz\n\" id=\"DejaVuSans-56\"/>\n      </defs>\n      <g transform=\"translate(363.6 140.322893)scale(0.1 -0.1)\">\n       <use xlink:href=\"#DejaVuSans-48\"/>\n       <use x=\"63.623047\" xlink:href=\"#DejaVuSans-46\"/>\n       <use x=\"95.410156\" xlink:href=\"#DejaVuSans-48\"/>\n       <use x=\"159.033203\" xlink:href=\"#DejaVuSans-48\"/>\n       <use x=\"222.65625\" xlink:href=\"#DejaVuSans-56\"/>\n      </g>\n     </g>\n    </g>\n    <g id=\"ytick_12\">\n     <g id=\"line2d_24\">\n      <g>\n       <use style=\"stroke:#000000;stroke-width:0.8;\" x=\"399.228125\" xlink:href=\"#mdacfe6dc4a\" y=\"92.225061\"/>\n      </g>\n     </g>\n     <g id=\"text_27\">\n      <!-- 0.010 -->\n      <g transform=\"translate(363.6 96.02428)scale(0.1 -0.1)\">\n       <use xlink:href=\"#DejaVuSans-48\"/>\n       <use x=\"63.623047\" xlink:href=\"#DejaVuSans-46\"/>\n       <use x=\"95.410156\" xlink:href=\"#DejaVuSans-48\"/>\n       <use x=\"159.033203\" xlink:href=\"#DejaVuSans-49\"/>\n       <use x=\"222.65625\" xlink:href=\"#DejaVuSans-48\"/>\n      </g>\n     </g>\n    </g>\n    <g id=\"ytick_13\">\n     <g id=\"line2d_25\">\n      <g>\n       <use style=\"stroke:#000000;stroke-width:0.8;\" x=\"399.228125\" xlink:href=\"#mdacfe6dc4a\" y=\"47.926449\"/>\n      </g>\n     </g>\n     <g id=\"text_28\">\n      <!-- 0.012 -->\n      <g transform=\"translate(363.6 51.725667)scale(0.1 -0.1)\">\n       <use xlink:href=\"#DejaVuSans-48\"/>\n       <use x=\"63.623047\" xlink:href=\"#DejaVuSans-46\"/>\n       <use x=\"95.410156\" xlink:href=\"#DejaVuSans-48\"/>\n       <use x=\"159.033203\" xlink:href=\"#DejaVuSans-49\"/>\n       <use x=\"222.65625\" xlink:href=\"#DejaVuSans-50\"/>\n      </g>\n     </g>\n    </g>\n   </g>\n   <g id=\"patch_28\">\n    <path d=\"M 399.228125 313.718125 \nL 399.228125 22.318125 \n\" style=\"fill:none;stroke:#000000;stroke-linecap:square;stroke-linejoin:miter;stroke-width:0.8;\"/>\n   </g>\n   <g id=\"patch_29\">\n    <path d=\"M 709.328125 313.718125 \nL 709.328125 22.318125 \n\" style=\"fill:none;stroke:#000000;stroke-linecap:square;stroke-linejoin:miter;stroke-width:0.8;\"/>\n   </g>\n   <g id=\"patch_30\">\n    <path d=\"M 399.228125 313.718125 \nL 709.328125 313.718125 \n\" style=\"fill:none;stroke:#000000;stroke-linecap:square;stroke-linejoin:miter;stroke-width:0.8;\"/>\n   </g>\n   <g id=\"patch_31\">\n    <path d=\"M 399.228125 22.318125 \nL 709.328125 22.318125 \n\" style=\"fill:none;stroke:#000000;stroke-linecap:square;stroke-linejoin:miter;stroke-width:0.8;\"/>\n   </g>\n   <g id=\"text_29\">\n    <!-- Cherbourg -->\n    <defs>\n     <path d=\"M 64.40625 67.28125 \nL 64.40625 56.890625 \nQ 59.421875 61.53125 53.78125 63.8125 \nQ 48.140625 66.109375 41.796875 66.109375 \nQ 29.296875 66.109375 22.65625 58.46875 \nQ 16.015625 50.828125 16.015625 36.375 \nQ 16.015625 21.96875 22.65625 14.328125 \nQ 29.296875 6.6875 41.796875 6.6875 \nQ 48.140625 6.6875 53.78125 8.984375 \nQ 59.421875 11.28125 64.40625 15.921875 \nL 64.40625 5.609375 \nQ 59.234375 2.09375 53.4375 0.328125 \nQ 47.65625 -1.421875 41.21875 -1.421875 \nQ 24.65625 -1.421875 15.125 8.703125 \nQ 5.609375 18.84375 5.609375 36.375 \nQ 5.609375 53.953125 15.125 64.078125 \nQ 24.65625 74.21875 41.21875 74.21875 \nQ 47.75 74.21875 53.53125 72.484375 \nQ 59.328125 70.75 64.40625 67.28125 \nz\n\" id=\"DejaVuSans-67\"/>\n     <path d=\"M 48.6875 27.296875 \nQ 48.6875 37.203125 44.609375 42.84375 \nQ 40.53125 48.484375 33.40625 48.484375 \nQ 26.265625 48.484375 22.1875 42.84375 \nQ 18.109375 37.203125 18.109375 27.296875 \nQ 18.109375 17.390625 22.1875 11.75 \nQ 26.265625 6.109375 33.40625 6.109375 \nQ 40.53125 6.109375 44.609375 11.75 \nQ 48.6875 17.390625 48.6875 27.296875 \nz\nM 18.109375 46.390625 \nQ 20.953125 51.265625 25.265625 53.625 \nQ 29.59375 56 35.59375 56 \nQ 45.5625 56 51.78125 48.09375 \nQ 58.015625 40.1875 58.015625 27.296875 \nQ 58.015625 14.40625 51.78125 6.484375 \nQ 45.5625 -1.421875 35.59375 -1.421875 \nQ 29.59375 -1.421875 25.265625 0.953125 \nQ 20.953125 3.328125 18.109375 8.203125 \nL 18.109375 0 \nL 9.078125 0 \nL 9.078125 75.984375 \nL 18.109375 75.984375 \nz\n\" id=\"DejaVuSans-98\"/>\n     <path d=\"M 45.40625 27.984375 \nQ 45.40625 37.75 41.375 43.109375 \nQ 37.359375 48.484375 30.078125 48.484375 \nQ 22.859375 48.484375 18.828125 43.109375 \nQ 14.796875 37.75 14.796875 27.984375 \nQ 14.796875 18.265625 18.828125 12.890625 \nQ 22.859375 7.515625 30.078125 7.515625 \nQ 37.359375 7.515625 41.375 12.890625 \nQ 45.40625 18.265625 45.40625 27.984375 \nz\nM 54.390625 6.78125 \nQ 54.390625 -7.171875 48.1875 -13.984375 \nQ 42 -20.796875 29.203125 -20.796875 \nQ 24.46875 -20.796875 20.265625 -20.09375 \nQ 16.0625 -19.390625 12.109375 -17.921875 \nL 12.109375 -9.1875 \nQ 16.0625 -11.328125 19.921875 -12.34375 \nQ 23.78125 -13.375 27.78125 -13.375 \nQ 36.625 -13.375 41.015625 -8.765625 \nQ 45.40625 -4.15625 45.40625 5.171875 \nL 45.40625 9.625 \nQ 42.625 4.78125 38.28125 2.390625 \nQ 33.9375 0 27.875 0 \nQ 17.828125 0 11.671875 7.65625 \nQ 5.515625 15.328125 5.515625 27.984375 \nQ 5.515625 40.671875 11.671875 48.328125 \nQ 17.828125 56 27.875 56 \nQ 33.9375 56 38.28125 53.609375 \nQ 42.625 51.21875 45.40625 46.390625 \nL 45.40625 54.6875 \nL 54.390625 54.6875 \nz\n\" id=\"DejaVuSans-103\"/>\n    </defs>\n    <g transform=\"translate(522.57 16.318125)scale(0.12 -0.12)\">\n     <use xlink:href=\"#DejaVuSans-67\"/>\n     <use x=\"69.824219\" xlink:href=\"#DejaVuSans-104\"/>\n     <use x=\"133.203125\" xlink:href=\"#DejaVuSans-101\"/>\n     <use x=\"194.726562\" xlink:href=\"#DejaVuSans-114\"/>\n     <use x=\"235.839844\" xlink:href=\"#DejaVuSans-98\"/>\n     <use x=\"299.316406\" xlink:href=\"#DejaVuSans-111\"/>\n     <use x=\"360.498047\" xlink:href=\"#DejaVuSans-117\"/>\n     <use x=\"423.876953\" xlink:href=\"#DejaVuSans-114\"/>\n     <use x=\"464.974609\" xlink:href=\"#DejaVuSans-103\"/>\n    </g>\n   </g>\n  </g>\n  <g id=\"axes_3\">\n   <g id=\"patch_32\">\n    <path d=\"M 755.628125 313.718125 \nL 1065.728125 313.718125 \nL 1065.728125 22.318125 \nL 755.628125 22.318125 \nz\n\" style=\"fill:#ffffff;\"/>\n   </g>\n   <g id=\"patch_33\">\n    <path clip-path=\"url(#pd7ad215154)\" d=\"M 769.72358 313.718125 \nL 797.914489 313.718125 \nL 797.914489 36.194315 \nL 769.72358 36.194315 \nz\n\" style=\"fill:#1f77b4;\"/>\n   </g>\n   <g id=\"patch_34\">\n    <path clip-path=\"url(#pd7ad215154)\" d=\"M 797.914489 313.718125 \nL 826.105398 313.718125 \nL 826.105398 265.029737 \nL 797.914489 265.029737 \nz\n\" style=\"fill:#1f77b4;\"/>\n   </g>\n   <g id=\"patch_35\">\n    <path clip-path=\"url(#pd7ad215154)\" d=\"M 826.105398 313.718125 \nL 854.296307 313.718125 \nL 854.296307 274.767415 \nL 826.105398 274.767415 \nz\n\" style=\"fill:#1f77b4;\"/>\n   </g>\n   <g id=\"patch_36\">\n    <path clip-path=\"url(#pd7ad215154)\" d=\"M 854.296307 313.718125 \nL 882.487216 313.718125 \nL 882.487216 313.718125 \nL 854.296307 313.718125 \nz\n\" style=\"fill:#1f77b4;\"/>\n   </g>\n   <g id=\"patch_37\">\n    <path clip-path=\"url(#pd7ad215154)\" d=\"M 882.487216 313.718125 \nL 910.678125 313.718125 \nL 910.678125 313.718125 \nL 882.487216 313.718125 \nz\n\" style=\"fill:#1f77b4;\"/>\n   </g>\n   <g id=\"patch_38\">\n    <path clip-path=\"url(#pd7ad215154)\" d=\"M 910.678125 313.718125 \nL 938.869034 313.718125 \nL 938.869034 313.718125 \nL 910.678125 313.718125 \nz\n\" style=\"fill:#1f77b4;\"/>\n   </g>\n   <g id=\"patch_39\">\n    <path clip-path=\"url(#pd7ad215154)\" d=\"M 938.869034 313.718125 \nL 967.059943 313.718125 \nL 967.059943 313.718125 \nL 938.869034 313.718125 \nz\n\" style=\"fill:#1f77b4;\"/>\n   </g>\n   <g id=\"patch_40\">\n    <path clip-path=\"url(#pd7ad215154)\" d=\"M 967.059943 313.718125 \nL 995.250852 313.718125 \nL 995.250852 313.718125 \nL 967.059943 313.718125 \nz\n\" style=\"fill:#1f77b4;\"/>\n   </g>\n   <g id=\"patch_41\">\n    <path clip-path=\"url(#pd7ad215154)\" d=\"M 995.250852 313.718125 \nL 1023.441761 313.718125 \nL 1023.441761 313.718125 \nL 995.250852 313.718125 \nz\n\" style=\"fill:#1f77b4;\"/>\n   </g>\n   <g id=\"patch_42\">\n    <path clip-path=\"url(#pd7ad215154)\" d=\"M 1023.441761 313.718125 \nL 1051.63267 313.718125 \nL 1051.63267 303.980447 \nL 1023.441761 303.980447 \nz\n\" style=\"fill:#1f77b4;\"/>\n   </g>\n   <g id=\"matplotlib.axis_5\">\n    <g id=\"xtick_13\">\n     <g id=\"line2d_26\">\n      <g>\n       <use style=\"stroke:#000000;stroke-width:0.8;\" x=\"814.591993\" xlink:href=\"#m09cb7a0b0f\" y=\"313.718125\"/>\n      </g>\n     </g>\n     <g id=\"text_30\">\n      <!-- 20 -->\n      <g transform=\"translate(808.229493 328.316562)scale(0.1 -0.1)\">\n       <use xlink:href=\"#DejaVuSans-50\"/>\n       <use x=\"63.623047\" xlink:href=\"#DejaVuSans-48\"/>\n      </g>\n     </g>\n    </g>\n    <g id=\"xtick_14\">\n     <g id=\"line2d_27\">\n      <g>\n       <use style=\"stroke:#000000;stroke-width:0.8;\" x=\"882.317901\" xlink:href=\"#m09cb7a0b0f\" y=\"313.718125\"/>\n      </g>\n     </g>\n     <g id=\"text_31\">\n      <!-- 40 -->\n      <g transform=\"translate(875.955401 328.316562)scale(0.1 -0.1)\">\n       <use xlink:href=\"#DejaVuSans-52\"/>\n       <use x=\"63.623047\" xlink:href=\"#DejaVuSans-48\"/>\n      </g>\n     </g>\n    </g>\n    <g id=\"xtick_15\">\n     <g id=\"line2d_28\">\n      <g>\n       <use style=\"stroke:#000000;stroke-width:0.8;\" x=\"950.043809\" xlink:href=\"#m09cb7a0b0f\" y=\"313.718125\"/>\n      </g>\n     </g>\n     <g id=\"text_32\">\n      <!-- 60 -->\n      <g transform=\"translate(943.681309 328.316562)scale(0.1 -0.1)\">\n       <use xlink:href=\"#DejaVuSans-54\"/>\n       <use x=\"63.623047\" xlink:href=\"#DejaVuSans-48\"/>\n      </g>\n     </g>\n    </g>\n    <g id=\"xtick_16\">\n     <g id=\"line2d_29\">\n      <g>\n       <use style=\"stroke:#000000;stroke-width:0.8;\" x=\"1017.769717\" xlink:href=\"#m09cb7a0b0f\" y=\"313.718125\"/>\n      </g>\n     </g>\n     <g id=\"text_33\">\n      <!-- 80 -->\n      <g transform=\"translate(1011.407217 328.316562)scale(0.1 -0.1)\">\n       <use xlink:href=\"#DejaVuSans-56\"/>\n       <use x=\"63.623047\" xlink:href=\"#DejaVuSans-48\"/>\n      </g>\n     </g>\n    </g>\n    <g id=\"text_34\">\n     <!-- Fare -->\n     <g transform=\"translate(899.614844 341.994687)scale(0.1 -0.1)\">\n      <use xlink:href=\"#DejaVuSans-70\"/>\n      <use x=\"57.378906\" xlink:href=\"#DejaVuSans-97\"/>\n      <use x=\"118.658203\" xlink:href=\"#DejaVuSans-114\"/>\n      <use x=\"159.740234\" xlink:href=\"#DejaVuSans-101\"/>\n     </g>\n    </g>\n   </g>\n   <g id=\"matplotlib.axis_6\">\n    <g id=\"ytick_14\">\n     <g id=\"line2d_30\">\n      <g>\n       <use style=\"stroke:#000000;stroke-width:0.8;\" x=\"755.628125\" xlink:href=\"#mdacfe6dc4a\" y=\"313.718125\"/>\n      </g>\n     </g>\n     <g id=\"text_35\">\n      <!-- 0.00 -->\n      <g transform=\"translate(726.3625 317.517344)scale(0.1 -0.1)\">\n       <use xlink:href=\"#DejaVuSans-48\"/>\n       <use x=\"63.623047\" xlink:href=\"#DejaVuSans-46\"/>\n       <use x=\"95.410156\" xlink:href=\"#DejaVuSans-48\"/>\n       <use x=\"159.033203\" xlink:href=\"#DejaVuSans-48\"/>\n      </g>\n     </g>\n    </g>\n    <g id=\"ytick_15\">\n     <g id=\"line2d_31\">\n      <g>\n       <use style=\"stroke:#000000;stroke-width:0.8;\" x=\"755.628125\" xlink:href=\"#mdacfe6dc4a\" y=\"251.297178\"/>\n      </g>\n     </g>\n     <g id=\"text_36\">\n      <!-- 0.02 -->\n      <g transform=\"translate(726.3625 255.096396)scale(0.1 -0.1)\">\n       <use xlink:href=\"#DejaVuSans-48\"/>\n       <use x=\"63.623047\" xlink:href=\"#DejaVuSans-46\"/>\n       <use x=\"95.410156\" xlink:href=\"#DejaVuSans-48\"/>\n       <use x=\"159.033203\" xlink:href=\"#DejaVuSans-50\"/>\n      </g>\n     </g>\n    </g>\n    <g id=\"ytick_16\">\n     <g id=\"line2d_32\">\n      <g>\n       <use style=\"stroke:#000000;stroke-width:0.8;\" x=\"755.628125\" xlink:href=\"#mdacfe6dc4a\" y=\"188.87623\"/>\n      </g>\n     </g>\n     <g id=\"text_37\">\n      <!-- 0.04 -->\n      <g transform=\"translate(726.3625 192.675449)scale(0.1 -0.1)\">\n       <use xlink:href=\"#DejaVuSans-48\"/>\n       <use x=\"63.623047\" xlink:href=\"#DejaVuSans-46\"/>\n       <use x=\"95.410156\" xlink:href=\"#DejaVuSans-48\"/>\n       <use x=\"159.033203\" xlink:href=\"#DejaVuSans-52\"/>\n      </g>\n     </g>\n    </g>\n    <g id=\"ytick_17\">\n     <g id=\"line2d_33\">\n      <g>\n       <use style=\"stroke:#000000;stroke-width:0.8;\" x=\"755.628125\" xlink:href=\"#mdacfe6dc4a\" y=\"126.455283\"/>\n      </g>\n     </g>\n     <g id=\"text_38\">\n      <!-- 0.06 -->\n      <g transform=\"translate(726.3625 130.254502)scale(0.1 -0.1)\">\n       <use xlink:href=\"#DejaVuSans-48\"/>\n       <use x=\"63.623047\" xlink:href=\"#DejaVuSans-46\"/>\n       <use x=\"95.410156\" xlink:href=\"#DejaVuSans-48\"/>\n       <use x=\"159.033203\" xlink:href=\"#DejaVuSans-54\"/>\n      </g>\n     </g>\n    </g>\n    <g id=\"ytick_18\">\n     <g id=\"line2d_34\">\n      <g>\n       <use style=\"stroke:#000000;stroke-width:0.8;\" x=\"755.628125\" xlink:href=\"#mdacfe6dc4a\" y=\"64.034336\"/>\n      </g>\n     </g>\n     <g id=\"text_39\">\n      <!-- 0.08 -->\n      <g transform=\"translate(726.3625 67.833554)scale(0.1 -0.1)\">\n       <use xlink:href=\"#DejaVuSans-48\"/>\n       <use x=\"63.623047\" xlink:href=\"#DejaVuSans-46\"/>\n       <use x=\"95.410156\" xlink:href=\"#DejaVuSans-48\"/>\n       <use x=\"159.033203\" xlink:href=\"#DejaVuSans-56\"/>\n      </g>\n     </g>\n    </g>\n   </g>\n   <g id=\"patch_43\">\n    <path d=\"M 755.628125 313.718125 \nL 755.628125 22.318125 \n\" style=\"fill:none;stroke:#000000;stroke-linecap:square;stroke-linejoin:miter;stroke-width:0.8;\"/>\n   </g>\n   <g id=\"patch_44\">\n    <path d=\"M 1065.728125 313.718125 \nL 1065.728125 22.318125 \n\" style=\"fill:none;stroke:#000000;stroke-linecap:square;stroke-linejoin:miter;stroke-width:0.8;\"/>\n   </g>\n   <g id=\"patch_45\">\n    <path d=\"M 755.628125 313.718125 \nL 1065.728125 313.718125 \n\" style=\"fill:none;stroke:#000000;stroke-linecap:square;stroke-linejoin:miter;stroke-width:0.8;\"/>\n   </g>\n   <g id=\"patch_46\">\n    <path d=\"M 755.628125 22.318125 \nL 1065.728125 22.318125 \n\" style=\"fill:none;stroke:#000000;stroke-linecap:square;stroke-linejoin:miter;stroke-width:0.8;\"/>\n   </g>\n   <g id=\"text_40\">\n    <!-- Queenstown -->\n    <defs>\n     <path d=\"M 39.40625 66.21875 \nQ 28.65625 66.21875 22.328125 58.203125 \nQ 16.015625 50.203125 16.015625 36.375 \nQ 16.015625 22.609375 22.328125 14.59375 \nQ 28.65625 6.59375 39.40625 6.59375 \nQ 50.140625 6.59375 56.421875 14.59375 \nQ 62.703125 22.609375 62.703125 36.375 \nQ 62.703125 50.203125 56.421875 58.203125 \nQ 50.140625 66.21875 39.40625 66.21875 \nz\nM 53.21875 1.3125 \nL 66.21875 -12.890625 \nL 54.296875 -12.890625 \nL 43.5 -1.21875 \nQ 41.890625 -1.3125 41.03125 -1.359375 \nQ 40.1875 -1.421875 39.40625 -1.421875 \nQ 24.03125 -1.421875 14.8125 8.859375 \nQ 5.609375 19.140625 5.609375 36.375 \nQ 5.609375 53.65625 14.8125 63.9375 \nQ 24.03125 74.21875 39.40625 74.21875 \nQ 54.734375 74.21875 63.90625 63.9375 \nQ 73.09375 53.65625 73.09375 36.375 \nQ 73.09375 23.6875 67.984375 14.640625 \nQ 62.890625 5.609375 53.21875 1.3125 \nz\n\" id=\"DejaVuSans-81\"/>\n     <path d=\"M 44.28125 53.078125 \nL 44.28125 44.578125 \nQ 40.484375 46.53125 36.375 47.5 \nQ 32.28125 48.484375 27.875 48.484375 \nQ 21.1875 48.484375 17.84375 46.4375 \nQ 14.5 44.390625 14.5 40.28125 \nQ 14.5 37.15625 16.890625 35.375 \nQ 19.28125 33.59375 26.515625 31.984375 \nL 29.59375 31.296875 \nQ 39.15625 29.25 43.1875 25.515625 \nQ 47.21875 21.78125 47.21875 15.09375 \nQ 47.21875 7.46875 41.1875 3.015625 \nQ 35.15625 -1.421875 24.609375 -1.421875 \nQ 20.21875 -1.421875 15.453125 -0.5625 \nQ 10.6875 0.296875 5.421875 2 \nL 5.421875 11.28125 \nQ 10.40625 8.6875 15.234375 7.390625 \nQ 20.0625 6.109375 24.8125 6.109375 \nQ 31.15625 6.109375 34.5625 8.28125 \nQ 37.984375 10.453125 37.984375 14.40625 \nQ 37.984375 18.0625 35.515625 20.015625 \nQ 33.0625 21.96875 24.703125 23.78125 \nL 21.578125 24.515625 \nQ 13.234375 26.265625 9.515625 29.90625 \nQ 5.8125 33.546875 5.8125 39.890625 \nQ 5.8125 47.609375 11.28125 51.796875 \nQ 16.75 56 26.8125 56 \nQ 31.78125 56 36.171875 55.265625 \nQ 40.578125 54.546875 44.28125 53.078125 \nz\n\" id=\"DejaVuSans-115\"/>\n     <path d=\"M 4.203125 54.6875 \nL 13.1875 54.6875 \nL 24.421875 12.015625 \nL 35.59375 54.6875 \nL 46.1875 54.6875 \nL 57.421875 12.015625 \nL 68.609375 54.6875 \nL 77.59375 54.6875 \nL 63.28125 0 \nL 52.6875 0 \nL 40.921875 44.828125 \nL 29.109375 0 \nL 18.5 0 \nz\n\" id=\"DejaVuSans-119\"/>\n    </defs>\n    <g transform=\"translate(873.107812 16.318125)scale(0.12 -0.12)\">\n     <use xlink:href=\"#DejaVuSans-81\"/>\n     <use x=\"78.710938\" xlink:href=\"#DejaVuSans-117\"/>\n     <use x=\"142.089844\" xlink:href=\"#DejaVuSans-101\"/>\n     <use x=\"203.613281\" xlink:href=\"#DejaVuSans-101\"/>\n     <use x=\"265.136719\" xlink:href=\"#DejaVuSans-110\"/>\n     <use x=\"328.515625\" xlink:href=\"#DejaVuSans-115\"/>\n     <use x=\"380.615234\" xlink:href=\"#DejaVuSans-116\"/>\n     <use x=\"419.824219\" xlink:href=\"#DejaVuSans-111\"/>\n     <use x=\"481.005859\" xlink:href=\"#DejaVuSans-119\"/>\n     <use x=\"562.792969\" xlink:href=\"#DejaVuSans-110\"/>\n    </g>\n   </g>\n  </g>\n </g>\n <defs>\n  <clipPath id=\"paeb63dd743\">\n   <rect height=\"291.4\" width=\"310.1\" x=\"42.828125\" y=\"22.318125\"/>\n  </clipPath>\n  <clipPath id=\"p9fdd825ef0\">\n   <rect height=\"291.4\" width=\"310.1\" x=\"399.228125\" y=\"22.318125\"/>\n  </clipPath>\n  <clipPath id=\"pd7ad215154\">\n   <rect height=\"291.4\" width=\"310.1\" x=\"755.628125\" y=\"22.318125\"/>\n  </clipPath>\n </defs>\n</svg>\n",
      "text/plain": "<Figure size 1080x360 with 3 Axes>"
     },
     "metadata": {
      "needs_background": "light"
     },
     "output_type": "display_data"
    }
   ],
   "source": [
    "pass_data['Fare'].describe().loc[['min','max','mean']]\n",
    "# min       0.000000\n",
    "# max     512.329200\n",
    "# mean     32.204208\n",
    "pass_data[(pass_data.Embarked == 'S')]['Fare'].describe().loc[['min','max','mean']]\n",
    "# min       0.000000\n",
    "# max     263.000000\n",
    "# mean     27.079812\n",
    "\n",
    "(fig, (ax1, ax2, ax3)) = plt.subplots(1, 3, figsize=(15,5))\n",
    "ax1.hist(pass_data[(pass_data.Embarked =='S')]['Fare'], normed=True)\n",
    "ax1.set_title('Southhampton')\n",
    "ax1.set_xlabel('Fare')\n",
    "ax2.hist(pass_data[(pass_data.Embarked =='C')]['Fare'], normed=True)\n",
    "ax2.set_title('Cherbourg')\n",
    "ax2.set_xlabel('Fare')\n",
    "ax3.hist(pass_data[(pass_data.Embarked =='Q')]['Fare'], normed=True)\n",
    "ax3.set_title('Queenstown')\n",
    "ax3.set_xlabel('Fare')\n",
    "plt.tight_layout()"
   ]
  },
  {
   "cell_type": "markdown",
   "execution_count": null,
   "metadata": {},
   "outputs": [],
   "source": [
    "Все ли признаки несут в себе полезную информацию? Почему? Избавьтесь от ненужных столбцов."
   ]
  },
  {
   "cell_type": "code",
   "execution_count": 40,
   "metadata": {},
   "outputs": [
    {
     "data": {
      "text/html": "<div>\n<style scoped>\n    .dataframe tbody tr th:only-of-type {\n        vertical-align: middle;\n    }\n\n    .dataframe tbody tr th {\n        vertical-align: top;\n    }\n\n    .dataframe thead th {\n        text-align: right;\n    }\n</style>\n<table border=\"1\" class=\"dataframe\">\n  <thead>\n    <tr style=\"text-align: right;\">\n      <th></th>\n      <th>Survived</th>\n      <th>Pclass</th>\n      <th>Name</th>\n      <th>Sex</th>\n      <th>Age</th>\n      <th>SibSp</th>\n      <th>Parch</th>\n      <th>Fare</th>\n      <th>Embarked</th>\n      <th>Relatives</th>\n    </tr>\n  </thead>\n  <tbody>\n    <tr>\n      <td>0</td>\n      <td>0</td>\n      <td>3</td>\n      <td>Braund, Mr. Owen Harris</td>\n      <td>male</td>\n      <td>22.0</td>\n      <td>1</td>\n      <td>0</td>\n      <td>7.2500</td>\n      <td>S</td>\n      <td>2</td>\n    </tr>\n    <tr>\n      <td>1</td>\n      <td>1</td>\n      <td>1</td>\n      <td>Cumings, Mrs. John Bradley (Florence Briggs Th...</td>\n      <td>female</td>\n      <td>38.0</td>\n      <td>1</td>\n      <td>0</td>\n      <td>71.2833</td>\n      <td>C</td>\n      <td>2</td>\n    </tr>\n    <tr>\n      <td>2</td>\n      <td>1</td>\n      <td>3</td>\n      <td>Heikkinen, Miss. Laina</td>\n      <td>female</td>\n      <td>26.0</td>\n      <td>0</td>\n      <td>0</td>\n      <td>7.9250</td>\n      <td>S</td>\n      <td>1</td>\n    </tr>\n    <tr>\n      <td>3</td>\n      <td>1</td>\n      <td>1</td>\n      <td>Futrelle, Mrs. Jacques Heath (Lily May Peel)</td>\n      <td>female</td>\n      <td>35.0</td>\n      <td>1</td>\n      <td>0</td>\n      <td>53.1000</td>\n      <td>S</td>\n      <td>2</td>\n    </tr>\n    <tr>\n      <td>4</td>\n      <td>0</td>\n      <td>3</td>\n      <td>Allen, Mr. William Henry</td>\n      <td>male</td>\n      <td>35.0</td>\n      <td>0</td>\n      <td>0</td>\n      <td>8.0500</td>\n      <td>S</td>\n      <td>1</td>\n    </tr>\n    <tr>\n      <td>...</td>\n      <td>...</td>\n      <td>...</td>\n      <td>...</td>\n      <td>...</td>\n      <td>...</td>\n      <td>...</td>\n      <td>...</td>\n      <td>...</td>\n      <td>...</td>\n      <td>...</td>\n    </tr>\n    <tr>\n      <td>886</td>\n      <td>0</td>\n      <td>2</td>\n      <td>Montvila, Rev. Juozas</td>\n      <td>male</td>\n      <td>27.0</td>\n      <td>0</td>\n      <td>0</td>\n      <td>13.0000</td>\n      <td>S</td>\n      <td>1</td>\n    </tr>\n    <tr>\n      <td>887</td>\n      <td>1</td>\n      <td>1</td>\n      <td>Graham, Miss. Margaret Edith</td>\n      <td>female</td>\n      <td>19.0</td>\n      <td>0</td>\n      <td>0</td>\n      <td>30.0000</td>\n      <td>S</td>\n      <td>1</td>\n    </tr>\n    <tr>\n      <td>888</td>\n      <td>0</td>\n      <td>3</td>\n      <td>Johnston, Miss. Catherine Helen \"Carrie\"</td>\n      <td>female</td>\n      <td>24.0</td>\n      <td>1</td>\n      <td>2</td>\n      <td>23.4500</td>\n      <td>S</td>\n      <td>4</td>\n    </tr>\n    <tr>\n      <td>889</td>\n      <td>1</td>\n      <td>1</td>\n      <td>Behr, Mr. Karl Howell</td>\n      <td>male</td>\n      <td>26.0</td>\n      <td>0</td>\n      <td>0</td>\n      <td>30.0000</td>\n      <td>C</td>\n      <td>1</td>\n    </tr>\n    <tr>\n      <td>890</td>\n      <td>0</td>\n      <td>3</td>\n      <td>Dooley, Mr. Patrick</td>\n      <td>male</td>\n      <td>32.0</td>\n      <td>0</td>\n      <td>0</td>\n      <td>7.7500</td>\n      <td>Q</td>\n      <td>1</td>\n    </tr>\n  </tbody>\n</table>\n<p>891 rows × 10 columns</p>\n</div>",
      "text/plain": "     Survived  Pclass                                               Name  \\\n0           0       3                            Braund, Mr. Owen Harris   \n1           1       1  Cumings, Mrs. John Bradley (Florence Briggs Th...   \n2           1       3                             Heikkinen, Miss. Laina   \n3           1       1       Futrelle, Mrs. Jacques Heath (Lily May Peel)   \n4           0       3                           Allen, Mr. William Henry   \n..        ...     ...                                                ...   \n886         0       2                              Montvila, Rev. Juozas   \n887         1       1                       Graham, Miss. Margaret Edith   \n888         0       3           Johnston, Miss. Catherine Helen \"Carrie\"   \n889         1       1                              Behr, Mr. Karl Howell   \n890         0       3                                Dooley, Mr. Patrick   \n\n        Sex   Age  SibSp  Parch     Fare Embarked  Relatives  \n0      male  22.0      1      0   7.2500        S          2  \n1    female  38.0      1      0  71.2833        C          2  \n2    female  26.0      0      0   7.9250        S          1  \n3    female  35.0      1      0  53.1000        S          2  \n4      male  35.0      0      0   8.0500        S          1  \n..      ...   ...    ...    ...      ...      ...        ...  \n886    male  27.0      0      0  13.0000        S          1  \n887  female  19.0      0      0  30.0000        S          1  \n888  female  24.0      1      2  23.4500        S          4  \n889    male  26.0      0      0  30.0000        C          1  \n890    male  32.0      0      0   7.7500        Q          1  \n\n[891 rows x 10 columns]"
     },
     "execution_count": 40,
     "metadata": {},
     "output_type": "execute_result"
    }
   ],
   "source": [
    "pass_data.drop(['Ticket', 'Cabin', 'PassengerId'], axis=1)# отсутствуют релевантные статистические данные для анализа"
   ]
  },
  {
   "cell_type": "markdown",
   "execution_count": null,
   "metadata": {},
   "outputs": [],
   "source": [
    "### 17"
   ]
  },
  {
   "cell_type": "markdown",
   "execution_count": null,
   "metadata": {},
   "outputs": [],
   "source": [
    "Есть ли в данных пропуски? Если да, то в каких столбцах? Сколько пропусков в каждом из них?"
   ]
  },
  {
   "cell_type": "code",
   "execution_count": null,
   "metadata": {},
   "outputs": [],
   "source": [
    "pass_data.isnull().sum() # your code here"
   ]
  },
  {
   "cell_type": "markdown",
   "execution_count": null,
   "metadata": {},
   "outputs": [],
   "source": [
    "### 18"
   ]
  },
  {
   "cell_type": "markdown",
   "execution_count": null,
   "metadata": {},
   "outputs": [],
   "source": [
    "Подумайте, как стоит заполнить пропуски в каждом столбце в зависимости от его типа, и сделайте это. Проверьте, что пропусков нигде не осталось."
   ]
  },
  {
   "cell_type": "code",
   "execution_count": 30,
   "metadata": {},
   "outputs": [
    {
     "data": {
      "text/plain": "PassengerId    0\nSurvived       0\nPclass         0\nName           0\nSex            0\nAge            0\nSibSp          0\nParch          0\nTicket         0\nFare           0\nCabin          0\nEmbarked       0\nRelatives      0\ndtype: int64"
     },
     "execution_count": 30,
     "metadata": {},
     "output_type": "execute_result"
    }
   ],
   "source": [
    "emb = pass_data.Embarked.dropna().mode()[0]  \n",
    "pass_data['Embarked'] = pass_data['Embarked'].fillna(emb)\n",
    "\n",
    "pass_data[\"Age\"] = pass_data['Age'].fillna(pass_data.Age.mode()[0])\n",
    "\n",
    "pass_data[\"Cabin\"] = pass_data['Cabin'].fillna('maybe lives with relatives')\n",
    "\n",
    "pass_data.isnull().sum()"
   ]
  },
  {
   "cell_type": "markdown",
   "execution_count": null,
   "metadata": {},
   "outputs": [],
   "source": [
    "### 19"
   ]
  },
  {
   "cell_type": "markdown",
   "execution_count": null,
   "metadata": {},
   "outputs": [],
   "source": [
    "Посчитайте, насколько сильно коррелируют друг с другом цена за билет и возраст пассажиров. Также проверьте наличие этой зависимости визуально (в этом вам поможет построение [диаграммы рассеяния](https://ru.wikipedia.org/wiki/%D0%94%D0%B8%D0%B0%D0%B3%D1%80%D0%B0%D0%BC%D0%BC%D0%B0_%D1%80%D0%B0%D1%81%D1%81%D0%B5%D1%8F%D0%BD%D0%B8%D1%8F))."
   ]
  },
  {
   "cell_type": "code",
   "execution_count": 31,
   "metadata": {},
   "outputs": [
    {
     "name": "stdout",
     "output_type": "stream",
     "text": "0.10755403574893892\n"
    }
   ],
   "source": [
    "print(pass_data[\"Age\"].corr(pass_data['Fare']))"
   ]
  },
  {
   "cell_type": "markdown",
   "execution_count": null,
   "metadata": {},
   "outputs": [],
   "source": [
    "### 20"
   ]
  },
  {
   "cell_type": "markdown",
   "execution_count": null,
   "metadata": {},
   "outputs": [],
   "source": [
    "Правда ли, что чаще выживали пассажиры с более дорогими билетами? А есть ли зависимость выживаемости от класса?"
   ]
  },
  {
   "cell_type": "code",
   "execution_count": 32,
   "metadata": {},
   "outputs": [
    {
     "data": {
      "text/html": "<div>\n<style scoped>\n    .dataframe tbody tr th:only-of-type {\n        vertical-align: middle;\n    }\n\n    .dataframe tbody tr th {\n        vertical-align: top;\n    }\n\n    .dataframe thead th {\n        text-align: right;\n    }\n</style>\n<table border=\"1\" class=\"dataframe\">\n  <thead>\n    <tr style=\"text-align: right;\">\n      <th></th>\n      <th>Fare</th>\n    </tr>\n    <tr>\n      <th>Survived</th>\n      <th></th>\n    </tr>\n  </thead>\n  <tbody>\n    <tr>\n      <td>0</td>\n      <td>22.117887</td>\n    </tr>\n    <tr>\n      <td>1</td>\n      <td>48.395408</td>\n    </tr>\n  </tbody>\n</table>\n</div>",
      "text/plain": "               Fare\nSurvived           \n0         22.117887\n1         48.395408"
     },
     "execution_count": 32,
     "metadata": {},
     "output_type": "execute_result"
    }
   ],
   "source": [
    "pass_data[['Fare', 'Survived']].groupby(['Survived']).mean()"
   ]
  },
  {
   "cell_type": "markdown",
   "execution_count": null,
   "metadata": {},
   "outputs": [],
   "source": [
    "### 21"
   ]
  },
  {
   "cell_type": "markdown",
   "execution_count": null,
   "metadata": {},
   "outputs": [],
   "source": [
    "Создание новых признаков (feature engineering) является одним из основных средств улучшения качества работы алгоритмов машинного обучения на этапе обработки данных. Добавьте в таблицу столбец, который будет показывать, сколько родных плыло вместе с пассажиром на корабле, включая его самого. Затем придумайте свой признак, который может быть полезен для алгоритма (несет в себе какую-то информацию), и добавьте его в таблицу."
   ]
  },
  {
   "cell_type": "code",
   "execution_count": 50,
   "metadata": {},
   "outputs": [
    {
     "data": {
      "text/html": "<div>\n<style scoped>\n    .dataframe tbody tr th:only-of-type {\n        vertical-align: middle;\n    }\n\n    .dataframe tbody tr th {\n        vertical-align: top;\n    }\n\n    .dataframe thead th {\n        text-align: right;\n    }\n</style>\n<table border=\"1\" class=\"dataframe\">\n  <thead>\n    <tr style=\"text-align: right;\">\n      <th></th>\n      <th>PassengerId</th>\n      <th>Survived</th>\n      <th>Pclass</th>\n      <th>Name</th>\n      <th>Sex</th>\n      <th>Age</th>\n      <th>SibSp</th>\n      <th>Parch</th>\n      <th>Ticket</th>\n      <th>Fare</th>\n      <th>Cabin</th>\n      <th>Embarked</th>\n      <th>Relatives</th>\n      <th>is_old</th>\n    </tr>\n  </thead>\n  <tbody>\n    <tr>\n      <td>0</td>\n      <td>1</td>\n      <td>0</td>\n      <td>3</td>\n      <td>Braund, Mr. Owen Harris</td>\n      <td>male</td>\n      <td>22.0</td>\n      <td>1</td>\n      <td>0</td>\n      <td>A/5 21171</td>\n      <td>7.2500</td>\n      <td>live with relatives</td>\n      <td>S</td>\n      <td>2</td>\n      <td>0</td>\n    </tr>\n    <tr>\n      <td>1</td>\n      <td>2</td>\n      <td>1</td>\n      <td>1</td>\n      <td>Cumings, Mrs. John Bradley (Florence Briggs Th...</td>\n      <td>female</td>\n      <td>38.0</td>\n      <td>1</td>\n      <td>0</td>\n      <td>PC 17599</td>\n      <td>71.2833</td>\n      <td>C85</td>\n      <td>C</td>\n      <td>2</td>\n      <td>0</td>\n    </tr>\n    <tr>\n      <td>2</td>\n      <td>3</td>\n      <td>1</td>\n      <td>3</td>\n      <td>Heikkinen, Miss. Laina</td>\n      <td>female</td>\n      <td>26.0</td>\n      <td>0</td>\n      <td>0</td>\n      <td>STON/O2. 3101282</td>\n      <td>7.9250</td>\n      <td>live with relatives</td>\n      <td>S</td>\n      <td>1</td>\n      <td>0</td>\n    </tr>\n    <tr>\n      <td>3</td>\n      <td>4</td>\n      <td>1</td>\n      <td>1</td>\n      <td>Futrelle, Mrs. Jacques Heath (Lily May Peel)</td>\n      <td>female</td>\n      <td>35.0</td>\n      <td>1</td>\n      <td>0</td>\n      <td>113803</td>\n      <td>53.1000</td>\n      <td>C123</td>\n      <td>S</td>\n      <td>2</td>\n      <td>0</td>\n    </tr>\n    <tr>\n      <td>4</td>\n      <td>5</td>\n      <td>0</td>\n      <td>3</td>\n      <td>Allen, Mr. William Henry</td>\n      <td>male</td>\n      <td>35.0</td>\n      <td>0</td>\n      <td>0</td>\n      <td>373450</td>\n      <td>8.0500</td>\n      <td>live with relatives</td>\n      <td>S</td>\n      <td>1</td>\n      <td>0</td>\n    </tr>\n  </tbody>\n</table>\n</div>",
      "text/plain": "   PassengerId  Survived  Pclass  \\\n0            1         0       3   \n1            2         1       1   \n2            3         1       3   \n3            4         1       1   \n4            5         0       3   \n\n                                                Name     Sex   Age  SibSp  \\\n0                            Braund, Mr. Owen Harris    male  22.0      1   \n1  Cumings, Mrs. John Bradley (Florence Briggs Th...  female  38.0      1   \n2                             Heikkinen, Miss. Laina  female  26.0      0   \n3       Futrelle, Mrs. Jacques Heath (Lily May Peel)  female  35.0      1   \n4                           Allen, Mr. William Henry    male  35.0      0   \n\n   Parch            Ticket     Fare                Cabin Embarked  Relatives  \\\n0      0         A/5 21171   7.2500  live with relatives        S          2   \n1      0          PC 17599  71.2833                  C85        C          2   \n2      0  STON/O2. 3101282   7.9250  live with relatives        S          1   \n3      0            113803  53.1000                 C123        S          2   \n4      0            373450   8.0500  live with relatives        S          1   \n\n   is_old  \n0       0  \n1       0  \n2       0  \n3       0  \n4       0  "
     },
     "execution_count": 50,
     "metadata": {},
     "output_type": "execute_result"
    }
   ],
   "source": [
    "Relatives = 1 + pass_data['Parch'] + pass_data['SibSp']\n",
    "pass_data['Relatives'] = Relatives\n",
    "pass_data.head()\n",
    "#how many people were retired ones (people were considered retired in 1910s if thay were  over 70 y.o.)\n",
    "is_old = (pass_data.Age > 70).astype(int)\n",
    "pass_data['is_old'] = is_old\n",
    "pass_data.head()"
   ]
  },
  {
   "cell_type": "markdown",
   "execution_count": null,
   "metadata": {},
   "outputs": [],
   "source": [
    "### 22"
   ]
  },
  {
   "cell_type": "markdown",
   "execution_count": null,
   "metadata": {},
   "outputs": [],
   "source": [
    "Придумайте какое-нибудь интересное задание на анализ предлагаемых данных и решите его. Например, какая фамилия была самой популярной на корабле?"
   ]
  },
  {
   "cell_type": "code",
   "execution_count": null,
   "metadata": {},
   "outputs": [],
   "source": [
    "какая часть  детей (<18) не спаслась"
   ]
  },
  {
   "cell_type": "code",
   "execution_count": 37,
   "metadata": {},
   "outputs": [
    {
     "name": "stdout",
     "output_type": "stream",
     "text": "0.46017699115044247\n"
    },
    {
     "data": {
      "text/html": "<div>\n<style scoped>\n    .dataframe tbody tr th:only-of-type {\n        vertical-align: middle;\n    }\n\n    .dataframe tbody tr th {\n        vertical-align: top;\n    }\n\n    .dataframe thead th {\n        text-align: right;\n    }\n</style>\n<table border=\"1\" class=\"dataframe\">\n  <thead>\n    <tr style=\"text-align: right;\">\n      <th></th>\n      <th>PassengerId</th>\n      <th>Survived</th>\n      <th>Pclass</th>\n      <th>Name</th>\n      <th>Sex</th>\n      <th>Age</th>\n      <th>SibSp</th>\n      <th>Parch</th>\n      <th>Ticket</th>\n      <th>Fare</th>\n      <th>Cabin</th>\n      <th>Embarked</th>\n      <th>Relatives</th>\n    </tr>\n  </thead>\n  <tbody>\n    <tr>\n      <td>7</td>\n      <td>8</td>\n      <td>0</td>\n      <td>3</td>\n      <td>Palsson, Master. Gosta Leonard</td>\n      <td>male</td>\n      <td>2.0</td>\n      <td>3</td>\n      <td>1</td>\n      <td>349909</td>\n      <td>21.0750</td>\n      <td>live with relatives</td>\n      <td>S</td>\n      <td>5</td>\n    </tr>\n    <tr>\n      <td>14</td>\n      <td>15</td>\n      <td>0</td>\n      <td>3</td>\n      <td>Vestrom, Miss. Hulda Amanda Adolfina</td>\n      <td>female</td>\n      <td>14.0</td>\n      <td>0</td>\n      <td>0</td>\n      <td>350406</td>\n      <td>7.8542</td>\n      <td>live with relatives</td>\n      <td>S</td>\n      <td>1</td>\n    </tr>\n    <tr>\n      <td>16</td>\n      <td>17</td>\n      <td>0</td>\n      <td>3</td>\n      <td>Rice, Master. Eugene</td>\n      <td>male</td>\n      <td>2.0</td>\n      <td>4</td>\n      <td>1</td>\n      <td>382652</td>\n      <td>29.1250</td>\n      <td>live with relatives</td>\n      <td>Q</td>\n      <td>6</td>\n    </tr>\n    <tr>\n      <td>24</td>\n      <td>25</td>\n      <td>0</td>\n      <td>3</td>\n      <td>Palsson, Miss. Torborg Danira</td>\n      <td>female</td>\n      <td>8.0</td>\n      <td>3</td>\n      <td>1</td>\n      <td>349909</td>\n      <td>21.0750</td>\n      <td>live with relatives</td>\n      <td>S</td>\n      <td>5</td>\n    </tr>\n    <tr>\n      <td>50</td>\n      <td>51</td>\n      <td>0</td>\n      <td>3</td>\n      <td>Panula, Master. Juha Niilo</td>\n      <td>male</td>\n      <td>7.0</td>\n      <td>4</td>\n      <td>1</td>\n      <td>3101295</td>\n      <td>39.6875</td>\n      <td>live with relatives</td>\n      <td>S</td>\n      <td>6</td>\n    </tr>\n    <tr>\n      <td>59</td>\n      <td>60</td>\n      <td>0</td>\n      <td>3</td>\n      <td>Goodwin, Master. William Frederick</td>\n      <td>male</td>\n      <td>11.0</td>\n      <td>5</td>\n      <td>2</td>\n      <td>CA 2144</td>\n      <td>46.9000</td>\n      <td>live with relatives</td>\n      <td>S</td>\n      <td>8</td>\n    </tr>\n    <tr>\n      <td>63</td>\n      <td>64</td>\n      <td>0</td>\n      <td>3</td>\n      <td>Skoog, Master. Harald</td>\n      <td>male</td>\n      <td>4.0</td>\n      <td>3</td>\n      <td>2</td>\n      <td>347088</td>\n      <td>27.9000</td>\n      <td>live with relatives</td>\n      <td>S</td>\n      <td>6</td>\n    </tr>\n    <tr>\n      <td>71</td>\n      <td>72</td>\n      <td>0</td>\n      <td>3</td>\n      <td>Goodwin, Miss. Lillian Amy</td>\n      <td>female</td>\n      <td>16.0</td>\n      <td>5</td>\n      <td>2</td>\n      <td>CA 2144</td>\n      <td>46.9000</td>\n      <td>live with relatives</td>\n      <td>S</td>\n      <td>8</td>\n    </tr>\n    <tr>\n      <td>86</td>\n      <td>87</td>\n      <td>0</td>\n      <td>3</td>\n      <td>Ford, Mr. William Neal</td>\n      <td>male</td>\n      <td>16.0</td>\n      <td>1</td>\n      <td>3</td>\n      <td>W./C. 6608</td>\n      <td>34.3750</td>\n      <td>live with relatives</td>\n      <td>S</td>\n      <td>5</td>\n    </tr>\n    <tr>\n      <td>111</td>\n      <td>112</td>\n      <td>0</td>\n      <td>3</td>\n      <td>Zabour, Miss. Hileni</td>\n      <td>female</td>\n      <td>14.5</td>\n      <td>1</td>\n      <td>0</td>\n      <td>2665</td>\n      <td>14.4542</td>\n      <td>live with relatives</td>\n      <td>C</td>\n      <td>2</td>\n    </tr>\n    <tr>\n      <td>114</td>\n      <td>115</td>\n      <td>0</td>\n      <td>3</td>\n      <td>Attalah, Miss. Malake</td>\n      <td>female</td>\n      <td>17.0</td>\n      <td>0</td>\n      <td>0</td>\n      <td>2627</td>\n      <td>14.4583</td>\n      <td>live with relatives</td>\n      <td>C</td>\n      <td>1</td>\n    </tr>\n    <tr>\n      <td>119</td>\n      <td>120</td>\n      <td>0</td>\n      <td>3</td>\n      <td>Andersson, Miss. Ellis Anna Maria</td>\n      <td>female</td>\n      <td>2.0</td>\n      <td>4</td>\n      <td>2</td>\n      <td>347082</td>\n      <td>31.2750</td>\n      <td>live with relatives</td>\n      <td>S</td>\n      <td>7</td>\n    </tr>\n    <tr>\n      <td>138</td>\n      <td>139</td>\n      <td>0</td>\n      <td>3</td>\n      <td>Osen, Mr. Olaf Elon</td>\n      <td>male</td>\n      <td>16.0</td>\n      <td>0</td>\n      <td>0</td>\n      <td>7534</td>\n      <td>9.2167</td>\n      <td>live with relatives</td>\n      <td>S</td>\n      <td>1</td>\n    </tr>\n    <tr>\n      <td>147</td>\n      <td>148</td>\n      <td>0</td>\n      <td>3</td>\n      <td>Ford, Miss. Robina Maggie \"Ruby\"</td>\n      <td>female</td>\n      <td>9.0</td>\n      <td>2</td>\n      <td>2</td>\n      <td>W./C. 6608</td>\n      <td>34.3750</td>\n      <td>live with relatives</td>\n      <td>S</td>\n      <td>5</td>\n    </tr>\n    <tr>\n      <td>163</td>\n      <td>164</td>\n      <td>0</td>\n      <td>3</td>\n      <td>Calic, Mr. Jovo</td>\n      <td>male</td>\n      <td>17.0</td>\n      <td>0</td>\n      <td>0</td>\n      <td>315093</td>\n      <td>8.6625</td>\n      <td>live with relatives</td>\n      <td>S</td>\n      <td>1</td>\n    </tr>\n    <tr>\n      <td>164</td>\n      <td>165</td>\n      <td>0</td>\n      <td>3</td>\n      <td>Panula, Master. Eino Viljami</td>\n      <td>male</td>\n      <td>1.0</td>\n      <td>4</td>\n      <td>1</td>\n      <td>3101295</td>\n      <td>39.6875</td>\n      <td>live with relatives</td>\n      <td>S</td>\n      <td>6</td>\n    </tr>\n    <tr>\n      <td>171</td>\n      <td>172</td>\n      <td>0</td>\n      <td>3</td>\n      <td>Rice, Master. Arthur</td>\n      <td>male</td>\n      <td>4.0</td>\n      <td>4</td>\n      <td>1</td>\n      <td>382652</td>\n      <td>29.1250</td>\n      <td>live with relatives</td>\n      <td>Q</td>\n      <td>6</td>\n    </tr>\n    <tr>\n      <td>182</td>\n      <td>183</td>\n      <td>0</td>\n      <td>3</td>\n      <td>Asplund, Master. Clarence Gustaf Hugo</td>\n      <td>male</td>\n      <td>9.0</td>\n      <td>4</td>\n      <td>2</td>\n      <td>347077</td>\n      <td>31.3875</td>\n      <td>live with relatives</td>\n      <td>S</td>\n      <td>7</td>\n    </tr>\n    <tr>\n      <td>205</td>\n      <td>206</td>\n      <td>0</td>\n      <td>3</td>\n      <td>Strom, Miss. Telma Matilda</td>\n      <td>female</td>\n      <td>2.0</td>\n      <td>0</td>\n      <td>1</td>\n      <td>347054</td>\n      <td>10.4625</td>\n      <td>G6</td>\n      <td>S</td>\n      <td>2</td>\n    </tr>\n    <tr>\n      <td>266</td>\n      <td>267</td>\n      <td>0</td>\n      <td>3</td>\n      <td>Panula, Mr. Ernesti Arvid</td>\n      <td>male</td>\n      <td>16.0</td>\n      <td>4</td>\n      <td>1</td>\n      <td>3101295</td>\n      <td>39.6875</td>\n      <td>live with relatives</td>\n      <td>S</td>\n      <td>6</td>\n    </tr>\n  </tbody>\n</table>\n</div>",
      "text/plain": "     PassengerId  Survived  Pclass                                   Name  \\\n7              8         0       3         Palsson, Master. Gosta Leonard   \n14            15         0       3   Vestrom, Miss. Hulda Amanda Adolfina   \n16            17         0       3                   Rice, Master. Eugene   \n24            25         0       3          Palsson, Miss. Torborg Danira   \n50            51         0       3             Panula, Master. Juha Niilo   \n59            60         0       3     Goodwin, Master. William Frederick   \n63            64         0       3                  Skoog, Master. Harald   \n71            72         0       3             Goodwin, Miss. Lillian Amy   \n86            87         0       3                 Ford, Mr. William Neal   \n111          112         0       3                   Zabour, Miss. Hileni   \n114          115         0       3                  Attalah, Miss. Malake   \n119          120         0       3      Andersson, Miss. Ellis Anna Maria   \n138          139         0       3                    Osen, Mr. Olaf Elon   \n147          148         0       3       Ford, Miss. Robina Maggie \"Ruby\"   \n163          164         0       3                        Calic, Mr. Jovo   \n164          165         0       3           Panula, Master. Eino Viljami   \n171          172         0       3                   Rice, Master. Arthur   \n182          183         0       3  Asplund, Master. Clarence Gustaf Hugo   \n205          206         0       3             Strom, Miss. Telma Matilda   \n266          267         0       3              Panula, Mr. Ernesti Arvid   \n\n        Sex   Age  SibSp  Parch      Ticket     Fare                Cabin  \\\n7      male   2.0      3      1      349909  21.0750  live with relatives   \n14   female  14.0      0      0      350406   7.8542  live with relatives   \n16     male   2.0      4      1      382652  29.1250  live with relatives   \n24   female   8.0      3      1      349909  21.0750  live with relatives   \n50     male   7.0      4      1     3101295  39.6875  live with relatives   \n59     male  11.0      5      2     CA 2144  46.9000  live with relatives   \n63     male   4.0      3      2      347088  27.9000  live with relatives   \n71   female  16.0      5      2     CA 2144  46.9000  live with relatives   \n86     male  16.0      1      3  W./C. 6608  34.3750  live with relatives   \n111  female  14.5      1      0        2665  14.4542  live with relatives   \n114  female  17.0      0      0        2627  14.4583  live with relatives   \n119  female   2.0      4      2      347082  31.2750  live with relatives   \n138    male  16.0      0      0        7534   9.2167  live with relatives   \n147  female   9.0      2      2  W./C. 6608  34.3750  live with relatives   \n163    male  17.0      0      0      315093   8.6625  live with relatives   \n164    male   1.0      4      1     3101295  39.6875  live with relatives   \n171    male   4.0      4      1      382652  29.1250  live with relatives   \n182    male   9.0      4      2      347077  31.3875  live with relatives   \n205  female   2.0      0      1      347054  10.4625                   G6   \n266    male  16.0      4      1     3101295  39.6875  live with relatives   \n\n    Embarked  Relatives  \n7          S          5  \n14         S          1  \n16         Q          6  \n24         S          5  \n50         S          6  \n59         S          8  \n63         S          6  \n71         S          8  \n86         S          5  \n111        C          2  \n114        C          1  \n119        S          7  \n138        S          1  \n147        S          5  \n163        S          1  \n164        S          6  \n171        Q          6  \n182        S          7  \n205        S          2  \n266        S          6  "
     },
     "execution_count": 37,
     "metadata": {},
     "output_type": "execute_result"
    }
   ],
   "source": [
    "child_Died = pass_data[(pass_data['Age'] < 18) & (pass_data.Survived==0)].shape[0] \n",
    "child = pass_data[(pass_data['Age'] < 18)].shape[0]\n",
    "print(child_Died / child)"
   ]
  },
  {
   "cell_type": "markdown",
   "execution_count": null,
   "metadata": {},
   "outputs": [],
   "source": [
    "### 23"
   ]
  },
  {
   "cell_type": "markdown",
   "execution_count": null,
   "metadata": {},
   "outputs": [],
   "source": [
    "Постройте гистограммы распределения вещественных признаков. Есть ли в них разница? Чем это может быть плохо с точки зрения машинного обучения? Отнормируйте вещественные признаки и посмотрите, как изменилась ситуация."
   ]
  },
  {
   "cell_type": "code",
   "execution_count": null,
   "metadata": {},
   "outputs": [],
   "source": [
    "(fig, (ax1, ax2)) = plt.subplots(1, 2, figsize=(15,6))\n",
    "ax1.hist(pass_data.Age, normed=True)\n",
    "ax2.hist(pass_data.Fare, normed=True)\n",
    "ax1.set_title('Age distributed')\n",
    "ax2.set_title('Fare distributed')\n",
    "plt.show()\n",
    "# отсутствие нормировки - нет возможности сопоставлять различные данные"
   ]
  },
  {
   "cell_type": "markdown",
   "execution_count": null,
   "metadata": {},
   "outputs": [],
   "source": [
    "### 24"
   ]
  },
  {
   "cell_type": "markdown",
   "execution_count": null,
   "metadata": {},
   "outputs": [],
   "source": [
    "Есть ли в данных категориальные признаки, которые принимают значения строк, а не чисел? Если да, то для многих алгоритмов машинного обучения это может стать серьезным препятствием, поэтому закодируйте категориальные признаки так, чтобы к данным можно было применить любые алгоритмы машинного обучения."
   ]
  },
  {
   "cell_type": "code",
   "execution_count": 12,
   "metadata": {},
   "outputs": [
    {
     "data": {
      "text/html": "<div>\n<style scoped>\n    .dataframe tbody tr th:only-of-type {\n        vertical-align: middle;\n    }\n\n    .dataframe tbody tr th {\n        vertical-align: top;\n    }\n\n    .dataframe thead th {\n        text-align: right;\n    }\n</style>\n<table border=\"1\" class=\"dataframe\">\n  <thead>\n    <tr style=\"text-align: right;\">\n      <th></th>\n      <th>PassengerId</th>\n      <th>Survived</th>\n      <th>Pclass</th>\n      <th>Name</th>\n      <th>Sex</th>\n      <th>Age</th>\n      <th>SibSp</th>\n      <th>Parch</th>\n      <th>Ticket</th>\n      <th>Fare</th>\n      <th>Cabin</th>\n      <th>Embarked</th>\n    </tr>\n  </thead>\n  <tbody>\n    <tr>\n      <td>0</td>\n      <td>1</td>\n      <td>0</td>\n      <td>3</td>\n      <td>Braund, Mr. Owen Harris</td>\n      <td>0</td>\n      <td>22.0</td>\n      <td>1</td>\n      <td>0</td>\n      <td>A/5 21171</td>\n      <td>7.2500</td>\n      <td>live with relatives</td>\n      <td>1</td>\n    </tr>\n    <tr>\n      <td>1</td>\n      <td>2</td>\n      <td>1</td>\n      <td>1</td>\n      <td>Cumings, Mrs. John Bradley (Florence Briggs Th...</td>\n      <td>1</td>\n      <td>38.0</td>\n      <td>1</td>\n      <td>0</td>\n      <td>PC 17599</td>\n      <td>71.2833</td>\n      <td>C85</td>\n      <td>2</td>\n    </tr>\n    <tr>\n      <td>2</td>\n      <td>3</td>\n      <td>1</td>\n      <td>3</td>\n      <td>Heikkinen, Miss. Laina</td>\n      <td>1</td>\n      <td>26.0</td>\n      <td>0</td>\n      <td>0</td>\n      <td>STON/O2. 3101282</td>\n      <td>7.9250</td>\n      <td>live with relatives</td>\n      <td>1</td>\n    </tr>\n    <tr>\n      <td>3</td>\n      <td>4</td>\n      <td>1</td>\n      <td>1</td>\n      <td>Futrelle, Mrs. Jacques Heath (Lily May Peel)</td>\n      <td>1</td>\n      <td>35.0</td>\n      <td>1</td>\n      <td>0</td>\n      <td>113803</td>\n      <td>53.1000</td>\n      <td>C123</td>\n      <td>1</td>\n    </tr>\n    <tr>\n      <td>4</td>\n      <td>5</td>\n      <td>0</td>\n      <td>3</td>\n      <td>Allen, Mr. William Henry</td>\n      <td>0</td>\n      <td>35.0</td>\n      <td>0</td>\n      <td>0</td>\n      <td>373450</td>\n      <td>8.0500</td>\n      <td>live with relatives</td>\n      <td>1</td>\n    </tr>\n  </tbody>\n</table>\n</div>",
      "text/plain": "   PassengerId  Survived  Pclass  \\\n0            1         0       3   \n1            2         1       1   \n2            3         1       3   \n3            4         1       1   \n4            5         0       3   \n\n                                                Name  Sex   Age  SibSp  Parch  \\\n0                            Braund, Mr. Owen Harris    0  22.0      1      0   \n1  Cumings, Mrs. John Bradley (Florence Briggs Th...    1  38.0      1      0   \n2                             Heikkinen, Miss. Laina    1  26.0      0      0   \n3       Futrelle, Mrs. Jacques Heath (Lily May Peel)    1  35.0      1      0   \n4                           Allen, Mr. William Henry    0  35.0      0      0   \n\n             Ticket     Fare                Cabin  Embarked  \n0         A/5 21171   7.2500  live with relatives         1  \n1          PC 17599  71.2833                  C85         2  \n2  STON/O2. 3101282   7.9250  live with relatives         1  \n3            113803  53.1000                 C123         1  \n4            373450   8.0500  live with relatives         1  "
     },
     "execution_count": 12,
     "metadata": {},
     "output_type": "execute_result"
    }
   ],
   "source": [
    "p_d = pass_data.copy()\n",
    "p_d.Embarked = p_d.Embarked.map({'S': 1, 'C': 2, 'Q': 3}).astype(int)\n",
    "p_d.Sex = p_d.Sex.map({'male': 0, 'female': 1}).astype(int)\n",
    "p_d.head()"
   ]
  },
  {
   "cell_type": "markdown",
   "execution_count": null,
   "metadata": {},
   "outputs": [],
   "source": [
    "# Часть 3. Matplotlib"
   ]
  },
  {
   "cell_type": "markdown",
   "execution_count": null,
   "metadata": {},
   "outputs": [],
   "source": [
    "### 25"
   ]
  },
  {
   "cell_type": "code",
   "execution_count": null,
   "metadata": {},
   "outputs": [],
   "source": [
    "(fig, (ax1, ax2, ax3)) = plt.subplots(1, 3, figsize=(13,6), sharey=True)\n",
    "ax1.hist(pass_data[(pass_data.Pclass == 1)]['Age'], edgecolor='black', bins=20, normed=True)\n",
    "ax1.set_title('Class 1')\n",
    "ax1.set_ylabel('Scaled number of passangers')\n",
    "ax1.set_xlabel('Age')\n",
    "ax2.hist(pass_data[(pass_data.Pclass == 2)]['Age'], edgecolor='black',  bins=20, normed=True)\n",
    "ax2.set_title('Class 2')\n",
    "ax2.set_xlabel('Age')\n",
    "ax3.hist(pass_data[(pass_data.Pclass == 3)]['Age'], edgecolor='black',  bins=20, normed=True)\n",
    "ax3.set_title('Class 3')\n",
    "ax3.set_xlabel('Age')\n",
    "\n",
    "\n",
    "plt.tight_layout()"
   ]
  },
  {
   "cell_type": "markdown",
   "execution_count": null,
   "metadata": {},
   "outputs": [],
   "source": [
    "Отобразите гистограмму распределения возрастов для каждого класса пассажиров. В результате вы должны получить три гистограммы, которые необходимо отобразить друг рядом с другом, используя функцию `plt.subplots`. Каждая гистограмма должна быть нормирована. Обратите внимание на параметры `figsize`, `sharey` функции `plt.subplots`. Также полезными могут оказаться параметры `bins`, `ec`, `density` функции `plt.hist`, а также функции `set_xlabel`, `set_ylabel`, `set_title` и `plt.tight_layout`."
   ]
  },
  {
   "cell_type": "code",
   "execution_count": null,
   "metadata": {},
   "outputs": [],
   "source": [
    "# В итоге ваш график должен получиться примерно таким:"
   ]
  },
  {
   "cell_type": "markdown",
   "execution_count": null,
   "metadata": {},
   "outputs": [],
   "source": [
    "### 26"
   ]
  },
  {
   "cell_type": "markdown",
   "execution_count": null,
   "metadata": {},
   "outputs": [],
   "source": [
    "Нарисуйте график косинуса для `x` от `-1` до `5`. Также пунктирной линией изобразите график синуса для `x` на том же промежутке. Укажите на графике легенду."
   ]
  },
  {
   "cell_type": "code",
   "execution_count": null,
   "metadata": {},
   "outputs": [],
   "source": [
    "x = np.linspace(-1, 5, 100)\n",
    "plt.figure(figsize=(10,8))\n",
    "plt.plot(x, np.sin(x), label='sin(x)', linestyle='dashed')\n",
    "plt.plot(x, np.cos(x), label='cos(x)')\n",
    "\n",
    "plt.legend();\n",
    "plt.show()# В итоге ваш график должен получиться примерно таким:"
   ]
  },
  {
   "cell_type": "markdown",
   "execution_count": null,
   "metadata": {},
   "outputs": [],
   "source": [
    "### 27"
   ]
  },
  {
   "cell_type": "code",
   "execution_count": 3,
   "metadata": {},
   "outputs": [
    {
     "data": {
      "image/png": "[encoded data removed]",
      "image/svg+xml": "<?xml version=\"1.0\" encoding=\"utf-8\" standalone=\"no\"?>\n<!DOCTYPE svg PUBLIC \"-//W3C//DTD SVG 1.1//EN\"\n  \"http://www.w3.org/Graphics/SVG/1.1/DTD/svg11.dtd\">\n<!-- Created with matplotlib (https://matplotlib.org/) -->\n<svg height=\"494.754375pt\" version=\"1.1\" viewBox=\"0 0 667.965625 494.754375\" width=\"667.965625pt\" xmlns=\"http://www.w3.org/2000/svg\" xmlns:xlink=\"http://www.w3.org/1999/xlink\">\n <defs>\n  <style type=\"text/css\">\n*{stroke-linecap:butt;stroke-linejoin:round;}\n  </style>\n </defs>\n <g id=\"figure_1\">\n  <g id=\"patch_1\">\n   <path d=\"M 0 494.754375 \nL 667.965625 494.754375 \nL 667.965625 0 \nL 0 0 \nz\n\" style=\"fill:none;\"/>\n  </g>\n  <g id=\"axes_1\">\n   <g id=\"patch_2\">\n    <path d=\"M 46.965625 457.198125 \nL 660.765625 457.198125 \nL 660.765625 22.318125 \nL 46.965625 22.318125 \nz\n\" style=\"fill:#ffffff;\"/>\n   </g>\n   <g id=\"PathCollection_1\">\n    <defs>\n     <path d=\"M -0 2.95804 \nL 2.95804 -2.95804 \nL -2.95804 -2.95804 \nz\n\" id=\"m492a39a0f8\" style=\"stroke:#1f77b4;\"/>\n    </defs>\n    <g clip-path=\"url(#p2b32932617)\">\n     <use style=\"fill:#1f77b4;stroke:#1f77b4;\" x=\"338.371397\" xlink:href=\"#m492a39a0f8\" y=\"379.897304\"/>\n     <use style=\"fill:#1f77b4;stroke:#1f77b4;\" x=\"254.239843\" xlink:href=\"#m492a39a0f8\" y=\"428.424811\"/>\n     <use style=\"fill:#1f77b4;stroke:#1f77b4;\" x=\"317.338508\" xlink:href=\"#m492a39a0f8\" y=\"393.824291\"/>\n     <use style=\"fill:#1f77b4;stroke:#1f77b4;\" x=\"261.250805\" xlink:href=\"#m492a39a0f8\" y=\"425.967504\"/>\n     <use style=\"fill:#1f77b4;stroke:#1f77b4;\" x=\"170.108288\" xlink:href=\"#m492a39a0f8\" y=\"411.462859\"/>\n     <use style=\"fill:#1f77b4;stroke:#1f77b4;\" x=\"99.998659\" xlink:href=\"#m492a39a0f8\" y=\"421.703847\"/>\n     <use style=\"fill:#1f77b4;stroke:#1f77b4;\" x=\"478.590654\" xlink:href=\"#m492a39a0f8\" y=\"414.159516\"/>\n     <use style=\"fill:#1f77b4;stroke:#1f77b4;\" x=\"457.557766\" xlink:href=\"#m492a39a0f8\" y=\"422.239992\"/>\n     <use style=\"fill:#1f77b4;stroke:#1f77b4;\" x=\"310.327546\" xlink:href=\"#m492a39a0f8\" y=\"424.537758\"/>\n     <use style=\"fill:#1f77b4;stroke:#1f77b4;\" x=\"177.119251\" xlink:href=\"#m492a39a0f8\" y=\"428.345002\"/>\n     <use style=\"fill:#1f77b4;stroke:#1f77b4;\" x=\"268.261768\" xlink:href=\"#m492a39a0f8\" y=\"407.304516\"/>\n     <use style=\"fill:#1f77b4;stroke:#1f77b4;\" x=\"338.371397\" xlink:href=\"#m492a39a0f8\" y=\"410.454369\"/>\n     <use style=\"fill:#1f77b4;stroke:#1f77b4;\" x=\"170.108288\" xlink:href=\"#m492a39a0f8\" y=\"425.884478\"/>\n     <use style=\"fill:#1f77b4;stroke:#1f77b4;\" x=\"92.987697\" xlink:href=\"#m492a39a0f8\" y=\"402.648324\"/>\n     <use style=\"fill:#1f77b4;stroke:#1f77b4;\" x=\"205.163103\" xlink:href=\"#m492a39a0f8\" y=\"428.45989\"/>\n     <use style=\"fill:#1f77b4;stroke:#1f77b4;\" x=\"415.491989\" xlink:href=\"#m492a39a0f8\" y=\"375.72617\"/>\n     <use style=\"fill:#1f77b4;stroke:#1f77b4;\" x=\"275.272731\" xlink:href=\"#m492a39a0f8\" y=\"414.580773\"/>\n     <use style=\"fill:#1f77b4;stroke:#1f77b4;\" x=\"219.185028\" xlink:href=\"#m492a39a0f8\" y=\"426.452562\"/>\n     <use style=\"fill:#1f77b4;stroke:#1f77b4;\" x=\"107.009622\" xlink:href=\"#m492a39a0f8\" y=\"413.24041\"/>\n     <use style=\"fill:#1f77b4;stroke:#1f77b4;\" x=\"338.371397\" xlink:href=\"#m492a39a0f8\" y=\"373.220993\"/>\n     <use style=\"fill:#1f77b4;stroke:#1f77b4;\" x=\"275.272731\" xlink:href=\"#m492a39a0f8\" y=\"426.452562\"/>\n     <use style=\"fill:#1f77b4;stroke:#1f77b4;\" x=\"191.141177\" xlink:href=\"#m492a39a0f8\" y=\"428.424811\"/>\n     <use style=\"fill:#1f77b4;stroke:#1f77b4;\" x=\"296.30562\" xlink:href=\"#m492a39a0f8\" y=\"391.223374\"/>\n     <use style=\"fill:#1f77b4;stroke:#1f77b4;\" x=\"77.773907\" xlink:href=\"#m492a39a0f8\" y=\"412.283008\"/>\n     <use style=\"fill:#1f77b4;stroke:#1f77b4;\" x=\"282.283694\" xlink:href=\"#m492a39a0f8\" y=\"424.939867\"/>\n     <use style=\"fill:#1f77b4;stroke:#1f77b4;\" x=\"275.272731\" xlink:href=\"#m492a39a0f8\" y=\"427.218484\"/>\n     <use style=\"fill:#1f77b4;stroke:#1f77b4;\" x=\"191.141177\" xlink:href=\"#m492a39a0f8\" y=\"426.452562\"/>\n     <use style=\"fill:#1f77b4;stroke:#1f77b4;\" x=\"303.316583\" xlink:href=\"#m492a39a0f8\" y=\"422.35488\"/>\n     <use style=\"fill:#1f77b4;stroke:#1f77b4;\" x=\"233.206954\" xlink:href=\"#m492a39a0f8\" y=\"233.057292\"/>\n     <use style=\"fill:#1f77b4;stroke:#1f77b4;\" x=\"233.206954\" xlink:href=\"#m492a39a0f8\" y=\"385.967235\"/>\n     <use style=\"fill:#1f77b4;stroke:#1f77b4;\" x=\"310.327546\" xlink:href=\"#m492a39a0f8\" y=\"416.878539\"/>\n     <use style=\"fill:#1f77b4;stroke:#1f77b4;\" x=\"219.185028\" xlink:href=\"#m492a39a0f8\" y=\"428.63544\"/>\n     <use style=\"fill:#1f77b4;stroke:#1f77b4;\" x=\"299.811101\" xlink:href=\"#m492a39a0f8\" y=\"424.537758\"/>\n     <use style=\"fill:#1f77b4;stroke:#1f77b4;\" x=\"156.086362\" xlink:href=\"#m492a39a0f8\" y=\"425.884478\"/>\n     <use style=\"fill:#1f77b4;stroke:#1f77b4;\" x=\"240.217917\" xlink:href=\"#m492a39a0f8\" y=\"429.024758\"/>\n     <use style=\"fill:#1f77b4;stroke:#1f77b4;\" x=\"275.272731\" xlink:href=\"#m492a39a0f8\" y=\"414.580773\"/>\n     <use style=\"fill:#1f77b4;stroke:#1f77b4;\" x=\"205.163103\" xlink:href=\"#m492a39a0f8\" y=\"414.363788\"/>\n     <use style=\"fill:#1f77b4;stroke:#1f77b4;\" x=\"226.195991\" xlink:href=\"#m492a39a0f8\" y=\"428.558847\"/>\n     <use style=\"fill:#1f77b4;stroke:#1f77b4;\" x=\"240.217917\" xlink:href=\"#m492a39a0f8\" y=\"422.35488\"/>\n     <use style=\"fill:#1f77b4;stroke:#1f77b4;\" x=\"261.250805\" xlink:href=\"#m492a39a0f8\" y=\"428.523768\"/>\n     <use style=\"fill:#1f77b4;stroke:#1f77b4;\" x=\"226.195991\" xlink:href=\"#m492a39a0f8\" y=\"383.484346\"/>\n     <use style=\"fill:#1f77b4;stroke:#1f77b4;\" x=\"184.130214\" xlink:href=\"#m492a39a0f8\" y=\"428.571638\"/>\n     <use style=\"fill:#1f77b4;stroke:#1f77b4;\" x=\"352.393323\" xlink:href=\"#m492a39a0f8\" y=\"422.431473\"/>\n     <use style=\"fill:#1f77b4;stroke:#1f77b4;\" x=\"135.053474\" xlink:href=\"#m492a39a0f8\" y=\"418.774196\"/>\n     <use style=\"fill:#1f77b4;stroke:#1f77b4;\" x=\"78.965771\" xlink:href=\"#m492a39a0f8\" y=\"425.967504\"/>\n     <use style=\"fill:#1f77b4;stroke:#1f77b4;\" x=\"78.965771\" xlink:href=\"#m492a39a0f8\" y=\"404.623789\"/>\n     <use style=\"fill:#1f77b4;stroke:#1f77b4;\" x=\"99.998659\" xlink:href=\"#m492a39a0f8\" y=\"417.625313\"/>\n     <use style=\"fill:#1f77b4;stroke:#1f77b4;\" x=\"387.448137\" xlink:href=\"#m492a39a0f8\" y=\"414.159516\"/>\n     <use style=\"fill:#1f77b4;stroke:#1f77b4;\" x=\"296.30562\" xlink:href=\"#m492a39a0f8\" y=\"424.537758\"/>\n     <use style=\"fill:#1f77b4;stroke:#1f77b4;\" x=\"205.163103\" xlink:href=\"#m492a39a0f8\" y=\"428.479038\"/>\n     <use style=\"fill:#1f77b4;stroke:#1f77b4;\" x=\"92.987697\" xlink:href=\"#m492a39a0f8\" y=\"414.580773\"/>\n     <use style=\"fill:#1f77b4;stroke:#1f77b4;\" x=\"380.437174\" xlink:href=\"#m492a39a0f8\" y=\"413.262775\"/>\n     <use style=\"fill:#1f77b4;stroke:#1f77b4;\" x=\"478.590654\" xlink:href=\"#m492a39a0f8\" y=\"322.271258\"/>\n     <use style=\"fill:#1f77b4;stroke:#1f77b4;\" x=\"198.15214\" xlink:href=\"#m492a39a0f8\" y=\"428.329071\"/>\n     <use style=\"fill:#1f77b4;stroke:#1f77b4;\" x=\"254.239843\" xlink:href=\"#m492a39a0f8\" y=\"420.104985\"/>\n     <use style=\"fill:#1f77b4;stroke:#1f77b4;\" x=\"184.130214\" xlink:href=\"#m492a39a0f8\" y=\"428.558847\"/>\n     <use style=\"fill:#1f77b4;stroke:#1f77b4;\" x=\"352.393323\" xlink:href=\"#m492a39a0f8\" y=\"410.751164\"/>\n     <use style=\"fill:#1f77b4;stroke:#1f77b4;\" x=\"317.338508\" xlink:href=\"#m492a39a0f8\" y=\"418.410383\"/>\n     <use style=\"fill:#1f77b4;stroke:#1f77b4;\" x=\"289.294657\" xlink:href=\"#m492a39a0f8\" y=\"347.734943\"/>\n     <use style=\"fill:#1f77b4;stroke:#1f77b4;\" x=\"261.250805\" xlink:href=\"#m492a39a0f8\" y=\"428.424811\"/>\n     <use style=\"fill:#1f77b4;stroke:#1f77b4;\" x=\"296.30562\" xlink:href=\"#m492a39a0f8\" y=\"376.061261\"/>\n     <use style=\"fill:#1f77b4;stroke:#1f77b4;\" x=\"184.130214\" xlink:href=\"#m492a39a0f8\" y=\"428.329071\"/>\n     <use style=\"fill:#1f77b4;stroke:#1f77b4;\" x=\"338.371397\" xlink:href=\"#m492a39a0f8\" y=\"365.561774\"/>\n     <use style=\"fill:#1f77b4;stroke:#1f77b4;\" x=\"205.163103\" xlink:href=\"#m492a39a0f8\" y=\"426.452562\"/>\n     <use style=\"fill:#1f77b4;stroke:#1f77b4;\" x=\"317.338508\" xlink:href=\"#m492a39a0f8\" y=\"370.559415\"/>\n     <use style=\"fill:#1f77b4;stroke:#1f77b4;\" x=\"107.009622\" xlink:href=\"#m492a39a0f8\" y=\"410.454369\"/>\n     <use style=\"fill:#1f77b4;stroke:#1f77b4;\" x=\"128.042511\" xlink:href=\"#m492a39a0f8\" y=\"414.389293\"/>\n     <use style=\"fill:#1f77b4;stroke:#1f77b4;\" x=\"240.217917\" xlink:href=\"#m492a39a0f8\" y=\"423.388875\"/>\n     <use style=\"fill:#1f77b4;stroke:#1f77b4;\" x=\"331.360434\" xlink:href=\"#m492a39a0f8\" y=\"394.242331\"/>\n     <use style=\"fill:#1f77b4;stroke:#1f77b4;\" x=\"275.272731\" xlink:href=\"#m492a39a0f8\" y=\"422.81765\"/>\n     <use style=\"fill:#1f77b4;stroke:#1f77b4;\" x=\"282.283694\" xlink:href=\"#m492a39a0f8\" y=\"368.242501\"/>\n     <use style=\"fill:#1f77b4;stroke:#1f77b4;\" x=\"317.338508\" xlink:href=\"#m492a39a0f8\" y=\"42.090608\"/>\n     <use style=\"fill:#1f77b4;stroke:#1f77b4;\" x=\"422.502951\" xlink:href=\"#m492a39a0f8\" y=\"414.580773\"/>\n     <use style=\"fill:#1f77b4;stroke:#1f77b4;\" x=\"92.987697\" xlink:href=\"#m492a39a0f8\" y=\"410.454369\"/>\n     <use style=\"fill:#1f77b4;stroke:#1f77b4;\" x=\"247.22888\" xlink:href=\"#m492a39a0f8\" y=\"428.539699\"/>\n     <use style=\"fill:#1f77b4;stroke:#1f77b4;\" x=\"478.590654\" xlink:href=\"#m492a39a0f8\" y=\"316.954458\"/>\n     <use style=\"fill:#1f77b4;stroke:#1f77b4;\" x=\"317.338508\" xlink:href=\"#m492a39a0f8\" y=\"330.610232\"/>\n     <use style=\"fill:#1f77b4;stroke:#1f77b4;\" x=\"247.22888\" xlink:href=\"#m492a39a0f8\" y=\"434.494742\"/>\n     <use style=\"fill:#1f77b4;stroke:#1f77b4;\" x=\"359.404286\" xlink:href=\"#m492a39a0f8\" y=\"419.559266\"/>\n     <use style=\"fill:#1f77b4;stroke:#1f77b4;\" x=\"513.645469\" xlink:href=\"#m492a39a0f8\" y=\"374.784776\"/>\n     <use style=\"fill:#1f77b4;stroke:#1f77b4;\" x=\"317.338508\" xlink:href=\"#m492a39a0f8\" y=\"418.984824\"/>\n     <use style=\"fill:#1f77b4;stroke:#1f77b4;\" x=\"205.163103\" xlink:href=\"#m492a39a0f8\" y=\"428.329071\"/>\n     <use style=\"fill:#1f77b4;stroke:#1f77b4;\" x=\"282.283694\" xlink:href=\"#m492a39a0f8\" y=\"427.218484\"/>\n     <use style=\"fill:#1f77b4;stroke:#1f77b4;\" x=\"366.415249\" xlink:href=\"#m492a39a0f8\" y=\"424.537758\"/>\n     <use style=\"fill:#1f77b4;stroke:#1f77b4;\" x=\"226.195991\" xlink:href=\"#m492a39a0f8\" y=\"428.558847\"/>\n     <use style=\"fill:#1f77b4;stroke:#1f77b4;\" x=\"254.239843\" xlink:href=\"#m492a39a0f8\" y=\"374.101803\"/>\n     <use style=\"fill:#1f77b4;stroke:#1f77b4;\" x=\"205.163103\" xlink:href=\"#m492a39a0f8\" y=\"364.735191\"/>\n     <use style=\"fill:#1f77b4;stroke:#1f77b4;\" x=\"422.502951\" xlink:href=\"#m492a39a0f8\" y=\"244.91315\"/>\n     <use style=\"fill:#1f77b4;stroke:#1f77b4;\" x=\"78.404894\" xlink:href=\"#m492a39a0f8\" y=\"318.419284\"/>\n     <use style=\"fill:#1f77b4;stroke:#1f77b4;\" x=\"191.141177\" xlink:href=\"#m492a39a0f8\" y=\"351.085851\"/>\n     <use style=\"fill:#1f77b4;stroke:#1f77b4;\" x=\"282.283694\" xlink:href=\"#m492a39a0f8\" y=\"390.891423\"/>\n     <use style=\"fill:#1f77b4;stroke:#1f77b4;\" x=\"240.217917\" xlink:href=\"#m492a39a0f8\" y=\"370.801982\"/>\n     <use style=\"fill:#1f77b4;stroke:#1f77b4;\" x=\"198.15214\" xlink:href=\"#m492a39a0f8\" y=\"233.535994\"/>\n     <use style=\"fill:#1f77b4;stroke:#1f77b4;\" x=\"254.239843\" xlink:href=\"#m492a39a0f8\" y=\"428.479038\"/>\n     <use style=\"fill:#1f77b4;stroke:#1f77b4;\" x=\"240.217917\" xlink:href=\"#m492a39a0f8\" y=\"414.580773\"/>\n     <use style=\"fill:#1f77b4;stroke:#1f77b4;\" x=\"289.294657\" xlink:href=\"#m492a39a0f8\" y=\"308.219732\"/>\n     <use style=\"fill:#1f77b4;stroke:#1f77b4;\" x=\"352.393323\" xlink:href=\"#m492a39a0f8\" y=\"331.478252\"/>\n     <use style=\"fill:#1f77b4;stroke:#1f77b4;\" x=\"282.283694\" xlink:href=\"#m492a39a0f8\" y=\"425.035607\"/>\n     <use style=\"fill:#1f77b4;stroke:#1f77b4;\" x=\"226.195991\" xlink:href=\"#m492a39a0f8\" y=\"412.283008\"/>\n     <use style=\"fill:#1f77b4;stroke:#1f77b4;\" x=\"324.349471\" xlink:href=\"#m492a39a0f8\" y=\"330.610232\"/>\n     <use style=\"fill:#1f77b4;stroke:#1f77b4;\" x=\"324.349471\" xlink:href=\"#m492a39a0f8\" y=\"424.537758\"/>\n     <use style=\"fill:#1f77b4;stroke:#1f77b4;\" x=\"289.294657\" xlink:href=\"#m492a39a0f8\" y=\"418.774196\"/>\n     <use style=\"fill:#1f77b4;stroke:#1f77b4;\" x=\"184.130214\" xlink:href=\"#m492a39a0f8\" y=\"390.087205\"/>\n     <use style=\"fill:#1f77b4;stroke:#1f77b4;\" x=\"359.404286\" xlink:href=\"#m492a39a0f8\" y=\"331.478252\"/>\n     <use style=\"fill:#1f77b4;stroke:#1f77b4;\" x=\"387.448137\" xlink:href=\"#m492a39a0f8\" y=\"428.329071\"/>\n     <use style=\"fill:#1f77b4;stroke:#1f77b4;\" x=\"85.976734\" xlink:href=\"#m492a39a0f8\" y=\"414.580773\"/>\n     <use style=\"fill:#1f77b4;stroke:#1f77b4;\" x=\"240.217917\" xlink:href=\"#m492a39a0f8\" y=\"233.057292\"/>\n     <use style=\"fill:#1f77b4;stroke:#1f77b4;\" x=\"240.217917\" xlink:href=\"#m492a39a0f8\" y=\"424.537758\"/>\n     <use style=\"fill:#1f77b4;stroke:#1f77b4;\" x=\"352.393323\" xlink:href=\"#m492a39a0f8\" y=\"424.537758\"/>\n     <use style=\"fill:#1f77b4;stroke:#1f77b4;\" x=\"92.987697\" xlink:href=\"#m492a39a0f8\" y=\"422.316584\"/>\n     <use style=\"fill:#1f77b4;stroke:#1f77b4;\" x=\"226.195991\" xlink:href=\"#m492a39a0f8\" y=\"392.36904\"/>\n     <use style=\"fill:#1f77b4;stroke:#1f77b4;\" x=\"492.61258\" xlink:href=\"#m492a39a0f8\" y=\"376.859122\"/>\n     <use style=\"fill:#1f77b4;stroke:#1f77b4;\" x=\"240.217917\" xlink:href=\"#m492a39a0f8\" y=\"381.416357\"/>\n     <use style=\"fill:#1f77b4;stroke:#1f77b4;\" x=\"247.22888\" xlink:href=\"#m492a39a0f8\" y=\"392.030732\"/>\n     <use style=\"fill:#1f77b4;stroke:#1f77b4;\" x=\"226.195991\" xlink:href=\"#m492a39a0f8\" y=\"428.941808\"/>\n     <use style=\"fill:#1f77b4;stroke:#1f77b4;\" x=\"366.415249\" xlink:href=\"#m492a39a0f8\" y=\"260.22837\"/>\n     <use style=\"fill:#1f77b4;stroke:#1f77b4;\" x=\"78.965771\" xlink:href=\"#m492a39a0f8\" y=\"422.43783\"/>\n     <use style=\"fill:#1f77b4;stroke:#1f77b4;\" x=\"317.338508\" xlink:href=\"#m492a39a0f8\" y=\"394.666805\"/>\n     <use style=\"fill:#1f77b4;stroke:#1f77b4;\" x=\"324.349471\" xlink:href=\"#m492a39a0f8\" y=\"424.537758\"/>\n     <use style=\"fill:#1f77b4;stroke:#1f77b4;\" x=\"191.141177\" xlink:href=\"#m492a39a0f8\" y=\"425.30368\"/>\n     <use style=\"fill:#1f77b4;stroke:#1f77b4;\" x=\"324.349471\" xlink:href=\"#m492a39a0f8\" y=\"342.584119\"/>\n     <use style=\"fill:#1f77b4;stroke:#1f77b4;\" x=\"219.185028\" xlink:href=\"#m492a39a0f8\" y=\"428.523768\"/>\n     <use style=\"fill:#1f77b4;stroke:#1f77b4;\" x=\"233.206954\" xlink:href=\"#m492a39a0f8\" y=\"347.734943\"/>\n     <use style=\"fill:#1f77b4;stroke:#1f77b4;\" x=\"240.217917\" xlink:href=\"#m492a39a0f8\" y=\"421.703847\"/>\n     <use style=\"fill:#1f77b4;stroke:#1f77b4;\" x=\"268.261768\" xlink:href=\"#m492a39a0f8\" y=\"424.80583\"/>\n     <use style=\"fill:#1f77b4;stroke:#1f77b4;\" x=\"345.38236\" xlink:href=\"#m492a39a0f8\" y=\"428.424811\"/>\n     <use style=\"fill:#1f77b4;stroke:#1f77b4;\" x=\"92.987697\" xlink:href=\"#m492a39a0f8\" y=\"420.133707\"/>\n     <use style=\"fill:#1f77b4;stroke:#1f77b4;\" x=\"303.316583\" xlink:href=\"#m492a39a0f8\" y=\"365.561774\"/>\n     <use style=\"fill:#1f77b4;stroke:#1f77b4;\" x=\"380.437174\" xlink:href=\"#m492a39a0f8\" y=\"428.424811\"/>\n     <use style=\"fill:#1f77b4;stroke:#1f77b4;\" x=\"310.327546\" xlink:href=\"#m492a39a0f8\" y=\"409.602281\"/>\n     <use style=\"fill:#1f77b4;stroke:#1f77b4;\" x=\"198.15214\" xlink:href=\"#m492a39a0f8\" y=\"424.537758\"/>\n     <use style=\"fill:#1f77b4;stroke:#1f77b4;\" x=\"268.261768\" xlink:href=\"#m492a39a0f8\" y=\"414.580773\"/>\n     <use style=\"fill:#1f77b4;stroke:#1f77b4;\" x=\"205.163103\" xlink:href=\"#m492a39a0f8\" y=\"414.580773\"/>\n     <use style=\"fill:#1f77b4;stroke:#1f77b4;\" x=\"296.30562\" xlink:href=\"#m492a39a0f8\" y=\"428.329071\"/>\n     <use style=\"fill:#1f77b4;stroke:#1f77b4;\" x=\"268.261768\" xlink:href=\"#m492a39a0f8\" y=\"414.159516\"/>\n     <use style=\"fill:#1f77b4;stroke:#1f77b4;\" x=\"366.415249\" xlink:href=\"#m492a39a0f8\" y=\"414.580773\"/>\n     <use style=\"fill:#1f77b4;stroke:#1f77b4;\" x=\"170.108288\" xlink:href=\"#m492a39a0f8\" y=\"342.584119\"/>\n     <use style=\"fill:#1f77b4;stroke:#1f77b4;\" x=\"240.217917\" xlink:href=\"#m492a39a0f8\" y=\"420.133707\"/>\n     <use style=\"fill:#1f77b4;stroke:#1f77b4;\" x=\"387.448137\" xlink:href=\"#m492a39a0f8\" y=\"414.389293\"/>\n     <use style=\"fill:#1f77b4;stroke:#1f77b4;\" x=\"268.261768\" xlink:href=\"#m492a39a0f8\" y=\"424.537758\"/>\n     <use style=\"fill:#1f77b4;stroke:#1f77b4;\" x=\"99.998659\" xlink:href=\"#m492a39a0f8\" y=\"371.79768\"/>\n     <use style=\"fill:#1f77b4;stroke:#1f77b4;\" x=\"163.097325\" xlink:href=\"#m492a39a0f8\" y=\"419.559266\"/>\n     <use style=\"fill:#1f77b4;stroke:#1f77b4;\" x=\"310.327546\" xlink:href=\"#m492a39a0f8\" y=\"414.159516\"/>\n     <use style=\"fill:#1f77b4;stroke:#1f77b4;\" x=\"107.009622\" xlink:href=\"#m492a39a0f8\" y=\"419.744389\"/>\n     <use style=\"fill:#1f77b4;stroke:#1f77b4;\" x=\"436.524877\" xlink:href=\"#m492a39a0f8\" y=\"411.134125\"/>\n     <use style=\"fill:#1f77b4;stroke:#1f77b4;\" x=\"415.491989\" xlink:href=\"#m492a39a0f8\" y=\"366.247887\"/>\n     <use style=\"fill:#1f77b4;stroke:#1f77b4;\" x=\"275.272731\" xlink:href=\"#m492a39a0f8\" y=\"428.447176\"/>\n     <use style=\"fill:#1f77b4;stroke:#1f77b4;\" x=\"422.502951\" xlink:href=\"#m492a39a0f8\" y=\"426.452562\"/>\n     <use style=\"fill:#1f77b4;stroke:#1f77b4;\" x=\"408.481026\" xlink:href=\"#m492a39a0f8\" y=\"414.159516\"/>\n     <use style=\"fill:#1f77b4;stroke:#1f77b4;\" x=\"77.21303\" xlink:href=\"#m492a39a0f8\" y=\"419.744389\"/>\n     <use style=\"fill:#1f77b4;stroke:#1f77b4;\" x=\"303.316583\" xlink:href=\"#m492a39a0f8\" y=\"413.24041\"/>\n     <use style=\"fill:#1f77b4;stroke:#1f77b4;\" x=\"233.206954\" xlink:href=\"#m492a39a0f8\" y=\"423.931377\"/>\n     <use style=\"fill:#1f77b4;stroke:#1f77b4;\" x=\"85.976734\" xlink:href=\"#m492a39a0f8\" y=\"425.083477\"/>\n     <use style=\"fill:#1f77b4;stroke:#1f77b4;\" x=\"513.645469\" xlink:href=\"#m492a39a0f8\" y=\"427.151466\"/>\n     <use style=\"fill:#1f77b4;stroke:#1f77b4;\" x=\"247.22888\" xlink:href=\"#m492a39a0f8\" y=\"364.735191\"/>\n     <use style=\"fill:#1f77b4;stroke:#1f77b4;\" x=\"317.338508\" xlink:href=\"#m492a39a0f8\" y=\"365.561774\"/>\n     <use style=\"fill:#1f77b4;stroke:#1f77b4;\" x=\"135.053474\" xlink:href=\"#m492a39a0f8\" y=\"422.316584\"/>\n     <use style=\"fill:#1f77b4;stroke:#1f77b4;\" x=\"450.546803\" xlink:href=\"#m492a39a0f8\" y=\"374.548565\"/>\n     <use style=\"fill:#1f77b4;stroke:#1f77b4;\" x=\"184.130214\" xlink:href=\"#m492a39a0f8\" y=\"368.242501\"/>\n     <use style=\"fill:#1f77b4;stroke:#1f77b4;\" x=\"303.316583\" xlink:href=\"#m492a39a0f8\" y=\"414.580773\"/>\n     <use style=\"fill:#1f77b4;stroke:#1f77b4;\" x=\"254.239843\" xlink:href=\"#m492a39a0f8\" y=\"391.223374\"/>\n     <use style=\"fill:#1f77b4;stroke:#1f77b4;\" x=\"275.272731\" xlink:href=\"#m492a39a0f8\" y=\"428.558847\"/>\n     <use style=\"fill:#1f77b4;stroke:#1f77b4;\" x=\"324.349471\" xlink:href=\"#m492a39a0f8\" y=\"414.360571\"/>\n     <use style=\"fill:#1f77b4;stroke:#1f77b4;\" x=\"450.546803\" xlink:href=\"#m492a39a0f8\" y=\"388.998983\"/>\n     <use style=\"fill:#1f77b4;stroke:#1f77b4;\" x=\"310.327546\" xlink:href=\"#m492a39a0f8\" y=\"426.452562\"/>\n     <use style=\"fill:#1f77b4;stroke:#1f77b4;\" x=\"324.349471\" xlink:href=\"#m492a39a0f8\" y=\"414.580773\"/>\n     <use style=\"fill:#1f77b4;stroke:#1f77b4;\" x=\"282.283694\" xlink:href=\"#m492a39a0f8\" y=\"362.881048\"/>\n     <use style=\"fill:#1f77b4;stroke:#1f77b4;\" x=\"380.437174\" xlink:href=\"#m492a39a0f8\" y=\"390.087205\"/>\n     <use style=\"fill:#1f77b4;stroke:#1f77b4;\" x=\"422.502951\" xlink:href=\"#m492a39a0f8\" y=\"426.452562\"/>\n     <use style=\"fill:#1f77b4;stroke:#1f77b4;\" x=\"85.976734\" xlink:href=\"#m492a39a0f8\" y=\"414.580773\"/>\n     <use style=\"fill:#1f77b4;stroke:#1f77b4;\" x=\"121.031548\" xlink:href=\"#m492a39a0f8\" y=\"414.389293\"/>\n     <use style=\"fill:#1f77b4;stroke:#1f77b4;\" x=\"282.283694\" xlink:href=\"#m492a39a0f8\" y=\"352.981508\"/>\n     <use style=\"fill:#1f77b4;stroke:#1f77b4;\" x=\"226.195991\" xlink:href=\"#m492a39a0f8\" y=\"396.58161\"/>\n     <use style=\"fill:#1f77b4;stroke:#1f77b4;\" x=\"324.349471\" xlink:href=\"#m492a39a0f8\" y=\"380.11429\"/>\n     <use style=\"fill:#1f77b4;stroke:#1f77b4;\" x=\"296.30562\" xlink:href=\"#m492a39a0f8\" y=\"414.580773\"/>\n     <use style=\"fill:#1f77b4;stroke:#1f77b4;\" x=\"205.163103\" xlink:href=\"#m492a39a0f8\" y=\"414.580773\"/>\n     <use style=\"fill:#1f77b4;stroke:#1f77b4;\" x=\"128.042511\" xlink:href=\"#m492a39a0f8\" y=\"406.347113\"/>\n     <use style=\"fill:#1f77b4;stroke:#1f77b4;\" x=\"191.141177\" xlink:href=\"#m492a39a0f8\" y=\"349.566798\"/>\n     <use style=\"fill:#1f77b4;stroke:#1f77b4;\" x=\"226.195991\" xlink:href=\"#m492a39a0f8\" y=\"428.960956\"/>\n     <use style=\"fill:#1f77b4;stroke:#1f77b4;\" x=\"226.195991\" xlink:href=\"#m492a39a0f8\" y=\"428.539699\"/>\n     <use style=\"fill:#1f77b4;stroke:#1f77b4;\" x=\"408.481026\" xlink:href=\"#m492a39a0f8\" y=\"404.164236\"/>\n     <use style=\"fill:#1f77b4;stroke:#1f77b4;\" x=\"345.38236\" xlink:href=\"#m492a39a0f8\" y=\"373.489066\"/>\n     <use style=\"fill:#1f77b4;stroke:#1f77b4;\" x=\"324.349471\" xlink:href=\"#m492a39a0f8\" y=\"421.167701\"/>\n     <use style=\"fill:#1f77b4;stroke:#1f77b4;\" x=\"296.30562\" xlink:href=\"#m492a39a0f8\" y=\"428.479038\"/>\n     <use style=\"fill:#1f77b4;stroke:#1f77b4;\" x=\"506.634506\" xlink:href=\"#m492a39a0f8\" y=\"426.452562\"/>\n     <use style=\"fill:#1f77b4;stroke:#1f77b4;\" x=\"443.53584\" xlink:href=\"#m492a39a0f8\" y=\"395.065697\"/>\n     <use style=\"fill:#1f77b4;stroke:#1f77b4;\" x=\"324.349471\" xlink:href=\"#m492a39a0f8\" y=\"414.283979\"/>\n     <use style=\"fill:#1f77b4;stroke:#1f77b4;\" x=\"310.327546\" xlink:href=\"#m492a39a0f8\" y=\"424.537758\"/>\n     <use style=\"fill:#1f77b4;stroke:#1f77b4;\" x=\"345.38236\" xlink:href=\"#m492a39a0f8\" y=\"391.67971\"/>\n     <use style=\"fill:#1f77b4;stroke:#1f77b4;\" x=\"296.30562\" xlink:href=\"#m492a39a0f8\" y=\"428.424811\"/>\n     <use style=\"fill:#1f77b4;stroke:#1f77b4;\" x=\"247.22888\" xlink:href=\"#m492a39a0f8\" y=\"411.517086\"/>\n     <use style=\"fill:#1f77b4;stroke:#1f77b4;\" x=\"345.38236\" xlink:href=\"#m492a39a0f8\" y=\"349.566798\"/>\n     <use style=\"fill:#1f77b4;stroke:#1f77b4;\" x=\"198.15214\" xlink:href=\"#m492a39a0f8\" y=\"373.489066\"/>\n     <use style=\"fill:#1f77b4;stroke:#1f77b4;\" x=\"492.61258\" xlink:href=\"#m492a39a0f8\" y=\"373.83373\"/>\n     <use style=\"fill:#1f77b4;stroke:#1f77b4;\" x=\"436.524877\" xlink:href=\"#m492a39a0f8\" y=\"374.548565\"/>\n     <use style=\"fill:#1f77b4;stroke:#1f77b4;\" x=\"415.491989\" xlink:href=\"#m492a39a0f8\" y=\"390.891423\"/>\n     <use style=\"fill:#1f77b4;stroke:#1f77b4;\" x=\"240.217917\" xlink:href=\"#m492a39a0f8\" y=\"413.814852\"/>\n     <use style=\"fill:#1f77b4;stroke:#1f77b4;\" x=\"317.338508\" xlink:href=\"#m492a39a0f8\" y=\"414.159516\"/>\n     <use style=\"fill:#1f77b4;stroke:#1f77b4;\" x=\"261.250805\" xlink:href=\"#m492a39a0f8\" y=\"411.134125\"/>\n     <use style=\"fill:#1f77b4;stroke:#1f77b4;\" x=\"226.195991\" xlink:href=\"#m492a39a0f8\" y=\"402.648324\"/>\n     <use style=\"fill:#1f77b4;stroke:#1f77b4;\" x=\"352.393323\" xlink:href=\"#m492a39a0f8\" y=\"316.954458\"/>\n     <use style=\"fill:#1f77b4;stroke:#1f77b4;\" x=\"240.217917\" xlink:href=\"#m492a39a0f8\" y=\"384.709821\"/>\n     <use style=\"fill:#1f77b4;stroke:#1f77b4;\" x=\"99.998659\" xlink:href=\"#m492a39a0f8\" y=\"404.623789\"/>\n     <use style=\"fill:#1f77b4;stroke:#1f77b4;\" x=\"366.415249\" xlink:href=\"#m492a39a0f8\" y=\"394.242331\"/>\n     <use style=\"fill:#1f77b4;stroke:#1f77b4;\" x=\"212.174065\" xlink:href=\"#m492a39a0f8\" y=\"422.43783\"/>\n     <use style=\"fill:#1f77b4;stroke:#1f77b4;\" x=\"219.185028\" xlink:href=\"#m492a39a0f8\" y=\"374.784776\"/>\n     <use style=\"fill:#1f77b4;stroke:#1f77b4;\" x=\"632.831838\" xlink:href=\"#m492a39a0f8\" y=\"411.517086\"/>\n     <use style=\"fill:#1f77b4;stroke:#1f77b4;\" x=\"296.30562\" xlink:href=\"#m492a39a0f8\" y=\"411.134125\"/>\n     <use style=\"fill:#1f77b4;stroke:#1f77b4;\" x=\"268.261768\" xlink:href=\"#m492a39a0f8\" y=\"424.537758\"/>\n     <use style=\"fill:#1f77b4;stroke:#1f77b4;\" x=\"240.217917\" xlink:href=\"#m492a39a0f8\" y=\"381.416357\"/>\n     <use style=\"fill:#1f77b4;stroke:#1f77b4;\" x=\"77.21303\" xlink:href=\"#m492a39a0f8\" y=\"419.744389\"/>\n     <use style=\"fill:#1f77b4;stroke:#1f77b4;\" x=\"408.481026\" xlink:href=\"#m492a39a0f8\" y=\"375.72617\"/>\n     <use style=\"fill:#1f77b4;stroke:#1f77b4;\" x=\"464.568729\" xlink:href=\"#m492a39a0f8\" y=\"407.304516\"/>\n     <use style=\"fill:#1f77b4;stroke:#1f77b4;\" x=\"233.206954\" xlink:href=\"#m492a39a0f8\" y=\"428.712032\"/>\n     <use style=\"fill:#1f77b4;stroke:#1f77b4;\" x=\"198.15214\" xlink:href=\"#m492a39a0f8\" y=\"416.878539\"/>\n     <use style=\"fill:#1f77b4;stroke:#1f77b4;\" x=\"422.502951\" xlink:href=\"#m492a39a0f8\" y=\"332.129285\"/>\n     <use style=\"fill:#1f77b4;stroke:#1f77b4;\" x=\"212.174065\" xlink:href=\"#m492a39a0f8\" y=\"428.424811\"/>\n     <use style=\"fill:#1f77b4;stroke:#1f77b4;\" x=\"352.393323\" xlink:href=\"#m492a39a0f8\" y=\"404.623789\"/>\n     <use style=\"fill:#1f77b4;stroke:#1f77b4;\" x=\"289.294657\" xlink:href=\"#m492a39a0f8\" y=\"424.537758\"/>\n     <use style=\"fill:#1f77b4;stroke:#1f77b4;\" x=\"198.15214\" xlink:href=\"#m492a39a0f8\" y=\"426.956769\"/>\n     <use style=\"fill:#1f77b4;stroke:#1f77b4;\" x=\"324.349471\" xlink:href=\"#m492a39a0f8\" y=\"42.090608\"/>\n     <use style=\"fill:#1f77b4;stroke:#1f77b4;\" x=\"261.250805\" xlink:href=\"#m492a39a0f8\" y=\"375.72617\"/>\n     <use style=\"fill:#1f77b4;stroke:#1f77b4;\" x=\"177.119251\" xlink:href=\"#m492a39a0f8\" y=\"272.626731\"/>\n     <use style=\"fill:#1f77b4;stroke:#1f77b4;\" x=\"289.294657\" xlink:href=\"#m492a39a0f8\" y=\"390.837196\"/>\n     <use style=\"fill:#1f77b4;stroke:#1f77b4;\" x=\"99.998659\" xlink:href=\"#m492a39a0f8\" y=\"424.218598\"/>\n     <use style=\"fill:#1f77b4;stroke:#1f77b4;\" x=\"198.15214\" xlink:href=\"#m492a39a0f8\" y=\"260.22837\"/>\n     <use style=\"fill:#1f77b4;stroke:#1f77b4;\" x=\"317.338508\" xlink:href=\"#m492a39a0f8\" y=\"414.360571\"/>\n     <use style=\"fill:#1f77b4;stroke:#1f77b4;\" x=\"387.448137\" xlink:href=\"#m492a39a0f8\" y=\"424.154797\"/>\n     <use style=\"fill:#1f77b4;stroke:#1f77b4;\" x=\"366.415249\" xlink:href=\"#m492a39a0f8\" y=\"414.360571\"/>\n     <use style=\"fill:#1f77b4;stroke:#1f77b4;\" x=\"226.195991\" xlink:href=\"#m492a39a0f8\" y=\"318.419284\"/>\n     <use style=\"fill:#1f77b4;stroke:#1f77b4;\" x=\"240.217917\" xlink:href=\"#m492a39a0f8\" y=\"396.578393\"/>\n     <use style=\"fill:#1f77b4;stroke:#1f77b4;\" x=\"408.481026\" xlink:href=\"#m492a39a0f8\" y=\"394.666805\"/>\n     <use style=\"fill:#1f77b4;stroke:#1f77b4;\" x=\"338.371397\" xlink:href=\"#m492a39a0f8\" y=\"260.22837\"/>\n     <use style=\"fill:#1f77b4;stroke:#1f77b4;\" x=\"261.250805\" xlink:href=\"#m492a39a0f8\" y=\"426.452562\"/>\n     <use style=\"fill:#1f77b4;stroke:#1f77b4;\" x=\"114.020585\" xlink:href=\"#m492a39a0f8\" y=\"409.21932\"/>\n     <use style=\"fill:#1f77b4;stroke:#1f77b4;\" x=\"261.250805\" xlink:href=\"#m492a39a0f8\" y=\"393.824291\"/>\n     <use style=\"fill:#1f77b4;stroke:#1f77b4;\" x=\"282.283694\" xlink:href=\"#m492a39a0f8\" y=\"418.410383\"/>\n     <use style=\"fill:#1f77b4;stroke:#1f77b4;\" x=\"275.272731\" xlink:href=\"#m492a39a0f8\" y=\"272.626731\"/>\n     <use style=\"fill:#1f77b4;stroke:#1f77b4;\" x=\"317.338508\" xlink:href=\"#m492a39a0f8\" y=\"42.090608\"/>\n     <use style=\"fill:#1f77b4;stroke:#1f77b4;\" x=\"219.185028\" xlink:href=\"#m492a39a0f8\" y=\"233.535994\"/>\n     <use style=\"fill:#1f77b4;stroke:#1f77b4;\" x=\"289.294657\" xlink:href=\"#m492a39a0f8\" y=\"428.424811\"/>\n     <use style=\"fill:#1f77b4;stroke:#1f77b4;\" x=\"282.283694\" xlink:href=\"#m492a39a0f8\" y=\"424.537758\"/>\n     <use style=\"fill:#1f77b4;stroke:#1f77b4;\" x=\"99.998659\" xlink:href=\"#m492a39a0f8\" y=\"416.878539\"/>\n     <use style=\"fill:#1f77b4;stroke:#1f77b4;\" x=\"114.020585\" xlink:href=\"#m492a39a0f8\" y=\"424.939867\"/>\n     <use style=\"fill:#1f77b4;stroke:#1f77b4;\" x=\"408.481026\" xlink:href=\"#m492a39a0f8\" y=\"384.709821\"/>\n     <use style=\"fill:#1f77b4;stroke:#1f77b4;\" x=\"76.652153\" xlink:href=\"#m492a39a0f8\" y=\"423.388875\"/>\n     <use style=\"fill:#1f77b4;stroke:#1f77b4;\" x=\"303.316583\" xlink:href=\"#m492a39a0f8\" y=\"368.242501\"/>\n     <use style=\"fill:#1f77b4;stroke:#1f77b4;\" x=\"212.174065\" xlink:href=\"#m492a39a0f8\" y=\"428.95774\"/>\n     <use style=\"fill:#1f77b4;stroke:#1f77b4;\" x=\"324.349471\" xlink:href=\"#m492a39a0f8\" y=\"342.584119\"/>\n     <use style=\"fill:#1f77b4;stroke:#1f77b4;\" x=\"429.513914\" xlink:href=\"#m492a39a0f8\" y=\"374.784776\"/>\n     <use style=\"fill:#1f77b4;stroke:#1f77b4;\" x=\"450.546803\" xlink:href=\"#m492a39a0f8\" y=\"416.878539\"/>\n     <use style=\"fill:#1f77b4;stroke:#1f77b4;\" x=\"107.009622\" xlink:href=\"#m492a39a0f8\" y=\"424.939867\"/>\n     <use style=\"fill:#1f77b4;stroke:#1f77b4;\" x=\"373.426211\" xlink:href=\"#m492a39a0f8\" y=\"272.626731\"/>\n     <use style=\"fill:#1f77b4;stroke:#1f77b4;\" x=\"163.097325\" xlink:href=\"#m492a39a0f8\" y=\"428.95774\"/>\n     <use style=\"fill:#1f77b4;stroke:#1f77b4;\" x=\"191.141177\" xlink:href=\"#m492a39a0f8\" y=\"390.837196\"/>\n     <use style=\"fill:#1f77b4;stroke:#1f77b4;\" x=\"198.15214\" xlink:href=\"#m492a39a0f8\" y=\"428.753545\"/>\n     <use style=\"fill:#1f77b4;stroke:#1f77b4;\" x=\"78.965771\" xlink:href=\"#m492a39a0f8\" y=\"418.7359\"/>\n     <use style=\"fill:#1f77b4;stroke:#1f77b4;\" x=\"415.491989\" xlink:href=\"#m492a39a0f8\" y=\"414.635001\"/>\n     <use style=\"fill:#1f77b4;stroke:#1f77b4;\" x=\"289.294657\" xlink:href=\"#m492a39a0f8\" y=\"427.844013\"/>\n     <use style=\"fill:#1f77b4;stroke:#1f77b4;\" x=\"289.294657\" xlink:href=\"#m492a39a0f8\" y=\"414.389293\"/>\n     <use style=\"fill:#1f77b4;stroke:#1f77b4;\" x=\"149.0754\" xlink:href=\"#m492a39a0f8\" y=\"342.584119\"/>\n     <use style=\"fill:#1f77b4;stroke:#1f77b4;\" x=\"74.899412\" xlink:href=\"#m492a39a0f8\" y=\"427.971615\"/>\n     <use style=\"fill:#1f77b4;stroke:#1f77b4;\" x=\"261.250805\" xlink:href=\"#m492a39a0f8\" y=\"429.152437\"/>\n     <use style=\"fill:#1f77b4;stroke:#1f77b4;\" x=\"303.316583\" xlink:href=\"#m492a39a0f8\" y=\"393.824291\"/>\n     <use style=\"fill:#1f77b4;stroke:#1f77b4;\" x=\"436.524877\" xlink:href=\"#m492a39a0f8\" y=\"362.881048\"/>\n     <use style=\"fill:#1f77b4;stroke:#1f77b4;\" x=\"261.250805\" xlink:href=\"#m492a39a0f8\" y=\"427.859944\"/>\n     <use style=\"fill:#1f77b4;stroke:#1f77b4;\" x=\"261.250805\" xlink:href=\"#m492a39a0f8\" y=\"424.939867\"/>\n     <use style=\"fill:#1f77b4;stroke:#1f77b4;\" x=\"78.965771\" xlink:href=\"#m492a39a0f8\" y=\"406.152416\"/>\n     <use style=\"fill:#1f77b4;stroke:#1f77b4;\" x=\"506.634506\" xlink:href=\"#m492a39a0f8\" y=\"373.220993\"/>\n     <use style=\"fill:#1f77b4;stroke:#1f77b4;\" x=\"177.119251\" xlink:href=\"#m492a39a0f8\" y=\"423.423954\"/>\n     <use style=\"fill:#1f77b4;stroke:#1f77b4;\" x=\"77.773907\" xlink:href=\"#m492a39a0f8\" y=\"420.133707\"/>\n     <use style=\"fill:#1f77b4;stroke:#1f77b4;\" x=\"345.38236\" xlink:href=\"#m492a39a0f8\" y=\"370.801982\"/>\n     <use style=\"fill:#1f77b4;stroke:#1f77b4;\" x=\"296.30562\" xlink:href=\"#m492a39a0f8\" y=\"391.223374\"/>\n     <use style=\"fill:#1f77b4;stroke:#1f77b4;\" x=\"282.283694\" xlink:href=\"#m492a39a0f8\" y=\"410.751164\"/>\n     <use style=\"fill:#1f77b4;stroke:#1f77b4;\" x=\"184.130214\" xlink:href=\"#m492a39a0f8\" y=\"404.317421\"/>\n     <use style=\"fill:#1f77b4;stroke:#1f77b4;\" x=\"198.15214\" xlink:href=\"#m492a39a0f8\" y=\"427.333372\"/>\n     <use style=\"fill:#1f77b4;stroke:#1f77b4;\" x=\"387.448137\" xlink:href=\"#m492a39a0f8\" y=\"308.219732\"/>\n     <use style=\"fill:#1f77b4;stroke:#1f77b4;\" x=\"429.513914\" xlink:href=\"#m492a39a0f8\" y=\"414.159516\"/>\n     <use style=\"fill:#1f77b4;stroke:#1f77b4;\" x=\"240.217917\" xlink:href=\"#m492a39a0f8\" y=\"419.744389\"/>\n     <use style=\"fill:#1f77b4;stroke:#1f77b4;\" x=\"408.481026\" xlink:href=\"#m492a39a0f8\" y=\"414.635001\"/>\n     <use style=\"fill:#1f77b4;stroke:#1f77b4;\" x=\"366.415249\" xlink:href=\"#m492a39a0f8\" y=\"424.537758\"/>\n     <use style=\"fill:#1f77b4;stroke:#1f77b4;\" x=\"261.250805\" xlink:href=\"#m492a39a0f8\" y=\"423.880367\"/>\n     <use style=\"fill:#1f77b4;stroke:#1f77b4;\" x=\"99.998659\" xlink:href=\"#m492a39a0f8\" y=\"425.967504\"/>\n     <use style=\"fill:#1f77b4;stroke:#1f77b4;\" x=\"401.470063\" xlink:href=\"#m492a39a0f8\" y=\"394.242331\"/>\n     <use style=\"fill:#1f77b4;stroke:#1f77b4;\" x=\"268.261768\" xlink:href=\"#m492a39a0f8\" y=\"416.112617\"/>\n     <use style=\"fill:#1f77b4;stroke:#1f77b4;\" x=\"177.119251\" xlink:href=\"#m492a39a0f8\" y=\"428.960956\"/>\n     <use style=\"fill:#1f77b4;stroke:#1f77b4;\" x=\"464.568729\" xlink:href=\"#m492a39a0f8\" y=\"370.801982\"/>\n     <use style=\"fill:#1f77b4;stroke:#1f77b4;\" x=\"247.22888\" xlink:href=\"#m492a39a0f8\" y=\"414.580773\"/>\n     <use style=\"fill:#1f77b4;stroke:#1f77b4;\" x=\"205.163103\" xlink:href=\"#m492a39a0f8\" y=\"411.517086\"/>\n     <use style=\"fill:#1f77b4;stroke:#1f77b4;\" x=\"254.239843\" xlink:href=\"#m492a39a0f8\" y=\"411.517086\"/>\n    </g>\n   </g>\n   <g id=\"PathCollection_2\">\n    <defs>\n     <path d=\"M -2.95804 2.95804 \nL 2.95804 -2.95804 \nM -2.95804 -2.95804 \nL 2.95804 2.95804 \n\" id=\"m7340417c2b\" style=\"stroke:#ff7f0e;stroke-width:1.5;\"/>\n    </defs>\n    <g clip-path=\"url(#p2b32932617)\">\n     <use style=\"fill:#ff7f0e;stroke:#ff7f0e;stroke-width:1.5;\" x=\"226.195991\" xlink:href=\"#m7340417c2b\" y=\"428.941808\"/>\n     <use style=\"fill:#ff7f0e;stroke:#ff7f0e;stroke-width:1.5;\" x=\"317.338508\" xlink:href=\"#m7340417c2b\" y=\"428.329071\"/>\n     <use style=\"fill:#ff7f0e;stroke:#ff7f0e;stroke-width:1.5;\" x=\"450.546803\" xlink:href=\"#m7340417c2b\" y=\"394.772119\"/>\n     <use style=\"fill:#ff7f0e;stroke:#ff7f0e;stroke-width:1.5;\" x=\"85.976734\" xlink:href=\"#m7340417c2b\" y=\"418.352939\"/>\n     <use style=\"fill:#ff7f0e;stroke:#ff7f0e;stroke-width:1.5;\" x=\"212.174065\" xlink:href=\"#m7340417c2b\" y=\"428.329071\"/>\n     <use style=\"fill:#ff7f0e;stroke:#ff7f0e;stroke-width:1.5;\" x=\"345.38236\" xlink:href=\"#m7340417c2b\" y=\"410.540536\"/>\n     <use style=\"fill:#ff7f0e;stroke:#ff7f0e;stroke-width:1.5;\" x=\"170.108288\" xlink:href=\"#m7340417c2b\" y=\"428.479038\"/>\n     <use style=\"fill:#ff7f0e;stroke:#ff7f0e;stroke-width:1.5;\" x=\"85.976734\" xlink:href=\"#m7340417c2b\" y=\"412.187268\"/>\n     <use style=\"fill:#ff7f0e;stroke:#ff7f0e;stroke-width:1.5;\" x=\"289.294657\" xlink:href=\"#m7340417c2b\" y=\"420.708148\"/>\n     <use style=\"fill:#ff7f0e;stroke:#ff7f0e;stroke-width:1.5;\" x=\"317.338508\" xlink:href=\"#m7340417c2b\" y=\"414.580773\"/>\n     <use style=\"fill:#ff7f0e;stroke:#ff7f0e;stroke-width:1.5;\" x=\"128.042511\" xlink:href=\"#m7340417c2b\" y=\"418.352939\"/>\n     <use style=\"fill:#ff7f0e;stroke:#ff7f0e;stroke-width:1.5;\" x=\"205.163103\" xlink:href=\"#m7340417c2b\" y=\"233.057292\"/>\n     <use style=\"fill:#ff7f0e;stroke:#ff7f0e;stroke-width:1.5;\" x=\"352.393323\" xlink:href=\"#m7340417c2b\" y=\"413.262775\"/>\n     <use style=\"fill:#ff7f0e;stroke:#ff7f0e;stroke-width:1.5;\" x=\"534.678357\" xlink:href=\"#m7340417c2b\" y=\"426.452562\"/>\n     <use style=\"fill:#ff7f0e;stroke:#ff7f0e;stroke-width:1.5;\" x=\"268.261768\" xlink:href=\"#m7340417c2b\" y=\"371.55833\"/>\n     <use style=\"fill:#ff7f0e;stroke:#ff7f0e;stroke-width:1.5;\" x=\"366.415249\" xlink:href=\"#m7340417c2b\" y=\"394.666805\"/>\n     <use style=\"fill:#ff7f0e;stroke:#ff7f0e;stroke-width:1.5;\" x=\"219.185028\" xlink:href=\"#m7340417c2b\" y=\"428.329071\"/>\n     <use style=\"fill:#ff7f0e;stroke:#ff7f0e;stroke-width:1.5;\" x=\"198.15214\" xlink:href=\"#m7340417c2b\" y=\"420.708148\"/>\n     <use style=\"fill:#ff7f0e;stroke:#ff7f0e;stroke-width:1.5;\" x=\"352.393323\" xlink:href=\"#m7340417c2b\" y=\"427.237632\"/>\n     <use style=\"fill:#ff7f0e;stroke:#ff7f0e;stroke-width:1.5;\" x=\"261.250805\" xlink:href=\"#m7340417c2b\" y=\"418.410383\"/>\n     <use style=\"fill:#ff7f0e;stroke:#ff7f0e;stroke-width:1.5;\" x=\"198.15214\" xlink:href=\"#m7340417c2b\" y=\"420.861333\"/>\n     <use style=\"fill:#ff7f0e;stroke:#ff7f0e;stroke-width:1.5;\" x=\"121.031548\" xlink:href=\"#m7340417c2b\" y=\"404.097218\"/>\n     <use style=\"fill:#ff7f0e;stroke:#ff7f0e;stroke-width:1.5;\" x=\"219.185028\" xlink:href=\"#m7340417c2b\" y=\"428.520551\"/>\n     <use style=\"fill:#ff7f0e;stroke:#ff7f0e;stroke-width:1.5;\" x=\"527.667395\" xlink:href=\"#m7340417c2b\" y=\"387.023518\"/>\n     <use style=\"fill:#ff7f0e;stroke:#ff7f0e;stroke-width:1.5;\" x=\"271.76725\" xlink:href=\"#m7340417c2b\" y=\"428.95774\"/>\n     <use style=\"fill:#ff7f0e;stroke:#ff7f0e;stroke-width:1.5;\" x=\"149.0754\" xlink:href=\"#m7340417c2b\" y=\"398.573007\"/>\n     <use style=\"fill:#ff7f0e;stroke:#ff7f0e;stroke-width:1.5;\" x=\"226.195991\" xlink:href=\"#m7340417c2b\" y=\"428.95774\"/>\n     <use style=\"fill:#ff7f0e;stroke:#ff7f0e;stroke-width:1.5;\" x=\"387.448137\" xlink:href=\"#m7340417c2b\" y=\"370.559415\"/>\n     <use style=\"fill:#ff7f0e;stroke:#ff7f0e;stroke-width:1.5;\" x=\"99.998659\" xlink:href=\"#m7340417c2b\" y=\"413.125522\"/>\n     <use style=\"fill:#ff7f0e;stroke:#ff7f0e;stroke-width:1.5;\" x=\"205.163103\" xlink:href=\"#m7340417c2b\" y=\"428.246122\"/>\n     <use style=\"fill:#ff7f0e;stroke:#ff7f0e;stroke-width:1.5;\" x=\"254.239843\" xlink:href=\"#m7340417c2b\" y=\"427.859944\"/>\n     <use style=\"fill:#ff7f0e;stroke:#ff7f0e;stroke-width:1.5;\" x=\"296.30562\" xlink:href=\"#m7340417c2b\" y=\"426.452562\"/>\n     <use style=\"fill:#ff7f0e;stroke:#ff7f0e;stroke-width:1.5;\" x=\"184.130214\" xlink:href=\"#m7340417c2b\" y=\"398.573007\"/>\n     <use style=\"fill:#ff7f0e;stroke:#ff7f0e;stroke-width:1.5;\" x=\"219.185028\" xlink:href=\"#m7340417c2b\" y=\"378.199485\"/>\n     <use style=\"fill:#ff7f0e;stroke:#ff7f0e;stroke-width:1.5;\" x=\"254.239843\" xlink:href=\"#m7340417c2b\" y=\"423.423954\"/>\n     <use style=\"fill:#ff7f0e;stroke:#ff7f0e;stroke-width:1.5;\" x=\"247.22888\" xlink:href=\"#m7340417c2b\" y=\"428.63544\"/>\n     <use style=\"fill:#ff7f0e;stroke:#ff7f0e;stroke-width:1.5;\" x=\"226.195991\" xlink:href=\"#m7340417c2b\" y=\"427.601445\"/>\n     <use style=\"fill:#ff7f0e;stroke:#ff7f0e;stroke-width:1.5;\" x=\"268.261768\" xlink:href=\"#m7340417c2b\" y=\"398.419822\"/>\n     <use style=\"fill:#ff7f0e;stroke:#ff7f0e;stroke-width:1.5;\" x=\"184.130214\" xlink:href=\"#m7340417c2b\" y=\"408.166178\"/>\n     <use style=\"fill:#ff7f0e;stroke:#ff7f0e;stroke-width:1.5;\" x=\"240.217917\" xlink:href=\"#m7340417c2b\" y=\"428.329071\"/>\n     <use style=\"fill:#ff7f0e;stroke:#ff7f0e;stroke-width:1.5;\" x=\"275.272731\" xlink:href=\"#m7340417c2b\" y=\"428.329071\"/>\n     <use style=\"fill:#ff7f0e;stroke:#ff7f0e;stroke-width:1.5;\" x=\"212.174065\" xlink:href=\"#m7340417c2b\" y=\"428.479038\"/>\n     <use style=\"fill:#ff7f0e;stroke:#ff7f0e;stroke-width:1.5;\" x=\"394.4591\" xlink:href=\"#m7340417c2b\" y=\"387.639472\"/>\n     <use style=\"fill:#ff7f0e;stroke:#ff7f0e;stroke-width:1.5;\" x=\"254.239843\" xlink:href=\"#m7340417c2b\" y=\"418.7359\"/>\n     <use style=\"fill:#ff7f0e;stroke:#ff7f0e;stroke-width:1.5;\" x=\"485.601617\" xlink:href=\"#m7340417c2b\" y=\"428.941808\"/>\n     <use style=\"fill:#ff7f0e;stroke:#ff7f0e;stroke-width:1.5;\" x=\"569.733172\" xlink:href=\"#m7340417c2b\" y=\"407.952333\"/>\n     <use style=\"fill:#ff7f0e;stroke:#ff7f0e;stroke-width:1.5;\" x=\"310.327546\" xlink:href=\"#m7340417c2b\" y=\"414.580773\"/>\n     <use style=\"fill:#ff7f0e;stroke:#ff7f0e;stroke-width:1.5;\" x=\"268.261768\" xlink:href=\"#m7340417c2b\" y=\"428.447176\"/>\n     <use style=\"fill:#ff7f0e;stroke:#ff7f0e;stroke-width:1.5;\" x=\"219.185028\" xlink:href=\"#m7340417c2b\" y=\"375.298556\"/>\n     <use style=\"fill:#ff7f0e;stroke:#ff7f0e;stroke-width:1.5;\" x=\"303.316583\" xlink:href=\"#m7340417c2b\" y=\"427.866301\"/>\n     <use style=\"fill:#ff7f0e;stroke:#ff7f0e;stroke-width:1.5;\" x=\"331.360434\" xlink:href=\"#m7340417c2b\" y=\"428.424811\"/>\n     <use style=\"fill:#ff7f0e;stroke:#ff7f0e;stroke-width:1.5;\" x=\"268.261768\" xlink:href=\"#m7340417c2b\" y=\"428.447176\"/>\n     <use style=\"fill:#ff7f0e;stroke:#ff7f0e;stroke-width:1.5;\" x=\"338.371397\" xlink:href=\"#m7340417c2b\" y=\"428.447176\"/>\n     <use style=\"fill:#ff7f0e;stroke:#ff7f0e;stroke-width:1.5;\" x=\"401.470063\" xlink:href=\"#m7340417c2b\" y=\"394.666805\"/>\n     <use style=\"fill:#ff7f0e;stroke:#ff7f0e;stroke-width:1.5;\" x=\"173.61377\" xlink:href=\"#m7340417c2b\" y=\"423.423954\"/>\n     <use style=\"fill:#ff7f0e;stroke:#ff7f0e;stroke-width:1.5;\" x=\"226.195991\" xlink:href=\"#m7340417c2b\" y=\"428.329071\"/>\n     <use style=\"fill:#ff7f0e;stroke:#ff7f0e;stroke-width:1.5;\" x=\"212.174065\" xlink:href=\"#m7340417c2b\" y=\"426.96956\"/>\n     <use style=\"fill:#ff7f0e;stroke:#ff7f0e;stroke-width:1.5;\" x=\"191.141177\" xlink:href=\"#m7340417c2b\" y=\"423.420814\"/>\n     <use style=\"fill:#ff7f0e;stroke:#ff7f0e;stroke-width:1.5;\" x=\"219.185028\" xlink:href=\"#m7340417c2b\" y=\"428.424811\"/>\n     <use style=\"fill:#ff7f0e;stroke:#ff7f0e;stroke-width:1.5;\" x=\"566.22769\" xlink:href=\"#m7340417c2b\" y=\"428.558847\"/>\n     <use style=\"fill:#ff7f0e;stroke:#ff7f0e;stroke-width:1.5;\" x=\"275.272731\" xlink:href=\"#m7340417c2b\" y=\"418.410383\"/>\n     <use style=\"fill:#ff7f0e;stroke:#ff7f0e;stroke-width:1.5;\" x=\"240.217917\" xlink:href=\"#m7340417c2b\" y=\"244.91315\"/>\n     <use style=\"fill:#ff7f0e;stroke:#ff7f0e;stroke-width:1.5;\" x=\"85.976734\" xlink:href=\"#m7340417c2b\" y=\"410.540536\"/>\n     <use style=\"fill:#ff7f0e;stroke:#ff7f0e;stroke-width:1.5;\" x=\"219.185028\" xlink:href=\"#m7340417c2b\" y=\"378.199485\"/>\n     <use style=\"fill:#ff7f0e;stroke:#ff7f0e;stroke-width:1.5;\" x=\"299.811101\" xlink:href=\"#m7340417c2b\" y=\"411.462859\"/>\n     <use style=\"fill:#ff7f0e;stroke:#ff7f0e;stroke-width:1.5;\" x=\"450.546803\" xlink:href=\"#m7340417c2b\" y=\"375.298556\"/>\n     <use style=\"fill:#ff7f0e;stroke:#ff7f0e;stroke-width:1.5;\" x=\"387.448137\" xlink:href=\"#m7340417c2b\" y=\"429.152437\"/>\n     <use style=\"fill:#ff7f0e;stroke:#ff7f0e;stroke-width:1.5;\" x=\"303.316583\" xlink:href=\"#m7340417c2b\" y=\"428.447176\"/>\n     <use style=\"fill:#ff7f0e;stroke:#ff7f0e;stroke-width:1.5;\" x=\"212.174065\" xlink:href=\"#m7340417c2b\" y=\"429.094993\"/>\n     <use style=\"fill:#ff7f0e;stroke:#ff7f0e;stroke-width:1.5;\" x=\"401.470063\" xlink:href=\"#m7340417c2b\" y=\"423.388875\"/>\n     <use style=\"fill:#ff7f0e;stroke:#ff7f0e;stroke-width:1.5;\" x=\"247.22888\" xlink:href=\"#m7340417c2b\" y=\"424.537758\"/>\n     <use style=\"fill:#ff7f0e;stroke:#ff7f0e;stroke-width:1.5;\" x=\"233.206954\" xlink:href=\"#m7340417c2b\" y=\"422.970835\"/>\n     <use style=\"fill:#ff7f0e;stroke:#ff7f0e;stroke-width:1.5;\" x=\"331.360434\" xlink:href=\"#m7340417c2b\" y=\"393.824291\"/>\n     <use style=\"fill:#ff7f0e;stroke:#ff7f0e;stroke-width:1.5;\" x=\"184.130214\" xlink:href=\"#m7340417c2b\" y=\"427.43547\"/>\n     <use style=\"fill:#ff7f0e;stroke:#ff7f0e;stroke-width:1.5;\" x=\"240.217917\" xlink:href=\"#m7340417c2b\" y=\"373.83373\"/>\n     <use style=\"fill:#ff7f0e;stroke:#ff7f0e;stroke-width:1.5;\" x=\"205.163103\" xlink:href=\"#m7340417c2b\" y=\"429.324769\"/>\n     <use style=\"fill:#ff7f0e;stroke:#ff7f0e;stroke-width:1.5;\" x=\"198.15214\" xlink:href=\"#m7340417c2b\" y=\"425.68664\"/>\n     <use style=\"fill:#ff7f0e;stroke:#ff7f0e;stroke-width:1.5;\" x=\"205.163103\" xlink:href=\"#m7340417c2b\" y=\"406.347113\"/>\n     <use style=\"fill:#ff7f0e;stroke:#ff7f0e;stroke-width:1.5;\" x=\"135.053474\" xlink:href=\"#m7340417c2b\" y=\"408.166178\"/>\n     <use style=\"fill:#ff7f0e;stroke:#ff7f0e;stroke-width:1.5;\" x=\"327.854953\" xlink:href=\"#m7340417c2b\" y=\"414.580773\"/>\n     <use style=\"fill:#ff7f0e;stroke:#ff7f0e;stroke-width:1.5;\" x=\"366.415249\" xlink:href=\"#m7340417c2b\" y=\"424.537758\"/>\n     <use style=\"fill:#ff7f0e;stroke:#ff7f0e;stroke-width:1.5;\" x=\"429.513914\" xlink:href=\"#m7340417c2b\" y=\"424.901571\"/>\n     <use style=\"fill:#ff7f0e;stroke:#ff7f0e;stroke-width:1.5;\" x=\"461.063247\" xlink:href=\"#m7340417c2b\" y=\"428.329071\"/>\n     <use style=\"fill:#ff7f0e;stroke:#ff7f0e;stroke-width:1.5;\" x=\"355.898804\" xlink:href=\"#m7340417c2b\" y=\"423.388875\"/>\n     <use style=\"fill:#ff7f0e;stroke:#ff7f0e;stroke-width:1.5;\" x=\"429.513914\" xlink:href=\"#m7340417c2b\" y=\"387.483071\"/>\n     <use style=\"fill:#ff7f0e;stroke:#ff7f0e;stroke-width:1.5;\" x=\"282.283694\" xlink:href=\"#m7340417c2b\" y=\"428.329071\"/>\n     <use style=\"fill:#ff7f0e;stroke:#ff7f0e;stroke-width:1.5;\" x=\"380.437174\" xlink:href=\"#m7340417c2b\" y=\"422.1634\"/>\n     <use style=\"fill:#ff7f0e;stroke:#ff7f0e;stroke-width:1.5;\" x=\"254.239843\" xlink:href=\"#m7340417c2b\" y=\"428.539699\"/>\n     <use style=\"fill:#ff7f0e;stroke:#ff7f0e;stroke-width:1.5;\" x=\"191.141177\" xlink:href=\"#m7340417c2b\" y=\"427.859944\"/>\n     <use style=\"fill:#ff7f0e;stroke:#ff7f0e;stroke-width:1.5;\" x=\"78.965771\" xlink:href=\"#m7340417c2b\" y=\"404.097218\"/>\n     <use style=\"fill:#ff7f0e;stroke:#ff7f0e;stroke-width:1.5;\" x=\"387.448137\" xlink:href=\"#m7340417c2b\" y=\"413.125522\"/>\n     <use style=\"fill:#ff7f0e;stroke:#ff7f0e;stroke-width:1.5;\" x=\"268.261768\" xlink:href=\"#m7340417c2b\" y=\"391.223374\"/>\n     <use style=\"fill:#ff7f0e;stroke:#ff7f0e;stroke-width:1.5;\" x=\"499.623543\" xlink:href=\"#m7340417c2b\" y=\"408.83636\"/>\n     <use style=\"fill:#ff7f0e;stroke:#ff7f0e;stroke-width:1.5;\" x=\"99.998659\" xlink:href=\"#m7340417c2b\" y=\"412.187268\"/>\n     <use style=\"fill:#ff7f0e;stroke:#ff7f0e;stroke-width:1.5;\" x=\"219.185028\" xlink:href=\"#m7340417c2b\" y=\"428.424811\"/>\n     <use style=\"fill:#ff7f0e;stroke:#ff7f0e;stroke-width:1.5;\" x=\"464.568729\" xlink:href=\"#m7340417c2b\" y=\"410.984158\"/>\n     <use style=\"fill:#ff7f0e;stroke:#ff7f0e;stroke-width:1.5;\" x=\"198.15214\" xlink:href=\"#m7340417c2b\" y=\"428.479038\"/>\n     <use style=\"fill:#ff7f0e;stroke:#ff7f0e;stroke-width:1.5;\" x=\"422.502951\" xlink:href=\"#m7340417c2b\" y=\"412.50321\"/>\n     <use style=\"fill:#ff7f0e;stroke:#ff7f0e;stroke-width:1.5;\" x=\"282.283694\" xlink:href=\"#m7340417c2b\" y=\"424.537758\"/>\n     <use style=\"fill:#ff7f0e;stroke:#ff7f0e;stroke-width:1.5;\" x=\"324.349471\" xlink:href=\"#m7340417c2b\" y=\"434.494742\"/>\n     <use style=\"fill:#ff7f0e;stroke:#ff7f0e;stroke-width:1.5;\" x=\"135.053474\" xlink:href=\"#m7340417c2b\" y=\"410.454369\"/>\n     <use style=\"fill:#ff7f0e;stroke:#ff7f0e;stroke-width:1.5;\" x=\"352.393323\" xlink:href=\"#m7340417c2b\" y=\"422.622953\"/>\n     <use style=\"fill:#ff7f0e;stroke:#ff7f0e;stroke-width:1.5;\" x=\"324.349471\" xlink:href=\"#m7340417c2b\" y=\"428.447176\"/>\n     <use style=\"fill:#ff7f0e;stroke:#ff7f0e;stroke-width:1.5;\" x=\"205.163103\" xlink:href=\"#m7340417c2b\" y=\"424.537758\"/>\n     <use style=\"fill:#ff7f0e;stroke:#ff7f0e;stroke-width:1.5;\" x=\"366.415249\" xlink:href=\"#m7340417c2b\" y=\"428.057781\"/>\n     <use style=\"fill:#ff7f0e;stroke:#ff7f0e;stroke-width:1.5;\" x=\"240.217917\" xlink:href=\"#m7340417c2b\" y=\"424.537758\"/>\n     <use style=\"fill:#ff7f0e;stroke:#ff7f0e;stroke-width:1.5;\" x=\"268.261768\" xlink:href=\"#m7340417c2b\" y=\"427.218484\"/>\n     <use style=\"fill:#ff7f0e;stroke:#ff7f0e;stroke-width:1.5;\" x=\"310.327546\" xlink:href=\"#m7340417c2b\" y=\"429.519467\"/>\n     <use style=\"fill:#ff7f0e;stroke:#ff7f0e;stroke-width:1.5;\" x=\"390.953619\" xlink:href=\"#m7340417c2b\" y=\"428.960956\"/>\n     <use style=\"fill:#ff7f0e;stroke:#ff7f0e;stroke-width:1.5;\" x=\"85.976734\" xlink:href=\"#m7340417c2b\" y=\"426.481284\"/>\n     <use style=\"fill:#ff7f0e;stroke:#ff7f0e;stroke-width:1.5;\" x=\"296.30562\" xlink:href=\"#m7340417c2b\" y=\"422.35488\"/>\n     <use style=\"fill:#ff7f0e;stroke:#ff7f0e;stroke-width:1.5;\" x=\"240.217917\" xlink:href=\"#m7340417c2b\" y=\"429.094993\"/>\n     <use style=\"fill:#ff7f0e;stroke:#ff7f0e;stroke-width:1.5;\" x=\"226.195991\" xlink:href=\"#m7340417c2b\" y=\"428.941808\"/>\n     <use style=\"fill:#ff7f0e;stroke:#ff7f0e;stroke-width:1.5;\" x=\"282.283694\" xlink:href=\"#m7340417c2b\" y=\"424.537758\"/>\n     <use style=\"fill:#ff7f0e;stroke:#ff7f0e;stroke-width:1.5;\" x=\"366.415249\" xlink:href=\"#m7340417c2b\" y=\"413.814852\"/>\n     <use style=\"fill:#ff7f0e;stroke:#ff7f0e;stroke-width:1.5;\" x=\"282.283694\" xlink:href=\"#m7340417c2b\" y=\"426.452562\"/>\n     <use style=\"fill:#ff7f0e;stroke:#ff7f0e;stroke-width:1.5;\" x=\"261.250805\" xlink:href=\"#m7340417c2b\" y=\"424.537758\"/>\n     <use style=\"fill:#ff7f0e;stroke:#ff7f0e;stroke-width:1.5;\" x=\"429.513914\" xlink:href=\"#m7340417c2b\" y=\"428.329071\"/>\n     <use style=\"fill:#ff7f0e;stroke:#ff7f0e;stroke-width:1.5;\" x=\"226.195991\" xlink:href=\"#m7340417c2b\" y=\"427.333372\"/>\n     <use style=\"fill:#ff7f0e;stroke:#ff7f0e;stroke-width:1.5;\" x=\"215.679547\" xlink:href=\"#m7340417c2b\" y=\"428.941808\"/>\n     <use style=\"fill:#ff7f0e;stroke:#ff7f0e;stroke-width:1.5;\" x=\"198.15214\" xlink:href=\"#m7340417c2b\" y=\"424.537758\"/>\n     <use style=\"fill:#ff7f0e;stroke:#ff7f0e;stroke-width:1.5;\" x=\"275.272731\" xlink:href=\"#m7340417c2b\" y=\"428.539699\"/>\n     <use style=\"fill:#ff7f0e;stroke:#ff7f0e;stroke-width:1.5;\" x=\"485.601617\" xlink:href=\"#m7340417c2b\" y=\"424.154797\"/>\n     <use style=\"fill:#ff7f0e;stroke:#ff7f0e;stroke-width:1.5;\" x=\"240.217917\" xlink:href=\"#m7340417c2b\" y=\"426.452562\"/>\n     <use style=\"fill:#ff7f0e;stroke:#ff7f0e;stroke-width:1.5;\" x=\"380.437174\" xlink:href=\"#m7340417c2b\" y=\"414.580773\"/>\n     <use style=\"fill:#ff7f0e;stroke:#ff7f0e;stroke-width:1.5;\" x=\"205.163103\" xlink:href=\"#m7340417c2b\" y=\"426.452562\"/>\n     <use style=\"fill:#ff7f0e;stroke:#ff7f0e;stroke-width:1.5;\" x=\"303.316583\" xlink:href=\"#m7340417c2b\" y=\"425.093051\"/>\n     <use style=\"fill:#ff7f0e;stroke:#ff7f0e;stroke-width:1.5;\" x=\"275.272731\" xlink:href=\"#m7340417c2b\" y=\"426.452562\"/>\n     <use style=\"fill:#ff7f0e;stroke:#ff7f0e;stroke-width:1.5;\" x=\"226.195991\" xlink:href=\"#m7340417c2b\" y=\"429.037549\"/>\n     <use style=\"fill:#ff7f0e;stroke:#ff7f0e;stroke-width:1.5;\" x=\"282.283694\" xlink:href=\"#m7340417c2b\" y=\"428.960956\"/>\n     <use style=\"fill:#ff7f0e;stroke:#ff7f0e;stroke-width:1.5;\" x=\"380.437174\" xlink:href=\"#m7340417c2b\" y=\"365.561774\"/>\n     <use style=\"fill:#ff7f0e;stroke:#ff7f0e;stroke-width:1.5;\" x=\"247.22888\" xlink:href=\"#m7340417c2b\" y=\"428.539699\"/>\n     <use style=\"fill:#ff7f0e;stroke:#ff7f0e;stroke-width:1.5;\" x=\"450.546803\" xlink:href=\"#m7340417c2b\" y=\"414.580773\"/>\n     <use style=\"fill:#ff7f0e;stroke:#ff7f0e;stroke-width:1.5;\" x=\"275.272731\" xlink:href=\"#m7340417c2b\" y=\"426.481284\"/>\n     <use style=\"fill:#ff7f0e;stroke:#ff7f0e;stroke-width:1.5;\" x=\"506.634506\" xlink:href=\"#m7340417c2b\" y=\"414.159516\"/>\n     <use style=\"fill:#ff7f0e;stroke:#ff7f0e;stroke-width:1.5;\" x=\"282.283694\" xlink:href=\"#m7340417c2b\" y=\"422.1634\"/>\n     <use style=\"fill:#ff7f0e;stroke:#ff7f0e;stroke-width:1.5;\" x=\"359.404286\" xlink:href=\"#m7340417c2b\" y=\"419.013546\"/>\n     <use style=\"fill:#ff7f0e;stroke:#ff7f0e;stroke-width:1.5;\" x=\"436.524877\" xlink:href=\"#m7340417c2b\" y=\"373.489066\"/>\n     <use style=\"fill:#ff7f0e;stroke:#ff7f0e;stroke-width:1.5;\" x=\"352.393323\" xlink:href=\"#m7340417c2b\" y=\"434.494742\"/>\n     <use style=\"fill:#ff7f0e;stroke:#ff7f0e;stroke-width:1.5;\" x=\"324.349471\" xlink:href=\"#m7340417c2b\" y=\"426.452562\"/>\n     <use style=\"fill:#ff7f0e;stroke:#ff7f0e;stroke-width:1.5;\" x=\"184.130214\" xlink:href=\"#m7340417c2b\" y=\"404.097218\"/>\n     <use style=\"fill:#ff7f0e;stroke:#ff7f0e;stroke-width:1.5;\" x=\"331.360434\" xlink:href=\"#m7340417c2b\" y=\"411.746863\"/>\n     <use style=\"fill:#ff7f0e;stroke:#ff7f0e;stroke-width:1.5;\" x=\"387.448137\" xlink:href=\"#m7340417c2b\" y=\"428.558847\"/>\n     <use style=\"fill:#ff7f0e;stroke:#ff7f0e;stroke-width:1.5;\" x=\"121.031548\" xlink:href=\"#m7340417c2b\" y=\"412.187268\"/>\n     <use style=\"fill:#ff7f0e;stroke:#ff7f0e;stroke-width:1.5;\" x=\"527.667395\" xlink:href=\"#m7340417c2b\" y=\"428.558847\"/>\n     <use style=\"fill:#ff7f0e;stroke:#ff7f0e;stroke-width:1.5;\" x=\"268.261768\" xlink:href=\"#m7340417c2b\" y=\"428.479038\"/>\n     <use style=\"fill:#ff7f0e;stroke:#ff7f0e;stroke-width:1.5;\" x=\"184.130214\" xlink:href=\"#m7340417c2b\" y=\"427.218484\"/>\n     <use style=\"fill:#ff7f0e;stroke:#ff7f0e;stroke-width:1.5;\" x=\"303.316583\" xlink:href=\"#m7340417c2b\" y=\"427.859944\"/>\n     <use style=\"fill:#ff7f0e;stroke:#ff7f0e;stroke-width:1.5;\" x=\"226.195991\" xlink:href=\"#m7340417c2b\" y=\"428.447176\"/>\n     <use style=\"fill:#ff7f0e;stroke:#ff7f0e;stroke-width:1.5;\" x=\"324.349471\" xlink:href=\"#m7340417c2b\" y=\"424.633498\"/>\n     <use style=\"fill:#ff7f0e;stroke:#ff7f0e;stroke-width:1.5;\" x=\"240.217917\" xlink:href=\"#m7340417c2b\" y=\"427.716333\"/>\n     <use style=\"fill:#ff7f0e;stroke:#ff7f0e;stroke-width:1.5;\" x=\"240.217917\" xlink:href=\"#m7340417c2b\" y=\"428.447176\"/>\n     <use style=\"fill:#ff7f0e;stroke:#ff7f0e;stroke-width:1.5;\" x=\"236.712435\" xlink:href=\"#m7340417c2b\" y=\"428.95774\"/>\n     <use style=\"fill:#ff7f0e;stroke:#ff7f0e;stroke-width:1.5;\" x=\"85.976734\" xlink:href=\"#m7340417c2b\" y=\"318.419284\"/>\n     <use style=\"fill:#ff7f0e;stroke:#ff7f0e;stroke-width:1.5;\" x=\"205.163103\" xlink:href=\"#m7340417c2b\" y=\"434.494742\"/>\n     <use style=\"fill:#ff7f0e;stroke:#ff7f0e;stroke-width:1.5;\" x=\"282.283694\" xlink:href=\"#m7340417c2b\" y=\"416.112617\"/>\n     <use style=\"fill:#ff7f0e;stroke:#ff7f0e;stroke-width:1.5;\" x=\"254.239843\" xlink:href=\"#m7340417c2b\" y=\"414.580773\"/>\n     <use style=\"fill:#ff7f0e;stroke:#ff7f0e;stroke-width:1.5;\" x=\"268.261768\" xlink:href=\"#m7340417c2b\" y=\"428.447176\"/>\n     <use style=\"fill:#ff7f0e;stroke:#ff7f0e;stroke-width:1.5;\" x=\"373.426211\" xlink:href=\"#m7340417c2b\" y=\"414.389293\"/>\n     <use style=\"fill:#ff7f0e;stroke:#ff7f0e;stroke-width:1.5;\" x=\"450.546803\" xlink:href=\"#m7340417c2b\" y=\"423.771836\"/>\n     <use style=\"fill:#ff7f0e;stroke:#ff7f0e;stroke-width:1.5;\" x=\"226.195991\" xlink:href=\"#m7340417c2b\" y=\"428.941808\"/>\n     <use style=\"fill:#ff7f0e;stroke:#ff7f0e;stroke-width:1.5;\" x=\"261.250805\" xlink:href=\"#m7340417c2b\" y=\"428.447176\"/>\n     <use style=\"fill:#ff7f0e;stroke:#ff7f0e;stroke-width:1.5;\" x=\"499.623543\" xlink:href=\"#m7340417c2b\" y=\"429.717304\"/>\n     <use style=\"fill:#ff7f0e;stroke:#ff7f0e;stroke-width:1.5;\" x=\"390.953619\" xlink:href=\"#m7340417c2b\" y=\"412.665969\"/>\n     <use style=\"fill:#ff7f0e;stroke:#ff7f0e;stroke-width:1.5;\" x=\"338.371397\" xlink:href=\"#m7340417c2b\" y=\"316.954458\"/>\n     <use style=\"fill:#ff7f0e;stroke:#ff7f0e;stroke-width:1.5;\" x=\"184.130214\" xlink:href=\"#m7340417c2b\" y=\"420.708148\"/>\n     <use style=\"fill:#ff7f0e;stroke:#ff7f0e;stroke-width:1.5;\" x=\"275.272731\" xlink:href=\"#m7340417c2b\" y=\"383.484346\"/>\n     <use style=\"fill:#ff7f0e;stroke:#ff7f0e;stroke-width:1.5;\" x=\"387.448137\" xlink:href=\"#m7340417c2b\" y=\"407.304516\"/>\n     <use style=\"fill:#ff7f0e;stroke:#ff7f0e;stroke-width:1.5;\" x=\"268.261768\" xlink:href=\"#m7340417c2b\" y=\"424.537758\"/>\n     <use style=\"fill:#ff7f0e;stroke:#ff7f0e;stroke-width:1.5;\" x=\"247.22888\" xlink:href=\"#m7340417c2b\" y=\"424.537758\"/>\n     <use style=\"fill:#ff7f0e;stroke:#ff7f0e;stroke-width:1.5;\" x=\"324.349471\" xlink:href=\"#m7340417c2b\" y=\"424.537758\"/>\n     <use style=\"fill:#ff7f0e;stroke:#ff7f0e;stroke-width:1.5;\" x=\"366.415249\" xlink:href=\"#m7340417c2b\" y=\"427.859944\"/>\n     <use style=\"fill:#ff7f0e;stroke:#ff7f0e;stroke-width:1.5;\" x=\"233.206954\" xlink:href=\"#m7340417c2b\" y=\"427.429113\"/>\n     <use style=\"fill:#ff7f0e;stroke:#ff7f0e;stroke-width:1.5;\" x=\"177.119251\" xlink:href=\"#m7340417c2b\" y=\"428.95774\"/>\n     <use style=\"fill:#ff7f0e;stroke:#ff7f0e;stroke-width:1.5;\" x=\"247.22888\" xlink:href=\"#m7340417c2b\" y=\"420.861333\"/>\n     <use style=\"fill:#ff7f0e;stroke:#ff7f0e;stroke-width:1.5;\" x=\"268.261768\" xlink:href=\"#m7340417c2b\" y=\"427.218484\"/>\n     <use style=\"fill:#ff7f0e;stroke:#ff7f0e;stroke-width:1.5;\" x=\"338.371397\" xlink:href=\"#m7340417c2b\" y=\"424.537758\"/>\n     <use style=\"fill:#ff7f0e;stroke:#ff7f0e;stroke-width:1.5;\" x=\"352.393323\" xlink:href=\"#m7340417c2b\" y=\"413.125522\"/>\n     <use style=\"fill:#ff7f0e;stroke:#ff7f0e;stroke-width:1.5;\" x=\"275.272731\" xlink:href=\"#m7340417c2b\" y=\"413.262775\"/>\n     <use style=\"fill:#ff7f0e;stroke:#ff7f0e;stroke-width:1.5;\" x=\"387.448137\" xlink:href=\"#m7340417c2b\" y=\"423.423954\"/>\n     <use style=\"fill:#ff7f0e;stroke:#ff7f0e;stroke-width:1.5;\" x=\"317.338508\" xlink:href=\"#m7340417c2b\" y=\"429.094993\"/>\n     <use style=\"fill:#ff7f0e;stroke:#ff7f0e;stroke-width:1.5;\" x=\"282.283694\" xlink:href=\"#m7340417c2b\" y=\"428.941808\"/>\n     <use style=\"fill:#ff7f0e;stroke:#ff7f0e;stroke-width:1.5;\" x=\"198.15214\" xlink:href=\"#m7340417c2b\" y=\"429.519467\"/>\n     <use style=\"fill:#ff7f0e;stroke:#ff7f0e;stroke-width:1.5;\" x=\"205.163103\" xlink:href=\"#m7340417c2b\" y=\"428.329071\"/>\n     <use style=\"fill:#ff7f0e;stroke:#ff7f0e;stroke-width:1.5;\" x=\"226.195991\" xlink:href=\"#m7340417c2b\" y=\"330.610232\"/>\n     <use style=\"fill:#ff7f0e;stroke:#ff7f0e;stroke-width:1.5;\" x=\"92.987697\" xlink:href=\"#m7340417c2b\" y=\"418.352939\"/>\n     <use style=\"fill:#ff7f0e;stroke:#ff7f0e;stroke-width:1.5;\" x=\"261.250805\" xlink:href=\"#m7340417c2b\" y=\"272.502268\"/>\n     <use style=\"fill:#ff7f0e;stroke:#ff7f0e;stroke-width:1.5;\" x=\"212.174065\" xlink:href=\"#m7340417c2b\" y=\"431.42148\"/>\n     <use style=\"fill:#ff7f0e;stroke:#ff7f0e;stroke-width:1.5;\" x=\"205.163103\" xlink:href=\"#m7340417c2b\" y=\"428.539699\"/>\n     <use style=\"fill:#ff7f0e;stroke:#ff7f0e;stroke-width:1.5;\" x=\"296.30562\" xlink:href=\"#m7340417c2b\" y=\"428.424811\"/>\n     <use style=\"fill:#ff7f0e;stroke:#ff7f0e;stroke-width:1.5;\" x=\"198.15214\" xlink:href=\"#m7340417c2b\" y=\"378.199485\"/>\n     <use style=\"fill:#ff7f0e;stroke:#ff7f0e;stroke-width:1.5;\" x=\"78.965771\" xlink:href=\"#m7340417c2b\" y=\"398.573007\"/>\n     <use style=\"fill:#ff7f0e;stroke:#ff7f0e;stroke-width:1.5;\" x=\"268.261768\" xlink:href=\"#m7340417c2b\" y=\"428.424811\"/>\n     <use style=\"fill:#ff7f0e;stroke:#ff7f0e;stroke-width:1.5;\" x=\"226.195991\" xlink:href=\"#m7340417c2b\" y=\"428.523768\"/>\n     <use style=\"fill:#ff7f0e;stroke:#ff7f0e;stroke-width:1.5;\" x=\"289.294657\" xlink:href=\"#m7340417c2b\" y=\"428.479038\"/>\n     <use style=\"fill:#ff7f0e;stroke:#ff7f0e;stroke-width:1.5;\" x=\"394.4591\" xlink:href=\"#m7340417c2b\" y=\"414.580773\"/>\n     <use style=\"fill:#ff7f0e;stroke:#ff7f0e;stroke-width:1.5;\" x=\"233.206954\" xlink:href=\"#m7340417c2b\" y=\"426.452562\"/>\n     <use style=\"fill:#ff7f0e;stroke:#ff7f0e;stroke-width:1.5;\" x=\"254.239843\" xlink:href=\"#m7340417c2b\" y=\"428.329071\"/>\n     <use style=\"fill:#ff7f0e;stroke:#ff7f0e;stroke-width:1.5;\" x=\"219.185028\" xlink:href=\"#m7340417c2b\" y=\"426.96956\"/>\n     <use style=\"fill:#ff7f0e;stroke:#ff7f0e;stroke-width:1.5;\" x=\"268.261768\" xlink:href=\"#m7340417c2b\" y=\"422.35488\"/>\n     <use style=\"fill:#ff7f0e;stroke:#ff7f0e;stroke-width:1.5;\" x=\"212.174065\" xlink:href=\"#m7340417c2b\" y=\"427.859944\"/>\n     <use style=\"fill:#ff7f0e;stroke:#ff7f0e;stroke-width:1.5;\" x=\"310.327546\" xlink:href=\"#m7340417c2b\" y=\"418.410383\"/>\n     <use style=\"fill:#ff7f0e;stroke:#ff7f0e;stroke-width:1.5;\" x=\"429.513914\" xlink:href=\"#m7340417c2b\" y=\"428.558847\"/>\n     <use style=\"fill:#ff7f0e;stroke:#ff7f0e;stroke-width:1.5;\" x=\"219.185028\" xlink:href=\"#m7340417c2b\" y=\"428.539699\"/>\n     <use style=\"fill:#ff7f0e;stroke:#ff7f0e;stroke-width:1.5;\" x=\"282.283694\" xlink:href=\"#m7340417c2b\" y=\"424.537758\"/>\n     <use style=\"fill:#ff7f0e;stroke:#ff7f0e;stroke-width:1.5;\" x=\"142.064437\" xlink:href=\"#m7340417c2b\" y=\"415.997729\"/>\n     <use style=\"fill:#ff7f0e;stroke:#ff7f0e;stroke-width:1.5;\" x=\"219.185028\" xlink:href=\"#m7340417c2b\" y=\"428.571638\"/>\n     <use style=\"fill:#ff7f0e;stroke:#ff7f0e;stroke-width:1.5;\" x=\"275.272731\" xlink:href=\"#m7340417c2b\" y=\"428.463107\"/>\n     <use style=\"fill:#ff7f0e;stroke:#ff7f0e;stroke-width:1.5;\" x=\"268.261768\" xlink:href=\"#m7340417c2b\" y=\"423.465467\"/>\n     <use style=\"fill:#ff7f0e;stroke:#ff7f0e;stroke-width:1.5;\" x=\"198.15214\" xlink:href=\"#m7340417c2b\" y=\"419.013546\"/>\n     <use style=\"fill:#ff7f0e;stroke:#ff7f0e;stroke-width:1.5;\" x=\"191.141177\" xlink:href=\"#m7340417c2b\" y=\"429.037549\"/>\n     <use style=\"fill:#ff7f0e;stroke:#ff7f0e;stroke-width:1.5;\" x=\"422.502951\" xlink:href=\"#m7340417c2b\" y=\"391.67971\"/>\n     <use style=\"fill:#ff7f0e;stroke:#ff7f0e;stroke-width:1.5;\" x=\"219.185028\" xlink:href=\"#m7340417c2b\" y=\"408.166178\"/>\n     <use style=\"fill:#ff7f0e;stroke:#ff7f0e;stroke-width:1.5;\" x=\"520.656432\" xlink:href=\"#m7340417c2b\" y=\"233.057292\"/>\n     <use style=\"fill:#ff7f0e;stroke:#ff7f0e;stroke-width:1.5;\" x=\"289.294657\" xlink:href=\"#m7340417c2b\" y=\"426.452562\"/>\n     <use style=\"fill:#ff7f0e;stroke:#ff7f0e;stroke-width:1.5;\" x=\"212.174065\" xlink:href=\"#m7340417c2b\" y=\"427.218484\"/>\n     <use style=\"fill:#ff7f0e;stroke:#ff7f0e;stroke-width:1.5;\" x=\"247.22888\" xlink:href=\"#m7340417c2b\" y=\"428.539699\"/>\n     <use style=\"fill:#ff7f0e;stroke:#ff7f0e;stroke-width:1.5;\" x=\"324.349471\" xlink:href=\"#m7340417c2b\" y=\"413.24041\"/>\n     <use style=\"fill:#ff7f0e;stroke:#ff7f0e;stroke-width:1.5;\" x=\"282.283694\" xlink:href=\"#m7340417c2b\" y=\"413.24041\"/>\n     <use style=\"fill:#ff7f0e;stroke:#ff7f0e;stroke-width:1.5;\" x=\"527.667395\" xlink:href=\"#m7340417c2b\" y=\"414.159516\"/>\n     <use style=\"fill:#ff7f0e;stroke:#ff7f0e;stroke-width:1.5;\" x=\"310.327546\" xlink:href=\"#m7340417c2b\" y=\"428.329071\"/>\n     <use style=\"fill:#ff7f0e;stroke:#ff7f0e;stroke-width:1.5;\" x=\"401.470063\" xlink:href=\"#m7340417c2b\" y=\"405.00675\"/>\n     <use style=\"fill:#ff7f0e;stroke:#ff7f0e;stroke-width:1.5;\" x=\"408.481026\" xlink:href=\"#m7340417c2b\" y=\"424.537758\"/>\n     <use style=\"fill:#ff7f0e;stroke:#ff7f0e;stroke-width:1.5;\" x=\"338.371397\" xlink:href=\"#m7340417c2b\" y=\"429.094993\"/>\n     <use style=\"fill:#ff7f0e;stroke:#ff7f0e;stroke-width:1.5;\" x=\"464.568729\" xlink:href=\"#m7340417c2b\" y=\"414.159516\"/>\n     <use style=\"fill:#ff7f0e;stroke:#ff7f0e;stroke-width:1.5;\" x=\"338.371397\" xlink:href=\"#m7340417c2b\" y=\"427.859944\"/>\n     <use style=\"fill:#ff7f0e;stroke:#ff7f0e;stroke-width:1.5;\" x=\"226.195991\" xlink:href=\"#m7340417c2b\" y=\"426.959986\"/>\n     <use style=\"fill:#ff7f0e;stroke:#ff7f0e;stroke-width:1.5;\" x=\"310.327546\" xlink:href=\"#m7340417c2b\" y=\"418.410383\"/>\n     <use style=\"fill:#ff7f0e;stroke:#ff7f0e;stroke-width:1.5;\" x=\"275.272731\" xlink:href=\"#m7340417c2b\" y=\"429.09821\"/>\n     <use style=\"fill:#ff7f0e;stroke:#ff7f0e;stroke-width:1.5;\" x=\"226.195991\" xlink:href=\"#m7340417c2b\" y=\"428.734397\"/>\n     <use style=\"fill:#ff7f0e;stroke:#ff7f0e;stroke-width:1.5;\" x=\"135.053474\" xlink:href=\"#m7340417c2b\" y=\"398.573007\"/>\n     <use style=\"fill:#ff7f0e;stroke:#ff7f0e;stroke-width:1.5;\" x=\"422.502951\" xlink:href=\"#m7340417c2b\" y=\"428.329071\"/>\n     <use style=\"fill:#ff7f0e;stroke:#ff7f0e;stroke-width:1.5;\" x=\"478.590654\" xlink:href=\"#m7340417c2b\" y=\"411.746863\"/>\n     <use style=\"fill:#ff7f0e;stroke:#ff7f0e;stroke-width:1.5;\" x=\"282.283694\" xlink:href=\"#m7340417c2b\" y=\"428.329071\"/>\n     <use style=\"fill:#ff7f0e;stroke:#ff7f0e;stroke-width:1.5;\" x=\"219.185028\" xlink:href=\"#m7340417c2b\" y=\"428.941808\"/>\n     <use style=\"fill:#ff7f0e;stroke:#ff7f0e;stroke-width:1.5;\" x=\"457.557766\" xlink:href=\"#m7340417c2b\" y=\"411.134125\"/>\n     <use style=\"fill:#ff7f0e;stroke:#ff7f0e;stroke-width:1.5;\" x=\"569.733172\" xlink:href=\"#m7340417c2b\" y=\"396.578393\"/>\n     <use style=\"fill:#ff7f0e;stroke:#ff7f0e;stroke-width:1.5;\" x=\"219.185028\" xlink:href=\"#m7340417c2b\" y=\"428.329071\"/>\n     <use style=\"fill:#ff7f0e;stroke:#ff7f0e;stroke-width:1.5;\" x=\"247.22888\" xlink:href=\"#m7340417c2b\" y=\"318.419284\"/>\n     <use style=\"fill:#ff7f0e;stroke:#ff7f0e;stroke-width:1.5;\" x=\"240.217917\" xlink:href=\"#m7340417c2b\" y=\"428.523768\"/>\n     <use style=\"fill:#ff7f0e;stroke:#ff7f0e;stroke-width:1.5;\" x=\"191.141177\" xlink:href=\"#m7340417c2b\" y=\"427.859944\"/>\n     <use style=\"fill:#ff7f0e;stroke:#ff7f0e;stroke-width:1.5;\" x=\"219.185028\" xlink:href=\"#m7340417c2b\" y=\"428.558847\"/>\n     <use style=\"fill:#ff7f0e;stroke:#ff7f0e;stroke-width:1.5;\" x=\"331.360434\" xlink:href=\"#m7340417c2b\" y=\"427.151466\"/>\n     <use style=\"fill:#ff7f0e;stroke:#ff7f0e;stroke-width:1.5;\" x=\"198.15214\" xlink:href=\"#m7340417c2b\" y=\"351.085851\"/>\n     <use style=\"fill:#ff7f0e;stroke:#ff7f0e;stroke-width:1.5;\" x=\"268.261768\" xlink:href=\"#m7340417c2b\" y=\"417.242352\"/>\n     <use style=\"fill:#ff7f0e;stroke:#ff7f0e;stroke-width:1.5;\" x=\"240.217917\" xlink:href=\"#m7340417c2b\" y=\"428.753545\"/>\n     <use style=\"fill:#ff7f0e;stroke:#ff7f0e;stroke-width:1.5;\" x=\"401.470063\" xlink:href=\"#m7340417c2b\" y=\"408.437467\"/>\n     <use style=\"fill:#ff7f0e;stroke:#ff7f0e;stroke-width:1.5;\" x=\"296.30562\" xlink:href=\"#m7340417c2b\" y=\"428.447176\"/>\n     <use style=\"fill:#ff7f0e;stroke:#ff7f0e;stroke-width:1.5;\" x=\"226.195991\" xlink:href=\"#m7340417c2b\" y=\"428.447176\"/>\n     <use style=\"fill:#ff7f0e;stroke:#ff7f0e;stroke-width:1.5;\" x=\"355.898804\" xlink:href=\"#m7340417c2b\" y=\"428.558847\"/>\n     <use style=\"fill:#ff7f0e;stroke:#ff7f0e;stroke-width:1.5;\" x=\"345.38236\" xlink:href=\"#m7340417c2b\" y=\"428.424811\"/>\n     <use style=\"fill:#ff7f0e;stroke:#ff7f0e;stroke-width:1.5;\" x=\"233.206954\" xlink:href=\"#m7340417c2b\" y=\"425.68664\"/>\n     <use style=\"fill:#ff7f0e;stroke:#ff7f0e;stroke-width:1.5;\" x=\"191.141177\" xlink:href=\"#m7340417c2b\" y=\"428.95774\"/>\n     <use style=\"fill:#ff7f0e;stroke:#ff7f0e;stroke-width:1.5;\" x=\"282.283694\" xlink:href=\"#m7340417c2b\" y=\"427.859944\"/>\n     <use style=\"fill:#ff7f0e;stroke:#ff7f0e;stroke-width:1.5;\" x=\"387.448137\" xlink:href=\"#m7340417c2b\" y=\"414.159516\"/>\n     <use style=\"fill:#ff7f0e;stroke:#ff7f0e;stroke-width:1.5;\" x=\"135.053474\" xlink:href=\"#m7340417c2b\" y=\"410.540536\"/>\n     <use style=\"fill:#ff7f0e;stroke:#ff7f0e;stroke-width:1.5;\" x=\"149.0754\" xlink:href=\"#m7340417c2b\" y=\"410.540536\"/>\n     <use style=\"fill:#ff7f0e;stroke:#ff7f0e;stroke-width:1.5;\" x=\"422.502951\" xlink:href=\"#m7340417c2b\" y=\"352.981508\"/>\n     <use style=\"fill:#ff7f0e;stroke:#ff7f0e;stroke-width:1.5;\" x=\"520.656432\" xlink:href=\"#m7340417c2b\" y=\"414.580773\"/>\n     <use style=\"fill:#ff7f0e;stroke:#ff7f0e;stroke-width:1.5;\" x=\"303.316583\" xlink:href=\"#m7340417c2b\" y=\"418.774196\"/>\n     <use style=\"fill:#ff7f0e;stroke:#ff7f0e;stroke-width:1.5;\" x=\"261.250805\" xlink:href=\"#m7340417c2b\" y=\"414.580773\"/>\n     <use style=\"fill:#ff7f0e;stroke:#ff7f0e;stroke-width:1.5;\" x=\"506.634506\" xlink:href=\"#m7340417c2b\" y=\"414.159516\"/>\n     <use style=\"fill:#ff7f0e;stroke:#ff7f0e;stroke-width:1.5;\" x=\"352.393323\" xlink:href=\"#m7340417c2b\" y=\"428.447176\"/>\n     <use style=\"fill:#ff7f0e;stroke:#ff7f0e;stroke-width:1.5;\" x=\"268.261768\" xlink:href=\"#m7340417c2b\" y=\"424.154797\"/>\n     <use style=\"fill:#ff7f0e;stroke:#ff7f0e;stroke-width:1.5;\" x=\"240.217917\" xlink:href=\"#m7340417c2b\" y=\"415.997729\"/>\n     <use style=\"fill:#ff7f0e;stroke:#ff7f0e;stroke-width:1.5;\" x=\"205.163103\" xlink:href=\"#m7340417c2b\" y=\"428.447176\"/>\n     <use style=\"fill:#ff7f0e;stroke:#ff7f0e;stroke-width:1.5;\" x=\"275.272731\" xlink:href=\"#m7340417c2b\" y=\"418.352939\"/>\n     <use style=\"fill:#ff7f0e;stroke:#ff7f0e;stroke-width:1.5;\" x=\"184.130214\" xlink:href=\"#m7340417c2b\" y=\"428.329071\"/>\n     <use style=\"fill:#ff7f0e;stroke:#ff7f0e;stroke-width:1.5;\" x=\"205.163103\" xlink:href=\"#m7340417c2b\" y=\"423.388875\"/>\n     <use style=\"fill:#ff7f0e;stroke:#ff7f0e;stroke-width:1.5;\" x=\"450.546803\" xlink:href=\"#m7340417c2b\" y=\"414.580773\"/>\n     <use style=\"fill:#ff7f0e;stroke:#ff7f0e;stroke-width:1.5;\" x=\"324.349471\" xlink:href=\"#m7340417c2b\" y=\"403.762127\"/>\n     <use style=\"fill:#ff7f0e;stroke:#ff7f0e;stroke-width:1.5;\" x=\"401.470063\" xlink:href=\"#m7340417c2b\" y=\"423.005914\"/>\n     <use style=\"fill:#ff7f0e;stroke:#ff7f0e;stroke-width:1.5;\" x=\"226.195991\" xlink:href=\"#m7340417c2b\" y=\"428.329071\"/>\n     <use style=\"fill:#ff7f0e;stroke:#ff7f0e;stroke-width:1.5;\" x=\"317.338508\" xlink:href=\"#m7340417c2b\" y=\"429.037549\"/>\n     <use style=\"fill:#ff7f0e;stroke:#ff7f0e;stroke-width:1.5;\" x=\"401.470063\" xlink:href=\"#m7340417c2b\" y=\"428.941808\"/>\n     <use style=\"fill:#ff7f0e;stroke:#ff7f0e;stroke-width:1.5;\" x=\"331.360434\" xlink:href=\"#m7340417c2b\" y=\"414.580773\"/>\n     <use style=\"fill:#ff7f0e;stroke:#ff7f0e;stroke-width:1.5;\" x=\"324.349471\" xlink:href=\"#m7340417c2b\" y=\"415.997729\"/>\n     <use style=\"fill:#ff7f0e;stroke:#ff7f0e;stroke-width:1.5;\" x=\"415.491989\" xlink:href=\"#m7340417c2b\" y=\"434.494742\"/>\n     <use style=\"fill:#ff7f0e;stroke:#ff7f0e;stroke-width:1.5;\" x=\"380.437174\" xlink:href=\"#m7340417c2b\" y=\"428.329071\"/>\n     <use style=\"fill:#ff7f0e;stroke:#ff7f0e;stroke-width:1.5;\" x=\"324.349471\" xlink:href=\"#m7340417c2b\" y=\"422.584657\"/>\n     <use style=\"fill:#ff7f0e;stroke:#ff7f0e;stroke-width:1.5;\" x=\"282.283694\" xlink:href=\"#m7340417c2b\" y=\"428.447176\"/>\n     <use style=\"fill:#ff7f0e;stroke:#ff7f0e;stroke-width:1.5;\" x=\"345.38236\" xlink:href=\"#m7340417c2b\" y=\"410.540536\"/>\n     <use style=\"fill:#ff7f0e;stroke:#ff7f0e;stroke-width:1.5;\" x=\"317.338508\" xlink:href=\"#m7340417c2b\" y=\"428.329071\"/>\n     <use style=\"fill:#ff7f0e;stroke:#ff7f0e;stroke-width:1.5;\" x=\"310.327546\" xlink:href=\"#m7340417c2b\" y=\"423.465467\"/>\n     <use style=\"fill:#ff7f0e;stroke:#ff7f0e;stroke-width:1.5;\" x=\"254.239843\" xlink:href=\"#m7340417c2b\" y=\"422.1634\"/>\n     <use style=\"fill:#ff7f0e;stroke:#ff7f0e;stroke-width:1.5;\" x=\"254.239843\" xlink:href=\"#m7340417c2b\" y=\"426.452562\"/>\n     <use style=\"fill:#ff7f0e;stroke:#ff7f0e;stroke-width:1.5;\" x=\"261.250805\" xlink:href=\"#m7340417c2b\" y=\"423.423954\"/>\n     <use style=\"fill:#ff7f0e;stroke:#ff7f0e;stroke-width:1.5;\" x=\"219.185028\" xlink:href=\"#m7340417c2b\" y=\"428.479038\"/>\n     <use style=\"fill:#ff7f0e;stroke:#ff7f0e;stroke-width:1.5;\" x=\"219.185028\" xlink:href=\"#m7340417c2b\" y=\"422.1634\"/>\n     <use style=\"fill:#ff7f0e;stroke:#ff7f0e;stroke-width:1.5;\" x=\"499.623543\" xlink:href=\"#m7340417c2b\" y=\"409.739535\"/>\n     <use style=\"fill:#ff7f0e;stroke:#ff7f0e;stroke-width:1.5;\" x=\"471.579692\" xlink:href=\"#m7340417c2b\" y=\"425.035607\"/>\n     <use style=\"fill:#ff7f0e;stroke:#ff7f0e;stroke-width:1.5;\" x=\"254.239843\" xlink:href=\"#m7340417c2b\" y=\"428.447176\"/>\n     <use style=\"fill:#ff7f0e;stroke:#ff7f0e;stroke-width:1.5;\" x=\"429.513914\" xlink:href=\"#m7340417c2b\" y=\"429.091776\"/>\n     <use style=\"fill:#ff7f0e;stroke:#ff7f0e;stroke-width:1.5;\" x=\"135.053474\" xlink:href=\"#m7340417c2b\" y=\"413.125522\"/>\n     <use style=\"fill:#ff7f0e;stroke:#ff7f0e;stroke-width:1.5;\" x=\"296.30562\" xlink:href=\"#m7340417c2b\" y=\"428.424811\"/>\n     <use style=\"fill:#ff7f0e;stroke:#ff7f0e;stroke-width:1.5;\" x=\"289.294657\" xlink:href=\"#m7340417c2b\" y=\"414.389293\"/>\n     <use style=\"fill:#ff7f0e;stroke:#ff7f0e;stroke-width:1.5;\" x=\"359.404286\" xlink:href=\"#m7340417c2b\" y=\"404.097218\"/>\n     <use style=\"fill:#ff7f0e;stroke:#ff7f0e;stroke-width:1.5;\" x=\"212.174065\" xlink:href=\"#m7340417c2b\" y=\"428.479038\"/>\n     <use style=\"fill:#ff7f0e;stroke:#ff7f0e;stroke-width:1.5;\" x=\"85.976734\" xlink:href=\"#m7340417c2b\" y=\"413.125522\"/>\n     <use style=\"fill:#ff7f0e;stroke:#ff7f0e;stroke-width:1.5;\" x=\"205.163103\" xlink:href=\"#m7340417c2b\" y=\"428.447176\"/>\n     <use style=\"fill:#ff7f0e;stroke:#ff7f0e;stroke-width:1.5;\" x=\"219.185028\" xlink:href=\"#m7340417c2b\" y=\"428.035493\"/>\n     <use style=\"fill:#ff7f0e;stroke:#ff7f0e;stroke-width:1.5;\" x=\"198.15214\" xlink:href=\"#m7340417c2b\" y=\"429.324769\"/>\n     <use style=\"fill:#ff7f0e;stroke:#ff7f0e;stroke-width:1.5;\" x=\"240.217917\" xlink:href=\"#m7340417c2b\" y=\"378.199485\"/>\n     <use style=\"fill:#ff7f0e;stroke:#ff7f0e;stroke-width:1.5;\" x=\"296.30562\" xlink:href=\"#m7340417c2b\" y=\"422.622953\"/>\n     <use style=\"fill:#ff7f0e;stroke:#ff7f0e;stroke-width:1.5;\" x=\"233.206954\" xlink:href=\"#m7340417c2b\" y=\"424.537758\"/>\n     <use style=\"fill:#ff7f0e;stroke:#ff7f0e;stroke-width:1.5;\" x=\"478.590654\" xlink:href=\"#m7340417c2b\" y=\"347.734943\"/>\n     <use style=\"fill:#ff7f0e;stroke:#ff7f0e;stroke-width:1.5;\" x=\"352.393323\" xlink:href=\"#m7340417c2b\" y=\"428.960956\"/>\n     <use style=\"fill:#ff7f0e;stroke:#ff7f0e;stroke-width:1.5;\" x=\"401.470063\" xlink:href=\"#m7340417c2b\" y=\"414.896716\"/>\n     <use style=\"fill:#ff7f0e;stroke:#ff7f0e;stroke-width:1.5;\" x=\"324.349471\" xlink:href=\"#m7340417c2b\" y=\"428.753545\"/>\n     <use style=\"fill:#ff7f0e;stroke:#ff7f0e;stroke-width:1.5;\" x=\"296.30562\" xlink:href=\"#m7340417c2b\" y=\"378.199485\"/>\n     <use style=\"fill:#ff7f0e;stroke:#ff7f0e;stroke-width:1.5;\" x=\"247.22888\" xlink:href=\"#m7340417c2b\" y=\"424.537758\"/>\n     <use style=\"fill:#ff7f0e;stroke:#ff7f0e;stroke-width:1.5;\" x=\"373.426211\" xlink:href=\"#m7340417c2b\" y=\"428.329071\"/>\n     <use style=\"fill:#ff7f0e;stroke:#ff7f0e;stroke-width:1.5;\" x=\"289.294657\" xlink:href=\"#m7340417c2b\" y=\"394.666805\"/>\n     <use style=\"fill:#ff7f0e;stroke:#ff7f0e;stroke-width:1.5;\" x=\"562.722209\" xlink:href=\"#m7340417c2b\" y=\"426.452562\"/>\n     <use style=\"fill:#ff7f0e;stroke:#ff7f0e;stroke-width:1.5;\" x=\"198.15214\" xlink:href=\"#m7340417c2b\" y=\"428.539699\"/>\n     <use style=\"fill:#ff7f0e;stroke:#ff7f0e;stroke-width:1.5;\" x=\"243.723398\" xlink:href=\"#m7340417c2b\" y=\"428.329071\"/>\n     <use style=\"fill:#ff7f0e;stroke:#ff7f0e;stroke-width:1.5;\" x=\"373.426211\" xlink:href=\"#m7340417c2b\" y=\"398.573007\"/>\n     <use style=\"fill:#ff7f0e;stroke:#ff7f0e;stroke-width:1.5;\" x=\"212.174065\" xlink:href=\"#m7340417c2b\" y=\"427.429113\"/>\n     <use style=\"fill:#ff7f0e;stroke:#ff7f0e;stroke-width:1.5;\" x=\"170.108288\" xlink:href=\"#m7340417c2b\" y=\"398.573007\"/>\n     <use style=\"fill:#ff7f0e;stroke:#ff7f0e;stroke-width:1.5;\" x=\"492.61258\" xlink:href=\"#m7340417c2b\" y=\"404.623789\"/>\n     <use style=\"fill:#ff7f0e;stroke:#ff7f0e;stroke-width:1.5;\" x=\"247.22888\" xlink:href=\"#m7340417c2b\" y=\"402.648324\"/>\n     <use style=\"fill:#ff7f0e;stroke:#ff7f0e;stroke-width:1.5;\" x=\"170.108288\" xlink:href=\"#m7340417c2b\" y=\"404.097218\"/>\n     <use style=\"fill:#ff7f0e;stroke:#ff7f0e;stroke-width:1.5;\" x=\"205.163103\" xlink:href=\"#m7340417c2b\" y=\"426.704704\"/>\n     <use style=\"fill:#ff7f0e;stroke:#ff7f0e;stroke-width:1.5;\" x=\"198.15214\" xlink:href=\"#m7340417c2b\" y=\"428.523768\"/>\n     <use style=\"fill:#ff7f0e;stroke:#ff7f0e;stroke-width:1.5;\" x=\"247.22888\" xlink:href=\"#m7340417c2b\" y=\"428.960956\"/>\n     <use style=\"fill:#ff7f0e;stroke:#ff7f0e;stroke-width:1.5;\" x=\"492.61258\" xlink:href=\"#m7340417c2b\" y=\"414.159516\"/>\n     <use style=\"fill:#ff7f0e;stroke:#ff7f0e;stroke-width:1.5;\" x=\"436.524877\" xlink:href=\"#m7340417c2b\" y=\"424.154797\"/>\n     <use style=\"fill:#ff7f0e;stroke:#ff7f0e;stroke-width:1.5;\" x=\"380.437174\" xlink:href=\"#m7340417c2b\" y=\"428.329071\"/>\n     <use style=\"fill:#ff7f0e;stroke:#ff7f0e;stroke-width:1.5;\" x=\"415.491989\" xlink:href=\"#m7340417c2b\" y=\"349.566798\"/>\n     <use style=\"fill:#ff7f0e;stroke:#ff7f0e;stroke-width:1.5;\" x=\"366.415249\" xlink:href=\"#m7340417c2b\" y=\"428.63544\"/>\n     <use style=\"fill:#ff7f0e;stroke:#ff7f0e;stroke-width:1.5;\" x=\"198.15214\" xlink:href=\"#m7340417c2b\" y=\"423.423954\"/>\n     <use style=\"fill:#ff7f0e;stroke:#ff7f0e;stroke-width:1.5;\" x=\"247.22888\" xlink:href=\"#m7340417c2b\" y=\"428.565205\"/>\n     <use style=\"fill:#ff7f0e;stroke:#ff7f0e;stroke-width:1.5;\" x=\"254.239843\" xlink:href=\"#m7340417c2b\" y=\"428.479038\"/>\n     <use style=\"fill:#ff7f0e;stroke:#ff7f0e;stroke-width:1.5;\" x=\"345.38236\" xlink:href=\"#m7340417c2b\" y=\"414.580773\"/>\n     <use style=\"fill:#ff7f0e;stroke:#ff7f0e;stroke-width:1.5;\" x=\"275.272731\" xlink:href=\"#m7340417c2b\" y=\"427.231275\"/>\n     <use style=\"fill:#ff7f0e;stroke:#ff7f0e;stroke-width:1.5;\" x=\"436.524877\" xlink:href=\"#m7340417c2b\" y=\"424.537758\"/>\n     <use style=\"fill:#ff7f0e;stroke:#ff7f0e;stroke-width:1.5;\" x=\"205.163103\" xlink:href=\"#m7340417c2b\" y=\"428.63544\"/>\n     <use style=\"fill:#ff7f0e;stroke:#ff7f0e;stroke-width:1.5;\" x=\"303.316583\" xlink:href=\"#m7340417c2b\" y=\"428.539699\"/>\n     <use style=\"fill:#ff7f0e;stroke:#ff7f0e;stroke-width:1.5;\" x=\"191.141177\" xlink:href=\"#m7340417c2b\" y=\"429.091776\"/>\n     <use style=\"fill:#ff7f0e;stroke:#ff7f0e;stroke-width:1.5;\" x=\"310.327546\" xlink:href=\"#m7340417c2b\" y=\"424.537758\"/>\n     <use style=\"fill:#ff7f0e;stroke:#ff7f0e;stroke-width:1.5;\" x=\"422.502951\" xlink:href=\"#m7340417c2b\" y=\"424.537758\"/>\n     <use style=\"fill:#ff7f0e;stroke:#ff7f0e;stroke-width:1.5;\" x=\"212.174065\" xlink:href=\"#m7340417c2b\" y=\"427.859944\"/>\n     <use style=\"fill:#ff7f0e;stroke:#ff7f0e;stroke-width:1.5;\" x=\"247.22888\" xlink:href=\"#m7340417c2b\" y=\"414.580773\"/>\n     <use style=\"fill:#ff7f0e;stroke:#ff7f0e;stroke-width:1.5;\" x=\"247.22888\" xlink:href=\"#m7340417c2b\" y=\"428.424811\"/>\n     <use style=\"fill:#ff7f0e;stroke:#ff7f0e;stroke-width:1.5;\" x=\"149.0754\" xlink:href=\"#m7340417c2b\" y=\"420.104985\"/>\n     <use style=\"fill:#ff7f0e;stroke:#ff7f0e;stroke-width:1.5;\" x=\"233.206954\" xlink:href=\"#m7340417c2b\" y=\"424.537758\"/>\n     <use style=\"fill:#ff7f0e;stroke:#ff7f0e;stroke-width:1.5;\" x=\"233.206954\" xlink:href=\"#m7340417c2b\" y=\"424.537758\"/>\n     <use style=\"fill:#ff7f0e;stroke:#ff7f0e;stroke-width:1.5;\" x=\"271.76725\" xlink:href=\"#m7340417c2b\" y=\"422.1634\"/>\n     <use style=\"fill:#ff7f0e;stroke:#ff7f0e;stroke-width:1.5;\" x=\"408.481026\" xlink:href=\"#m7340417c2b\" y=\"408.166178\"/>\n     <use style=\"fill:#ff7f0e;stroke:#ff7f0e;stroke-width:1.5;\" x=\"324.349471\" xlink:href=\"#m7340417c2b\" y=\"374.101803\"/>\n     <use style=\"fill:#ff7f0e;stroke:#ff7f0e;stroke-width:1.5;\" x=\"240.217917\" xlink:href=\"#m7340417c2b\" y=\"422.1634\"/>\n     <use style=\"fill:#ff7f0e;stroke:#ff7f0e;stroke-width:1.5;\" x=\"562.722209\" xlink:href=\"#m7340417c2b\" y=\"380.11429\"/>\n     <use style=\"fill:#ff7f0e;stroke:#ff7f0e;stroke-width:1.5;\" x=\"184.130214\" xlink:href=\"#m7340417c2b\" y=\"418.984824\"/>\n     <use style=\"fill:#ff7f0e;stroke:#ff7f0e;stroke-width:1.5;\" x=\"205.163103\" xlink:href=\"#m7340417c2b\" y=\"393.824291\"/>\n     <use style=\"fill:#ff7f0e;stroke:#ff7f0e;stroke-width:1.5;\" x=\"289.294657\" xlink:href=\"#m7340417c2b\" y=\"428.558847\"/>\n     <use style=\"fill:#ff7f0e;stroke:#ff7f0e;stroke-width:1.5;\" x=\"303.316583\" xlink:href=\"#m7340417c2b\" y=\"427.218484\"/>\n     <use style=\"fill:#ff7f0e;stroke:#ff7f0e;stroke-width:1.5;\" x=\"233.206954\" xlink:href=\"#m7340417c2b\" y=\"428.447176\"/>\n     <use style=\"fill:#ff7f0e;stroke:#ff7f0e;stroke-width:1.5;\" x=\"268.261768\" xlink:href=\"#m7340417c2b\" y=\"428.523768\"/>\n     <use style=\"fill:#ff7f0e;stroke:#ff7f0e;stroke-width:1.5;\" x=\"198.15214\" xlink:href=\"#m7340417c2b\" y=\"425.68664\"/>\n     <use style=\"fill:#ff7f0e;stroke:#ff7f0e;stroke-width:1.5;\" x=\"310.327546\" xlink:href=\"#m7340417c2b\" y=\"428.329071\"/>\n     <use style=\"fill:#ff7f0e;stroke:#ff7f0e;stroke-width:1.5;\" x=\"359.404286\" xlink:href=\"#m7340417c2b\" y=\"429.037549\"/>\n     <use style=\"fill:#ff7f0e;stroke:#ff7f0e;stroke-width:1.5;\" x=\"184.130214\" xlink:href=\"#m7340417c2b\" y=\"428.539699\"/>\n     <use style=\"fill:#ff7f0e;stroke:#ff7f0e;stroke-width:1.5;\" x=\"285.789176\" xlink:href=\"#m7340417c2b\" y=\"428.558847\"/>\n     <use style=\"fill:#ff7f0e;stroke:#ff7f0e;stroke-width:1.5;\" x=\"296.30562\" xlink:href=\"#m7340417c2b\" y=\"428.08972\"/>\n     <use style=\"fill:#ff7f0e;stroke:#ff7f0e;stroke-width:1.5;\" x=\"240.217917\" xlink:href=\"#m7340417c2b\" y=\"427.218484\"/>\n     <use style=\"fill:#ff7f0e;stroke:#ff7f0e;stroke-width:1.5;\" x=\"408.481026\" xlink:href=\"#m7340417c2b\" y=\"428.479038\"/>\n     <use style=\"fill:#ff7f0e;stroke:#ff7f0e;stroke-width:1.5;\" x=\"471.579692\" xlink:href=\"#m7340417c2b\" y=\"426.452562\"/>\n     <use style=\"fill:#ff7f0e;stroke:#ff7f0e;stroke-width:1.5;\" x=\"198.15214\" xlink:href=\"#m7340417c2b\" y=\"428.558847\"/>\n     <use style=\"fill:#ff7f0e;stroke:#ff7f0e;stroke-width:1.5;\" x=\"275.272731\" xlink:href=\"#m7340417c2b\" y=\"411.517086\"/>\n     <use style=\"fill:#ff7f0e;stroke:#ff7f0e;stroke-width:1.5;\" x=\"247.22888\" xlink:href=\"#m7340417c2b\" y=\"429.094993\"/>\n     <use style=\"fill:#ff7f0e;stroke:#ff7f0e;stroke-width:1.5;\" x=\"247.22888\" xlink:href=\"#m7340417c2b\" y=\"428.941808\"/>\n     <use style=\"fill:#ff7f0e;stroke:#ff7f0e;stroke-width:1.5;\" x=\"128.042511\" xlink:href=\"#m7340417c2b\" y=\"412.187268\"/>\n     <use style=\"fill:#ff7f0e;stroke:#ff7f0e;stroke-width:1.5;\" x=\"394.4591\" xlink:href=\"#m7340417c2b\" y=\"373.83373\"/>\n     <use style=\"fill:#ff7f0e;stroke:#ff7f0e;stroke-width:1.5;\" x=\"184.130214\" xlink:href=\"#m7340417c2b\" y=\"414.580773\"/>\n     <use style=\"fill:#ff7f0e;stroke:#ff7f0e;stroke-width:1.5;\" x=\"247.22888\" xlink:href=\"#m7340417c2b\" y=\"428.447176\"/>\n     <use style=\"fill:#ff7f0e;stroke:#ff7f0e;stroke-width:1.5;\" x=\"345.38236\" xlink:href=\"#m7340417c2b\" y=\"424.537758\"/>\n     <use style=\"fill:#ff7f0e;stroke:#ff7f0e;stroke-width:1.5;\" x=\"282.283694\" xlink:href=\"#m7340417c2b\" y=\"428.95774\"/>\n     <use style=\"fill:#ff7f0e;stroke:#ff7f0e;stroke-width:1.5;\" x=\"282.283694\" xlink:href=\"#m7340417c2b\" y=\"415.997729\"/>\n     <use style=\"fill:#ff7f0e;stroke:#ff7f0e;stroke-width:1.5;\" x=\"310.327546\" xlink:href=\"#m7340417c2b\" y=\"424.537758\"/>\n     <use style=\"fill:#ff7f0e;stroke:#ff7f0e;stroke-width:1.5;\" x=\"289.294657\" xlink:href=\"#m7340417c2b\" y=\"428.539699\"/>\n     <use style=\"fill:#ff7f0e;stroke:#ff7f0e;stroke-width:1.5;\" x=\"345.38236\" xlink:href=\"#m7340417c2b\" y=\"434.494742\"/>\n     <use style=\"fill:#ff7f0e;stroke:#ff7f0e;stroke-width:1.5;\" x=\"198.15214\" xlink:href=\"#m7340417c2b\" y=\"428.539699\"/>\n     <use style=\"fill:#ff7f0e;stroke:#ff7f0e;stroke-width:1.5;\" x=\"345.38236\" xlink:href=\"#m7340417c2b\" y=\"424.537758\"/>\n     <use style=\"fill:#ff7f0e;stroke:#ff7f0e;stroke-width:1.5;\" x=\"254.239843\" xlink:href=\"#m7340417c2b\" y=\"428.453533\"/>\n     <use style=\"fill:#ff7f0e;stroke:#ff7f0e;stroke-width:1.5;\" x=\"345.38236\" xlink:href=\"#m7340417c2b\" y=\"415.997729\"/>\n     <use style=\"fill:#ff7f0e;stroke:#ff7f0e;stroke-width:1.5;\" x=\"317.338508\" xlink:href=\"#m7340417c2b\" y=\"426.452562\"/>\n     <use style=\"fill:#ff7f0e;stroke:#ff7f0e;stroke-width:1.5;\" x=\"114.020585\" xlink:href=\"#m7340417c2b\" y=\"410.540536\"/>\n     <use style=\"fill:#ff7f0e;stroke:#ff7f0e;stroke-width:1.5;\" x=\"285.789176\" xlink:href=\"#m7340417c2b\" y=\"428.329071\"/>\n     <use style=\"fill:#ff7f0e;stroke:#ff7f0e;stroke-width:1.5;\" x=\"233.206954\" xlink:href=\"#m7340417c2b\" y=\"428.424811\"/>\n     <use style=\"fill:#ff7f0e;stroke:#ff7f0e;stroke-width:1.5;\" x=\"289.294657\" xlink:href=\"#m7340417c2b\" y=\"406.152416\"/>\n     <use style=\"fill:#ff7f0e;stroke:#ff7f0e;stroke-width:1.5;\" x=\"373.426211\" xlink:href=\"#m7340417c2b\" y=\"429.554546\"/>\n     <use style=\"fill:#ff7f0e;stroke:#ff7f0e;stroke-width:1.5;\" x=\"142.064437\" xlink:href=\"#m7340417c2b\" y=\"413.125522\"/>\n     <use style=\"fill:#ff7f0e;stroke:#ff7f0e;stroke-width:1.5;\" x=\"338.371397\" xlink:href=\"#m7340417c2b\" y=\"434.494742\"/>\n     <use style=\"fill:#ff7f0e;stroke:#ff7f0e;stroke-width:1.5;\" x=\"85.976734\" xlink:href=\"#m7340417c2b\" y=\"404.097218\"/>\n     <use style=\"fill:#ff7f0e;stroke:#ff7f0e;stroke-width:1.5;\" x=\"233.206954\" xlink:href=\"#m7340417c2b\" y=\"428.479038\"/>\n     <use style=\"fill:#ff7f0e;stroke:#ff7f0e;stroke-width:1.5;\" x=\"198.15214\" xlink:href=\"#m7340417c2b\" y=\"428.13759\"/>\n     <use style=\"fill:#ff7f0e;stroke:#ff7f0e;stroke-width:1.5;\" x=\"219.185028\" xlink:href=\"#m7340417c2b\" y=\"427.859944\"/>\n     <use style=\"fill:#ff7f0e;stroke:#ff7f0e;stroke-width:1.5;\" x=\"212.174065\" xlink:href=\"#m7340417c2b\" y=\"428.424811\"/>\n     <use style=\"fill:#ff7f0e;stroke:#ff7f0e;stroke-width:1.5;\" x=\"184.130214\" xlink:href=\"#m7340417c2b\" y=\"426.452562\"/>\n     <use style=\"fill:#ff7f0e;stroke:#ff7f0e;stroke-width:1.5;\" x=\"313.833027\" xlink:href=\"#m7340417c2b\" y=\"429.56412\"/>\n     <use style=\"fill:#ff7f0e;stroke:#ff7f0e;stroke-width:1.5;\" x=\"191.141177\" xlink:href=\"#m7340417c2b\" y=\"427.859944\"/>\n     <use style=\"fill:#ff7f0e;stroke:#ff7f0e;stroke-width:1.5;\" x=\"366.415249\" xlink:href=\"#m7340417c2b\" y=\"428.712032\"/>\n     <use style=\"fill:#ff7f0e;stroke:#ff7f0e;stroke-width:1.5;\" x=\"317.338508\" xlink:href=\"#m7340417c2b\" y=\"428.447176\"/>\n     <use style=\"fill:#ff7f0e;stroke:#ff7f0e;stroke-width:1.5;\" x=\"268.261768\" xlink:href=\"#m7340417c2b\" y=\"409.21932\"/>\n     <use style=\"fill:#ff7f0e;stroke:#ff7f0e;stroke-width:1.5;\" x=\"99.998659\" xlink:href=\"#m7340417c2b\" y=\"410.540536\"/>\n     <use style=\"fill:#ff7f0e;stroke:#ff7f0e;stroke-width:1.5;\" x=\"590.76606\" xlink:href=\"#m7340417c2b\" y=\"428.539699\"/>\n     <use style=\"fill:#ff7f0e;stroke:#ff7f0e;stroke-width:1.5;\" x=\"135.053474\" xlink:href=\"#m7340417c2b\" y=\"422.81765\"/>\n     <use style=\"fill:#ff7f0e;stroke:#ff7f0e;stroke-width:1.5;\" x=\"380.437174\" xlink:href=\"#m7340417c2b\" y=\"414.580773\"/>\n     <use style=\"fill:#ff7f0e;stroke:#ff7f0e;stroke-width:1.5;\" x=\"359.404286\" xlink:href=\"#m7340417c2b\" y=\"423.688886\"/>\n     <use style=\"fill:#ff7f0e;stroke:#ff7f0e;stroke-width:1.5;\" x=\"219.185028\" xlink:href=\"#m7340417c2b\" y=\"425.68664\"/>\n     <use style=\"fill:#ff7f0e;stroke:#ff7f0e;stroke-width:1.5;\" x=\"240.217917\" xlink:href=\"#m7340417c2b\" y=\"424.537758\"/>\n     <use style=\"fill:#ff7f0e;stroke:#ff7f0e;stroke-width:1.5;\" x=\"289.294657\" xlink:href=\"#m7340417c2b\" y=\"395.818905\"/>\n     <use style=\"fill:#ff7f0e;stroke:#ff7f0e;stroke-width:1.5;\" x=\"254.239843\" xlink:href=\"#m7340417c2b\" y=\"428.447176\"/>\n     <use style=\"fill:#ff7f0e;stroke:#ff7f0e;stroke-width:1.5;\" x=\"303.316583\" xlink:href=\"#m7340417c2b\" y=\"430.665133\"/>\n     <use style=\"fill:#ff7f0e;stroke:#ff7f0e;stroke-width:1.5;\" x=\"401.470063\" xlink:href=\"#m7340417c2b\" y=\"427.601445\"/>\n     <use style=\"fill:#ff7f0e;stroke:#ff7f0e;stroke-width:1.5;\" x=\"212.174065\" xlink:href=\"#m7340417c2b\" y=\"426.953628\"/>\n     <use style=\"fill:#ff7f0e;stroke:#ff7f0e;stroke-width:1.5;\" x=\"205.163103\" xlink:href=\"#m7340417c2b\" y=\"428.447176\"/>\n     <use style=\"fill:#ff7f0e;stroke:#ff7f0e;stroke-width:1.5;\" x=\"303.316583\" xlink:href=\"#m7340417c2b\" y=\"428.447176\"/>\n     <use style=\"fill:#ff7f0e;stroke:#ff7f0e;stroke-width:1.5;\" x=\"226.195991\" xlink:href=\"#m7340417c2b\" y=\"426.439771\"/>\n     <use style=\"fill:#ff7f0e;stroke:#ff7f0e;stroke-width:1.5;\" x=\"268.261768\" xlink:href=\"#m7340417c2b\" y=\"426.452562\"/>\n     <use style=\"fill:#ff7f0e;stroke:#ff7f0e;stroke-width:1.5;\" x=\"247.22888\" xlink:href=\"#m7340417c2b\" y=\"429.094993\"/>\n     <use style=\"fill:#ff7f0e;stroke:#ff7f0e;stroke-width:1.5;\" x=\"345.38236\" xlink:href=\"#m7340417c2b\" y=\"412.187268\"/>\n     <use style=\"fill:#ff7f0e;stroke:#ff7f0e;stroke-width:1.5;\" x=\"261.250805\" xlink:href=\"#m7340417c2b\" y=\"424.537758\"/>\n     <use style=\"fill:#ff7f0e;stroke:#ff7f0e;stroke-width:1.5;\" x=\"296.30562\" xlink:href=\"#m7340417c2b\" y=\"428.558847\"/>\n    </g>\n   </g>\n   <g id=\"matplotlib.axis_1\">\n    <g id=\"xtick_1\">\n     <g id=\"line2d_1\">\n      <defs>\n       <path d=\"M 0 0 \nL 0 3.5 \n\" id=\"mbd304162f6\" style=\"stroke:#000000;stroke-width:0.8;\"/>\n      </defs>\n      <g>\n       <use style=\"stroke:#000000;stroke-width:0.8;\" x=\"71.954808\" xlink:href=\"#mbd304162f6\" y=\"457.198125\"/>\n      </g>\n     </g>\n     <g id=\"text_1\">\n      <!-- 0 -->\n      <defs>\n       <path d=\"M 31.78125 66.40625 \nQ 24.171875 66.40625 20.328125 58.90625 \nQ 16.5 51.421875 16.5 36.375 \nQ 16.5 21.390625 20.328125 13.890625 \nQ 24.171875 6.390625 31.78125 6.390625 \nQ 39.453125 6.390625 43.28125 13.890625 \nQ 47.125 21.390625 47.125 36.375 \nQ 47.125 51.421875 43.28125 58.90625 \nQ 39.453125 66.40625 31.78125 66.40625 \nz\nM 31.78125 74.21875 \nQ 44.046875 74.21875 50.515625 64.515625 \nQ 56.984375 54.828125 56.984375 36.375 \nQ 56.984375 17.96875 50.515625 8.265625 \nQ 44.046875 -1.421875 31.78125 -1.421875 \nQ 19.53125 -1.421875 13.0625 8.265625 \nQ 6.59375 17.96875 6.59375 36.375 \nQ 6.59375 54.828125 13.0625 64.515625 \nQ 19.53125 74.21875 31.78125 74.21875 \nz\n\" id=\"DejaVuSans-48\"/>\n      </defs>\n      <g transform=\"translate(68.773558 471.796562)scale(0.1 -0.1)\">\n       <use xlink:href=\"#DejaVuSans-48\"/>\n      </g>\n     </g>\n    </g>\n    <g id=\"xtick_2\">\n     <g id=\"line2d_2\">\n      <g>\n       <use style=\"stroke:#000000;stroke-width:0.8;\" x=\"142.064437\" xlink:href=\"#mbd304162f6\" y=\"457.198125\"/>\n      </g>\n     </g>\n     <g id=\"text_2\">\n      <!-- 10 -->\n      <defs>\n       <path d=\"M 12.40625 8.296875 \nL 28.515625 8.296875 \nL 28.515625 63.921875 \nL 10.984375 60.40625 \nL 10.984375 69.390625 \nL 28.421875 72.90625 \nL 38.28125 72.90625 \nL 38.28125 8.296875 \nL 54.390625 8.296875 \nL 54.390625 0 \nL 12.40625 0 \nz\n\" id=\"DejaVuSans-49\"/>\n      </defs>\n      <g transform=\"translate(135.701937 471.796562)scale(0.1 -0.1)\">\n       <use xlink:href=\"#DejaVuSans-49\"/>\n       <use x=\"63.623047\" xlink:href=\"#DejaVuSans-48\"/>\n      </g>\n     </g>\n    </g>\n    <g id=\"xtick_3\">\n     <g id=\"line2d_3\">\n      <g>\n       <use style=\"stroke:#000000;stroke-width:0.8;\" x=\"212.174065\" xlink:href=\"#mbd304162f6\" y=\"457.198125\"/>\n      </g>\n     </g>\n     <g id=\"text_3\">\n      <!-- 20 -->\n      <defs>\n       <path d=\"M 19.1875 8.296875 \nL 53.609375 8.296875 \nL 53.609375 0 \nL 7.328125 0 \nL 7.328125 8.296875 \nQ 12.9375 14.109375 22.625 23.890625 \nQ 32.328125 33.6875 34.8125 36.53125 \nQ 39.546875 41.84375 41.421875 45.53125 \nQ 43.3125 49.21875 43.3125 52.78125 \nQ 43.3125 58.59375 39.234375 62.25 \nQ 35.15625 65.921875 28.609375 65.921875 \nQ 23.96875 65.921875 18.8125 64.3125 \nQ 13.671875 62.703125 7.8125 59.421875 \nL 7.8125 69.390625 \nQ 13.765625 71.78125 18.9375 73 \nQ 24.125 74.21875 28.421875 74.21875 \nQ 39.75 74.21875 46.484375 68.546875 \nQ 53.21875 62.890625 53.21875 53.421875 \nQ 53.21875 48.921875 51.53125 44.890625 \nQ 49.859375 40.875 45.40625 35.40625 \nQ 44.1875 33.984375 37.640625 27.21875 \nQ 31.109375 20.453125 19.1875 8.296875 \nz\n\" id=\"DejaVuSans-50\"/>\n      </defs>\n      <g transform=\"translate(205.811565 471.796562)scale(0.1 -0.1)\">\n       <use xlink:href=\"#DejaVuSans-50\"/>\n       <use x=\"63.623047\" xlink:href=\"#DejaVuSans-48\"/>\n      </g>\n     </g>\n    </g>\n    <g id=\"xtick_4\">\n     <g id=\"line2d_4\">\n      <g>\n       <use style=\"stroke:#000000;stroke-width:0.8;\" x=\"282.283694\" xlink:href=\"#mbd304162f6\" y=\"457.198125\"/>\n      </g>\n     </g>\n     <g id=\"text_4\">\n      <!-- 30 -->\n      <defs>\n       <path d=\"M 40.578125 39.3125 \nQ 47.65625 37.796875 51.625 33 \nQ 55.609375 28.21875 55.609375 21.1875 \nQ 55.609375 10.40625 48.1875 4.484375 \nQ 40.765625 -1.421875 27.09375 -1.421875 \nQ 22.515625 -1.421875 17.65625 -0.515625 \nQ 12.796875 0.390625 7.625 2.203125 \nL 7.625 11.71875 \nQ 11.71875 9.328125 16.59375 8.109375 \nQ 21.484375 6.890625 26.8125 6.890625 \nQ 36.078125 6.890625 40.9375 10.546875 \nQ 45.796875 14.203125 45.796875 21.1875 \nQ 45.796875 27.640625 41.28125 31.265625 \nQ 36.765625 34.90625 28.71875 34.90625 \nL 20.21875 34.90625 \nL 20.21875 43.015625 \nL 29.109375 43.015625 \nQ 36.375 43.015625 40.234375 45.921875 \nQ 44.09375 48.828125 44.09375 54.296875 \nQ 44.09375 59.90625 40.109375 62.90625 \nQ 36.140625 65.921875 28.71875 65.921875 \nQ 24.65625 65.921875 20.015625 65.03125 \nQ 15.375 64.15625 9.8125 62.3125 \nL 9.8125 71.09375 \nQ 15.4375 72.65625 20.34375 73.4375 \nQ 25.25 74.21875 29.59375 74.21875 \nQ 40.828125 74.21875 47.359375 69.109375 \nQ 53.90625 64.015625 53.90625 55.328125 \nQ 53.90625 49.265625 50.4375 45.09375 \nQ 46.96875 40.921875 40.578125 39.3125 \nz\n\" id=\"DejaVuSans-51\"/>\n      </defs>\n      <g transform=\"translate(275.921194 471.796562)scale(0.1 -0.1)\">\n       <use xlink:href=\"#DejaVuSans-51\"/>\n       <use x=\"63.623047\" xlink:href=\"#DejaVuSans-48\"/>\n      </g>\n     </g>\n    </g>\n    <g id=\"xtick_5\">\n     <g id=\"line2d_5\">\n      <g>\n       <use style=\"stroke:#000000;stroke-width:0.8;\" x=\"352.393323\" xlink:href=\"#mbd304162f6\" y=\"457.198125\"/>\n      </g>\n     </g>\n     <g id=\"text_5\">\n      <!-- 40 -->\n      <defs>\n       <path d=\"M 37.796875 64.3125 \nL 12.890625 25.390625 \nL 37.796875 25.390625 \nz\nM 35.203125 72.90625 \nL 47.609375 72.90625 \nL 47.609375 25.390625 \nL 58.015625 25.390625 \nL 58.015625 17.1875 \nL 47.609375 17.1875 \nL 47.609375 0 \nL 37.796875 0 \nL 37.796875 17.1875 \nL 4.890625 17.1875 \nL 4.890625 26.703125 \nz\n\" id=\"DejaVuSans-52\"/>\n      </defs>\n      <g transform=\"translate(346.030823 471.796562)scale(0.1 -0.1)\">\n       <use xlink:href=\"#DejaVuSans-52\"/>\n       <use x=\"63.623047\" xlink:href=\"#DejaVuSans-48\"/>\n      </g>\n     </g>\n    </g>\n    <g id=\"xtick_6\">\n     <g id=\"line2d_6\">\n      <g>\n       <use style=\"stroke:#000000;stroke-width:0.8;\" x=\"422.502951\" xlink:href=\"#mbd304162f6\" y=\"457.198125\"/>\n      </g>\n     </g>\n     <g id=\"text_6\">\n      <!-- 50 -->\n      <defs>\n       <path d=\"M 10.796875 72.90625 \nL 49.515625 72.90625 \nL 49.515625 64.59375 \nL 19.828125 64.59375 \nL 19.828125 46.734375 \nQ 21.96875 47.46875 24.109375 47.828125 \nQ 26.265625 48.1875 28.421875 48.1875 \nQ 40.625 48.1875 47.75 41.5 \nQ 54.890625 34.8125 54.890625 23.390625 \nQ 54.890625 11.625 47.5625 5.09375 \nQ 40.234375 -1.421875 26.90625 -1.421875 \nQ 22.3125 -1.421875 17.546875 -0.640625 \nQ 12.796875 0.140625 7.71875 1.703125 \nL 7.71875 11.625 \nQ 12.109375 9.234375 16.796875 8.0625 \nQ 21.484375 6.890625 26.703125 6.890625 \nQ 35.15625 6.890625 40.078125 11.328125 \nQ 45.015625 15.765625 45.015625 23.390625 \nQ 45.015625 31 40.078125 35.4375 \nQ 35.15625 39.890625 26.703125 39.890625 \nQ 22.75 39.890625 18.8125 39.015625 \nQ 14.890625 38.140625 10.796875 36.28125 \nz\n\" id=\"DejaVuSans-53\"/>\n      </defs>\n      <g transform=\"translate(416.140451 471.796562)scale(0.1 -0.1)\">\n       <use xlink:href=\"#DejaVuSans-53\"/>\n       <use x=\"63.623047\" xlink:href=\"#DejaVuSans-48\"/>\n      </g>\n     </g>\n    </g>\n    <g id=\"xtick_7\">\n     <g id=\"line2d_7\">\n      <g>\n       <use style=\"stroke:#000000;stroke-width:0.8;\" x=\"492.61258\" xlink:href=\"#mbd304162f6\" y=\"457.198125\"/>\n      </g>\n     </g>\n     <g id=\"text_7\">\n      <!-- 60 -->\n      <defs>\n       <path d=\"M 33.015625 40.375 \nQ 26.375 40.375 22.484375 35.828125 \nQ 18.609375 31.296875 18.609375 23.390625 \nQ 18.609375 15.53125 22.484375 10.953125 \nQ 26.375 6.390625 33.015625 6.390625 \nQ 39.65625 6.390625 43.53125 10.953125 \nQ 47.40625 15.53125 47.40625 23.390625 \nQ 47.40625 31.296875 43.53125 35.828125 \nQ 39.65625 40.375 33.015625 40.375 \nz\nM 52.59375 71.296875 \nL 52.59375 62.3125 \nQ 48.875 64.0625 45.09375 64.984375 \nQ 41.3125 65.921875 37.59375 65.921875 \nQ 27.828125 65.921875 22.671875 59.328125 \nQ 17.53125 52.734375 16.796875 39.40625 \nQ 19.671875 43.65625 24.015625 45.921875 \nQ 28.375 48.1875 33.59375 48.1875 \nQ 44.578125 48.1875 50.953125 41.515625 \nQ 57.328125 34.859375 57.328125 23.390625 \nQ 57.328125 12.15625 50.6875 5.359375 \nQ 44.046875 -1.421875 33.015625 -1.421875 \nQ 20.359375 -1.421875 13.671875 8.265625 \nQ 6.984375 17.96875 6.984375 36.375 \nQ 6.984375 53.65625 15.1875 63.9375 \nQ 23.390625 74.21875 37.203125 74.21875 \nQ 40.921875 74.21875 44.703125 73.484375 \nQ 48.484375 72.75 52.59375 71.296875 \nz\n\" id=\"DejaVuSans-54\"/>\n      </defs>\n      <g transform=\"translate(486.25008 471.796562)scale(0.1 -0.1)\">\n       <use xlink:href=\"#DejaVuSans-54\"/>\n       <use x=\"63.623047\" xlink:href=\"#DejaVuSans-48\"/>\n      </g>\n     </g>\n    </g>\n    <g id=\"xtick_8\">\n     <g id=\"line2d_8\">\n      <g>\n       <use style=\"stroke:#000000;stroke-width:0.8;\" x=\"562.722209\" xlink:href=\"#mbd304162f6\" y=\"457.198125\"/>\n      </g>\n     </g>\n     <g id=\"text_8\">\n      <!-- 70 -->\n      <defs>\n       <path d=\"M 8.203125 72.90625 \nL 55.078125 72.90625 \nL 55.078125 68.703125 \nL 28.609375 0 \nL 18.3125 0 \nL 43.21875 64.59375 \nL 8.203125 64.59375 \nz\n\" id=\"DejaVuSans-55\"/>\n      </defs>\n      <g transform=\"translate(556.359709 471.796562)scale(0.1 -0.1)\">\n       <use xlink:href=\"#DejaVuSans-55\"/>\n       <use x=\"63.623047\" xlink:href=\"#DejaVuSans-48\"/>\n      </g>\n     </g>\n    </g>\n    <g id=\"xtick_9\">\n     <g id=\"line2d_9\">\n      <g>\n       <use style=\"stroke:#000000;stroke-width:0.8;\" x=\"632.831838\" xlink:href=\"#mbd304162f6\" y=\"457.198125\"/>\n      </g>\n     </g>\n     <g id=\"text_9\">\n      <!-- 80 -->\n      <defs>\n       <path d=\"M 31.78125 34.625 \nQ 24.75 34.625 20.71875 30.859375 \nQ 16.703125 27.09375 16.703125 20.515625 \nQ 16.703125 13.921875 20.71875 10.15625 \nQ 24.75 6.390625 31.78125 6.390625 \nQ 38.8125 6.390625 42.859375 10.171875 \nQ 46.921875 13.96875 46.921875 20.515625 \nQ 46.921875 27.09375 42.890625 30.859375 \nQ 38.875 34.625 31.78125 34.625 \nz\nM 21.921875 38.8125 \nQ 15.578125 40.375 12.03125 44.71875 \nQ 8.5 49.078125 8.5 55.328125 \nQ 8.5 64.0625 14.71875 69.140625 \nQ 20.953125 74.21875 31.78125 74.21875 \nQ 42.671875 74.21875 48.875 69.140625 \nQ 55.078125 64.0625 55.078125 55.328125 \nQ 55.078125 49.078125 51.53125 44.71875 \nQ 48 40.375 41.703125 38.8125 \nQ 48.828125 37.15625 52.796875 32.3125 \nQ 56.78125 27.484375 56.78125 20.515625 \nQ 56.78125 9.90625 50.3125 4.234375 \nQ 43.84375 -1.421875 31.78125 -1.421875 \nQ 19.734375 -1.421875 13.25 4.234375 \nQ 6.78125 9.90625 6.78125 20.515625 \nQ 6.78125 27.484375 10.78125 32.3125 \nQ 14.796875 37.15625 21.921875 38.8125 \nz\nM 18.3125 54.390625 \nQ 18.3125 48.734375 21.84375 45.5625 \nQ 25.390625 42.390625 31.78125 42.390625 \nQ 38.140625 42.390625 41.71875 45.5625 \nQ 45.3125 48.734375 45.3125 54.390625 \nQ 45.3125 60.0625 41.71875 63.234375 \nQ 38.140625 66.40625 31.78125 66.40625 \nQ 25.390625 66.40625 21.84375 63.234375 \nQ 18.3125 60.0625 18.3125 54.390625 \nz\n\" id=\"DejaVuSans-56\"/>\n      </defs>\n      <g transform=\"translate(626.469338 471.796562)scale(0.1 -0.1)\">\n       <use xlink:href=\"#DejaVuSans-56\"/>\n       <use x=\"63.623047\" xlink:href=\"#DejaVuSans-48\"/>\n      </g>\n     </g>\n    </g>\n    <g id=\"text_10\">\n     <!-- Age -->\n     <defs>\n      <path d=\"M 34.1875 63.1875 \nL 20.796875 26.90625 \nL 47.609375 26.90625 \nz\nM 28.609375 72.90625 \nL 39.796875 72.90625 \nL 67.578125 0 \nL 57.328125 0 \nL 50.6875 18.703125 \nL 17.828125 18.703125 \nL 11.1875 0 \nL 0.78125 0 \nz\n\" id=\"DejaVuSans-65\"/>\n      <path d=\"M 45.40625 27.984375 \nQ 45.40625 37.75 41.375 43.109375 \nQ 37.359375 48.484375 30.078125 48.484375 \nQ 22.859375 48.484375 18.828125 43.109375 \nQ 14.796875 37.75 14.796875 27.984375 \nQ 14.796875 18.265625 18.828125 12.890625 \nQ 22.859375 7.515625 30.078125 7.515625 \nQ 37.359375 7.515625 41.375 12.890625 \nQ 45.40625 18.265625 45.40625 27.984375 \nz\nM 54.390625 6.78125 \nQ 54.390625 -7.171875 48.1875 -13.984375 \nQ 42 -20.796875 29.203125 -20.796875 \nQ 24.46875 -20.796875 20.265625 -20.09375 \nQ 16.0625 -19.390625 12.109375 -17.921875 \nL 12.109375 -9.1875 \nQ 16.0625 -11.328125 19.921875 -12.34375 \nQ 23.78125 -13.375 27.78125 -13.375 \nQ 36.625 -13.375 41.015625 -8.765625 \nQ 45.40625 -4.15625 45.40625 5.171875 \nL 45.40625 9.625 \nQ 42.625 4.78125 38.28125 2.390625 \nQ 33.9375 0 27.875 0 \nQ 17.828125 0 11.671875 7.65625 \nQ 5.515625 15.328125 5.515625 27.984375 \nQ 5.515625 40.671875 11.671875 48.328125 \nQ 17.828125 56 27.875 56 \nQ 33.9375 56 38.28125 53.609375 \nQ 42.625 51.21875 45.40625 46.390625 \nL 45.40625 54.6875 \nL 54.390625 54.6875 \nz\n\" id=\"DejaVuSans-103\"/>\n      <path d=\"M 56.203125 29.59375 \nL 56.203125 25.203125 \nL 14.890625 25.203125 \nQ 15.484375 15.921875 20.484375 11.0625 \nQ 25.484375 6.203125 34.421875 6.203125 \nQ 39.59375 6.203125 44.453125 7.46875 \nQ 49.3125 8.734375 54.109375 11.28125 \nL 54.109375 2.78125 \nQ 49.265625 0.734375 44.1875 -0.34375 \nQ 39.109375 -1.421875 33.890625 -1.421875 \nQ 20.796875 -1.421875 13.15625 6.1875 \nQ 5.515625 13.8125 5.515625 26.8125 \nQ 5.515625 40.234375 12.765625 48.109375 \nQ 20.015625 56 32.328125 56 \nQ 43.359375 56 49.78125 48.890625 \nQ 56.203125 41.796875 56.203125 29.59375 \nz\nM 47.21875 32.234375 \nQ 47.125 39.59375 43.09375 43.984375 \nQ 39.0625 48.390625 32.421875 48.390625 \nQ 24.90625 48.390625 20.390625 44.140625 \nQ 15.875 39.890625 15.1875 32.171875 \nz\n\" id=\"DejaVuSans-101\"/>\n     </defs>\n     <g transform=\"translate(344.194531 485.474687)scale(0.1 -0.1)\">\n      <use xlink:href=\"#DejaVuSans-65\"/>\n      <use x=\"68.408203\" xlink:href=\"#DejaVuSans-103\"/>\n      <use x=\"131.884766\" xlink:href=\"#DejaVuSans-101\"/>\n     </g>\n    </g>\n   </g>\n   <g id=\"matplotlib.axis_2\">\n    <g id=\"ytick_1\">\n     <g id=\"line2d_10\">\n      <defs>\n       <path d=\"M 0 0 \nL -3.5 0 \n\" id=\"m2ec0e61ed7\" style=\"stroke:#000000;stroke-width:0.8;\"/>\n      </defs>\n      <g>\n       <use style=\"stroke:#000000;stroke-width:0.8;\" x=\"46.965625\" xlink:href=\"#m2ec0e61ed7\" y=\"434.494742\"/>\n      </g>\n     </g>\n     <g id=\"text_11\">\n      <!-- 0 -->\n      <g transform=\"translate(33.603125 438.293961)scale(0.1 -0.1)\">\n       <use xlink:href=\"#DejaVuSans-48\"/>\n      </g>\n     </g>\n    </g>\n    <g id=\"ytick_2\">\n     <g id=\"line2d_11\">\n      <g>\n       <use style=\"stroke:#000000;stroke-width:0.8;\" x=\"46.965625\" xlink:href=\"#m2ec0e61ed7\" y=\"357.902556\"/>\n      </g>\n     </g>\n     <g id=\"text_12\">\n      <!-- 100 -->\n      <g transform=\"translate(20.878125 361.701775)scale(0.1 -0.1)\">\n       <use xlink:href=\"#DejaVuSans-49\"/>\n       <use x=\"63.623047\" xlink:href=\"#DejaVuSans-48\"/>\n       <use x=\"127.246094\" xlink:href=\"#DejaVuSans-48\"/>\n      </g>\n     </g>\n    </g>\n    <g id=\"ytick_3\">\n     <g id=\"line2d_12\">\n      <g>\n       <use style=\"stroke:#000000;stroke-width:0.8;\" x=\"46.965625\" xlink:href=\"#m2ec0e61ed7\" y=\"281.31037\"/>\n      </g>\n     </g>\n     <g id=\"text_13\">\n      <!-- 200 -->\n      <g transform=\"translate(20.878125 285.109588)scale(0.1 -0.1)\">\n       <use xlink:href=\"#DejaVuSans-50\"/>\n       <use x=\"63.623047\" xlink:href=\"#DejaVuSans-48\"/>\n       <use x=\"127.246094\" xlink:href=\"#DejaVuSans-48\"/>\n      </g>\n     </g>\n    </g>\n    <g id=\"ytick_4\">\n     <g id=\"line2d_13\">\n      <g>\n       <use style=\"stroke:#000000;stroke-width:0.8;\" x=\"46.965625\" xlink:href=\"#m2ec0e61ed7\" y=\"204.718184\"/>\n      </g>\n     </g>\n     <g id=\"text_14\">\n      <!-- 300 -->\n      <g transform=\"translate(20.878125 208.517402)scale(0.1 -0.1)\">\n       <use xlink:href=\"#DejaVuSans-51\"/>\n       <use x=\"63.623047\" xlink:href=\"#DejaVuSans-48\"/>\n       <use x=\"127.246094\" xlink:href=\"#DejaVuSans-48\"/>\n      </g>\n     </g>\n    </g>\n    <g id=\"ytick_5\">\n     <g id=\"line2d_14\">\n      <g>\n       <use style=\"stroke:#000000;stroke-width:0.8;\" x=\"46.965625\" xlink:href=\"#m2ec0e61ed7\" y=\"128.125997\"/>\n      </g>\n     </g>\n     <g id=\"text_15\">\n      <!-- 400 -->\n      <g transform=\"translate(20.878125 131.925216)scale(0.1 -0.1)\">\n       <use xlink:href=\"#DejaVuSans-52\"/>\n       <use x=\"63.623047\" xlink:href=\"#DejaVuSans-48\"/>\n       <use x=\"127.246094\" xlink:href=\"#DejaVuSans-48\"/>\n      </g>\n     </g>\n    </g>\n    <g id=\"ytick_6\">\n     <g id=\"line2d_15\">\n      <g>\n       <use style=\"stroke:#000000;stroke-width:0.8;\" x=\"46.965625\" xlink:href=\"#m2ec0e61ed7\" y=\"51.533811\"/>\n      </g>\n     </g>\n     <g id=\"text_16\">\n      <!-- 500 -->\n      <g transform=\"translate(20.878125 55.33303)scale(0.1 -0.1)\">\n       <use xlink:href=\"#DejaVuSans-53\"/>\n       <use x=\"63.623047\" xlink:href=\"#DejaVuSans-48\"/>\n       <use x=\"127.246094\" xlink:href=\"#DejaVuSans-48\"/>\n      </g>\n     </g>\n    </g>\n    <g id=\"text_17\">\n     <!-- Fare -->\n     <defs>\n      <path d=\"M 9.8125 72.90625 \nL 51.703125 72.90625 \nL 51.703125 64.59375 \nL 19.671875 64.59375 \nL 19.671875 43.109375 \nL 48.578125 43.109375 \nL 48.578125 34.8125 \nL 19.671875 34.8125 \nL 19.671875 0 \nL 9.8125 0 \nz\n\" id=\"DejaVuSans-70\"/>\n      <path d=\"M 34.28125 27.484375 \nQ 23.390625 27.484375 19.1875 25 \nQ 14.984375 22.515625 14.984375 16.5 \nQ 14.984375 11.71875 18.140625 8.90625 \nQ 21.296875 6.109375 26.703125 6.109375 \nQ 34.1875 6.109375 38.703125 11.40625 \nQ 43.21875 16.703125 43.21875 25.484375 \nL 43.21875 27.484375 \nz\nM 52.203125 31.203125 \nL 52.203125 0 \nL 43.21875 0 \nL 43.21875 8.296875 \nQ 40.140625 3.328125 35.546875 0.953125 \nQ 30.953125 -1.421875 24.3125 -1.421875 \nQ 15.921875 -1.421875 10.953125 3.296875 \nQ 6 8.015625 6 15.921875 \nQ 6 25.140625 12.171875 29.828125 \nQ 18.359375 34.515625 30.609375 34.515625 \nL 43.21875 34.515625 \nL 43.21875 35.40625 \nQ 43.21875 41.609375 39.140625 45 \nQ 35.0625 48.390625 27.6875 48.390625 \nQ 23 48.390625 18.546875 47.265625 \nQ 14.109375 46.140625 10.015625 43.890625 \nL 10.015625 52.203125 \nQ 14.9375 54.109375 19.578125 55.046875 \nQ 24.21875 56 28.609375 56 \nQ 40.484375 56 46.34375 49.84375 \nQ 52.203125 43.703125 52.203125 31.203125 \nz\n\" id=\"DejaVuSans-97\"/>\n      <path d=\"M 41.109375 46.296875 \nQ 39.59375 47.171875 37.8125 47.578125 \nQ 36.03125 48 33.890625 48 \nQ 26.265625 48 22.1875 43.046875 \nQ 18.109375 38.09375 18.109375 28.8125 \nL 18.109375 0 \nL 9.078125 0 \nL 9.078125 54.6875 \nL 18.109375 54.6875 \nL 18.109375 46.1875 \nQ 20.953125 51.171875 25.484375 53.578125 \nQ 30.03125 56 36.53125 56 \nQ 37.453125 56 38.578125 55.875 \nQ 39.703125 55.765625 41.0625 55.515625 \nz\n\" id=\"DejaVuSans-114\"/>\n     </defs>\n     <g transform=\"translate(14.798438 250.821406)rotate(-90)scale(0.1 -0.1)\">\n      <use xlink:href=\"#DejaVuSans-70\"/>\n      <use x=\"57.378906\" xlink:href=\"#DejaVuSans-97\"/>\n      <use x=\"118.658203\" xlink:href=\"#DejaVuSans-114\"/>\n      <use x=\"159.740234\" xlink:href=\"#DejaVuSans-101\"/>\n     </g>\n    </g>\n   </g>\n   <g id=\"patch_3\">\n    <path d=\"M 46.965625 457.198125 \nL 46.965625 22.318125 \n\" style=\"fill:none;stroke:#000000;stroke-linecap:square;stroke-linejoin:miter;stroke-width:0.8;\"/>\n   </g>\n   <g id=\"patch_4\">\n    <path d=\"M 660.765625 457.198125 \nL 660.765625 22.318125 \n\" style=\"fill:none;stroke:#000000;stroke-linecap:square;stroke-linejoin:miter;stroke-width:0.8;\"/>\n   </g>\n   <g id=\"patch_5\">\n    <path d=\"M 46.965625 457.198125 \nL 660.765625 457.198125 \n\" style=\"fill:none;stroke:#000000;stroke-linecap:square;stroke-linejoin:miter;stroke-width:0.8;\"/>\n   </g>\n   <g id=\"patch_6\">\n    <path d=\"M 46.965625 22.318125 \nL 660.765625 22.318125 \n\" style=\"fill:none;stroke:#000000;stroke-linecap:square;stroke-linejoin:miter;stroke-width:0.8;\"/>\n   </g>\n   <g id=\"text_18\">\n    <!-- Passanger survival  by age and fare -->\n    <defs>\n     <path d=\"M 19.671875 64.796875 \nL 19.671875 37.40625 \nL 32.078125 37.40625 \nQ 38.96875 37.40625 42.71875 40.96875 \nQ 46.484375 44.53125 46.484375 51.125 \nQ 46.484375 57.671875 42.71875 61.234375 \nQ 38.96875 64.796875 32.078125 64.796875 \nz\nM 9.8125 72.90625 \nL 32.078125 72.90625 \nQ 44.34375 72.90625 50.609375 67.359375 \nQ 56.890625 61.8125 56.890625 51.125 \nQ 56.890625 40.328125 50.609375 34.8125 \nQ 44.34375 29.296875 32.078125 29.296875 \nL 19.671875 29.296875 \nL 19.671875 0 \nL 9.8125 0 \nz\n\" id=\"DejaVuSans-80\"/>\n     <path d=\"M 44.28125 53.078125 \nL 44.28125 44.578125 \nQ 40.484375 46.53125 36.375 47.5 \nQ 32.28125 48.484375 27.875 48.484375 \nQ 21.1875 48.484375 17.84375 46.4375 \nQ 14.5 44.390625 14.5 40.28125 \nQ 14.5 37.15625 16.890625 35.375 \nQ 19.28125 33.59375 26.515625 31.984375 \nL 29.59375 31.296875 \nQ 39.15625 29.25 43.1875 25.515625 \nQ 47.21875 21.78125 47.21875 15.09375 \nQ 47.21875 7.46875 41.1875 3.015625 \nQ 35.15625 -1.421875 24.609375 -1.421875 \nQ 20.21875 -1.421875 15.453125 -0.5625 \nQ 10.6875 0.296875 5.421875 2 \nL 5.421875 11.28125 \nQ 10.40625 8.6875 15.234375 7.390625 \nQ 20.0625 6.109375 24.8125 6.109375 \nQ 31.15625 6.109375 34.5625 8.28125 \nQ 37.984375 10.453125 37.984375 14.40625 \nQ 37.984375 18.0625 35.515625 20.015625 \nQ 33.0625 21.96875 24.703125 23.78125 \nL 21.578125 24.515625 \nQ 13.234375 26.265625 9.515625 29.90625 \nQ 5.8125 33.546875 5.8125 39.890625 \nQ 5.8125 47.609375 11.28125 51.796875 \nQ 16.75 56 26.8125 56 \nQ 31.78125 56 36.171875 55.265625 \nQ 40.578125 54.546875 44.28125 53.078125 \nz\n\" id=\"DejaVuSans-115\"/>\n     <path d=\"M 54.890625 33.015625 \nL 54.890625 0 \nL 45.90625 0 \nL 45.90625 32.71875 \nQ 45.90625 40.484375 42.875 44.328125 \nQ 39.84375 48.1875 33.796875 48.1875 \nQ 26.515625 48.1875 22.3125 43.546875 \nQ 18.109375 38.921875 18.109375 30.90625 \nL 18.109375 0 \nL 9.078125 0 \nL 9.078125 54.6875 \nL 18.109375 54.6875 \nL 18.109375 46.1875 \nQ 21.34375 51.125 25.703125 53.5625 \nQ 30.078125 56 35.796875 56 \nQ 45.21875 56 50.046875 50.171875 \nQ 54.890625 44.34375 54.890625 33.015625 \nz\n\" id=\"DejaVuSans-110\"/>\n     <path id=\"DejaVuSans-32\"/>\n     <path d=\"M 8.5 21.578125 \nL 8.5 54.6875 \nL 17.484375 54.6875 \nL 17.484375 21.921875 \nQ 17.484375 14.15625 20.5 10.265625 \nQ 23.53125 6.390625 29.59375 6.390625 \nQ 36.859375 6.390625 41.078125 11.03125 \nQ 45.3125 15.671875 45.3125 23.6875 \nL 45.3125 54.6875 \nL 54.296875 54.6875 \nL 54.296875 0 \nL 45.3125 0 \nL 45.3125 8.40625 \nQ 42.046875 3.421875 37.71875 1 \nQ 33.40625 -1.421875 27.6875 -1.421875 \nQ 18.265625 -1.421875 13.375 4.4375 \nQ 8.5 10.296875 8.5 21.578125 \nz\nM 31.109375 56 \nz\n\" id=\"DejaVuSans-117\"/>\n     <path d=\"M 2.984375 54.6875 \nL 12.5 54.6875 \nL 29.59375 8.796875 \nL 46.6875 54.6875 \nL 56.203125 54.6875 \nL 35.6875 0 \nL 23.484375 0 \nz\n\" id=\"DejaVuSans-118\"/>\n     <path d=\"M 9.421875 54.6875 \nL 18.40625 54.6875 \nL 18.40625 0 \nL 9.421875 0 \nz\nM 9.421875 75.984375 \nL 18.40625 75.984375 \nL 18.40625 64.59375 \nL 9.421875 64.59375 \nz\n\" id=\"DejaVuSans-105\"/>\n     <path d=\"M 9.421875 75.984375 \nL 18.40625 75.984375 \nL 18.40625 0 \nL 9.421875 0 \nz\n\" id=\"DejaVuSans-108\"/>\n     <path d=\"M 48.6875 27.296875 \nQ 48.6875 37.203125 44.609375 42.84375 \nQ 40.53125 48.484375 33.40625 48.484375 \nQ 26.265625 48.484375 22.1875 42.84375 \nQ 18.109375 37.203125 18.109375 27.296875 \nQ 18.109375 17.390625 22.1875 11.75 \nQ 26.265625 6.109375 33.40625 6.109375 \nQ 40.53125 6.109375 44.609375 11.75 \nQ 48.6875 17.390625 48.6875 27.296875 \nz\nM 18.109375 46.390625 \nQ 20.953125 51.265625 25.265625 53.625 \nQ 29.59375 56 35.59375 56 \nQ 45.5625 56 51.78125 48.09375 \nQ 58.015625 40.1875 58.015625 27.296875 \nQ 58.015625 14.40625 51.78125 6.484375 \nQ 45.5625 -1.421875 35.59375 -1.421875 \nQ 29.59375 -1.421875 25.265625 0.953125 \nQ 20.953125 3.328125 18.109375 8.203125 \nL 18.109375 0 \nL 9.078125 0 \nL 9.078125 75.984375 \nL 18.109375 75.984375 \nz\n\" id=\"DejaVuSans-98\"/>\n     <path d=\"M 32.171875 -5.078125 \nQ 28.375 -14.84375 24.75 -17.8125 \nQ 21.140625 -20.796875 15.09375 -20.796875 \nL 7.90625 -20.796875 \nL 7.90625 -13.28125 \nL 13.1875 -13.28125 \nQ 16.890625 -13.28125 18.9375 -11.515625 \nQ 21 -9.765625 23.484375 -3.21875 \nL 25.09375 0.875 \nL 2.984375 54.6875 \nL 12.5 54.6875 \nL 29.59375 11.921875 \nL 46.6875 54.6875 \nL 56.203125 54.6875 \nz\n\" id=\"DejaVuSans-121\"/>\n     <path d=\"M 45.40625 46.390625 \nL 45.40625 75.984375 \nL 54.390625 75.984375 \nL 54.390625 0 \nL 45.40625 0 \nL 45.40625 8.203125 \nQ 42.578125 3.328125 38.25 0.953125 \nQ 33.9375 -1.421875 27.875 -1.421875 \nQ 17.96875 -1.421875 11.734375 6.484375 \nQ 5.515625 14.40625 5.515625 27.296875 \nQ 5.515625 40.1875 11.734375 48.09375 \nQ 17.96875 56 27.875 56 \nQ 33.9375 56 38.25 53.625 \nQ 42.578125 51.265625 45.40625 46.390625 \nz\nM 14.796875 27.296875 \nQ 14.796875 17.390625 18.875 11.75 \nQ 22.953125 6.109375 30.078125 6.109375 \nQ 37.203125 6.109375 41.296875 11.75 \nQ 45.40625 17.390625 45.40625 27.296875 \nQ 45.40625 37.203125 41.296875 42.84375 \nQ 37.203125 48.484375 30.078125 48.484375 \nQ 22.953125 48.484375 18.875 42.84375 \nQ 14.796875 37.203125 14.796875 27.296875 \nz\n\" id=\"DejaVuSans-100\"/>\n     <path d=\"M 37.109375 75.984375 \nL 37.109375 68.5 \nL 28.515625 68.5 \nQ 23.6875 68.5 21.796875 66.546875 \nQ 19.921875 64.59375 19.921875 59.515625 \nL 19.921875 54.6875 \nL 34.71875 54.6875 \nL 34.71875 47.703125 \nL 19.921875 47.703125 \nL 19.921875 0 \nL 10.890625 0 \nL 10.890625 47.703125 \nL 2.296875 47.703125 \nL 2.296875 54.6875 \nL 10.890625 54.6875 \nL 10.890625 58.5 \nQ 10.890625 67.625 15.140625 71.796875 \nQ 19.390625 75.984375 28.609375 75.984375 \nz\n\" id=\"DejaVuSans-102\"/>\n    </defs>\n    <g transform=\"translate(246.155313 16.318125)scale(0.12 -0.12)\">\n     <use xlink:href=\"#DejaVuSans-80\"/>\n     <use x=\"60.240234\" xlink:href=\"#DejaVuSans-97\"/>\n     <use x=\"121.519531\" xlink:href=\"#DejaVuSans-115\"/>\n     <use x=\"173.619141\" xlink:href=\"#DejaVuSans-115\"/>\n     <use x=\"225.71875\" xlink:href=\"#DejaVuSans-97\"/>\n     <use x=\"286.998047\" xlink:href=\"#DejaVuSans-110\"/>\n     <use x=\"350.376953\" xlink:href=\"#DejaVuSans-103\"/>\n     <use x=\"413.853516\" xlink:href=\"#DejaVuSans-101\"/>\n     <use x=\"475.376953\" xlink:href=\"#DejaVuSans-114\"/>\n     <use x=\"516.490234\" xlink:href=\"#DejaVuSans-32\"/>\n     <use x=\"548.277344\" xlink:href=\"#DejaVuSans-115\"/>\n     <use x=\"600.376953\" xlink:href=\"#DejaVuSans-117\"/>\n     <use x=\"663.755859\" xlink:href=\"#DejaVuSans-114\"/>\n     <use x=\"704.869141\" xlink:href=\"#DejaVuSans-118\"/>\n     <use x=\"764.048828\" xlink:href=\"#DejaVuSans-105\"/>\n     <use x=\"791.832031\" xlink:href=\"#DejaVuSans-118\"/>\n     <use x=\"851.011719\" xlink:href=\"#DejaVuSans-97\"/>\n     <use x=\"912.291016\" xlink:href=\"#DejaVuSans-108\"/>\n     <use x=\"940.074219\" xlink:href=\"#DejaVuSans-32\"/>\n     <use x=\"971.861328\" xlink:href=\"#DejaVuSans-32\"/>\n     <use x=\"1003.648438\" xlink:href=\"#DejaVuSans-98\"/>\n     <use x=\"1067.125\" xlink:href=\"#DejaVuSans-121\"/>\n     <use x=\"1126.304688\" xlink:href=\"#DejaVuSans-32\"/>\n     <use x=\"1158.091797\" xlink:href=\"#DejaVuSans-97\"/>\n     <use x=\"1219.371094\" xlink:href=\"#DejaVuSans-103\"/>\n     <use x=\"1282.847656\" xlink:href=\"#DejaVuSans-101\"/>\n     <use x=\"1344.371094\" xlink:href=\"#DejaVuSans-32\"/>\n     <use x=\"1376.158203\" xlink:href=\"#DejaVuSans-97\"/>\n     <use x=\"1437.4375\" xlink:href=\"#DejaVuSans-110\"/>\n     <use x=\"1500.816406\" xlink:href=\"#DejaVuSans-100\"/>\n     <use x=\"1564.292969\" xlink:href=\"#DejaVuSans-32\"/>\n     <use x=\"1596.080078\" xlink:href=\"#DejaVuSans-102\"/>\n     <use x=\"1631.285156\" xlink:href=\"#DejaVuSans-97\"/>\n     <use x=\"1692.564453\" xlink:href=\"#DejaVuSans-114\"/>\n     <use x=\"1733.646484\" xlink:href=\"#DejaVuSans-101\"/>\n    </g>\n   </g>\n   <g id=\"legend_1\">\n    <g id=\"patch_7\">\n     <path d=\"M 577.851563 59.674375 \nL 653.765625 59.674375 \nQ 655.765625 59.674375 655.765625 57.674375 \nL 655.765625 29.318125 \nQ 655.765625 27.318125 653.765625 27.318125 \nL 577.851563 27.318125 \nQ 575.851563 27.318125 575.851563 29.318125 \nL 575.851563 57.674375 \nQ 575.851563 59.674375 577.851563 59.674375 \nz\n\" style=\"fill:#ffffff;opacity:0.8;stroke:#cccccc;stroke-linejoin:miter;\"/>\n    </g>\n    <g id=\"PathCollection_3\">\n     <g>\n      <use style=\"fill:#1f77b4;stroke:#1f77b4;\" x=\"589.851563\" xlink:href=\"#m492a39a0f8\" y=\"36.291562\"/>\n     </g>\n    </g>\n    <g id=\"text_19\">\n     <!-- Survived -->\n     <defs>\n      <path d=\"M 53.515625 70.515625 \nL 53.515625 60.890625 \nQ 47.90625 63.578125 42.921875 64.890625 \nQ 37.9375 66.21875 33.296875 66.21875 \nQ 25.25 66.21875 20.875 63.09375 \nQ 16.5 59.96875 16.5 54.203125 \nQ 16.5 49.359375 19.40625 46.890625 \nQ 22.3125 44.4375 30.421875 42.921875 \nL 36.375 41.703125 \nQ 47.40625 39.59375 52.65625 34.296875 \nQ 57.90625 29 57.90625 20.125 \nQ 57.90625 9.515625 50.796875 4.046875 \nQ 43.703125 -1.421875 29.984375 -1.421875 \nQ 24.8125 -1.421875 18.96875 -0.25 \nQ 13.140625 0.921875 6.890625 3.21875 \nL 6.890625 13.375 \nQ 12.890625 10.015625 18.65625 8.296875 \nQ 24.421875 6.59375 29.984375 6.59375 \nQ 38.421875 6.59375 43.015625 9.90625 \nQ 47.609375 13.234375 47.609375 19.390625 \nQ 47.609375 24.75 44.3125 27.78125 \nQ 41.015625 30.8125 33.5 32.328125 \nL 27.484375 33.5 \nQ 16.453125 35.6875 11.515625 40.375 \nQ 6.59375 45.0625 6.59375 53.421875 \nQ 6.59375 63.09375 13.40625 68.65625 \nQ 20.21875 74.21875 32.171875 74.21875 \nQ 37.3125 74.21875 42.625 73.28125 \nQ 47.953125 72.359375 53.515625 70.515625 \nz\n\" id=\"DejaVuSans-83\"/>\n     </defs>\n     <g transform=\"translate(607.851563 38.916562)scale(0.1 -0.1)\">\n      <use xlink:href=\"#DejaVuSans-83\"/>\n      <use x=\"63.476562\" xlink:href=\"#DejaVuSans-117\"/>\n      <use x=\"126.855469\" xlink:href=\"#DejaVuSans-114\"/>\n      <use x=\"167.96875\" xlink:href=\"#DejaVuSans-118\"/>\n      <use x=\"227.148438\" xlink:href=\"#DejaVuSans-105\"/>\n      <use x=\"254.931641\" xlink:href=\"#DejaVuSans-118\"/>\n      <use x=\"314.111328\" xlink:href=\"#DejaVuSans-101\"/>\n      <use x=\"375.634766\" xlink:href=\"#DejaVuSans-100\"/>\n     </g>\n    </g>\n    <g id=\"PathCollection_4\">\n     <g>\n      <use style=\"fill:#ff7f0e;stroke:#ff7f0e;stroke-width:1.5;\" x=\"589.851563\" xlink:href=\"#m7340417c2b\" y=\"50.969687\"/>\n     </g>\n    </g>\n    <g id=\"text_20\">\n     <!-- Died -->\n     <defs>\n      <path d=\"M 19.671875 64.796875 \nL 19.671875 8.109375 \nL 31.59375 8.109375 \nQ 46.6875 8.109375 53.6875 14.9375 \nQ 60.6875 21.78125 60.6875 36.53125 \nQ 60.6875 51.171875 53.6875 57.984375 \nQ 46.6875 64.796875 31.59375 64.796875 \nz\nM 9.8125 72.90625 \nL 30.078125 72.90625 \nQ 51.265625 72.90625 61.171875 64.09375 \nQ 71.09375 55.28125 71.09375 36.53125 \nQ 71.09375 17.671875 61.125 8.828125 \nQ 51.171875 0 30.078125 0 \nL 9.8125 0 \nz\n\" id=\"DejaVuSans-68\"/>\n     </defs>\n     <g transform=\"translate(607.851563 53.594687)scale(0.1 -0.1)\">\n      <use xlink:href=\"#DejaVuSans-68\"/>\n      <use x=\"77.001953\" xlink:href=\"#DejaVuSans-105\"/>\n      <use x=\"104.785156\" xlink:href=\"#DejaVuSans-101\"/>\n      <use x=\"166.308594\" xlink:href=\"#DejaVuSans-100\"/>\n     </g>\n    </g>\n   </g>\n  </g>\n </g>\n <defs>\n  <clipPath id=\"p2b32932617\">\n   <rect height=\"434.88\" width=\"613.8\" x=\"46.965625\" y=\"22.318125\"/>\n  </clipPath>\n </defs>\n</svg>\n",
      "text/plain": "<Figure size 792x576 with 1 Axes>"
     },
     "metadata": {
      "needs_background": "light"
     },
     "output_type": "display_data"
    }
   ],
   "source": [
    "plt.figure(figsize=(11,8))\n",
    "plt.scatter(x=pass_data[(pass_data.Survived==1)]['Age'], y=pass_data[(pass_data.Survived==1)]['Fare'], marker='v', label='Survived', s=35)\n",
    "plt.scatter(x=pass_data[(pass_data.Survived==0)]['Age'], y=pass_data[(pass_data.Survived==0)]['Fare'], marker='x', label='Died', s=35)\n",
    "plt.title('Passanger survival  by age and fare')\n",
    "plt.ylabel('Fare')\n",
    "plt.xlabel('Age')\n",
    "plt.legend();"
   ]
  },
  {
   "cell_type": "markdown",
   "execution_count": null,
   "metadata": {},
   "outputs": [],
   "source": [
    "Постройте диаграмму рассеяния (scatter plot) для пассажиров. Ось x должна обозначать возраст пассажира, ось y - стоимость его проезда. Обозначьте выживших и погибших пассажиров разными светами и маркерами. Также укажите на графике легенду."
   ]
  },
  {
   "cell_type": "code",
   "execution_count": null,
   "metadata": {},
   "outputs": [],
   "source": [
    "# В итоге ваш график должен получиться примерно таким:"
   ]
  }
 ],
 "metadata": {
  "kernelspec": {
   "display_name": "Python 3",
   "language": "python",
   "name": "python3"
  },
  "language_info": {
   "codemirror_mode": {
    "name": "ipython",
    "version": 3
   },
   "file_extension": ".py",
   "mimetype": "text/x-python",
   "name": "python",
   "nbconvert_exporter": "python",
   "pygments_lexer": "ipython3",
   "version": "3.7.4-final"
  }
 },
 "nbformat": 4,
 "nbformat_minor": 2
}