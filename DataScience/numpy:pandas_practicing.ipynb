{
 "cells": [
  {
   "cell_type": "markdown",
   "metadata": {},
   "source": [
    "## 1. Матрица Вандермонда (10 баллов)"
   ]
  },
  {
   "cell_type": "markdown",
   "metadata": {},
   "source": [
    "Напишите функцию, генерирующую матрицу [Вандермонда](https://ru.wikipedia.org/wiki/Определитель_Вандермонда), принемающую на вход вектор $(𝑥_1,...,𝑥_𝑛)$ .\n",
    "В этом задании запрещается пользоваться готовыми реализациями (например, numpy.vander), а также np.repeat и np.transpose.\n",
    "При решение задействуйте np.reshape и/или np.newaxis."
   ]
  },
  {
   "cell_type": "code",
   "execution_count": 1,
   "metadata": {},
   "outputs": [],
   "source": [
    "import numpy as np\n",
    "import pandas as pd \n",
    "import matplotlib.pyplot as plt\n",
    "import seaborn as sns \n",
    "import requests      \n",
    "import time \n",
    "from bs4 import BeautifulSoup"
   ]
  },
  {
   "cell_type": "code",
   "execution_count": 2,
   "metadata": {},
   "outputs": [],
   "source": [
    "array = [0, 10, 100]\n",
    "sigma = 1"
   ]
  },
  {
   "cell_type": "code",
   "execution_count": 15,
   "metadata": {},
   "outputs": [
    {
     "output_type": "execute_result",
     "data": {
      "text/plain": [
       "array([6.06530660e-01, 6.01679754e-01, 5.87844382e-01, 5.66229787e-01,\n",
       "       5.38161199e-01, 5.05019725e-01, 4.68182639e-01, 4.28970773e-01,\n",
       "       3.88605017e-01, 3.48173082e-01, 3.08606930e-01, 2.70670566e-01,\n",
       "       2.34957303e-01, 2.01895159e-01, 1.71758806e-01, 1.44686324e-01,\n",
       "       1.20699040e-01, 9.97228756e-02, 8.16097895e-02, 6.61582185e-02,\n",
       "       5.31316518e-02, 4.22747910e-02, 3.33269896e-02, 2.60328975e-02,\n",
       "       2.01504092e-02, 1.54561509e-02, 1.17488237e-02, 8.85076607e-03,\n",
       "       6.60811002e-03, 4.88988709e-03, 3.58640777e-03, 2.60719108e-03,\n",
       "       1.87867033e-03, 1.34185051e-03, 9.50044837e-04, 6.66776581e-04,\n",
       "       4.63897542e-04, 3.19946930e-04, 2.18754037e-04, 1.48273683e-04,\n",
       "       9.96343549e-05, 6.63739915e-05, 4.38366043e-05, 2.87033131e-05,\n",
       "       1.86332659e-05, 1.19925940e-05, 7.65260963e-06, 4.84153515e-06,\n",
       "       3.03695451e-06, 1.88877182e-06, 1.16469132e-06, 7.12092222e-07,\n",
       "       4.31677527e-07, 2.59468112e-07, 1.54636956e-07, 9.13798785e-08,\n",
       "       5.35425362e-08, 3.11072295e-08, 1.79201065e-08, 1.02362150e-08,\n",
       "       5.79776170e-09, 3.25616160e-09, 1.81333710e-09, 1.00133738e-09,\n",
       "       5.48294364e-10, 2.97701286e-10, 1.60281439e-10, 8.55703464e-11,\n",
       "       4.53004741e-11, 2.37806324e-11, 1.23790404e-11, 6.38991600e-12,\n",
       "       3.27076631e-12, 1.66016642e-12, 8.35608730e-13, 4.17066194e-13,\n",
       "       2.06423470e-13, 1.01313324e-13, 4.93092916e-14, 2.37983538e-14,\n",
       "       1.13899611e-14, 5.40574938e-15, 2.54418711e-15, 1.18741563e-15,\n",
       "       5.49563795e-16, 2.52229646e-16, 1.14798922e-16, 5.18136416e-17,\n",
       "       2.31908140e-17, 1.02932932e-17, 4.53064519e-18, 1.97757961e-18,\n",
       "       8.56006263e-19, 3.67442816e-19, 1.56413132e-19, 6.60279877e-20,\n",
       "       2.76410824e-20, 1.14750579e-20, 4.72420003e-21, 1.92874985e-21])"
      ]
     },
     "metadata": {},
     "execution_count": 15
    }
   ],
   "source": [
    "x = np.linspace(1, 10, 100)\n",
    "(x/sigma**2) * np.exp(-x**2 / (2 * sigma**2))"
   ]
  },
  {
   "cell_type": "code",
   "execution_count": 16,
   "metadata": {},
   "outputs": [],
   "source": [
    "def R_dist(array, sigma):\n",
    "    l, r, n = array\n",
    "    x = np.linspace(l, r, n)\n",
    "    y = (x/sigma**2) * np.exp(-x**2 / (2 * sigma**2))\n",
    "    plt.plot(x, y)\n",
    "    plt.show()"
   ]
  },
  {
   "cell_type": "code",
   "execution_count": 22,
   "metadata": {},
   "outputs": [
    {
     "output_type": "execute_result",
     "data": {
      "text/plain": [
       "array([[5, 3, 3],\n",
       "       [3, 1, 2],\n",
       "       [2, 3, 5]])"
      ]
     },
     "metadata": {},
     "execution_count": 22
    }
   ],
   "source": [
    "m = np.random.randint(1, 6, (3,3))\n",
    "m"
   ]
  },
  {
   "cell_type": "code",
   "execution_count": 23,
   "metadata": {},
   "outputs": [],
   "source": [
    "def diag_mul(m):\n",
    "    m_size = len(m)\n",
    "    diag = 1\n",
    "    for i in range(m_size):\n",
    "        diag *= m[i, i]\n",
    "    for i in range(m_size):\n",
    "        for j in range(m_size):\n",
    "            m[i, j] *= diag\n",
    "    return m"
   ]
  },
  {
   "cell_type": "code",
   "execution_count": 24,
   "metadata": {},
   "outputs": [
    {
     "output_type": "execute_result",
     "data": {
      "text/plain": [
       "array([[125,  75,  75],\n",
       "       [ 75,  25,  50],\n",
       "       [ 50,  75, 125]])"
      ]
     },
     "metadata": {},
     "execution_count": 24
    }
   ],
   "source": [
    "diag_mul(m)"
   ]
  },
  {
   "cell_type": "code",
   "execution_count": 5,
   "metadata": {},
   "outputs": [],
   "source": [
    "x = np.random.normal(0, 1, size=10000)"
   ]
  },
  {
   "cell_type": "code",
   "execution_count": 7,
   "metadata": {},
   "outputs": [],
   "source": [
    "k = np.random.choice(x, size=(10000,9000))"
   ]
  },
  {
   "cell_type": "code",
   "execution_count": 12,
   "metadata": {},
   "outputs": [
    {
     "output_type": "execute_result",
     "data": {
      "text/plain": [
       "0.009709085016574418"
      ]
     },
     "metadata": {},
     "execution_count": 12
    }
   ],
   "source": [
    "np.mean(k)"
   ]
  },
  {
   "cell_type": "code",
   "execution_count": 15,
   "metadata": {},
   "outputs": [
    {
     "output_type": "execute_result",
     "data": {
      "text/plain": [
       "1.6573703208378665"
      ]
     },
     "metadata": {},
     "execution_count": 15
    }
   ],
   "source": []
  },
  {
   "cell_type": "code",
   "execution_count": 21,
   "metadata": {},
   "outputs": [],
   "source": [
    "x = np.linspace(-100, 100, 100010)"
   ]
  },
  {
   "cell_type": "code",
   "execution_count": 23,
   "metadata": {},
   "outputs": [],
   "source": [
    "f = np.exp(x - (x ** 2) / 2)"
   ]
  },
  {
   "cell_type": "code",
   "execution_count": 24,
   "metadata": {},
   "outputs": [
    {
     "output_type": "display_data",
     "data": {
      "text/plain": "<Figure size 432x288 with 1 Axes>",
      "image/svg+xml": "<?xml version=\"1.0\" encoding=\"utf-8\" standalone=\"no\"?>\n<!DOCTYPE svg PUBLIC \"-//W3C//DTD SVG 1.1//EN\"\n  \"http://www.w3.org/Graphics/SVG/1.1/DTD/svg11.dtd\">\n<!-- Created with matplotlib (https://matplotlib.org/) -->\n<svg height=\"248.518125pt\" version=\"1.1\" viewBox=\"0 0 382.307553 248.518125\" width=\"382.307553pt\" xmlns=\"http://www.w3.org/2000/svg\" xmlns:xlink=\"http://www.w3.org/1999/xlink\">\n <defs>\n  <style type=\"text/css\">\n*{stroke-linecap:butt;stroke-linejoin:round;}\n  </style>\n </defs>\n <g id=\"figure_1\">\n  <g id=\"patch_1\">\n   <path d=\"M 0 248.518125 \nL 382.307553 248.518125 \nL 382.307553 0 \nL 0 0 \nz\n\" style=\"fill:none;\"/>\n  </g>\n  <g id=\"axes_1\">\n   <g id=\"patch_2\">\n    <path d=\"M 36.465625 224.64 \nL 371.265625 224.64 \nL 371.265625 7.2 \nL 36.465625 7.2 \nz\n\" style=\"fill:#ffffff;\"/>\n   </g>\n   <g id=\"matplotlib.axis_1\">\n    <g id=\"xtick_1\">\n     <g id=\"line2d_1\">\n      <defs>\n       <path d=\"M 0 0 \nL 0 3.5 \n\" id=\"m0eb415bdee\" style=\"stroke:#000000;stroke-width:0.8;\"/>\n      </defs>\n      <g>\n       <use style=\"stroke:#000000;stroke-width:0.8;\" x=\"51.683807\" xlink:href=\"#m0eb415bdee\" y=\"224.64\"/>\n      </g>\n     </g>\n     <g id=\"text_1\">\n      <!-- 0 -->\n      <defs>\n       <path d=\"M 31.78125 66.40625 \nQ 24.171875 66.40625 20.328125 58.90625 \nQ 16.5 51.421875 16.5 36.375 \nQ 16.5 21.390625 20.328125 13.890625 \nQ 24.171875 6.390625 31.78125 6.390625 \nQ 39.453125 6.390625 43.28125 13.890625 \nQ 47.125 21.390625 47.125 36.375 \nQ 47.125 51.421875 43.28125 58.90625 \nQ 39.453125 66.40625 31.78125 66.40625 \nz\nM 31.78125 74.21875 \nQ 44.046875 74.21875 50.515625 64.515625 \nQ 56.984375 54.828125 56.984375 36.375 \nQ 56.984375 17.96875 50.515625 8.265625 \nQ 44.046875 -1.421875 31.78125 -1.421875 \nQ 19.53125 -1.421875 13.0625 8.265625 \nQ 6.59375 17.96875 6.59375 36.375 \nQ 6.59375 54.828125 13.0625 64.515625 \nQ 19.53125 74.21875 31.78125 74.21875 \nz\n\" id=\"DejaVuSans-48\"/>\n      </defs>\n      <g transform=\"translate(48.502557 239.238437)scale(0.1 -0.1)\">\n       <use xlink:href=\"#DejaVuSans-48\"/>\n      </g>\n     </g>\n    </g>\n    <g id=\"xtick_2\">\n     <g id=\"line2d_2\">\n      <g>\n       <use style=\"stroke:#000000;stroke-width:0.8;\" x=\"112.551056\" xlink:href=\"#m0eb415bdee\" y=\"224.64\"/>\n      </g>\n     </g>\n     <g id=\"text_2\">\n      <!-- 20000 -->\n      <defs>\n       <path d=\"M 19.1875 8.296875 \nL 53.609375 8.296875 \nL 53.609375 0 \nL 7.328125 0 \nL 7.328125 8.296875 \nQ 12.9375 14.109375 22.625 23.890625 \nQ 32.328125 33.6875 34.8125 36.53125 \nQ 39.546875 41.84375 41.421875 45.53125 \nQ 43.3125 49.21875 43.3125 52.78125 \nQ 43.3125 58.59375 39.234375 62.25 \nQ 35.15625 65.921875 28.609375 65.921875 \nQ 23.96875 65.921875 18.8125 64.3125 \nQ 13.671875 62.703125 7.8125 59.421875 \nL 7.8125 69.390625 \nQ 13.765625 71.78125 18.9375 73 \nQ 24.125 74.21875 28.421875 74.21875 \nQ 39.75 74.21875 46.484375 68.546875 \nQ 53.21875 62.890625 53.21875 53.421875 \nQ 53.21875 48.921875 51.53125 44.890625 \nQ 49.859375 40.875 45.40625 35.40625 \nQ 44.1875 33.984375 37.640625 27.21875 \nQ 31.109375 20.453125 19.1875 8.296875 \nz\n\" id=\"DejaVuSans-50\"/>\n      </defs>\n      <g transform=\"translate(96.644806 239.238437)scale(0.1 -0.1)\">\n       <use xlink:href=\"#DejaVuSans-50\"/>\n       <use x=\"63.623047\" xlink:href=\"#DejaVuSans-48\"/>\n       <use x=\"127.246094\" xlink:href=\"#DejaVuSans-48\"/>\n       <use x=\"190.869141\" xlink:href=\"#DejaVuSans-48\"/>\n       <use x=\"254.492188\" xlink:href=\"#DejaVuSans-48\"/>\n      </g>\n     </g>\n    </g>\n    <g id=\"xtick_3\">\n     <g id=\"line2d_3\">\n      <g>\n       <use style=\"stroke:#000000;stroke-width:0.8;\" x=\"173.418305\" xlink:href=\"#m0eb415bdee\" y=\"224.64\"/>\n      </g>\n     </g>\n     <g id=\"text_3\">\n      <!-- 40000 -->\n      <defs>\n       <path d=\"M 37.796875 64.3125 \nL 12.890625 25.390625 \nL 37.796875 25.390625 \nz\nM 35.203125 72.90625 \nL 47.609375 72.90625 \nL 47.609375 25.390625 \nL 58.015625 25.390625 \nL 58.015625 17.1875 \nL 47.609375 17.1875 \nL 47.609375 0 \nL 37.796875 0 \nL 37.796875 17.1875 \nL 4.890625 17.1875 \nL 4.890625 26.703125 \nz\n\" id=\"DejaVuSans-52\"/>\n      </defs>\n      <g transform=\"translate(157.512055 239.238437)scale(0.1 -0.1)\">\n       <use xlink:href=\"#DejaVuSans-52\"/>\n       <use x=\"63.623047\" xlink:href=\"#DejaVuSans-48\"/>\n       <use x=\"127.246094\" xlink:href=\"#DejaVuSans-48\"/>\n       <use x=\"190.869141\" xlink:href=\"#DejaVuSans-48\"/>\n       <use x=\"254.492188\" xlink:href=\"#DejaVuSans-48\"/>\n      </g>\n     </g>\n    </g>\n    <g id=\"xtick_4\">\n     <g id=\"line2d_4\">\n      <g>\n       <use style=\"stroke:#000000;stroke-width:0.8;\" x=\"234.285554\" xlink:href=\"#m0eb415bdee\" y=\"224.64\"/>\n      </g>\n     </g>\n     <g id=\"text_4\">\n      <!-- 60000 -->\n      <defs>\n       <path d=\"M 33.015625 40.375 \nQ 26.375 40.375 22.484375 35.828125 \nQ 18.609375 31.296875 18.609375 23.390625 \nQ 18.609375 15.53125 22.484375 10.953125 \nQ 26.375 6.390625 33.015625 6.390625 \nQ 39.65625 6.390625 43.53125 10.953125 \nQ 47.40625 15.53125 47.40625 23.390625 \nQ 47.40625 31.296875 43.53125 35.828125 \nQ 39.65625 40.375 33.015625 40.375 \nz\nM 52.59375 71.296875 \nL 52.59375 62.3125 \nQ 48.875 64.0625 45.09375 64.984375 \nQ 41.3125 65.921875 37.59375 65.921875 \nQ 27.828125 65.921875 22.671875 59.328125 \nQ 17.53125 52.734375 16.796875 39.40625 \nQ 19.671875 43.65625 24.015625 45.921875 \nQ 28.375 48.1875 33.59375 48.1875 \nQ 44.578125 48.1875 50.953125 41.515625 \nQ 57.328125 34.859375 57.328125 23.390625 \nQ 57.328125 12.15625 50.6875 5.359375 \nQ 44.046875 -1.421875 33.015625 -1.421875 \nQ 20.359375 -1.421875 13.671875 8.265625 \nQ 6.984375 17.96875 6.984375 36.375 \nQ 6.984375 53.65625 15.1875 63.9375 \nQ 23.390625 74.21875 37.203125 74.21875 \nQ 40.921875 74.21875 44.703125 73.484375 \nQ 48.484375 72.75 52.59375 71.296875 \nz\n\" id=\"DejaVuSans-54\"/>\n      </defs>\n      <g transform=\"translate(218.379304 239.238437)scale(0.1 -0.1)\">\n       <use xlink:href=\"#DejaVuSans-54\"/>\n       <use x=\"63.623047\" xlink:href=\"#DejaVuSans-48\"/>\n       <use x=\"127.246094\" xlink:href=\"#DejaVuSans-48\"/>\n       <use x=\"190.869141\" xlink:href=\"#DejaVuSans-48\"/>\n       <use x=\"254.492188\" xlink:href=\"#DejaVuSans-48\"/>\n      </g>\n     </g>\n    </g>\n    <g id=\"xtick_5\">\n     <g id=\"line2d_5\">\n      <g>\n       <use style=\"stroke:#000000;stroke-width:0.8;\" x=\"295.152804\" xlink:href=\"#m0eb415bdee\" y=\"224.64\"/>\n      </g>\n     </g>\n     <g id=\"text_5\">\n      <!-- 80000 -->\n      <defs>\n       <path d=\"M 31.78125 34.625 \nQ 24.75 34.625 20.71875 30.859375 \nQ 16.703125 27.09375 16.703125 20.515625 \nQ 16.703125 13.921875 20.71875 10.15625 \nQ 24.75 6.390625 31.78125 6.390625 \nQ 38.8125 6.390625 42.859375 10.171875 \nQ 46.921875 13.96875 46.921875 20.515625 \nQ 46.921875 27.09375 42.890625 30.859375 \nQ 38.875 34.625 31.78125 34.625 \nz\nM 21.921875 38.8125 \nQ 15.578125 40.375 12.03125 44.71875 \nQ 8.5 49.078125 8.5 55.328125 \nQ 8.5 64.0625 14.71875 69.140625 \nQ 20.953125 74.21875 31.78125 74.21875 \nQ 42.671875 74.21875 48.875 69.140625 \nQ 55.078125 64.0625 55.078125 55.328125 \nQ 55.078125 49.078125 51.53125 44.71875 \nQ 48 40.375 41.703125 38.8125 \nQ 48.828125 37.15625 52.796875 32.3125 \nQ 56.78125 27.484375 56.78125 20.515625 \nQ 56.78125 9.90625 50.3125 4.234375 \nQ 43.84375 -1.421875 31.78125 -1.421875 \nQ 19.734375 -1.421875 13.25 4.234375 \nQ 6.78125 9.90625 6.78125 20.515625 \nQ 6.78125 27.484375 10.78125 32.3125 \nQ 14.796875 37.15625 21.921875 38.8125 \nz\nM 18.3125 54.390625 \nQ 18.3125 48.734375 21.84375 45.5625 \nQ 25.390625 42.390625 31.78125 42.390625 \nQ 38.140625 42.390625 41.71875 45.5625 \nQ 45.3125 48.734375 45.3125 54.390625 \nQ 45.3125 60.0625 41.71875 63.234375 \nQ 38.140625 66.40625 31.78125 66.40625 \nQ 25.390625 66.40625 21.84375 63.234375 \nQ 18.3125 60.0625 18.3125 54.390625 \nz\n\" id=\"DejaVuSans-56\"/>\n      </defs>\n      <g transform=\"translate(279.246554 239.238437)scale(0.1 -0.1)\">\n       <use xlink:href=\"#DejaVuSans-56\"/>\n       <use x=\"63.623047\" xlink:href=\"#DejaVuSans-48\"/>\n       <use x=\"127.246094\" xlink:href=\"#DejaVuSans-48\"/>\n       <use x=\"190.869141\" xlink:href=\"#DejaVuSans-48\"/>\n       <use x=\"254.492188\" xlink:href=\"#DejaVuSans-48\"/>\n      </g>\n     </g>\n    </g>\n    <g id=\"xtick_6\">\n     <g id=\"line2d_6\">\n      <g>\n       <use style=\"stroke:#000000;stroke-width:0.8;\" x=\"356.020053\" xlink:href=\"#m0eb415bdee\" y=\"224.64\"/>\n      </g>\n     </g>\n     <g id=\"text_6\">\n      <!-- 100000 -->\n      <defs>\n       <path d=\"M 12.40625 8.296875 \nL 28.515625 8.296875 \nL 28.515625 63.921875 \nL 10.984375 60.40625 \nL 10.984375 69.390625 \nL 28.421875 72.90625 \nL 38.28125 72.90625 \nL 38.28125 8.296875 \nL 54.390625 8.296875 \nL 54.390625 0 \nL 12.40625 0 \nz\n\" id=\"DejaVuSans-49\"/>\n      </defs>\n      <g transform=\"translate(336.932553 239.238437)scale(0.1 -0.1)\">\n       <use xlink:href=\"#DejaVuSans-49\"/>\n       <use x=\"63.623047\" xlink:href=\"#DejaVuSans-48\"/>\n       <use x=\"127.246094\" xlink:href=\"#DejaVuSans-48\"/>\n       <use x=\"190.869141\" xlink:href=\"#DejaVuSans-48\"/>\n       <use x=\"254.492188\" xlink:href=\"#DejaVuSans-48\"/>\n       <use x=\"318.115234\" xlink:href=\"#DejaVuSans-48\"/>\n      </g>\n     </g>\n    </g>\n   </g>\n   <g id=\"matplotlib.axis_2\">\n    <g id=\"ytick_1\">\n     <g id=\"line2d_7\">\n      <defs>\n       <path d=\"M 0 0 \nL -3.5 0 \n\" id=\"m12c3e0a1aa\" style=\"stroke:#000000;stroke-width:0.8;\"/>\n      </defs>\n      <g>\n       <use style=\"stroke:#000000;stroke-width:0.8;\" x=\"36.465625\" xlink:href=\"#m12c3e0a1aa\" y=\"214.756364\"/>\n      </g>\n     </g>\n     <g id=\"text_7\">\n      <!-- 0.00 -->\n      <defs>\n       <path d=\"M 10.6875 12.40625 \nL 21 12.40625 \nL 21 0 \nL 10.6875 0 \nz\n\" id=\"DejaVuSans-46\"/>\n      </defs>\n      <g transform=\"translate(7.2 218.555582)scale(0.1 -0.1)\">\n       <use xlink:href=\"#DejaVuSans-48\"/>\n       <use x=\"63.623047\" xlink:href=\"#DejaVuSans-46\"/>\n       <use x=\"95.410156\" xlink:href=\"#DejaVuSans-48\"/>\n       <use x=\"159.033203\" xlink:href=\"#DejaVuSans-48\"/>\n      </g>\n     </g>\n    </g>\n    <g id=\"ytick_2\">\n     <g id=\"line2d_8\">\n      <g>\n       <use style=\"stroke:#000000;stroke-width:0.8;\" x=\"36.465625\" xlink:href=\"#m12c3e0a1aa\" y=\"184.782709\"/>\n      </g>\n     </g>\n     <g id=\"text_8\">\n      <!-- 0.25 -->\n      <defs>\n       <path d=\"M 10.796875 72.90625 \nL 49.515625 72.90625 \nL 49.515625 64.59375 \nL 19.828125 64.59375 \nL 19.828125 46.734375 \nQ 21.96875 47.46875 24.109375 47.828125 \nQ 26.265625 48.1875 28.421875 48.1875 \nQ 40.625 48.1875 47.75 41.5 \nQ 54.890625 34.8125 54.890625 23.390625 \nQ 54.890625 11.625 47.5625 5.09375 \nQ 40.234375 -1.421875 26.90625 -1.421875 \nQ 22.3125 -1.421875 17.546875 -0.640625 \nQ 12.796875 0.140625 7.71875 1.703125 \nL 7.71875 11.625 \nQ 12.109375 9.234375 16.796875 8.0625 \nQ 21.484375 6.890625 26.703125 6.890625 \nQ 35.15625 6.890625 40.078125 11.328125 \nQ 45.015625 15.765625 45.015625 23.390625 \nQ 45.015625 31 40.078125 35.4375 \nQ 35.15625 39.890625 26.703125 39.890625 \nQ 22.75 39.890625 18.8125 39.015625 \nQ 14.890625 38.140625 10.796875 36.28125 \nz\n\" id=\"DejaVuSans-53\"/>\n      </defs>\n      <g transform=\"translate(7.2 188.581928)scale(0.1 -0.1)\">\n       <use xlink:href=\"#DejaVuSans-48\"/>\n       <use x=\"63.623047\" xlink:href=\"#DejaVuSans-46\"/>\n       <use x=\"95.410156\" xlink:href=\"#DejaVuSans-50\"/>\n       <use x=\"159.033203\" xlink:href=\"#DejaVuSans-53\"/>\n      </g>\n     </g>\n    </g>\n    <g id=\"ytick_3\">\n     <g id=\"line2d_9\">\n      <g>\n       <use style=\"stroke:#000000;stroke-width:0.8;\" x=\"36.465625\" xlink:href=\"#m12c3e0a1aa\" y=\"154.809054\"/>\n      </g>\n     </g>\n     <g id=\"text_9\">\n      <!-- 0.50 -->\n      <g transform=\"translate(7.2 158.608273)scale(0.1 -0.1)\">\n       <use xlink:href=\"#DejaVuSans-48\"/>\n       <use x=\"63.623047\" xlink:href=\"#DejaVuSans-46\"/>\n       <use x=\"95.410156\" xlink:href=\"#DejaVuSans-53\"/>\n       <use x=\"159.033203\" xlink:href=\"#DejaVuSans-48\"/>\n      </g>\n     </g>\n    </g>\n    <g id=\"ytick_4\">\n     <g id=\"line2d_10\">\n      <g>\n       <use style=\"stroke:#000000;stroke-width:0.8;\" x=\"36.465625\" xlink:href=\"#m12c3e0a1aa\" y=\"124.835399\"/>\n      </g>\n     </g>\n     <g id=\"text_10\">\n      <!-- 0.75 -->\n      <defs>\n       <path d=\"M 8.203125 72.90625 \nL 55.078125 72.90625 \nL 55.078125 68.703125 \nL 28.609375 0 \nL 18.3125 0 \nL 43.21875 64.59375 \nL 8.203125 64.59375 \nz\n\" id=\"DejaVuSans-55\"/>\n      </defs>\n      <g transform=\"translate(7.2 128.634618)scale(0.1 -0.1)\">\n       <use xlink:href=\"#DejaVuSans-48\"/>\n       <use x=\"63.623047\" xlink:href=\"#DejaVuSans-46\"/>\n       <use x=\"95.410156\" xlink:href=\"#DejaVuSans-55\"/>\n       <use x=\"159.033203\" xlink:href=\"#DejaVuSans-53\"/>\n      </g>\n     </g>\n    </g>\n    <g id=\"ytick_5\">\n     <g id=\"line2d_11\">\n      <g>\n       <use style=\"stroke:#000000;stroke-width:0.8;\" x=\"36.465625\" xlink:href=\"#m12c3e0a1aa\" y=\"94.861744\"/>\n      </g>\n     </g>\n     <g id=\"text_11\">\n      <!-- 1.00 -->\n      <g transform=\"translate(7.2 98.660963)scale(0.1 -0.1)\">\n       <use xlink:href=\"#DejaVuSans-49\"/>\n       <use x=\"63.623047\" xlink:href=\"#DejaVuSans-46\"/>\n       <use x=\"95.410156\" xlink:href=\"#DejaVuSans-48\"/>\n       <use x=\"159.033203\" xlink:href=\"#DejaVuSans-48\"/>\n      </g>\n     </g>\n    </g>\n    <g id=\"ytick_6\">\n     <g id=\"line2d_12\">\n      <g>\n       <use style=\"stroke:#000000;stroke-width:0.8;\" x=\"36.465625\" xlink:href=\"#m12c3e0a1aa\" y=\"64.888089\"/>\n      </g>\n     </g>\n     <g id=\"text_12\">\n      <!-- 1.25 -->\n      <g transform=\"translate(7.2 68.687308)scale(0.1 -0.1)\">\n       <use xlink:href=\"#DejaVuSans-49\"/>\n       <use x=\"63.623047\" xlink:href=\"#DejaVuSans-46\"/>\n       <use x=\"95.410156\" xlink:href=\"#DejaVuSans-50\"/>\n       <use x=\"159.033203\" xlink:href=\"#DejaVuSans-53\"/>\n      </g>\n     </g>\n    </g>\n    <g id=\"ytick_7\">\n     <g id=\"line2d_13\">\n      <g>\n       <use style=\"stroke:#000000;stroke-width:0.8;\" x=\"36.465625\" xlink:href=\"#m12c3e0a1aa\" y=\"34.914435\"/>\n      </g>\n     </g>\n     <g id=\"text_13\">\n      <!-- 1.50 -->\n      <g transform=\"translate(7.2 38.713653)scale(0.1 -0.1)\">\n       <use xlink:href=\"#DejaVuSans-49\"/>\n       <use x=\"63.623047\" xlink:href=\"#DejaVuSans-46\"/>\n       <use x=\"95.410156\" xlink:href=\"#DejaVuSans-53\"/>\n       <use x=\"159.033203\" xlink:href=\"#DejaVuSans-48\"/>\n      </g>\n     </g>\n    </g>\n   </g>\n   <g id=\"line2d_14\">\n    <path clip-path=\"url(#p6b5eec620d)\" d=\"M 51.683807 214.756364 \nL 199.496878 214.646081 \nL 199.983816 214.39482 \nL 200.33989 213.948967 \nL 200.665529 213.151729 \nL 200.994213 211.692371 \nL 201.335069 209.052024 \nL 201.694186 204.356836 \nL 202.080693 196.105768 \nL 202.506764 181.804731 \nL 202.999788 157.024282 \nL 203.654111 111.422315 \nL 204.801459 31.207783 \nL 205.175793 18.986087 \nL 205.388828 17.083636 \nL 205.391871 17.084391 \nL 205.446652 17.233108 \nL 205.565343 18.429598 \nL 205.769248 23.207884 \nL 206.079671 36.511142 \nL 206.569653 68.571366 \nL 208.094377 174.121047 \nL 208.633052 194.420825 \nL 209.107817 204.798539 \nL 209.546061 210.031273 \nL 209.959958 212.590793 \nL 210.355595 213.79773 \nL 210.754276 214.362525 \nL 211.204694 214.623628 \nL 211.892493 214.735066 \nL 214.117191 214.756349 \nL 356.047443 214.756364 \nL 356.047443 214.756364 \n\" style=\"fill:none;stroke:#1f77b4;stroke-linecap:square;stroke-width:1.5;\"/>\n   </g>\n   <g id=\"patch_3\">\n    <path d=\"M 36.465625 224.64 \nL 36.465625 7.2 \n\" style=\"fill:none;stroke:#000000;stroke-linecap:square;stroke-linejoin:miter;stroke-width:0.8;\"/>\n   </g>\n   <g id=\"patch_4\">\n    <path d=\"M 371.265625 224.64 \nL 371.265625 7.2 \n\" style=\"fill:none;stroke:#000000;stroke-linecap:square;stroke-linejoin:miter;stroke-width:0.8;\"/>\n   </g>\n   <g id=\"patch_5\">\n    <path d=\"M 36.465625 224.64 \nL 371.265625 224.64 \n\" style=\"fill:none;stroke:#000000;stroke-linecap:square;stroke-linejoin:miter;stroke-width:0.8;\"/>\n   </g>\n   <g id=\"patch_6\">\n    <path d=\"M 36.465625 7.2 \nL 371.265625 7.2 \n\" style=\"fill:none;stroke:#000000;stroke-linecap:square;stroke-linejoin:miter;stroke-width:0.8;\"/>\n   </g>\n  </g>\n </g>\n <defs>\n  <clipPath id=\"p6b5eec620d\">\n   <rect height=\"217.44\" width=\"334.8\" x=\"36.465625\" y=\"7.2\"/>\n  </clipPath>\n </defs>\n</svg>\n",
      "image/png": "[encoded data removed]"
     },
     "metadata": {
      "needs_background": "light"
     }
    }
   ],
   "source": [
    "plt.plot(f)\n",
    "None"
   ]
  },
  {
   "cell_type": "code",
   "execution_count": null,
   "metadata": {},
   "outputs": [],
   "source": []
  },
  {
   "cell_type": "code",
   "execution_count": null,
   "metadata": {},
   "outputs": [],
   "source": [
    "def my_vander(x, n):\n",
    "    x = np.array(x)\n",
    "    matrix = [x**(n - 1 - i) for i in range(n)]\n",
    "    return np.array([*zip(*matrix)])"
   ]
  },
  {
   "cell_type": "code",
   "execution_count": null,
   "metadata": {},
   "outputs": [],
   "source": [
    "my_vander([1, 2, 3, 4, 5], 5)"
   ]
  },
  {
   "cell_type": "code",
   "execution_count": null,
   "metadata": {},
   "outputs": [],
   "source": [
    " assert np.all(my_vander([1, 2, 3, 4, 5], 5) == np.vander([1, 2, 3, 4, 5], 5))"
   ]
  },
  {
   "cell_type": "code",
   "execution_count": null,
   "metadata": {},
   "outputs": [],
   "source": [
    " assert np.all(my_vander([1, 1, 1, 1, 1], 4) == np.vander([1, 1, 1, 1, 1], 4))"
   ]
  },
  {
   "cell_type": "code",
   "execution_count": null,
   "metadata": {},
   "outputs": [],
   "source": [
    " assert np.all(my_vander([3, 21, 1, 91, 31], 3) == np.vander([3, 21, 1, 91, 31], 3))"
   ]
  },
  {
   "cell_type": "markdown",
   "metadata": {},
   "source": [
    "## 2. Марафон (30 баллов)"
   ]
  },
  {
   "cell_type": "markdown",
   "metadata": {},
   "source": [
    "#### История\n",
    "Как-то раз Винни-Пух, Пятачок, Кролик и Иа-Иа решили пробежать марафон. Они договорились бежать $n$ часов. Побеждает тот, кто пробегает за эти $n$ часов больше всего километров. Каждый участник бежит по-разному, то сколько он пробежит за один час поддается одному из законов распределений. Например, если имеется равномерное распределение $U[1,3]$, то участник может пробежать за первый час 1.3км, за второй 2.4км и так далее.\n",
    "\n",
    "* Винни-Пух в целом может пробежать достаточно много, но с большой вероятностью останавливается покушать мёда и пробегает мало. Его закон распределения это показательное распределение с $\\lambda = 1$.\n",
    "* Пятачок бежит в одном темпе и старается пробегать приблизительно одинаковую дистанцию. Изредка, он может перепутать направление и немного пробежать не в ту сторону. Его закон распределения это нормальное распределение $N(1, 1)$.\n",
    "* Кролик - перфекционист. Он бежит целое количество киллометров. Если он понимает, что за оставшееся время он уже не пробежит еще один километр, то он останавливается и ждет следующий час. Его закон распределения это распределение Пуассона с $\\lambda = 1$.\n",
    "* Иа-Иа в течение часа может грустить с вероятностью 0.5 и пробжеать 0 километров или быть очень веселым (с вероятностью 0.5) и пробежать 2 километра. Его закон распределения это распределение Бернулли.\n",
    "\n",
    "#### Задание №1\n",
    "\n",
    "Вам нужно: \n",
    "* Создать трехмерную матрицу размера $10^4 \\times 4 \\times n$. Первая ось отвечает за номер марафона, вторая ось за каждого участника, а третья ось за каждый час марафона. Вторую и третью ось можно поменять, если вам так удобнее.\n",
    "* Выявить победителя в каждом из $10^4$ марафонов. \n",
    "* Нарисовать столбчатую диаграмму, на которой будет видно кто и сколько раз побеждал в марафоне.\n",
    "* Запрещено пользоваться циклами. Нужно использовать возможности numpy.\n",
    "\n",
    "Что можно сказать о результатах?\n",
    "\n",
    "#### Задание №2\n",
    " \n",
    "Участники решили объединиться в пары: Винни-Пух с Пятачком, Кролик с Иа-Иа. Они решили суммировать свои результаты.\n",
    "\n",
    "Вам нужно: \n",
    "* Сгенерировать новую трехмерную матрицу, но уже объединив участников в команды.\n",
    "* Выявить команду-победителя в каждом из $10^4$ марафонов. \n",
    "* Нарисовать столбчатую диаграмму, на которой будет видно кто и сколько раз побеждал в марафоне.\n",
    "\n",
    "Логичны ли полученные результаты?"
   ]
  },
  {
   "cell_type": "code",
   "execution_count": null,
   "metadata": {},
   "outputs": [],
   "source": [
    "def maraphon_task1(n):\n",
    "    vini = np.random.exponential(1, size=10000)\n",
    "    pig = np.random.normal(1, 1, size=10000)\n",
    "    rabbit = np.random.poisson(1, size=10000)\n",
    "    ia_ia = 2 * np.random.binomial(1, 0.5, size=10000)\n",
    "    if n==1:\n",
    "        return [np.vstack((vini, pig, rabbit, ia_ia))]\n",
    "    elif n>1:\n",
    "        p = [np.vstack((vini, pig, rabbit, ia_ia))]\n",
    "        return np.vstack((p, maraphon_task1(n-1)))"
   ]
  },
  {
   "cell_type": "code",
   "execution_count": null,
   "metadata": {},
   "outputs": [],
   "source": [
    "maraphon_task1(100)[0: 4]"
   ]
  },
  {
   "cell_type": "code",
   "execution_count": null,
   "metadata": {},
   "outputs": [],
   "source": [
    "results = np.transpose(np.sum(maraphon_task1(10), axis=0))"
   ]
  },
  {
   "cell_type": "code",
   "execution_count": null,
   "metadata": {},
   "outputs": [],
   "source": [
    "results"
   ]
  },
  {
   "cell_type": "code",
   "execution_count": null,
   "metadata": {},
   "outputs": [],
   "source": [
    "def unfold(x):\n",
    "    if len(x)==1:\n",
    "        return x[0]\n",
    "    elif len(x)==2:\n",
    "        ean = np.random.binomial(1, 0.5, 1) + 2\n",
    "        return ean[0]"
   ]
  },
  {
   "cell_type": "code",
   "execution_count": null,
   "metadata": {},
   "outputs": [],
   "source": [
    "winners = [*map(lambda x: [*np.where(x==max(x))[0]], results)]"
   ]
  },
  {
   "cell_type": "code",
   "execution_count": null,
   "metadata": {},
   "outputs": [],
   "source": [
    "winners[0: 12]"
   ]
  },
  {
   "cell_type": "code",
   "execution_count": null,
   "metadata": {},
   "outputs": [],
   "source": [
    "unfolded_winner = np.array([*map(lambda x: unfold(x), winners)])"
   ]
  },
  {
   "cell_type": "code",
   "execution_count": null,
   "metadata": {},
   "outputs": [],
   "source": [
    "unfolded_winner[0: 15]"
   ]
  },
  {
   "cell_type": "code",
   "execution_count": null,
   "metadata": {},
   "outputs": [],
   "source": [
    "sns.distplot(unfolded_winner[unfolded_winner==0], bins=1, kde=False, color='g')\n",
    "sns.distplot(unfolded_winner[unfolded_winner==1], bins=1, kde=False, color='b')\n",
    "sns.distplot(unfolded_winner[unfolded_winner==2], bins=1, kde=False, color='y')\n",
    "sns.distplot(unfolded_winner[unfolded_winner==3], bins=1, kde=False, color='r')\n",
    "plt.title('Распределение победителей марафона')\n",
    "plt.legend(labels=['Вини-Пух', 'Питачок', 'Кролик', 'Ослик Иа-Иа'], loc=4)\n",
    "plt.show()"
   ]
  },
  {
   "cell_type": "markdown",
   "metadata": {},
   "source": [
    "Теперь объединим участников в команды "
   ]
  },
  {
   "cell_type": "code",
   "execution_count": null,
   "metadata": {},
   "outputs": [],
   "source": [
    "def maraphon_task2(n):\n",
    "    vini = np.random.exponential(1, size=10000)\n",
    "    pig = np.random.normal(1, 1, size=10000)\n",
    "    rabbit = np.random.poisson(1, size=10000)\n",
    "    ia_ia = 2 * np.random.binomial(1, 0.5, size=10000)\n",
    "    vini_pig = vini + pig\n",
    "    rabbit_ia_ia = rabbit + ia_ia\n",
    "    if n==1:\n",
    "        return [np.vstack((vini_pig, rabbit_ia_ia))]\n",
    "    elif n>1:\n",
    "        p = [np.vstack((vini_pig, rabbit_ia_ia))]\n",
    "        return np.vstack((p, maraphon_task2(n-1)))"
   ]
  },
  {
   "cell_type": "code",
   "execution_count": null,
   "metadata": {},
   "outputs": [],
   "source": [
    "results_2 = np.transpose(np.sum(maraphon_task2(10), axis=0))\n",
    "winners_2 = [*map(lambda x: [*np.where(x==max(x))[0]], results_2)]\n",
    "unfolded_winner_2 = np.array([*map(lambda x: unfold(x), winners_2)])"
   ]
  },
  {
   "cell_type": "code",
   "execution_count": null,
   "metadata": {},
   "outputs": [],
   "source": [
    "winners_2[0: 10]"
   ]
  },
  {
   "cell_type": "code",
   "execution_count": null,
   "metadata": {},
   "outputs": [],
   "source": [
    "sns.distplot(unfolded_winner_2[unfolded_winner_2==0], bins=1, kde=False, color='g')\n",
    "sns.distplot(unfolded_winner_2[unfolded_winner_2==1], bins=1, kde=False, color='r')\n",
    "plt.title('Распределение победителей  командного марафона')\n",
    "plt.legend(labels=['Вини-Пух и Питачок', 'Кролик и Ослик Иа-Иа'], loc=4)\n",
    "plt.show()"
   ]
  },
  {
   "cell_type": "markdown",
   "metadata": {},
   "source": [
    "## 3. Avito (30 баллов)"
   ]
  },
  {
   "cell_type": "markdown",
   "metadata": {},
   "source": [
    "В этом задании вам нужно будет написать функцию, которая парсит [Авито](https://www.avito.ru) (будем рассматривать только Москву). Эта функция принимает два параметра:\n",
    "* search - то, что мы ищем на avito\n",
    "* page - номер страницы, с которой парсим информацию\n",
    "\n",
    "```python\n",
    "def parse_page(search, page):\n",
    "    # тут ваш код\n",
    "df = parse_page('гречка', 4)\n",
    "```\n",
    "Нужно скачать следующую информацию:\n",
    "* название объявления\n",
    "* ссылка на объявление\n",
    "* цена\n",
    "* метро (если есть), вам нужно аккуратно обрабатывать None или использовать конструкцию try-except\n",
    "* сколько метров от метро (если есть)\n",
    "\n",
    "Эту информацию лучше сохранить в виде pandas df.\n",
    "\n",
    "В данном задании **не нужно** парсить все страницы (вас могут забанить). Нужно лишь сделать функцию, которая парсит одну страницу. Чтобы вас не забанили сделаейте request один раз и работайте с вашей страничкой без функции. После того как все будет готово, оберните весь ваш код в функцию."
   ]
  },
  {
   "cell_type": "code",
   "execution_count": null,
   "metadata": {},
   "outputs": [],
   "source": [
    "def parse_page(search, page):\n",
    "    url = f'https://www.avito.ru/moskva?q={search}&p={page}'\n",
    "    response = requests.get(url)\n",
    "    tree = BeautifulSoup(response.content, 'html.parser')\n",
    "    items = tree.find_all('div', {'class' : 'snippet-horizontal'})\n",
    "    item_list = []\n",
    "    for item in items:\n",
    "        if item.find('span', {'class': 'item-address-georeferences-item__content'}) is None:\n",
    "            udg = np.NaN\n",
    "        else:\n",
    "            udg = item.find('span', {'class': 'item-address-georeferences-item__content'}).text\n",
    "        if item.find('span', {'class': 'item-address-georeferences-item__after'}) is None:\n",
    "            dist = np.NaN\n",
    "        else:\n",
    "            dist = item.find('span', {'class': 'item-address-georeferences-item__after'}).text\n",
    "        item_list.append({'Title': item.h3.a.get('title'),\n",
    "                     'Weblink': item.h3.a.get('href'),\n",
    "                     'Price in ₽': item.find('span', {'class': 'snippet-price'}).text.strip('₽ \\n'), \n",
    "                     'Underground Station': udg, \n",
    "                     'Distance to the Station': dist})\n",
    "    return pd.DataFrame(item_list)"
   ]
  },
  {
   "cell_type": "code",
   "execution_count": null,
   "metadata": {},
   "outputs": [],
   "source": [
    "df = parse_page('iphone', 5)\n",
    "df.head()"
   ]
  },
  {
   "cell_type": "markdown",
   "metadata": {},
   "source": [
    "## 4. Walmart (30 баллов)"
   ]
  },
  {
   "cell_type": "markdown",
   "metadata": {},
   "source": [
    "В файле *walmart.csv* нам предоставлены исторические данные о продажах магазинов Walmart, расположенных в разных регионах.\n",
    "\n",
    "Нам доступны следующие переменные:\n",
    "\n",
    "* **Date** – дата;\n",
    "* **Store** – номер магазина;\n",
    "* **Dept** – номер отдела;\n",
    "* **Weekly_Sales** – объём продаж в данную неделю в данном отделе\n",
    "* **Type** – тип магазина;\n",
    "* **Size** – размер магазина;\n",
    "* **IsHoliday** – является ли неделя праздничной;\n",
    "* **Temperature** – средняя температура в регионе в градусах по Фаренгейту;\n",
    "* **Fuel_Price** – стоимость топлива в регионе;\n",
    "* **MarkDown1-5** – данные, связанные с рекламными уценками, которые запускает Walmart. Данные уценки доступны только после ноября 2011 года и доступны не для всех магазинов. Данные анонимизированы. Непонятно на какие именно товары производилась уценка и в каких количествах. Компании часто анонимизируют данные, когда выкладывают их в открытый доступ.\n",
    "* **CPI** – индекс потребительских цен;\n",
    "* **Unemployment** – уровень безработицы.\n",
    "\n",
    "\n",
    "Вам нужно выполнить следующие задания:\n",
    "1. Загрузить файл с данными. Отобразить первые и последние 5 наблюдений. Узнать сколько наблюдений и переменных есть в вашем наборе данных. Какой тип(формат) имеет каждая переменная? Привести переменную Date к формату даты.\n",
    "2. Разобраться с пропущенными значениями:\n",
    "    * вывести сколько пропущенных значений в процентах есть в каждой переменной;\n",
    "    * удалить переменные, которые имеют более 60% пропущенных значений.\n",
    "3. Сколько магазинов и отделов присутствует в выборке, за какой период времени у нас имеются данные? \n",
    "4. Посмотреть динамику продаж в магазинах walmart в целом. Для этого можно построить график, где по оси X будет дата, а по оси Y продажи всей сети Walmart.\n",
    "5. Найдите и нарисуйте матрицу корреляции для числовых показателей.\n",
    "6. Найдите топ-5 самых больших магазинов по суммарным продажам за все время и отобразите динамику их продаж на одном графике.\n",
    "7. Найдите топ-10 самых больших отделов по суммарным продажам за 2011 год среди магазинов с типом А и нарисуйте столбчатую диаграмму для них"
   ]
  },
  {
   "cell_type": "code",
   "execution_count": 2,
   "metadata": {},
   "outputs": [
    {
     "output_type": "execute_result",
     "data": {
      "text/plain": "   Store       Date  Dept  Weekly_Sales  IsHoliday Type    Size  Temperature  \\\n0      1 2010-02-05     1      24924.50      False    A  151315        42.31   \n1      1 2010-02-12     1      46039.49       True    A  151315        38.51   \n2      1 2010-02-19     1      41595.55      False    A  151315        39.93   \n3      1 2010-02-26     1      19403.54      False    A  151315        46.63   \n4      1 2010-03-05     1      21827.90      False    A  151315        46.50   \n\n   Fuel_Price  MarkDown1  MarkDown2  MarkDown3  MarkDown4  MarkDown5  \\\n0       2.572        NaN        NaN        NaN        NaN        NaN   \n1       2.548        NaN        NaN        NaN        NaN        NaN   \n2       2.514        NaN        NaN        NaN        NaN        NaN   \n3       2.561        NaN        NaN        NaN        NaN        NaN   \n4       2.625        NaN        NaN        NaN        NaN        NaN   \n\n          CPI  Unemployment  \n0  211.096358         8.106  \n1  211.242170         8.106  \n2  211.289143         8.106  \n3  211.319643         8.106  \n4  211.350143         8.106  ",
      "text/html": "<div>\n<style scoped>\n    .dataframe tbody tr th:only-of-type {\n        vertical-align: middle;\n    }\n\n    .dataframe tbody tr th {\n        vertical-align: top;\n    }\n\n    .dataframe thead th {\n        text-align: right;\n    }\n</style>\n<table border=\"1\" class=\"dataframe\">\n  <thead>\n    <tr style=\"text-align: right;\">\n      <th></th>\n      <th>Store</th>\n      <th>Date</th>\n      <th>Dept</th>\n      <th>Weekly_Sales</th>\n      <th>IsHoliday</th>\n      <th>Type</th>\n      <th>Size</th>\n      <th>Temperature</th>\n      <th>Fuel_Price</th>\n      <th>MarkDown1</th>\n      <th>MarkDown2</th>\n      <th>MarkDown3</th>\n      <th>MarkDown4</th>\n      <th>MarkDown5</th>\n      <th>CPI</th>\n      <th>Unemployment</th>\n    </tr>\n  </thead>\n  <tbody>\n    <tr>\n      <th>0</th>\n      <td>1</td>\n      <td>2010-02-05</td>\n      <td>1</td>\n      <td>24924.50</td>\n      <td>False</td>\n      <td>A</td>\n      <td>151315</td>\n      <td>42.31</td>\n      <td>2.572</td>\n      <td>NaN</td>\n      <td>NaN</td>\n      <td>NaN</td>\n      <td>NaN</td>\n      <td>NaN</td>\n      <td>211.096358</td>\n      <td>8.106</td>\n    </tr>\n    <tr>\n      <th>1</th>\n      <td>1</td>\n      <td>2010-02-12</td>\n      <td>1</td>\n      <td>46039.49</td>\n      <td>True</td>\n      <td>A</td>\n      <td>151315</td>\n      <td>38.51</td>\n      <td>2.548</td>\n      <td>NaN</td>\n      <td>NaN</td>\n      <td>NaN</td>\n      <td>NaN</td>\n      <td>NaN</td>\n      <td>211.242170</td>\n      <td>8.106</td>\n    </tr>\n    <tr>\n      <th>2</th>\n      <td>1</td>\n      <td>2010-02-19</td>\n      <td>1</td>\n      <td>41595.55</td>\n      <td>False</td>\n      <td>A</td>\n      <td>151315</td>\n      <td>39.93</td>\n      <td>2.514</td>\n      <td>NaN</td>\n      <td>NaN</td>\n      <td>NaN</td>\n      <td>NaN</td>\n      <td>NaN</td>\n      <td>211.289143</td>\n      <td>8.106</td>\n    </tr>\n    <tr>\n      <th>3</th>\n      <td>1</td>\n      <td>2010-02-26</td>\n      <td>1</td>\n      <td>19403.54</td>\n      <td>False</td>\n      <td>A</td>\n      <td>151315</td>\n      <td>46.63</td>\n      <td>2.561</td>\n      <td>NaN</td>\n      <td>NaN</td>\n      <td>NaN</td>\n      <td>NaN</td>\n      <td>NaN</td>\n      <td>211.319643</td>\n      <td>8.106</td>\n    </tr>\n    <tr>\n      <th>4</th>\n      <td>1</td>\n      <td>2010-03-05</td>\n      <td>1</td>\n      <td>21827.90</td>\n      <td>False</td>\n      <td>A</td>\n      <td>151315</td>\n      <td>46.50</td>\n      <td>2.625</td>\n      <td>NaN</td>\n      <td>NaN</td>\n      <td>NaN</td>\n      <td>NaN</td>\n      <td>NaN</td>\n      <td>211.350143</td>\n      <td>8.106</td>\n    </tr>\n  </tbody>\n</table>\n</div>"
     },
     "metadata": {},
     "execution_count": 2
    }
   ],
   "source": [
    "walmart = pd.read_csv('walmart.csv')\n",
    "walmart['Date'] = pd.to_datetime(walmart.Date)\n",
    "walmart.head()"
   ]
  },
  {
   "cell_type": "code",
   "execution_count": 8,
   "metadata": {},
   "outputs": [
    {
     "output_type": "execute_result",
     "data": {
      "text/plain": "418239"
     },
     "metadata": {},
     "execution_count": 8
    }
   ],
   "source": [
    "walmart.shape[0]"
   ]
  },
  {
   "cell_type": "code",
   "execution_count": null,
   "metadata": {},
   "outputs": [],
   "source": []
  },
  {
   "cell_type": "code",
   "execution_count": null,
   "metadata": {},
   "outputs": [],
   "source": [
    "walmart.tail()"
   ]
  },
  {
   "cell_type": "code",
   "execution_count": null,
   "metadata": {},
   "outputs": [],
   "source": [
    "walmart.info()"
   ]
  },
  {
   "cell_type": "code",
   "execution_count": null,
   "metadata": {},
   "outputs": [],
   "source": [
    "columns = ['Store' , 'Date', 'Dept','Weekly_Sales', 'IsHoliday', 'Type', 'Size', 'Temperature', 'Fuel_Price' , 'MarkDown1',\t'MarkDown2',\t'MarkDown3',\t'MarkDown4', 'MarkDown5', 'CPI',\t'Unemployment']\n",
    "emptiness = {}\n",
    "for column in columns:\n",
    "    emptiness[column] = 100 * walmart[column].isnull().sum() / 418239  \n",
    "emptiness"
   ]
  },
  {
   "cell_type": "code",
   "execution_count": null,
   "metadata": {},
   "outputs": [],
   "source": [
    "walmart.drop([ 'MarkDown1',\t'MarkDown2',\t'MarkDown3',\t'MarkDown4', 'MarkDown5'], axis='columns', inplace=True)\n",
    "walmart.head()"
   ]
  },
  {
   "cell_type": "code",
   "execution_count": null,
   "metadata": {},
   "outputs": [],
   "source": [
    "walmart['Store'].min(), walmart['Store'].max(), len(set(walmart['Store'])) # всего 45 магазинов"
   ]
  },
  {
   "cell_type": "code",
   "execution_count": null,
   "metadata": {},
   "outputs": [],
   "source": [
    "walmart['Dept'].min(), walmart['Dept'].max(), len(set(walmart['Dept'])) # всего отделов 81, какие-то отделы пропущены "
   ]
  },
  {
   "cell_type": "code",
   "execution_count": null,
   "metadata": {},
   "outputs": [],
   "source": [
    "walmart['Date'].min(), walmart['Date'].max()"
   ]
  },
  {
   "cell_type": "code",
   "execution_count": null,
   "metadata": {},
   "outputs": [],
   "source": [
    "df = walmart[['Date', 'Weekly_Sales']]\n",
    "per = df.Date.dt.to_period(\"M\")\n",
    "df = df.groupby(per)\n",
    "df_grouped = df['Weekly_Sales'].agg(np.sum)"
   ]
  },
  {
   "cell_type": "code",
   "execution_count": null,
   "metadata": {},
   "outputs": [],
   "source": [
    "new = pd.DataFrame(df_grouped)\n",
    "new.columns = ['Sales']"
   ]
  },
  {
   "cell_type": "code",
   "execution_count": null,
   "metadata": {},
   "outputs": [],
   "source": [
    "new.head()"
   ]
  },
  {
   "cell_type": "code",
   "execution_count": null,
   "metadata": {},
   "outputs": [],
   "source": [
    "new.plot()"
   ]
  },
  {
   "cell_type": "code",
   "execution_count": null,
   "metadata": {},
   "outputs": [],
   "source": [
    "values = walmart[['Weekly_Sales', 'Size', 'Temperature', 'Fuel_Price', 'CPI', 'Unemployment']]\n",
    "values"
   ]
  },
  {
   "cell_type": "code",
   "execution_count": null,
   "metadata": {},
   "outputs": [],
   "source": [
    "fig = plt.gcf()\n",
    "fig.set_size_inches(12, 10)\n",
    "sns.heatmap(values.corr(), annot = True,  cbar=False, )\n",
    "plt.show()"
   ]
  },
  {
   "cell_type": "code",
   "execution_count": null,
   "metadata": {},
   "outputs": [],
   "source": [
    "stores = walmart[['Store', 'Weekly_Sales']].groupby('Store')\n",
    "stores_grouped = stores['Weekly_Sales'].agg(np.sum)\n",
    "stores_grouped.sort_values(ascending=False).head()"
   ]
  },
  {
   "cell_type": "code",
   "execution_count": null,
   "metadata": {},
   "outputs": [],
   "source": [
    "shops = [20, 4, 14, 13, 2]"
   ]
  },
  {
   "cell_type": "code",
   "execution_count": null,
   "metadata": {},
   "outputs": [],
   "source": [
    "new_df = walmart[['Store', 'Date', 'Weekly_Sales']]"
   ]
  },
  {
   "cell_type": "code",
   "execution_count": null,
   "metadata": {},
   "outputs": [],
   "source": [
    "fig = plt.gcf()\n",
    "fig.set_size_inches(12, 8)\n",
    "for shop in shops:\n",
    "    p = new_df[new_df['Store']==shop].groupby('Date')\n",
    "    pp = p['Weekly_Sales'].agg(np.sum)\n",
    "    pp.plot()\n",
    "plt.xlabel('Date')\n",
    "plt.ylabel('Sales')\n",
    "plt.legend(labels=['Dept 20', ' Dept4', ' Dept 14', 'Dept 13', 'Dept 2'])"
   ]
  },
  {
   "cell_type": "code",
   "execution_count": null,
   "metadata": {},
   "outputs": [],
   "source": [
    "walmart['Year'] = pd.DatetimeIndex(walmart['Date']).year\n",
    "df_sorted = walmart[(walmart['Year']==2011) & (walmart['Type']=='A')]\n",
    "df_sorted[0: 5]"
   ]
  },
  {
   "cell_type": "code",
   "execution_count": null,
   "metadata": {},
   "outputs": [],
   "source": [
    "grop = df_sorted[['Dept', 'Weekly_Sales']].groupby('Dept')\n",
    "grouped = grop['Weekly_Sales'].agg(np.sum)\n",
    "gist = pd.DataFrame(grouped.sort_values(ascending=False).head(10))"
   ]
  },
  {
   "cell_type": "code",
   "execution_count": null,
   "metadata": {},
   "outputs": [],
   "source": [
    "gist"
   ]
  },
  {
   "cell_type": "code",
   "execution_count": null,
   "metadata": {},
   "outputs": [],
   "source": [
    "gist.plot.bar()"
   ]
  },
  {
   "cell_type": "code",
   "execution_count": null,
   "metadata": {},
   "outputs": [],
   "source": []
  },
  {
   "cell_type": "markdown",
   "metadata": {},
   "source": [
    "## 5. Парадокс дней рождений (30 баллов)"
   ]
  },
  {
   "cell_type": "markdown",
   "metadata": {},
   "source": [
    "Прочитайте на википедии про [парадокс дней рождений](https://ru.wikipedia.org/wiki/Парадокс_дней_рождения). В этой задаче нам предстоит его проверить. Итак, в произвольной группе из  $50$ человек вероятность того, что хотя бы у двоих людей дни рождения совпадут, равна  $0.97$. Но это всё только в теории. При решении задачи мы предполагаем, что рождения людей равномерно распределены в течение года. Однако на практике это может быть не так. В связи с этим реальная вероятность может отличаться от теоретической.\n",
    "\n",
    "В этой задачке вам предстоит проверить парадокс дней рождений на эмпирических данных. От вас требуется:\n",
    "1. Выбрать какое-то большое сообщество в Vk. С помощью VkAPI выкачать инфорацию по ее подписчикам (самое главное это дата рождения, а также id пользователя, который будет его характеризовать. Не оставляйте свой токен \n",
    "2. Удалите из данных всех, кто не указал когда он родился. Приведите колонку с датами рождений к удобному, однообразному виду.\n",
    "3. Постройте гистограмму, на которой было бы понятно, в какой месяц родилось какое количество людей. Правда ли, что рождаемость людей в течение года распределена равномерно?\n",
    "4. Эмпирически оцените вероятность того, что в группе из 50 произвольных людей найдутся хотя бы двое с одинаковым днём рождения. Для этого напишите цикл, в ходе которого из таблички будет делаться подвыборка из 50 строк. Для этих 50 строк внутри условия вы должны проверить совпадение дней рождений. Если совпало, то нужно запомнить это в переменную счётчик, которую вы впоследствии, чтобы получить вероятность, поделите на длину цикла.\n",
    "\n",
    "**Обратите внимание, что часто придётся прогонять один и тот же код. Не надо его копировать. Оформите его в виде функции.** "
   ]
  },
  {
   "cell_type": "code",
   "execution_count": null,
   "metadata": {},
   "outputs": [],
   "source": [
    "def get_group_members(group_id, offset, token):\n",
    "    url = f\"https://api.vk.com/method/groups.getMembers?group_id={group_id}&v=5.22&offset={offset}&count=1000&fields=bdate&access_token={token}\"\n",
    "    response = requests.get(url) \n",
    "    return response.json()"
   ]
  },
  {
   "cell_type": "code",
   "execution_count": null,
   "metadata": {},
   "outputs": [],
   "source": [
    "group_id = '63731512'\n",
    "with open('my_token.txt') as f:\n",
    "    token = f.read().rstrip()\n",
    "offset = 100"
   ]
  },
  {
   "cell_type": "code",
   "execution_count": null,
   "metadata": {},
   "outputs": [],
   "source": [
    "wall = get_group_members(group_id, offset, token)"
   ]
  },
  {
   "cell_type": "code",
   "execution_count": null,
   "metadata": {},
   "outputs": [],
   "source": [
    "import time\n",
    "members = [ ] \n",
    "for offset in range(0, 10000, 1000):  \n",
    "    time.sleep(0.4) \n",
    "\n",
    "    wall = get_group_members(group_id, offset, token)\n",
    "    members.extend([item for item in wall['response']['items']])\n",
    "ddf = pd.DataFrame(members)"
   ]
  },
  {
   "cell_type": "code",
   "execution_count": null,
   "metadata": {},
   "outputs": [],
   "source": [
    "ddf.drop(['first_name',\t'last_name',\t'deactivated'], axis='columns', inplace=True)\n",
    "ddf['bdate'] = pd.to_datetime(ddf['bdate'], errors='coerce')\n",
    "ddf = ddf.dropna(subset=['bdate'])"
   ]
  },
  {
   "cell_type": "code",
   "execution_count": null,
   "metadata": {},
   "outputs": [],
   "source": [
    "ddf"
   ]
  },
  {
   "cell_type": "code",
   "execution_count": null,
   "metadata": {},
   "outputs": [],
   "source": [
    "ddf['month'] = pd.DatetimeIndex(ddf['bdate']).month"
   ]
  },
  {
   "cell_type": "code",
   "execution_count": null,
   "metadata": {},
   "outputs": [],
   "source": [
    "ddf"
   ]
  },
  {
   "cell_type": "code",
   "execution_count": null,
   "metadata": {},
   "outputs": [],
   "source": [
    "people = ddf[['month', 'id']].groupby('month')\n",
    "people_grouped = people['id'].agg('count')"
   ]
  },
  {
   "cell_type": "code",
   "execution_count": null,
   "metadata": {},
   "outputs": [],
   "source": [
    "people_grouped.plot.bar() # примерно равномерно "
   ]
  },
  {
   "cell_type": "code",
   "execution_count": null,
   "metadata": {},
   "outputs": [],
   "source": [
    "ddf.loc[10: 20]"
   ]
  },
  {
   "cell_type": "code",
   "execution_count": null,
   "metadata": {},
   "outputs": [],
   "source": [
    "count = 0\n",
    "for i in range(0, 500000):\n",
    "    p = ddf.sample(50) \n",
    "    k = p[['bdate', 'id']].groupby('bdate')\n",
    "    k_grouped = people['id'].agg('count')\n",
    "    if  k_grouped[k_grouped > 1].count() > 0:\n",
    "        count += 1\n",
    "prob = count / 500000\n",
    "prob"
   ]
  },
  {
   "cell_type": "code",
   "execution_count": 20,
   "metadata": {},
   "outputs": [],
   "source": [
    "import numpy as np\n",
    "import matplotlib.pyplot as plt\n",
    "import seaborn as sns \n",
    "plt.style.use('ggplot')"
   ]
  },
  {
   "cell_type": "code",
   "execution_count": 11,
   "metadata": {},
   "outputs": [],
   "source": [
    "n = np.random.normal(0, 1, 100000)\n"
   ]
  },
  {
   "cell_type": "code",
   "execution_count": 21,
   "metadata": {},
   "outputs": [
    {
     "output_type": "display_data",
     "data": {
      "text/plain": "<Figure size 432x288 with 1 Axes>",
      "image/svg+xml": "<?xml version=\"1.0\" encoding=\"utf-8\" standalone=\"no\"?>\n<!DOCTYPE svg PUBLIC \"-//W3C//DTD SVG 1.1//EN\"\n  \"http://www.w3.org/Graphics/SVG/1.1/DTD/svg11.dtd\">\n<!-- Created with matplotlib (https://matplotlib.org/) -->\n<svg height=\"231.84pt\" version=\"1.1\" viewBox=\"0 0 349.2 231.84\" width=\"349.2pt\" xmlns=\"http://www.w3.org/2000/svg\" xmlns:xlink=\"http://www.w3.org/1999/xlink\">\n <defs>\n  <style type=\"text/css\">\n*{stroke-linecap:butt;stroke-linejoin:round;}\n  </style>\n </defs>\n <g id=\"figure_1\">\n  <g id=\"patch_1\">\n   <path d=\"M 0 231.84 \nL 349.2 231.84 \nL 349.2 0 \nL 0 0 \nz\n\" style=\"fill:#ffffff;\"/>\n  </g>\n  <g id=\"axes_1\">\n   <g id=\"patch_2\">\n    <path clip-path=\"url(#p3383c23cc0)\" d=\"M 32.24086 224.64 \nL 35.404397 224.64 \nL 35.404397 224.589919 \nL 32.24086 224.589919 \nz\n\" style=\"fill:#e24a33;opacity:0.4;\"/>\n   </g>\n   <g id=\"patch_3\">\n    <path clip-path=\"url(#p3383c23cc0)\" d=\"M 35.404397 224.64 \nL 38.567933 224.64 \nL 38.567933 224.589919 \nL 35.404397 224.589919 \nz\n\" style=\"fill:#e24a33;opacity:0.4;\"/>\n   </g>\n   <g id=\"patch_4\">\n    <path clip-path=\"url(#p3383c23cc0)\" d=\"M 38.567933 224.64 \nL 41.73147 224.64 \nL 41.73147 224.539838 \nL 38.567933 224.539838 \nz\n\" style=\"fill:#e24a33;opacity:0.4;\"/>\n   </g>\n   <g id=\"patch_5\">\n    <path clip-path=\"url(#p3383c23cc0)\" d=\"M 41.73147 224.64 \nL 44.895006 224.64 \nL 44.895006 224.589919 \nL 41.73147 224.589919 \nz\n\" style=\"fill:#e24a33;opacity:0.4;\"/>\n   </g>\n   <g id=\"patch_6\">\n    <path clip-path=\"url(#p3383c23cc0)\" d=\"M 44.895006 224.64 \nL 48.058543 224.64 \nL 48.058543 224.64 \nL 44.895006 224.64 \nz\n\" style=\"fill:#e24a33;opacity:0.4;\"/>\n   </g>\n   <g id=\"patch_7\">\n    <path clip-path=\"url(#p3383c23cc0)\" d=\"M 48.058543 224.64 \nL 51.222079 224.64 \nL 51.222079 224.539838 \nL 48.058543 224.539838 \nz\n\" style=\"fill:#e24a33;opacity:0.4;\"/>\n   </g>\n   <g id=\"patch_8\">\n    <path clip-path=\"url(#p3383c23cc0)\" d=\"M 51.222079 224.64 \nL 54.385615 224.64 \nL 54.385615 224.539838 \nL 51.222079 224.539838 \nz\n\" style=\"fill:#e24a33;opacity:0.4;\"/>\n   </g>\n   <g id=\"patch_9\">\n    <path clip-path=\"url(#p3383c23cc0)\" d=\"M 54.385615 224.64 \nL 57.549152 224.64 \nL 57.549152 224.289432 \nL 54.385615 224.289432 \nz\n\" style=\"fill:#e24a33;opacity:0.4;\"/>\n   </g>\n   <g id=\"patch_10\">\n    <path clip-path=\"url(#p3383c23cc0)\" d=\"M 57.549152 224.64 \nL 60.712688 224.64 \nL 60.712688 224.089107 \nL 57.549152 224.089107 \nz\n\" style=\"fill:#e24a33;opacity:0.4;\"/>\n   </g>\n   <g id=\"patch_11\">\n    <path clip-path=\"url(#p3383c23cc0)\" d=\"M 60.712688 224.64 \nL 63.876225 224.64 \nL 63.876225 223.938863 \nL 60.712688 223.938863 \nz\n\" style=\"fill:#e24a33;opacity:0.4;\"/>\n   </g>\n   <g id=\"patch_12\">\n    <path clip-path=\"url(#p3383c23cc0)\" d=\"M 63.876225 224.64 \nL 67.039761 224.64 \nL 67.039761 223.638376 \nL 63.876225 223.638376 \nz\n\" style=\"fill:#e24a33;opacity:0.4;\"/>\n   </g>\n   <g id=\"patch_13\">\n    <path clip-path=\"url(#p3383c23cc0)\" d=\"M 67.039761 224.64 \nL 70.203298 224.64 \nL 70.203298 223.488133 \nL 67.039761 223.488133 \nz\n\" style=\"fill:#e24a33;opacity:0.4;\"/>\n   </g>\n   <g id=\"patch_14\">\n    <path clip-path=\"url(#p3383c23cc0)\" d=\"M 70.203298 224.64 \nL 73.366834 224.64 \nL 73.366834 222.887158 \nL 70.203298 222.887158 \nz\n\" style=\"fill:#e24a33;opacity:0.4;\"/>\n   </g>\n   <g id=\"patch_15\">\n    <path clip-path=\"url(#p3383c23cc0)\" d=\"M 73.366834 224.64 \nL 76.53037 224.64 \nL 76.53037 222.53659 \nL 73.366834 222.53659 \nz\n\" style=\"fill:#e24a33;opacity:0.4;\"/>\n   </g>\n   <g id=\"patch_16\">\n    <path clip-path=\"url(#p3383c23cc0)\" d=\"M 76.53037 224.64 \nL 79.693907 224.64 \nL 79.693907 222.035778 \nL 76.53037 222.035778 \nz\n\" style=\"fill:#e24a33;opacity:0.4;\"/>\n   </g>\n   <g id=\"patch_17\">\n    <path clip-path=\"url(#p3383c23cc0)\" d=\"M 79.693907 224.64 \nL 82.857443 224.64 \nL 82.857443 220.483261 \nL 79.693907 220.483261 \nz\n\" style=\"fill:#e24a33;opacity:0.4;\"/>\n   </g>\n   <g id=\"patch_18\">\n    <path clip-path=\"url(#p3383c23cc0)\" d=\"M 82.857443 224.64 \nL 86.02098 224.64 \nL 86.02098 219.481638 \nL 82.857443 219.481638 \nz\n\" style=\"fill:#e24a33;opacity:0.4;\"/>\n   </g>\n   <g id=\"patch_19\">\n    <path clip-path=\"url(#p3383c23cc0)\" d=\"M 86.02098 224.64 \nL 89.184516 224.64 \nL 89.184516 216.877416 \nL 86.02098 216.877416 \nz\n\" style=\"fill:#e24a33;opacity:0.4;\"/>\n   </g>\n   <g id=\"patch_20\">\n    <path clip-path=\"url(#p3383c23cc0)\" d=\"M 89.184516 224.64 \nL 92.348053 224.64 \nL 92.348053 213.722301 \nL 89.184516 213.722301 \nz\n\" style=\"fill:#e24a33;opacity:0.4;\"/>\n   </g>\n   <g id=\"patch_21\">\n    <path clip-path=\"url(#p3383c23cc0)\" d=\"M 92.348053 224.64 \nL 95.511589 224.64 \nL 95.511589 212.019541 \nL 92.348053 212.019541 \nz\n\" style=\"fill:#e24a33;opacity:0.4;\"/>\n   </g>\n   <g id=\"patch_22\">\n    <path clip-path=\"url(#p3383c23cc0)\" d=\"M 95.511589 224.64 \nL 98.675126 224.64 \nL 98.675126 210.517105 \nL 95.511589 210.517105 \nz\n\" style=\"fill:#e24a33;opacity:0.4;\"/>\n   </g>\n   <g id=\"patch_23\">\n    <path clip-path=\"url(#p3383c23cc0)\" d=\"M 98.675126 224.64 \nL 101.838662 224.64 \nL 101.838662 206.460529 \nL 98.675126 206.460529 \nz\n\" style=\"fill:#e24a33;opacity:0.4;\"/>\n   </g>\n   <g id=\"patch_24\">\n    <path clip-path=\"url(#p3383c23cc0)\" d=\"M 101.838662 224.64 \nL 105.002198 224.64 \nL 105.002198 199.248837 \nL 101.838662 199.248837 \nz\n\" style=\"fill:#e24a33;opacity:0.4;\"/>\n   </g>\n   <g id=\"patch_25\">\n    <path clip-path=\"url(#p3383c23cc0)\" d=\"M 105.002198 224.64 \nL 108.165735 224.64 \nL 108.165735 195.642992 \nL 105.002198 195.642992 \nz\n\" style=\"fill:#e24a33;opacity:0.4;\"/>\n   </g>\n   <g id=\"patch_26\">\n    <path clip-path=\"url(#p3383c23cc0)\" d=\"M 108.165735 224.64 \nL 111.329271 224.64 \nL 111.329271 189.883655 \nL 108.165735 189.883655 \nz\n\" style=\"fill:#e24a33;opacity:0.4;\"/>\n   </g>\n   <g id=\"patch_27\">\n    <path clip-path=\"url(#p3383c23cc0)\" d=\"M 111.329271 224.64 \nL 114.492808 224.64 \nL 114.492808 180.368229 \nL 111.329271 180.368229 \nz\n\" style=\"fill:#e24a33;opacity:0.4;\"/>\n   </g>\n   <g id=\"patch_28\">\n    <path clip-path=\"url(#p3383c23cc0)\" d=\"M 114.492808 224.64 \nL 117.656344 224.64 \nL 117.656344 172.40532 \nL 114.492808 172.40532 \nz\n\" style=\"fill:#e24a33;opacity:0.4;\"/>\n   </g>\n   <g id=\"patch_29\">\n    <path clip-path=\"url(#p3383c23cc0)\" d=\"M 117.656344 224.64 \nL 120.819881 224.64 \nL 120.819881 163.891518 \nL 117.656344 163.891518 \nz\n\" style=\"fill:#e24a33;opacity:0.4;\"/>\n   </g>\n   <g id=\"patch_30\">\n    <path clip-path=\"url(#p3383c23cc0)\" d=\"M 120.819881 224.64 \nL 123.983417 224.64 \nL 123.983417 155.177392 \nL 120.819881 155.177392 \nz\n\" style=\"fill:#e24a33;opacity:0.4;\"/>\n   </g>\n   <g id=\"patch_31\">\n    <path clip-path=\"url(#p3383c23cc0)\" d=\"M 123.983417 224.64 \nL 127.146953 224.64 \nL 127.146953 145.01091 \nL 123.983417 145.01091 \nz\n\" style=\"fill:#e24a33;opacity:0.4;\"/>\n   </g>\n   <g id=\"patch_32\">\n    <path clip-path=\"url(#p3383c23cc0)\" d=\"M 127.146953 224.64 \nL 130.31049 224.64 \nL 130.31049 131.739395 \nL 127.146953 131.739395 \nz\n\" style=\"fill:#e24a33;opacity:0.4;\"/>\n   </g>\n   <g id=\"patch_33\">\n    <path clip-path=\"url(#p3383c23cc0)\" d=\"M 130.31049 224.64 \nL 133.474026 224.64 \nL 133.474026 118.117312 \nL 130.31049 118.117312 \nz\n\" style=\"fill:#e24a33;opacity:0.4;\"/>\n   </g>\n   <g id=\"patch_34\">\n    <path clip-path=\"url(#p3383c23cc0)\" d=\"M 133.474026 224.64 \nL 136.637563 224.64 \nL 136.637563 101.039627 \nL 133.474026 101.039627 \nz\n\" style=\"fill:#e24a33;opacity:0.4;\"/>\n   </g>\n   <g id=\"patch_35\">\n    <path clip-path=\"url(#p3383c23cc0)\" d=\"M 136.637563 224.64 \nL 139.801099 224.64 \nL 139.801099 98.285162 \nL 136.637563 98.285162 \nz\n\" style=\"fill:#e24a33;opacity:0.4;\"/>\n   </g>\n   <g id=\"patch_36\">\n    <path clip-path=\"url(#p3383c23cc0)\" d=\"M 139.801099 224.64 \nL 142.964636 224.64 \nL 142.964636 83.561292 \nL 139.801099 83.561292 \nz\n\" style=\"fill:#e24a33;opacity:0.4;\"/>\n   </g>\n   <g id=\"patch_37\">\n    <path clip-path=\"url(#p3383c23cc0)\" d=\"M 142.964636 224.64 \nL 146.128172 224.64 \nL 146.128172 69.839046 \nL 142.964636 69.839046 \nz\n\" style=\"fill:#e24a33;opacity:0.4;\"/>\n   </g>\n   <g id=\"patch_38\">\n    <path clip-path=\"url(#p3383c23cc0)\" d=\"M 146.128172 224.64 \nL 149.291709 224.64 \nL 149.291709 56.717775 \nL 146.128172 56.717775 \nz\n\" style=\"fill:#e24a33;opacity:0.4;\"/>\n   </g>\n   <g id=\"patch_39\">\n    <path clip-path=\"url(#p3383c23cc0)\" d=\"M 149.291709 224.64 \nL 152.455245 224.64 \nL 152.455245 49.706409 \nL 149.291709 49.706409 \nz\n\" style=\"fill:#e24a33;opacity:0.4;\"/>\n   </g>\n   <g id=\"patch_40\">\n    <path clip-path=\"url(#p3383c23cc0)\" d=\"M 152.455245 224.64 \nL 155.618781 224.64 \nL 155.618781 42.19423 \nL 152.455245 42.19423 \nz\n\" style=\"fill:#e24a33;opacity:0.4;\"/>\n   </g>\n   <g id=\"patch_41\">\n    <path clip-path=\"url(#p3383c23cc0)\" d=\"M 155.618781 224.64 \nL 158.782318 224.64 \nL 158.782318 31.827424 \nL 155.618781 31.827424 \nz\n\" style=\"fill:#e24a33;opacity:0.4;\"/>\n   </g>\n   <g id=\"patch_42\">\n    <path clip-path=\"url(#p3383c23cc0)\" d=\"M 158.782318 224.64 \nL 161.945854 224.64 \nL 161.945854 22.762729 \nL 158.782318 22.762729 \nz\n\" style=\"fill:#e24a33;opacity:0.4;\"/>\n   </g>\n   <g id=\"patch_43\">\n    <path clip-path=\"url(#p3383c23cc0)\" d=\"M 161.945854 224.64 \nL 165.109391 224.64 \nL 165.109391 17.554286 \nL 161.945854 17.554286 \nz\n\" style=\"fill:#e24a33;opacity:0.4;\"/>\n   </g>\n   <g id=\"patch_44\">\n    <path clip-path=\"url(#p3383c23cc0)\" d=\"M 165.109391 224.64 \nL 168.272927 224.64 \nL 168.272927 21.260294 \nL 165.109391 21.260294 \nz\n\" style=\"fill:#e24a33;opacity:0.4;\"/>\n   </g>\n   <g id=\"patch_45\">\n    <path clip-path=\"url(#p3383c23cc0)\" d=\"M 168.272927 224.64 \nL 171.436464 224.64 \nL 171.436464 21.96143 \nL 168.272927 21.96143 \nz\n\" style=\"fill:#e24a33;opacity:0.4;\"/>\n   </g>\n   <g id=\"patch_46\">\n    <path clip-path=\"url(#p3383c23cc0)\" d=\"M 171.436464 224.64 \nL 174.6 224.64 \nL 174.6 22.111674 \nL 171.436464 22.111674 \nz\n\" style=\"fill:#e24a33;opacity:0.4;\"/>\n   </g>\n   <g id=\"patch_47\">\n    <path clip-path=\"url(#p3383c23cc0)\" d=\"M 174.6 224.64 \nL 177.763536 224.64 \nL 177.763536 29.673933 \nL 174.6 29.673933 \nz\n\" style=\"fill:#e24a33;opacity:0.4;\"/>\n   </g>\n   <g id=\"patch_48\">\n    <path clip-path=\"url(#p3383c23cc0)\" d=\"M 177.763536 224.64 \nL 180.927073 224.64 \nL 180.927073 33.029373 \nL 177.763536 33.029373 \nz\n\" style=\"fill:#e24a33;opacity:0.4;\"/>\n   </g>\n   <g id=\"patch_49\">\n    <path clip-path=\"url(#p3383c23cc0)\" d=\"M 180.927073 224.64 \nL 184.090609 224.64 \nL 184.090609 43.746747 \nL 180.927073 43.746747 \nz\n\" style=\"fill:#e24a33;opacity:0.4;\"/>\n   </g>\n   <g id=\"patch_50\">\n    <path clip-path=\"url(#p3383c23cc0)\" d=\"M 184.090609 224.64 \nL 187.254146 224.64 \nL 187.254146 52.310631 \nL 184.090609 52.310631 \nz\n\" style=\"fill:#e24a33;opacity:0.4;\"/>\n   </g>\n   <g id=\"patch_51\">\n    <path clip-path=\"url(#p3383c23cc0)\" d=\"M 187.254146 224.64 \nL 190.417682 224.64 \nL 190.417682 63.628979 \nL 187.254146 63.628979 \nz\n\" style=\"fill:#e24a33;opacity:0.4;\"/>\n   </g>\n   <g id=\"patch_52\">\n    <path clip-path=\"url(#p3383c23cc0)\" d=\"M 190.417682 224.64 \nL 193.581219 224.64 \nL 193.581219 77.801955 \nL 190.417682 77.801955 \nz\n\" style=\"fill:#e24a33;opacity:0.4;\"/>\n   </g>\n   <g id=\"patch_53\">\n    <path clip-path=\"url(#p3383c23cc0)\" d=\"M 193.581219 224.64 \nL 196.744755 224.64 \nL 196.744755 86.716407 \nL 193.581219 86.716407 \nz\n\" style=\"fill:#e24a33;opacity:0.4;\"/>\n   </g>\n   <g id=\"patch_54\">\n    <path clip-path=\"url(#p3383c23cc0)\" d=\"M 196.744755 224.64 \nL 199.908291 224.64 \nL 199.908291 100.388571 \nL 196.744755 100.388571 \nz\n\" style=\"fill:#e24a33;opacity:0.4;\"/>\n   </g>\n   <g id=\"patch_55\">\n    <path clip-path=\"url(#p3383c23cc0)\" d=\"M 199.908291 224.64 \nL 203.071828 224.64 \nL 203.071828 110.85554 \nL 199.908291 110.85554 \nz\n\" style=\"fill:#e24a33;opacity:0.4;\"/>\n   </g>\n   <g id=\"patch_56\">\n    <path clip-path=\"url(#p3383c23cc0)\" d=\"M 203.071828 224.64 \nL 206.235364 224.64 \nL 206.235364 126.831439 \nL 203.071828 126.831439 \nz\n\" style=\"fill:#e24a33;opacity:0.4;\"/>\n   </g>\n   <g id=\"patch_57\">\n    <path clip-path=\"url(#p3383c23cc0)\" d=\"M 206.235364 224.64 \nL 209.398901 224.64 \nL 209.398901 136.497108 \nL 206.235364 136.497108 \nz\n\" style=\"fill:#e24a33;opacity:0.4;\"/>\n   </g>\n   <g id=\"patch_58\">\n    <path clip-path=\"url(#p3383c23cc0)\" d=\"M 209.398901 224.64 \nL 212.562437 224.64 \nL 212.562437 149.317893 \nL 209.398901 149.317893 \nz\n\" style=\"fill:#e24a33;opacity:0.4;\"/>\n   </g>\n   <g id=\"patch_59\">\n    <path clip-path=\"url(#p3383c23cc0)\" d=\"M 212.562437 224.64 \nL 215.725974 224.64 \nL 215.725974 163.190382 \nL 212.562437 163.190382 \nz\n\" style=\"fill:#e24a33;opacity:0.4;\"/>\n   </g>\n   <g id=\"patch_60\">\n    <path clip-path=\"url(#p3383c23cc0)\" d=\"M 215.725974 224.64 \nL 218.88951 224.64 \nL 218.88951 163.641112 \nL 215.725974 163.641112 \nz\n\" style=\"fill:#e24a33;opacity:0.4;\"/>\n   </g>\n   <g id=\"patch_61\">\n    <path clip-path=\"url(#p3383c23cc0)\" d=\"M 218.88951 224.64 \nL 222.053047 224.64 \nL 222.053047 178.014414 \nL 218.88951 178.014414 \nz\n\" style=\"fill:#e24a33;opacity:0.4;\"/>\n   </g>\n   <g id=\"patch_62\">\n    <path clip-path=\"url(#p3383c23cc0)\" d=\"M 222.053047 224.64 \nL 225.216583 224.64 \nL 225.216583 184.024156 \nL 222.053047 184.024156 \nz\n\" style=\"fill:#e24a33;opacity:0.4;\"/>\n   </g>\n   <g id=\"patch_63\">\n    <path clip-path=\"url(#p3383c23cc0)\" d=\"M 225.216583 224.64 \nL 228.380119 224.64 \nL 228.380119 193.639744 \nL 225.216583 193.639744 \nz\n\" style=\"fill:#e24a33;opacity:0.4;\"/>\n   </g>\n   <g id=\"patch_64\">\n    <path clip-path=\"url(#p3383c23cc0)\" d=\"M 228.380119 224.64 \nL 231.543656 224.64 \nL 231.543656 197.746402 \nL 228.380119 197.746402 \nz\n\" style=\"fill:#e24a33;opacity:0.4;\"/>\n   </g>\n   <g id=\"patch_65\">\n    <path clip-path=\"url(#p3383c23cc0)\" d=\"M 231.543656 224.64 \nL 234.707192 224.64 \nL 234.707192 202.053384 \nL 231.543656 202.053384 \nz\n\" style=\"fill:#e24a33;opacity:0.4;\"/>\n   </g>\n   <g id=\"patch_66\">\n    <path clip-path=\"url(#p3383c23cc0)\" d=\"M 234.707192 224.64 \nL 237.870729 224.64 \nL 237.870729 208.313533 \nL 234.707192 208.313533 \nz\n\" style=\"fill:#e24a33;opacity:0.4;\"/>\n   </g>\n   <g id=\"patch_67\">\n    <path clip-path=\"url(#p3383c23cc0)\" d=\"M 237.870729 224.64 \nL 241.034265 224.64 \nL 241.034265 211.16816 \nL 237.870729 211.16816 \nz\n\" style=\"fill:#e24a33;opacity:0.4;\"/>\n   </g>\n   <g id=\"patch_68\">\n    <path clip-path=\"url(#p3383c23cc0)\" d=\"M 241.034265 224.64 \nL 244.197802 224.64 \nL 244.197802 214.373356 \nL 241.034265 214.373356 \nz\n\" style=\"fill:#e24a33;opacity:0.4;\"/>\n   </g>\n   <g id=\"patch_69\">\n    <path clip-path=\"url(#p3383c23cc0)\" d=\"M 244.197802 224.64 \nL 247.361338 224.64 \nL 247.361338 216.677091 \nL 244.197802 216.677091 \nz\n\" style=\"fill:#e24a33;opacity:0.4;\"/>\n   </g>\n   <g id=\"patch_70\">\n    <path clip-path=\"url(#p3383c23cc0)\" d=\"M 247.361338 224.64 \nL 250.524874 224.64 \nL 250.524874 218.229608 \nL 247.361338 218.229608 \nz\n\" style=\"fill:#e24a33;opacity:0.4;\"/>\n   </g>\n   <g id=\"patch_71\">\n    <path clip-path=\"url(#p3383c23cc0)\" d=\"M 250.524874 224.64 \nL 253.688411 224.64 \nL 253.688411 219.531719 \nL 250.524874 219.531719 \nz\n\" style=\"fill:#e24a33;opacity:0.4;\"/>\n   </g>\n   <g id=\"patch_72\">\n    <path clip-path=\"url(#p3383c23cc0)\" d=\"M 253.688411 224.64 \nL 256.851947 224.64 \nL 256.851947 220.984073 \nL 253.688411 220.984073 \nz\n\" style=\"fill:#e24a33;opacity:0.4;\"/>\n   </g>\n   <g id=\"patch_73\">\n    <path clip-path=\"url(#p3383c23cc0)\" d=\"M 256.851947 224.64 \nL 260.015484 224.64 \nL 260.015484 222.236103 \nL 256.851947 222.236103 \nz\n\" style=\"fill:#e24a33;opacity:0.4;\"/>\n   </g>\n   <g id=\"patch_74\">\n    <path clip-path=\"url(#p3383c23cc0)\" d=\"M 260.015484 224.64 \nL 263.17902 224.64 \nL 263.17902 222.786996 \nL 260.015484 222.786996 \nz\n\" style=\"fill:#e24a33;opacity:0.4;\"/>\n   </g>\n   <g id=\"patch_75\">\n    <path clip-path=\"url(#p3383c23cc0)\" d=\"M 263.17902 224.64 \nL 266.342557 224.64 \nL 266.342557 223.237727 \nL 263.17902 223.237727 \nz\n\" style=\"fill:#e24a33;opacity:0.4;\"/>\n   </g>\n   <g id=\"patch_76\">\n    <path clip-path=\"url(#p3383c23cc0)\" d=\"M 266.342557 224.64 \nL 269.506093 224.64 \nL 269.506093 223.287808 \nL 266.342557 223.287808 \nz\n\" style=\"fill:#e24a33;opacity:0.4;\"/>\n   </g>\n   <g id=\"patch_77\">\n    <path clip-path=\"url(#p3383c23cc0)\" d=\"M 269.506093 224.64 \nL 272.66963 224.64 \nL 272.66963 223.588295 \nL 269.506093 223.588295 \nz\n\" style=\"fill:#e24a33;opacity:0.4;\"/>\n   </g>\n   <g id=\"patch_78\">\n    <path clip-path=\"url(#p3383c23cc0)\" d=\"M 272.66963 224.64 \nL 275.833166 224.64 \nL 275.833166 224.039026 \nL 272.66963 224.039026 \nz\n\" style=\"fill:#e24a33;opacity:0.4;\"/>\n   </g>\n   <g id=\"patch_79\">\n    <path clip-path=\"url(#p3383c23cc0)\" d=\"M 275.833166 224.64 \nL 278.996702 224.64 \nL 278.996702 224.089107 \nL 275.833166 224.089107 \nz\n\" style=\"fill:#e24a33;opacity:0.4;\"/>\n   </g>\n   <g id=\"patch_80\">\n    <path clip-path=\"url(#p3383c23cc0)\" d=\"M 278.996702 224.64 \nL 282.160239 224.64 \nL 282.160239 224.539838 \nL 278.996702 224.539838 \nz\n\" style=\"fill:#e24a33;opacity:0.4;\"/>\n   </g>\n   <g id=\"patch_81\">\n    <path clip-path=\"url(#p3383c23cc0)\" d=\"M 282.160239 224.64 \nL 285.323775 224.64 \nL 285.323775 224.539838 \nL 282.160239 224.539838 \nz\n\" style=\"fill:#e24a33;opacity:0.4;\"/>\n   </g>\n   <g id=\"patch_82\">\n    <path clip-path=\"url(#p3383c23cc0)\" d=\"M 285.323775 224.64 \nL 288.487312 224.64 \nL 288.487312 224.389594 \nL 285.323775 224.389594 \nz\n\" style=\"fill:#e24a33;opacity:0.4;\"/>\n   </g>\n   <g id=\"patch_83\">\n    <path clip-path=\"url(#p3383c23cc0)\" d=\"M 288.487312 224.64 \nL 291.650848 224.64 \nL 291.650848 224.539838 \nL 288.487312 224.539838 \nz\n\" style=\"fill:#e24a33;opacity:0.4;\"/>\n   </g>\n   <g id=\"patch_84\">\n    <path clip-path=\"url(#p3383c23cc0)\" d=\"M 291.650848 224.64 \nL 294.814385 224.64 \nL 294.814385 224.64 \nL 291.650848 224.64 \nz\n\" style=\"fill:#e24a33;opacity:0.4;\"/>\n   </g>\n   <g id=\"patch_85\">\n    <path clip-path=\"url(#p3383c23cc0)\" d=\"M 294.814385 224.64 \nL 297.977921 224.64 \nL 297.977921 224.64 \nL 294.814385 224.64 \nz\n\" style=\"fill:#e24a33;opacity:0.4;\"/>\n   </g>\n   <g id=\"patch_86\">\n    <path clip-path=\"url(#p3383c23cc0)\" d=\"M 297.977921 224.64 \nL 301.141457 224.64 \nL 301.141457 224.64 \nL 297.977921 224.64 \nz\n\" style=\"fill:#e24a33;opacity:0.4;\"/>\n   </g>\n   <g id=\"patch_87\">\n    <path clip-path=\"url(#p3383c23cc0)\" d=\"M 301.141457 224.64 \nL 304.304994 224.64 \nL 304.304994 224.64 \nL 301.141457 224.64 \nz\n\" style=\"fill:#e24a33;opacity:0.4;\"/>\n   </g>\n   <g id=\"patch_88\">\n    <path clip-path=\"url(#p3383c23cc0)\" d=\"M 304.304994 224.64 \nL 307.46853 224.64 \nL 307.46853 224.589919 \nL 304.304994 224.589919 \nz\n\" style=\"fill:#e24a33;opacity:0.4;\"/>\n   </g>\n   <g id=\"patch_89\">\n    <path clip-path=\"url(#p3383c23cc0)\" d=\"M 307.46853 224.64 \nL 310.632067 224.64 \nL 310.632067 224.64 \nL 307.46853 224.64 \nz\n\" style=\"fill:#e24a33;opacity:0.4;\"/>\n   </g>\n   <g id=\"patch_90\">\n    <path clip-path=\"url(#p3383c23cc0)\" d=\"M 310.632067 224.64 \nL 313.795603 224.64 \nL 313.795603 224.64 \nL 310.632067 224.64 \nz\n\" style=\"fill:#e24a33;opacity:0.4;\"/>\n   </g>\n   <g id=\"patch_91\">\n    <path clip-path=\"url(#p3383c23cc0)\" d=\"M 313.795603 224.64 \nL 316.95914 224.64 \nL 316.95914 224.589919 \nL 313.795603 224.589919 \nz\n\" style=\"fill:#e24a33;opacity:0.4;\"/>\n   </g>\n   <g id=\"line2d_1\">\n    <path clip-path=\"url(#p3383c23cc0)\" d=\"M 22.418182 224.639802 \nL 51.176951 224.517755 \nL 58.366643 224.139592 \nL 67.952899 223.435102 \nL 72.746027 222.844514 \nL 75.142591 222.454712 \nL 77.539155 221.834611 \nL 79.935719 220.9758 \nL 82.332283 219.959985 \nL 84.728848 218.70531 \nL 87.125412 217.104818 \nL 96.711668 209.802414 \nL 99.108232 207.137147 \nL 101.504796 203.480947 \nL 106.297924 195.139328 \nL 108.694488 190.577981 \nL 111.091052 185.158998 \nL 115.88418 172.724368 \nL 120.677309 159.931143 \nL 123.073873 152.613894 \nL 125.470437 144.06903 \nL 127.867001 134.460441 \nL 132.660129 114.388938 \nL 135.056693 105.487799 \nL 137.453257 97.44669 \nL 139.849821 88.963345 \nL 144.642949 70.315207 \nL 147.039513 61.745747 \nL 149.436077 54.021208 \nL 151.832641 46.941366 \nL 156.62577 33.865062 \nL 159.022334 28.012785 \nL 161.418898 23.428615 \nL 163.815462 20.889884 \nL 166.212026 20.454365 \nL 168.60859 21.279392 \nL 171.005154 22.721578 \nL 173.401718 24.981202 \nL 175.798282 28.306762 \nL 178.194846 32.617892 \nL 180.59141 38.23933 \nL 182.987974 45.280528 \nL 187.781102 60.882687 \nL 192.57423 78.025716 \nL 197.367359 95.951903 \nL 206.953615 134.099066 \nL 211.746743 151.666316 \nL 214.143307 158.988299 \nL 218.936435 171.643817 \nL 221.332999 178.574817 \nL 223.729563 185.017241 \nL 226.126127 190.479093 \nL 228.522691 195.020155 \nL 233.31582 202.825027 \nL 235.712384 206.395024 \nL 238.108948 209.502056 \nL 240.505512 212.119107 \nL 242.902076 214.270863 \nL 245.29864 215.998742 \nL 247.695204 217.4177 \nL 252.488332 219.818063 \nL 254.884896 220.856579 \nL 257.28146 221.689261 \nL 259.678024 222.299257 \nL 262.074588 222.75311 \nL 264.471152 223.086171 \nL 278.850537 224.275822 \nL 283.643665 224.467111 \nL 312.402434 224.62886 \nL 326.781818 224.639797 \nL 326.781818 224.639797 \n\" style=\"fill:none;stroke:#e24a33;stroke-linecap:square;stroke-width:1.5;\"/>\n   </g>\n  </g>\n </g>\n <defs>\n  <clipPath id=\"p3383c23cc0\">\n   <rect height=\"217.44\" width=\"334.8\" x=\"7.2\" y=\"7.2\"/>\n  </clipPath>\n </defs>\n</svg>\n",
      "image/png": "[encoded data removed]"
     },
     "metadata": {}
    }
   ],
   "source": [
    "sns.distplot(n, bins=90)\n",
    "plt.axis('off')\n",
    "plt.show()"
   ]
  },
  {
   "cell_type": "code",
   "execution_count": 5,
   "metadata": {},
   "outputs": [],
   "source": [
    "import numpy as np\n",
    "import matplotlib.pyplot as plt\n",
    "plt.style.use('ggplot')"
   ]
  },
  {
   "cell_type": "code",
   "execution_count": 3,
   "metadata": {},
   "outputs": [],
   "source": [
    "def sigma(x):\n",
    "    return 1 / (1 + np.exp(-x))"
   ]
  },
  {
   "cell_type": "code",
   "execution_count": 14,
   "metadata": {},
   "outputs": [],
   "source": [
    "x = -0.5\n",
    "odd = 0.7 + 3 * x"
   ]
  },
  {
   "cell_type": "code",
   "execution_count": 15,
   "metadata": {},
   "outputs": [
    {
     "output_type": "execute_result",
     "data": {
      "text/plain": [
       "0.31002551887238755"
      ]
     },
     "metadata": {},
     "execution_count": 15
    }
   ],
   "source": [
    "sigma(odd)"
   ]
  },
  {
   "cell_type": "code",
   "execution_count": 1,
   "metadata": {},
   "outputs": [],
   "source": [
    "import numpy as np\n",
    "import pandas as pd\n",
    "import matplotlib.pyplot as plt\n",
    "import seaborn as sns \n",
    "plt.style.use('ggplot')"
   ]
  },
  {
   "cell_type": "code",
   "execution_count": null,
   "metadata": {},
   "outputs": [],
   "source": []
  }
 ],
 "metadata": {
  "kernelspec": {
   "display_name": "Python 3",
   "language": "python",
   "name": "python3"
  },
  "language_info": {
   "codemirror_mode": {
    "name": "ipython",
    "version": 3
   },
   "file_extension": ".py",
   "mimetype": "text/x-python",
   "name": "python",
   "nbconvert_exporter": "python",
   "pygments_lexer": "ipython3",
   "version": "3.7.6-final"
  }
 },
 "nbformat": 4,
 "nbformat_minor": 2
}